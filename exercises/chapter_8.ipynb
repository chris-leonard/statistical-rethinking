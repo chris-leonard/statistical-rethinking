{
 "cells": [
  {
   "cell_type": "markdown",
   "id": "1db305d7-3f18-43b8-a961-0cfa79284639",
   "metadata": {},
   "source": [
    "# Chapter 8 - Exercises"
   ]
  },
  {
   "cell_type": "markdown",
   "id": "94f80642-11b4-4bf5-a263-32b920a92b72",
   "metadata": {},
   "source": [
    "## Set Up"
   ]
  },
  {
   "cell_type": "markdown",
   "id": "eae63e7c-cc00-481d-beab-b3588fe3c7f9",
   "metadata": {},
   "source": [
    "### Packages"
   ]
  },
  {
   "cell_type": "code",
   "execution_count": 1,
   "id": "f27e73b3-2186-43cf-b7ce-35a80ce058ea",
   "metadata": {
    "tags": []
   },
   "outputs": [
    {
     "name": "stderr",
     "output_type": "stream",
     "text": [
      "WARNING (pytensor.tensor.blas): Using NumPy C-API based implementation for BLAS functions.\n"
     ]
    }
   ],
   "source": [
    "import os\n",
    "\n",
    "import arviz as az\n",
    "import graphviz as gr\n",
    "import matplotlib.pyplot as plt\n",
    "import numpy as np\n",
    "import pandas as pd\n",
    "import pymc as pm\n",
    "import seaborn as sns\n",
    "from scipy import stats\n",
    "from scipy.interpolate import BSpline\n",
    "from scipy.special import expit\n",
    "from sklearn.preprocessing import StandardScaler"
   ]
  },
  {
   "cell_type": "markdown",
   "id": "ed7f5cae-1e85-4013-878e-78ce3b9de9ce",
   "metadata": {},
   "source": [
    "### Defaults"
   ]
  },
  {
   "cell_type": "code",
   "execution_count": 2,
   "id": "f61fe68b-59fc-4915-90e0-1e4a4d8f7a6a",
   "metadata": {
    "tags": []
   },
   "outputs": [],
   "source": [
    "# seaborn defaults\n",
    "sns.set(\n",
    "    style=\"whitegrid\",\n",
    "    font_scale=1.2,\n",
    "    rc={\n",
    "        \"axes.edgecolor\": \"0\",\n",
    "        \"axes.grid.which\": \"both\",\n",
    "        \"axes.labelcolor\": \"0\",\n",
    "        \"axes.spines.right\": False,\n",
    "        \"axes.spines.top\": False,\n",
    "        \"xtick.bottom\": True,\n",
    "        \"ytick.left\": True,\n",
    "    },\n",
    ")\n",
    "\n",
    "colors = sns.color_palette()"
   ]
  },
  {
   "cell_type": "markdown",
   "id": "629d545d-8886-40e4-b6b6-52d52d50e5af",
   "metadata": {},
   "source": [
    "### Constants"
   ]
  },
  {
   "cell_type": "code",
   "execution_count": 3,
   "id": "4a09aea4-58d5-44f5-9267-160437fb6d0d",
   "metadata": {
    "tags": []
   },
   "outputs": [],
   "source": [
    "DATA_DIR = \"../data\"\n",
    "HOWELL_FILE = \"howell.csv\"\n",
    "CHERRY_BLOSSOMS_FILE = \"cherry_blossoms.csv\"\n",
    "WAFFLE_DIVORCE_FILE = \"waffle_divorce.csv\"\n",
    "MILK_FILE = \"milk.csv\"\n",
    "LDS_FILE = \"lds_by_state.csv\"\n",
    "CHIMPANZEES_FILE = \"chimpanzees.csv\"\n",
    "ADMISSIONS_FILE = \"ucbadmit.csv\"\n",
    "KLINE_FILE = \"kline.csv\"\n",
    "REEDFROGS_FILE = \"reedfrogs.csv\"\n",
    "CARS_FILE = \"cars.csv\"\n",
    "RUGGED_FILE = \"rugged.csv\"\n",
    "TULIPS_FILE = \"tulips.csv\"\n",
    "LAFFER_FILE = \"Laffer.csv\"\n",
    "FOXES_FILE = \"foxes.csv\"\n",
    "\n",
    "RANDOM_SEED = 42"
   ]
  },
  {
   "cell_type": "code",
   "execution_count": 4,
   "id": "ebbac1ab-add4-4555-962f-e4a500b084a0",
   "metadata": {
    "tags": []
   },
   "outputs": [],
   "source": [
    "def load_data(file_name, data_dir=DATA_DIR, **kwargs):\n",
    "    path = os.path.join(data_dir, file_name)\n",
    "    return pd.read_csv(path, **kwargs)"
   ]
  },
  {
   "cell_type": "markdown",
   "id": "134f5d9d-208e-430c-b7b2-dd43bb7f1650",
   "metadata": {},
   "source": [
    "## Easy"
   ]
  },
  {
   "cell_type": "markdown",
   "id": "d6aff3d4-750b-4ff0-b54d-b77320ff0ee3",
   "metadata": {},
   "source": [
    "### 8E1\n",
    "\n",
    "For each of the causal relationships below, name a hypothetical third variable that would lead to an interaction effect.\n",
    "1. Bread dough rises because of yeast.\n",
    "2. Education leads to higher income.\n",
    "3. Gasoline makes a car go.\n",
    "\n",
    "----"
   ]
  },
  {
   "cell_type": "markdown",
   "id": "cf9e11a7-ad5e-4434-80a8-a6029f5ca0c9",
   "metadata": {},
   "source": [
    "1. Yeast will only make bread dough rise in the presence of heat, so heat leads to an interaction effect.\n",
    "2. The effect of education on income also depends on the opportunities available, so I would expect family wealth to lead to an interaction effect. The specific subject for higher education would also lead to an interaction effect.\n",
    "3. The quantity of oxygen would be an example of an interaction effect."
   ]
  },
  {
   "cell_type": "markdown",
   "id": "42b713b3-7058-442f-8347-def696042b0d",
   "metadata": {},
   "source": [
    "### 8E2\n",
    "\n",
    "Which of the following explanations invokes an interaction?\n",
    "1. Caramelizing onions requires cooking over low heat and making sure the onions do not dry out.\n",
    "2. A car will go faster when it has more cylinders or when it has a better fuel injector.\n",
    "3. Most people acquire their political beliefs from their parents, unless they get them instead from their friends.\n",
    "4. Intelligent animal species tend to be either highly social or have manipulative appendages (hands, tentacles, etc.)\n",
    "\n",
    "----"
   ]
  },
  {
   "cell_type": "markdown",
   "id": "7e1f7d54-7627-4569-a17c-ea0195b25643",
   "metadata": {},
   "source": [
    "1. This invokes an interaction between heat and moisture: the values don't determine caramelization independently - it is the combination that produces the effect.\n",
    "2. This doesn't invoke an interaction because there's nothing to suggest that number of cylinders and the quality of the fuel injector aren't independent in their effect on speed.\n",
    "3. This invokes an interaction between parents' and friends' political beliefs because the effect of parents' political beliefs is dependent on friends' political beliefs.\n",
    "4. This doesn't invoke an interaction because there's no indication that the effects of being social and having appendages have anything to do with each other."
   ]
  },
  {
   "cell_type": "markdown",
   "id": "af7b0a81-bf2e-4d5a-8334-8d801af83fbe",
   "metadata": {},
   "source": [
    "### 8E3\n",
    "\n",
    "For each of the explanations in **8E2**, write a linear model that expresses the stated relationship.\n",
    "\n",
    "---"
   ]
  },
  {
   "cell_type": "markdown",
   "id": "32b6b1a5-2493-4ec1-94e0-09b830b5e89c",
   "metadata": {},
   "source": [
    "1. $\\text{caramelization} = \\alpha + \\beta_h \\cdot \\text{heat} + \\beta_m \\cdot \\text{moisture} + \\beta_{mh} \\cdot \\text{heat} \\cdot \\text{moisture}$.\n",
    "2. $\\text{speed} = \\alpha + \\beta_c \\cdot (\\text{num cylinders}) + \\beta_f \\cdot (\\text{fuel injector quality})$.\n",
    "3. $\\text{political beliefs} = \\alpha + \\beta_p \\cdot (\\text{parents' beliefs}) + \\beta_f \\cdot (\\text{friends' beliefs}) + \\beta_{pf} \\cdot (\\text{parents' beliefs}) \\cdot (\\text{friends' beliefs})$.\n",
    "4. $\\text{intelligence} = \\alpha + \\beta_s \\cdot \\text{socialness} + \\beta_a \\cdot (\\text{has manipulative appendages})$."
   ]
  },
  {
   "cell_type": "code",
   "execution_count": null,
   "id": "f10e575d-c891-47d5-ac3d-cd709eda0302",
   "metadata": {},
   "outputs": [],
   "source": []
  }
 ],
 "metadata": {
  "kernelspec": {
   "display_name": "Python 3 (ipykernel)",
   "language": "python",
   "name": "python3"
  },
  "language_info": {
   "codemirror_mode": {
    "name": "ipython",
    "version": 3
   },
   "file_extension": ".py",
   "mimetype": "text/x-python",
   "name": "python",
   "nbconvert_exporter": "python",
   "pygments_lexer": "ipython3",
   "version": "3.10.13"
  }
 },
 "nbformat": 4,
 "nbformat_minor": 5
}
