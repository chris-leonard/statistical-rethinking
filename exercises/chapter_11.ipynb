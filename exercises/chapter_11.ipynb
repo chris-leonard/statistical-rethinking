{
 "cells": [
  {
   "cell_type": "markdown",
   "id": "1db305d7-3f18-43b8-a961-0cfa79284639",
   "metadata": {},
   "source": [
    "# Chapter 11 - Exercises"
   ]
  },
  {
   "cell_type": "markdown",
   "id": "94f80642-11b4-4bf5-a263-32b920a92b72",
   "metadata": {},
   "source": [
    "## Set Up"
   ]
  },
  {
   "cell_type": "markdown",
   "id": "eae63e7c-cc00-481d-beab-b3588fe3c7f9",
   "metadata": {},
   "source": [
    "### Packages"
   ]
  },
  {
   "cell_type": "code",
   "execution_count": 2,
   "id": "f27e73b3-2186-43cf-b7ce-35a80ce058ea",
   "metadata": {
    "tags": []
   },
   "outputs": [
    {
     "name": "stderr",
     "output_type": "stream",
     "text": [
      "WARNING (pytensor.tensor.blas): Using NumPy C-API based implementation for BLAS functions.\n"
     ]
    }
   ],
   "source": [
    "import os\n",
    "\n",
    "import arviz as az\n",
    "import graphviz as gr\n",
    "import matplotlib.pyplot as plt\n",
    "import numpy as np\n",
    "import pandas as pd\n",
    "import pymc as pm\n",
    "import seaborn as sns\n",
    "from scipy import stats\n",
    "from scipy.interpolate import BSpline\n",
    "from sklearn.preprocessing import StandardScaler"
   ]
  },
  {
   "cell_type": "markdown",
   "id": "ed7f5cae-1e85-4013-878e-78ce3b9de9ce",
   "metadata": {},
   "source": [
    "### Defaults"
   ]
  },
  {
   "cell_type": "code",
   "execution_count": 3,
   "id": "f61fe68b-59fc-4915-90e0-1e4a4d8f7a6a",
   "metadata": {
    "tags": []
   },
   "outputs": [],
   "source": [
    "# seaborn defaults\n",
    "sns.set(\n",
    "    style=\"whitegrid\",\n",
    "    font_scale=1.2,\n",
    "    rc={\n",
    "        \"axes.edgecolor\": \"0\",\n",
    "        \"axes.grid.which\": \"both\",\n",
    "        \"axes.labelcolor\": \"0\",\n",
    "        \"axes.spines.right\": False,\n",
    "        \"axes.spines.top\": False,\n",
    "        \"xtick.bottom\": True,\n",
    "        \"ytick.left\": True,\n",
    "    },\n",
    ")\n",
    "\n",
    "colors = sns.color_palette()"
   ]
  },
  {
   "cell_type": "markdown",
   "id": "629d545d-8886-40e4-b6b6-52d52d50e5af",
   "metadata": {},
   "source": [
    "### Constants"
   ]
  },
  {
   "cell_type": "code",
   "execution_count": 4,
   "id": "4a09aea4-58d5-44f5-9267-160437fb6d0d",
   "metadata": {
    "tags": []
   },
   "outputs": [],
   "source": [
    "DATA_DIR = \"../data\"\n",
    "HOWELL_FILE = \"howell.csv\"\n",
    "CHERRY_BLOSSOMS_FILE = \"cherry_blossoms.csv\"\n",
    "WAFFLE_DIVORCE_FILE = \"waffle_divorce.csv\"\n",
    "MILK_FILE = \"milk.csv\"\n",
    "LDS_FILE = \"lds_by_state.csv\"\n",
    "ADMISSIONS_FILE = \"ucbadmit.csv\"\n",
    "KLINE_FILE = \"kline.csv\"\n",
    "\n",
    "RANDOM_SEED = 42"
   ]
  },
  {
   "cell_type": "code",
   "execution_count": 5,
   "id": "ebbac1ab-add4-4555-962f-e4a500b084a0",
   "metadata": {
    "tags": []
   },
   "outputs": [],
   "source": [
    "def load_data(file_name, data_dir=DATA_DIR, **kwargs):\n",
    "    path = os.path.join(data_dir, file_name)\n",
    "    return pd.read_csv(path, **kwargs)"
   ]
  },
  {
   "cell_type": "markdown",
   "id": "134f5d9d-208e-430c-b7b2-dd43bb7f1650",
   "metadata": {},
   "source": [
    "## Easy"
   ]
  },
  {
   "cell_type": "markdown",
   "id": "93dd0eca-43d4-4b9b-bc63-0c24157403dc",
   "metadata": {},
   "source": [
    "### 11E1\n",
    "\n",
    "If an event has probability 0.35, what are the log-odds of this event?\n",
    "\n",
    "---"
   ]
  },
  {
   "cell_type": "code",
   "execution_count": 8,
   "id": "37aa669f-0c5b-41b1-a34a-b2ea193bfe42",
   "metadata": {
    "tags": []
   },
   "outputs": [
    {
     "name": "stdout",
     "output_type": "stream",
     "text": [
      "-0.62\n"
     ]
    }
   ],
   "source": [
    "p = 0.35\n",
    "log_odds = np.log(p/(1-p))\n",
    "print(round(log_odds, 2))"
   ]
  },
  {
   "cell_type": "markdown",
   "id": "3bae2f9e-8510-44a9-a9f4-9c4c726e7921",
   "metadata": {},
   "source": [
    "### 11E2\n",
    "\n",
    "If an event has log-odds 3.2, what is the probability of this event?\n",
    "\n",
    "---"
   ]
  },
  {
   "cell_type": "code",
   "execution_count": 13,
   "id": "18716992-1642-4a95-85d7-2ccc1eddabe8",
   "metadata": {
    "tags": []
   },
   "outputs": [
    {
     "name": "stdout",
     "output_type": "stream",
     "text": [
      "0.96\n"
     ]
    }
   ],
   "source": [
    "log_odds = 3.2\n",
    "p = np.exp(log_odds) / (1 + np.exp(log_odds))\n",
    "print(round(p, 2))"
   ]
  },
  {
   "cell_type": "markdown",
   "id": "8fbb308f-8359-4458-9eea-2c0537501630",
   "metadata": {},
   "source": [
    "### 11E3\n",
    "\n",
    "Suppose that a coefficient in a logistic regression has value 1.7.\n",
    "What does this imply about the proportional change in odds of the outcome?\n",
    "\n",
    "---"
   ]
  },
  {
   "cell_type": "markdown",
   "id": "549047c4-6971-4efd-bf7a-7ee696b13e31",
   "metadata": {},
   "source": [
    "It implies that a unit increase in the feature multiplies the log-odds by a factor of $e^{1.7}\\approx 5.5$."
   ]
  },
  {
   "cell_type": "markdown",
   "id": "2d2fc4c5-b797-483b-888a-5b4d5b27220a",
   "metadata": {},
   "source": [
    "### 11E4\n",
    "\n",
    "Why do Poisson regressions sometimes require the use of an offset?\n",
    "Provide an example.\n",
    "\n",
    "---\n",
    "Poisson regressions require an offset when the duration (or distance or area) of observation varies between data points.\n",
    "\n",
    "For example, suppose we count the number of flowers in fields of different sizes.\n",
    "In order to model the rate of flower growth per square mile we need to add an offset to compensate for the different sizes of the observed fields."
   ]
  },
  {
   "cell_type": "markdown",
   "id": "0fdac7dd-deb7-4c6d-b05c-1bfa0dbc412e",
   "metadata": {},
   "source": [
    "## Medium"
   ]
  },
  {
   "cell_type": "markdown",
   "id": "caa7dba6-28d7-4f20-890b-6f21ab4438b7",
   "metadata": {},
   "source": [
    "### 11M1\n",
    "\n",
    "As explained in the chapter, binomial data can be organized in aggregated and disaggregated forms, without any impact on inference.\n",
    "But the likelihood of the data does change when the data are converted between the two formats.\n",
    "Can you explain why?\n",
    "\n",
    "---"
   ]
  },
  {
   "cell_type": "markdown",
   "id": "656f9312-28cb-4700-b1ad-ed625a836db4",
   "metadata": {},
   "source": [
    "The absolute value of the likelihood isn't what matters, it's the value relative to the marginal probabiliity of the data.\n",
    "The likelihood is different in the different formats, but they are equivalent once you take the normalising factors into account."
   ]
  },
  {
   "cell_type": "markdown",
   "id": "4f73c8ea-6bf0-4f12-88cb-252854717dfa",
   "metadata": {},
   "source": [
    "### 11M2\n",
    "\n",
    "If a coefficient in a Poisson regression has value 1.7, what does this imply about the change in the outcome?\n",
    "\n",
    "---"
   ]
  },
  {
   "cell_type": "markdown",
   "id": "b61c21d9-3bba-4d7c-89fd-070d43048a05",
   "metadata": {},
   "source": [
    "It implies that a unit increase in the feature multiplies the mean (the rate that events occur) by a factor of $e^{1.7}\\approx 5.5$."
   ]
  },
  {
   "cell_type": "markdown",
   "id": "55edc364-73d6-4967-b786-82ea0999ead4",
   "metadata": {},
   "source": [
    "### 11M3\n",
    "\n",
    "Explain why the logit link is appropriate for a binomial generalized linear model.\n",
    "\n",
    "\n",
    "---"
   ]
  },
  {
   "cell_type": "markdown",
   "id": "4fadd5ff-dd31-4983-9b7b-a580c3f43a2d",
   "metadata": {},
   "source": [
    "The purpose of the link function is to map the parameter space to the range of a linear model, i.e. the whole real line.\n",
    "In a binomial GLM the parameter $p$ represents probability so the parameter space is (0, 1).\n",
    "The logit function is appropriate because it maps (0, 1) bijectively onto the real line."
   ]
  },
  {
   "cell_type": "markdown",
   "id": "7710f83c-03e3-4e21-ae75-6f6c444205d8",
   "metadata": {},
   "source": [
    "### 11M4\n",
    "\n",
    "Explain why the log link is appropriate for a Poisson generalized linear model.\n",
    "\n",
    "---"
   ]
  },
  {
   "cell_type": "markdown",
   "id": "c3433ad6-e9ec-4a09-beca-b909b57918bc",
   "metadata": {},
   "source": [
    "As above, we need to map the parameter space to the real line.\n",
    "The parameter in a Poisson GLM is $\\lambda$ with range $\\lambda > 0$.\n",
    "The log link is appropriate because it maps positive real numbers to the real line."
   ]
  },
  {
   "cell_type": "markdown",
   "id": "e6fa0c5c-0ab0-49ad-a145-ea882de12154",
   "metadata": {},
   "source": [
    "### 11M5\n",
    "\n",
    "What would it imply to use a logit link for the mean of a Poisson generalized linear model?\n",
    "Can you think of a real research problem for which this would make sense?\n",
    "\n",
    "---"
   ]
  },
  {
   "cell_type": "markdown",
   "id": "80a193fc-ff73-4856-9908-f0f085c45c85",
   "metadata": {},
   "source": [
    "The logit link has domain (0, 1), so using it would imply that the mean parameter $\\lambda$ must be between 0 and 1.\n",
    "\n",
    "Suppose that a factory produces cars at a rate of one per day.\n",
    "Consider the number of cars that are sold per day.\n",
    "This can be higher than one on a particular but overall the rate must be lower than one per day as it is limited by the number manufactured.\n",
    "It might be suitable to model this with a Poisson GLM with logit link function."
   ]
  },
  {
   "cell_type": "code",
   "execution_count": null,
   "id": "7a1d7bde-c980-466c-86ea-49c1c2baf553",
   "metadata": {},
   "outputs": [],
   "source": []
  },
  {
   "cell_type": "code",
   "execution_count": null,
   "id": "4ce4b7fb-bf6f-4fb8-aa40-a1af7d14b12a",
   "metadata": {},
   "outputs": [],
   "source": []
  }
 ],
 "metadata": {
  "kernelspec": {
   "display_name": "Python 3 (ipykernel)",
   "language": "python",
   "name": "python3"
  },
  "language_info": {
   "codemirror_mode": {
    "name": "ipython",
    "version": 3
   },
   "file_extension": ".py",
   "mimetype": "text/x-python",
   "name": "python",
   "nbconvert_exporter": "python",
   "pygments_lexer": "ipython3",
   "version": "3.10.13"
  }
 },
 "nbformat": 4,
 "nbformat_minor": 5
}
