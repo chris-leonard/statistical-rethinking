{
 "cells": [
  {
   "cell_type": "markdown",
   "id": "1db305d7-3f18-43b8-a961-0cfa79284639",
   "metadata": {},
   "source": [
    "# Chapter 5 - Exercises"
   ]
  },
  {
   "cell_type": "markdown",
   "id": "94f80642-11b4-4bf5-a263-32b920a92b72",
   "metadata": {},
   "source": [
    "## Set Up"
   ]
  },
  {
   "cell_type": "markdown",
   "id": "eae63e7c-cc00-481d-beab-b3588fe3c7f9",
   "metadata": {},
   "source": [
    "### Packages"
   ]
  },
  {
   "cell_type": "code",
   "execution_count": 3,
   "id": "f27e73b3-2186-43cf-b7ce-35a80ce058ea",
   "metadata": {
    "tags": []
   },
   "outputs": [
    {
     "name": "stderr",
     "output_type": "stream",
     "text": [
      "WARNING (pytensor.tensor.blas): Using NumPy C-API based implementation for BLAS functions.\n"
     ]
    }
   ],
   "source": [
    "import os\n",
    "\n",
    "import arviz as az\n",
    "import matplotlib.pyplot as plt\n",
    "import numpy as np\n",
    "import pandas as pd\n",
    "import pymc as pm\n",
    "import seaborn as sns\n",
    "from scipy import stats\n",
    "from scipy.interpolate import BSpline\n",
    "from sklearn.preprocessing import StandardScaler"
   ]
  },
  {
   "cell_type": "markdown",
   "id": "ed7f5cae-1e85-4013-878e-78ce3b9de9ce",
   "metadata": {},
   "source": [
    "### Defaults"
   ]
  },
  {
   "cell_type": "code",
   "execution_count": 4,
   "id": "f61fe68b-59fc-4915-90e0-1e4a4d8f7a6a",
   "metadata": {
    "tags": []
   },
   "outputs": [],
   "source": [
    "# seaborn defaults\n",
    "sns.set(\n",
    "    style=\"whitegrid\",\n",
    "    font_scale=1.2,\n",
    "    rc={\n",
    "        \"axes.edgecolor\": \"0\",\n",
    "        \"axes.grid.which\": \"both\",\n",
    "        \"axes.labelcolor\": \"0\",\n",
    "        \"axes.spines.right\": False,\n",
    "        \"axes.spines.top\": False,\n",
    "        \"xtick.bottom\": True,\n",
    "        \"ytick.left\": True,\n",
    "    },\n",
    ")\n",
    "\n",
    "colors = sns.color_palette()"
   ]
  },
  {
   "cell_type": "markdown",
   "id": "629d545d-8886-40e4-b6b6-52d52d50e5af",
   "metadata": {},
   "source": [
    "### Constants"
   ]
  },
  {
   "cell_type": "code",
   "execution_count": 5,
   "id": "4a09aea4-58d5-44f5-9267-160437fb6d0d",
   "metadata": {
    "tags": []
   },
   "outputs": [],
   "source": [
    "DATA_DIR = \"../data\"\n",
    "HOWELL_FILE = \"howell.csv\"\n",
    "CHERRY_BLOSSOMS_FILE = \"cherry_blossoms.csv\"\n",
    "WAFFLE_DIVORCE_FILE = \"waffle_divorce.csv\"\n",
    "MILK_FILE = \"milk.csv\"\n",
    "\n",
    "RANDOM_SEED = 42"
   ]
  },
  {
   "cell_type": "code",
   "execution_count": 6,
   "id": "ebbac1ab-add4-4555-962f-e4a500b084a0",
   "metadata": {
    "tags": []
   },
   "outputs": [],
   "source": [
    "def load_data(file_name, data_dir=DATA_DIR, **kwargs):\n",
    "    path = os.path.join(data_dir, file_name)\n",
    "    return pd.read_csv(path, **kwargs)"
   ]
  },
  {
   "cell_type": "markdown",
   "id": "134f5d9d-208e-430c-b7b2-dd43bb7f1650",
   "metadata": {},
   "source": [
    "## Easy"
   ]
  },
  {
   "cell_type": "markdown",
   "id": "c9185b89-e103-4477-967e-0d66b42a5bfd",
   "metadata": {},
   "source": [
    "### 5E1\n",
    "\n",
    "Which of the linear models below are multiple linear regressions?\n",
    "1. $\\mu_i = \\alpha + \\beta x_i$\n",
    "2. $\\mu_i = \\beta_x x_i + \\beta_z z_i$\n",
    "3. $\\mu_i = \\alpha + \\beta (x_i - z_i)$\n",
    "4. $\\mu_i = \\alpha + \\beta_x x_i + \\beta_z z_i$\n",
    "\n",
    "---"
   ]
  },
  {
   "cell_type": "markdown",
   "id": "613f6d82-ce54-4d22-807f-737deca83656",
   "metadata": {},
   "source": [
    "2 and 4."
   ]
  },
  {
   "cell_type": "markdown",
   "id": "4513f0f2-f162-4ae8-a3da-871478f16a68",
   "metadata": {},
   "source": [
    "### 5E2\n",
    "\n",
    "Write down a multiple regression to evaluate the claim: Animal diversity is linearly related to latitude, but only after controlling for plant diversity.\n",
    "You just need to write down the model definition.\n",
    "\n",
    "---"
   ]
  },
  {
   "cell_type": "markdown",
   "id": "ee9e06d6-f152-4877-97d1-5cfebc5d524c",
   "metadata": {},
   "source": [
    "Let `A`, `L`, and `P` denote animal diversity, latitute, and plant diversity, respectively. Then the model is\n",
    "\n",
    "\\begin{align}\n",
    "    A_i & \\sim \\text{Normal}(\\mu_i, \\sigma) \\\\\n",
    "    \\mu_i & = \\alpha + \\beta_L L_i + \\beta_P P_i.\n",
    "\\end{align}"
   ]
  },
  {
   "cell_type": "markdown",
   "id": "89d75bb6-49ba-4938-ace7-33c6b3618a04",
   "metadata": {},
   "source": [
    "### 5E3\n",
    "\n",
    "Write down a multiple regression to evaluate the claim: Neither amount of funding nor size of laboratory is by itself a good predictor of time to PhD degree; but together these variables are both positively associated with time to degree.\n",
    "Write down the model definition and indicate which side of zero each slope parameter should be on.\n",
    "\n",
    "---"
   ]
  },
  {
   "cell_type": "markdown",
   "id": "f0513297-6d4d-4637-a985-3742c885791a",
   "metadata": {},
   "source": [
    "Let `T`, `F`, and `L` denote time to PhD, amount of funding, and size of laboratory, respectively. Then the model is\n",
    "\n",
    "\\begin{align}\n",
    "    T_i & \\sim \\text{Normal}(\\mu_i, \\sigma) \\\\\n",
    "    \\mu_i & = \\alpha + \\beta_F F_i + \\beta_L L_i.\n",
    "\\end{align}\n",
    "\n",
    "If together both are positively associated with time to degree then both $\\beta_F$ and $\\beta_L$ should be positive.\n",
    "If neither is a good predictor on its own then I expect that they are negatively associated with each other; that is, larger laboratories have less funding per student."
   ]
  },
  {
   "cell_type": "markdown",
   "id": "2f99e07d-cb55-498c-b558-bca60831c6cf",
   "metadata": {},
   "source": [
    "### 5E4\n",
    "\n",
    "Suppose you have a single categorical predictor with 4 levels (unique values), labeled A, B, C and D.\n",
    "Let $A_i$ be an indicator variable that is 1 where case $i$ is in category A. Also suppose $B_i$, $C_i$, and $D_i$ for the other categories.\n",
    "Now which of the following linear models are inferentially equivalent ways to include the categorical variable in a regression?\n",
    "Models are inferentially equivalent when it’s possible to compute one posterior distribution from the posterior distribution of another model.\n",
    "1. $\\mu_i = \\alpha + \\beta_A A_i + \\beta_B B_i + \\beta_D D_i$\n",
    "2. $\\mu_i = \\alpha + \\beta_A A_i + \\beta_B B_i + \\beta_C C_i + \\beta_D D_i$\n",
    "3. $\\mu_i = \\alpha + \\beta_B B_i + \\beta_C C_i + \\beta_D D_i$\n",
    "4. $\\mu_i = \\alpha_A A_i + \\alpha_B B_i + \\alpha_C C_i + \\alpha_D D_i$\n",
    "5. $\\mu_i = \\alpha_A (1 - B_i - C_i - D_i) + \\alpha_B B_i + \\alpha_C C_i + \\alpha_D D_i$\n",
    "\n",
    "---"
   ]
  },
  {
   "cell_type": "markdown",
   "id": "f52ccc2d-f126-42c6-9a03-dbbc31c052d8",
   "metadata": {},
   "source": [
    "All the models except (2) are inferrentially equivalent: since each case must belong to one of the categories, $A_i + B_i + C_i + D_i = 1$, and so any models that contain exactly four out of $A_i$, $B_i$, $C_i$, $D_i$, and a constant term are inferentially equivalent.\n",
    "It is possible to compute the posterior distribution of any of the models from that of (2), but not the other way round.\n",
    "To illustrate this suppose that we $alpha \\sim \\text{Uniform}(0, 1)$ and $\\alpha = \\beta + \\gamma$.\n",
    "It is possible that $\\beta \\sim \\text{Uniform}(0, x)$ and $\\gamma \\sim \\text{Uniform}(x, 1)$ for any $x \\in  (0, 1)$, so the distributions of $\\beta$ and $\\gamma$ are not uniquely determined by that of $\\alpha$."
   ]
  }
 ],
 "metadata": {
  "kernelspec": {
   "display_name": "Python 3 (ipykernel)",
   "language": "python",
   "name": "python3"
  },
  "language_info": {
   "codemirror_mode": {
    "name": "ipython",
    "version": 3
   },
   "file_extension": ".py",
   "mimetype": "text/x-python",
   "name": "python",
   "nbconvert_exporter": "python",
   "pygments_lexer": "ipython3",
   "version": "3.10.13"
  }
 },
 "nbformat": 4,
 "nbformat_minor": 5
}
