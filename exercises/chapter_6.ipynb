{
 "cells": [
  {
   "cell_type": "markdown",
   "id": "1db305d7-3f18-43b8-a961-0cfa79284639",
   "metadata": {},
   "source": [
    "# Chapter 6 - Exercises"
   ]
  },
  {
   "cell_type": "markdown",
   "id": "94f80642-11b4-4bf5-a263-32b920a92b72",
   "metadata": {},
   "source": [
    "## Set Up"
   ]
  },
  {
   "cell_type": "markdown",
   "id": "eae63e7c-cc00-481d-beab-b3588fe3c7f9",
   "metadata": {},
   "source": [
    "### Packages"
   ]
  },
  {
   "cell_type": "code",
   "execution_count": 1,
   "id": "f27e73b3-2186-43cf-b7ce-35a80ce058ea",
   "metadata": {
    "tags": []
   },
   "outputs": [
    {
     "name": "stderr",
     "output_type": "stream",
     "text": [
      "WARNING (pytensor.tensor.blas): Using NumPy C-API based implementation for BLAS functions.\n"
     ]
    }
   ],
   "source": [
    "import os\n",
    "\n",
    "import arviz as az\n",
    "import graphviz as gr\n",
    "import matplotlib.pyplot as plt\n",
    "import numpy as np\n",
    "import pandas as pd\n",
    "import pymc as pm\n",
    "import seaborn as sns\n",
    "import xarray as xr\n",
    "from numpy.polynomial import polynomial as poly\n",
    "from scipy import stats\n",
    "from scipy.special import expit, logit, logsumexp, softmax\n",
    "from sklearn.preprocessing import StandardScaler"
   ]
  },
  {
   "cell_type": "markdown",
   "id": "ed7f5cae-1e85-4013-878e-78ce3b9de9ce",
   "metadata": {},
   "source": [
    "### Defaults"
   ]
  },
  {
   "cell_type": "code",
   "execution_count": 2,
   "id": "f61fe68b-59fc-4915-90e0-1e4a4d8f7a6a",
   "metadata": {
    "tags": []
   },
   "outputs": [],
   "source": [
    "# seaborn defaults\n",
    "sns.set(\n",
    "    style=\"whitegrid\",\n",
    "    font_scale=1.2,\n",
    "    rc={\n",
    "        \"axes.edgecolor\": \"0\",\n",
    "        \"axes.grid.which\": \"both\",\n",
    "        \"axes.labelcolor\": \"0\",\n",
    "        \"axes.spines.right\": False,\n",
    "        \"axes.spines.top\": False,\n",
    "        \"xtick.bottom\": True,\n",
    "        \"ytick.left\": True,\n",
    "    },\n",
    ")\n",
    "\n",
    "colors = sns.color_palette()"
   ]
  },
  {
   "cell_type": "markdown",
   "id": "629d545d-8886-40e4-b6b6-52d52d50e5af",
   "metadata": {},
   "source": [
    "### Constants"
   ]
  },
  {
   "cell_type": "code",
   "execution_count": 2,
   "id": "4a09aea4-58d5-44f5-9267-160437fb6d0d",
   "metadata": {
    "tags": []
   },
   "outputs": [],
   "source": [
    "DATA_DIR = \"../data\"\n",
    "HOWELL_FILE = \"howell.csv\"\n",
    "CHERRY_BLOSSOMS_FILE = \"cherry_blossoms.csv\"\n",
    "WAFFLE_DIVORCE_FILE = \"waffle_divorce.csv\"\n",
    "MILK_FILE = \"milk.csv\"\n",
    "CHIMPANZEES_FILE = \"chimpanzees.csv\"\n",
    "ADMISSIONS_FILE = \"ucbadmit.csv\"\n",
    "KLINE_FILE = \"kline.csv\"\n",
    "REEDFROGS_FILE = \"reedfrogs.csv\"\n",
    "CARS_FILE = \"cars.csv\"\n",
    "\n",
    "RANDOM_SEED = 42"
   ]
  },
  {
   "cell_type": "code",
   "execution_count": 4,
   "id": "ebbac1ab-add4-4555-962f-e4a500b084a0",
   "metadata": {
    "tags": []
   },
   "outputs": [],
   "source": [
    "def load_data(file_name, data_dir=DATA_DIR, **kwargs):\n",
    "    path = os.path.join(data_dir, file_name)\n",
    "    return pd.read_csv(path, **kwargs)"
   ]
  },
  {
   "cell_type": "markdown",
   "id": "134f5d9d-208e-430c-b7b2-dd43bb7f1650",
   "metadata": {},
   "source": [
    "## Easy"
   ]
  },
  {
   "cell_type": "markdown",
   "id": "1b10c3c3-3f55-484c-b99d-828bc94658ae",
   "metadata": {},
   "source": [
    "### 6E1\n",
    "\n",
    "List three mechanisms by which multiple regression can product false inferences about causal effects.\n",
    "\n",
    "---"
   ]
  },
  {
   "cell_type": "markdown",
   "id": "4fcf0c7b-ebd7-419e-a0e9-47d3f295667f",
   "metadata": {},
   "source": [
    "**Multicollinearity:** If two predictors have correlation, conditional on the target.\n",
    "In this case, each individual predictor may help in predicting the outcome, but neither helps as much once you know the other.\n",
    "This can make the coefficients non-identifiable and frustrate inference.\n",
    "\n",
    "**Collider bias:** If two, unrelated, variables $X$ and $Y$ have a causal effect on a third $Z$, then conditioning on $Z$ can induce associations between $X$ and $Y$.\n",
    "This is sometimes known as Berkson's paradox.\n",
    "\n",
    "**Post-treatment bias:** Conditioning on a variable downstream of the variable of interest can frustrate the causal inference.\n",
    "For example, if we want to understand the causal effect of an individual's parents' income on life expectancy, then conditioning on the individual's income might lead us to believe that parents' income has no causal effect.\n",
    "But, this is disregarding the causal effect of parents' income on individual income."
   ]
  },
  {
   "cell_type": "markdown",
   "id": "1a75a987-c90f-4d9f-8f1f-0df662cd31dd",
   "metadata": {},
   "source": [
    "### 6E2\n",
    "For one of the mechanisms in the previous problem, provide an example of your choice, perhaps from your own research.\n",
    "\n",
    "---"
   ]
  },
  {
   "cell_type": "markdown",
   "id": "3e3ccb09-4a22-4180-8924-c7618b21811d",
   "metadata": {},
   "source": [
    "Among companies we mail, there is an inverse relationship between probability of sign-up and probability of funding.\n",
    "However, this may not be a general association.\n",
    "We select companies to mail based on an ROI threshold, so for us to have mailed a company with a low (predicted) probability of sign-up, it must have had a high (predicted) probability of funding."
   ]
  },
  {
   "cell_type": "markdown",
   "id": "65f650d8-22e2-46d2-8c58-43c99e5a6fed",
   "metadata": {},
   "source": [
    "### 6E3\n",
    "List the four elemental confounds.\n",
    "Can you explain the conditional dependencies of each?\n",
    "\n",
    "---"
   ]
  },
  {
   "cell_type": "markdown",
   "id": "bccc528a-1a53-432a-9c37-cb237cd26fe9",
   "metadata": {},
   "source": [
    "**The fork:** $X$ and $Y$ are independent conditional on $Z$."
   ]
  },
  {
   "cell_type": "code",
   "execution_count": 3,
   "id": "41066e09-0406-4567-ae28-d2678323408b",
   "metadata": {
    "tags": []
   },
   "outputs": [
    {
     "data": {
      "image/svg+xml": [
       "<?xml version=\"1.0\" encoding=\"UTF-8\" standalone=\"no\"?>\n",
       "<!DOCTYPE svg PUBLIC \"-//W3C//DTD SVG 1.1//EN\"\n",
       " \"http://www.w3.org/Graphics/SVG/1.1/DTD/svg11.dtd\">\n",
       "<!-- Generated by graphviz version 9.0.0 (20230911.1827)\n",
       " -->\n",
       "<!-- Title: fork Pages: 1 -->\n",
       "<svg width=\"134pt\" height=\"116pt\"\n",
       " viewBox=\"0.00 0.00 134.00 116.00\" xmlns=\"http://www.w3.org/2000/svg\" xmlns:xlink=\"http://www.w3.org/1999/xlink\">\n",
       "<g id=\"graph0\" class=\"graph\" transform=\"scale(1 1) rotate(0) translate(4 112)\">\n",
       "<title>fork</title>\n",
       "<polygon fill=\"white\" stroke=\"none\" points=\"-4,4 -4,-112 130,-112 130,4 -4,4\"/>\n",
       "<!-- X -->\n",
       "<g id=\"node1\" class=\"node\">\n",
       "<title>X</title>\n",
       "<ellipse fill=\"none\" stroke=\"white\" cx=\"27\" cy=\"-18\" rx=\"27\" ry=\"18\"/>\n",
       "<text text-anchor=\"middle\" x=\"27\" y=\"-12.95\" font-family=\"Times,serif\" font-size=\"14.00\">X</text>\n",
       "</g>\n",
       "<!-- Z -->\n",
       "<g id=\"node2\" class=\"node\">\n",
       "<title>Z</title>\n",
       "<ellipse fill=\"none\" stroke=\"white\" cx=\"63\" cy=\"-90\" rx=\"27\" ry=\"18\"/>\n",
       "<text text-anchor=\"middle\" x=\"63\" y=\"-84.95\" font-family=\"Times,serif\" font-size=\"14.00\">Z</text>\n",
       "</g>\n",
       "<!-- Z&#45;&gt;X -->\n",
       "<g id=\"edge1\" class=\"edge\">\n",
       "<title>Z&#45;&gt;X</title>\n",
       "<path fill=\"none\" stroke=\"black\" d=\"M54.65,-72.76C50.42,-64.55 45.19,-54.37 40.42,-45.09\"/>\n",
       "<polygon fill=\"black\" stroke=\"black\" points=\"43.68,-43.79 36,-36.49 37.46,-46.99 43.68,-43.79\"/>\n",
       "</g>\n",
       "<!-- Y -->\n",
       "<g id=\"node3\" class=\"node\">\n",
       "<title>Y</title>\n",
       "<ellipse fill=\"none\" stroke=\"white\" cx=\"99\" cy=\"-18\" rx=\"27\" ry=\"18\"/>\n",
       "<text text-anchor=\"middle\" x=\"99\" y=\"-12.95\" font-family=\"Times,serif\" font-size=\"14.00\">Y</text>\n",
       "</g>\n",
       "<!-- Z&#45;&gt;Y -->\n",
       "<g id=\"edge2\" class=\"edge\">\n",
       "<title>Z&#45;&gt;Y</title>\n",
       "<path fill=\"none\" stroke=\"black\" d=\"M71.35,-72.76C75.58,-64.55 80.81,-54.37 85.58,-45.09\"/>\n",
       "<polygon fill=\"black\" stroke=\"black\" points=\"88.54,-46.99 90,-36.49 82.32,-43.79 88.54,-46.99\"/>\n",
       "</g>\n",
       "</g>\n",
       "</svg>\n"
      ],
      "text/plain": [
       "<graphviz.graphs.Digraph at 0x10764f8b0>"
      ]
     },
     "execution_count": 3,
     "metadata": {},
     "output_type": "execute_result"
    }
   ],
   "source": [
    "g = gr.Digraph(\"fork\", node_attr={\"color\": \"white\"})\n",
    "\n",
    "g.node(\"X\")\n",
    "g.node(\"Z\")\n",
    "g.node(\"Y\")\n",
    "\n",
    "g.edge(\"Z\", \"X\")\n",
    "g.edge(\"Z\", \"Y\")\n",
    "g"
   ]
  },
  {
   "cell_type": "markdown",
   "id": "a62282c7-4a65-4891-bd78-2b83fb2375d5",
   "metadata": {},
   "source": [
    "**The pipe:** $X$ and $Y$ are independent conditional on $Z$."
   ]
  },
  {
   "cell_type": "code",
   "execution_count": 4,
   "id": "bd34dbbe-1718-4764-8499-e11db35f78ec",
   "metadata": {
    "tags": []
   },
   "outputs": [
    {
     "data": {
      "image/svg+xml": [
       "<?xml version=\"1.0\" encoding=\"UTF-8\" standalone=\"no\"?>\n",
       "<!DOCTYPE svg PUBLIC \"-//W3C//DTD SVG 1.1//EN\"\n",
       " \"http://www.w3.org/Graphics/SVG/1.1/DTD/svg11.dtd\">\n",
       "<!-- Generated by graphviz version 9.0.0 (20230911.1827)\n",
       " -->\n",
       "<!-- Title: fork Pages: 1 -->\n",
       "<svg width=\"62pt\" height=\"188pt\"\n",
       " viewBox=\"0.00 0.00 62.00 188.00\" xmlns=\"http://www.w3.org/2000/svg\" xmlns:xlink=\"http://www.w3.org/1999/xlink\">\n",
       "<g id=\"graph0\" class=\"graph\" transform=\"scale(1 1) rotate(0) translate(4 184)\">\n",
       "<title>fork</title>\n",
       "<polygon fill=\"white\" stroke=\"none\" points=\"-4,4 -4,-184 58,-184 58,4 -4,4\"/>\n",
       "<!-- X -->\n",
       "<g id=\"node1\" class=\"node\">\n",
       "<title>X</title>\n",
       "<ellipse fill=\"none\" stroke=\"white\" cx=\"27\" cy=\"-162\" rx=\"27\" ry=\"18\"/>\n",
       "<text text-anchor=\"middle\" x=\"27\" y=\"-156.95\" font-family=\"Times,serif\" font-size=\"14.00\">X</text>\n",
       "</g>\n",
       "<!-- Z -->\n",
       "<g id=\"node2\" class=\"node\">\n",
       "<title>Z</title>\n",
       "<ellipse fill=\"none\" stroke=\"white\" cx=\"27\" cy=\"-90\" rx=\"27\" ry=\"18\"/>\n",
       "<text text-anchor=\"middle\" x=\"27\" y=\"-84.95\" font-family=\"Times,serif\" font-size=\"14.00\">Z</text>\n",
       "</g>\n",
       "<!-- X&#45;&gt;Z -->\n",
       "<g id=\"edge1\" class=\"edge\">\n",
       "<title>X&#45;&gt;Z</title>\n",
       "<path fill=\"none\" stroke=\"black\" d=\"M27,-143.7C27,-136.41 27,-127.73 27,-119.54\"/>\n",
       "<polygon fill=\"black\" stroke=\"black\" points=\"30.5,-119.62 27,-109.62 23.5,-119.62 30.5,-119.62\"/>\n",
       "</g>\n",
       "<!-- Y -->\n",
       "<g id=\"node3\" class=\"node\">\n",
       "<title>Y</title>\n",
       "<ellipse fill=\"none\" stroke=\"white\" cx=\"27\" cy=\"-18\" rx=\"27\" ry=\"18\"/>\n",
       "<text text-anchor=\"middle\" x=\"27\" y=\"-12.95\" font-family=\"Times,serif\" font-size=\"14.00\">Y</text>\n",
       "</g>\n",
       "<!-- Z&#45;&gt;Y -->\n",
       "<g id=\"edge2\" class=\"edge\">\n",
       "<title>Z&#45;&gt;Y</title>\n",
       "<path fill=\"none\" stroke=\"black\" d=\"M27,-71.7C27,-64.41 27,-55.73 27,-47.54\"/>\n",
       "<polygon fill=\"black\" stroke=\"black\" points=\"30.5,-47.62 27,-37.62 23.5,-47.62 30.5,-47.62\"/>\n",
       "</g>\n",
       "</g>\n",
       "</svg>\n"
      ],
      "text/plain": [
       "<graphviz.graphs.Digraph at 0x16a70dc90>"
      ]
     },
     "execution_count": 4,
     "metadata": {},
     "output_type": "execute_result"
    }
   ],
   "source": [
    "g = gr.Digraph(\"fork\", node_attr={\"color\": \"white\"})\n",
    "\n",
    "g.node(\"X\")\n",
    "g.node(\"Z\")\n",
    "g.node(\"Y\")\n",
    "\n",
    "g.edge(\"X\", \"Z\")\n",
    "g.edge(\"Z\", \"Y\")\n",
    "g"
   ]
  },
  {
   "cell_type": "markdown",
   "id": "b06b276f-62f1-4602-884c-02bfec0d9c1f",
   "metadata": {},
   "source": [
    "**The collider:** $X$ and $Y$ are independent, but conditioning on $Z$ may induce association between them."
   ]
  },
  {
   "cell_type": "code",
   "execution_count": 5,
   "id": "4dc5d56b-50e7-4ca8-9a4d-e0bc9b66d176",
   "metadata": {
    "tags": []
   },
   "outputs": [
    {
     "data": {
      "image/svg+xml": [
       "<?xml version=\"1.0\" encoding=\"UTF-8\" standalone=\"no\"?>\n",
       "<!DOCTYPE svg PUBLIC \"-//W3C//DTD SVG 1.1//EN\"\n",
       " \"http://www.w3.org/Graphics/SVG/1.1/DTD/svg11.dtd\">\n",
       "<!-- Generated by graphviz version 9.0.0 (20230911.1827)\n",
       " -->\n",
       "<!-- Title: fork Pages: 1 -->\n",
       "<svg width=\"134pt\" height=\"116pt\"\n",
       " viewBox=\"0.00 0.00 134.00 116.00\" xmlns=\"http://www.w3.org/2000/svg\" xmlns:xlink=\"http://www.w3.org/1999/xlink\">\n",
       "<g id=\"graph0\" class=\"graph\" transform=\"scale(1 1) rotate(0) translate(4 112)\">\n",
       "<title>fork</title>\n",
       "<polygon fill=\"white\" stroke=\"none\" points=\"-4,4 -4,-112 130,-112 130,4 -4,4\"/>\n",
       "<!-- X -->\n",
       "<g id=\"node1\" class=\"node\">\n",
       "<title>X</title>\n",
       "<ellipse fill=\"none\" stroke=\"white\" cx=\"27\" cy=\"-90\" rx=\"27\" ry=\"18\"/>\n",
       "<text text-anchor=\"middle\" x=\"27\" y=\"-84.95\" font-family=\"Times,serif\" font-size=\"14.00\">X</text>\n",
       "</g>\n",
       "<!-- Z -->\n",
       "<g id=\"node2\" class=\"node\">\n",
       "<title>Z</title>\n",
       "<ellipse fill=\"none\" stroke=\"white\" cx=\"63\" cy=\"-18\" rx=\"27\" ry=\"18\"/>\n",
       "<text text-anchor=\"middle\" x=\"63\" y=\"-12.95\" font-family=\"Times,serif\" font-size=\"14.00\">Z</text>\n",
       "</g>\n",
       "<!-- X&#45;&gt;Z -->\n",
       "<g id=\"edge1\" class=\"edge\">\n",
       "<title>X&#45;&gt;Z</title>\n",
       "<path fill=\"none\" stroke=\"black\" d=\"M35.35,-72.76C39.58,-64.55 44.81,-54.37 49.58,-45.09\"/>\n",
       "<polygon fill=\"black\" stroke=\"black\" points=\"52.54,-46.99 54,-36.49 46.32,-43.79 52.54,-46.99\"/>\n",
       "</g>\n",
       "<!-- Y -->\n",
       "<g id=\"node3\" class=\"node\">\n",
       "<title>Y</title>\n",
       "<ellipse fill=\"none\" stroke=\"white\" cx=\"99\" cy=\"-90\" rx=\"27\" ry=\"18\"/>\n",
       "<text text-anchor=\"middle\" x=\"99\" y=\"-84.95\" font-family=\"Times,serif\" font-size=\"14.00\">Y</text>\n",
       "</g>\n",
       "<!-- Y&#45;&gt;Z -->\n",
       "<g id=\"edge2\" class=\"edge\">\n",
       "<title>Y&#45;&gt;Z</title>\n",
       "<path fill=\"none\" stroke=\"black\" d=\"M90.65,-72.76C86.42,-64.55 81.19,-54.37 76.42,-45.09\"/>\n",
       "<polygon fill=\"black\" stroke=\"black\" points=\"79.68,-43.79 72,-36.49 73.46,-46.99 79.68,-43.79\"/>\n",
       "</g>\n",
       "</g>\n",
       "</svg>\n"
      ],
      "text/plain": [
       "<graphviz.graphs.Digraph at 0x16a70e650>"
      ]
     },
     "execution_count": 5,
     "metadata": {},
     "output_type": "execute_result"
    }
   ],
   "source": [
    "g = gr.Digraph(\"fork\", node_attr={\"color\": \"white\"})\n",
    "\n",
    "g.node(\"X\")\n",
    "g.node(\"Z\")\n",
    "g.node(\"Y\")\n",
    "\n",
    "g.edge(\"X\", \"Z\")\n",
    "g.edge(\"Y\", \"Z\")\n",
    "g"
   ]
  },
  {
   "cell_type": "markdown",
   "id": "afd74bf3-5d41-4a8d-93c2-eab30ad306e3",
   "metadata": {},
   "source": [
    "**The descendant:** $X$ and $Y$ are independent, but conditioning on $D$ may induce association (depending its relationship with $Z$)."
   ]
  },
  {
   "cell_type": "code",
   "execution_count": 6,
   "id": "988d6b64-2b75-4d18-aeec-a5779a3865e4",
   "metadata": {
    "tags": []
   },
   "outputs": [
    {
     "data": {
      "image/svg+xml": [
       "<?xml version=\"1.0\" encoding=\"UTF-8\" standalone=\"no\"?>\n",
       "<!DOCTYPE svg PUBLIC \"-//W3C//DTD SVG 1.1//EN\"\n",
       " \"http://www.w3.org/Graphics/SVG/1.1/DTD/svg11.dtd\">\n",
       "<!-- Generated by graphviz version 9.0.0 (20230911.1827)\n",
       " -->\n",
       "<!-- Title: fork Pages: 1 -->\n",
       "<svg width=\"134pt\" height=\"188pt\"\n",
       " viewBox=\"0.00 0.00 134.00 188.00\" xmlns=\"http://www.w3.org/2000/svg\" xmlns:xlink=\"http://www.w3.org/1999/xlink\">\n",
       "<g id=\"graph0\" class=\"graph\" transform=\"scale(1 1) rotate(0) translate(4 184)\">\n",
       "<title>fork</title>\n",
       "<polygon fill=\"white\" stroke=\"none\" points=\"-4,4 -4,-184 130,-184 130,4 -4,4\"/>\n",
       "<!-- X -->\n",
       "<g id=\"node1\" class=\"node\">\n",
       "<title>X</title>\n",
       "<ellipse fill=\"none\" stroke=\"white\" cx=\"27\" cy=\"-162\" rx=\"27\" ry=\"18\"/>\n",
       "<text text-anchor=\"middle\" x=\"27\" y=\"-156.95\" font-family=\"Times,serif\" font-size=\"14.00\">X</text>\n",
       "</g>\n",
       "<!-- Z -->\n",
       "<g id=\"node2\" class=\"node\">\n",
       "<title>Z</title>\n",
       "<ellipse fill=\"none\" stroke=\"white\" cx=\"63\" cy=\"-90\" rx=\"27\" ry=\"18\"/>\n",
       "<text text-anchor=\"middle\" x=\"63\" y=\"-84.95\" font-family=\"Times,serif\" font-size=\"14.00\">Z</text>\n",
       "</g>\n",
       "<!-- X&#45;&gt;Z -->\n",
       "<g id=\"edge1\" class=\"edge\">\n",
       "<title>X&#45;&gt;Z</title>\n",
       "<path fill=\"none\" stroke=\"black\" d=\"M35.35,-144.76C39.58,-136.55 44.81,-126.37 49.58,-117.09\"/>\n",
       "<polygon fill=\"black\" stroke=\"black\" points=\"52.54,-118.99 54,-108.49 46.32,-115.79 52.54,-118.99\"/>\n",
       "</g>\n",
       "<!-- D -->\n",
       "<g id=\"node4\" class=\"node\">\n",
       "<title>D</title>\n",
       "<ellipse fill=\"none\" stroke=\"white\" cx=\"63\" cy=\"-18\" rx=\"27\" ry=\"18\"/>\n",
       "<text text-anchor=\"middle\" x=\"63\" y=\"-12.95\" font-family=\"Times,serif\" font-size=\"14.00\">D</text>\n",
       "</g>\n",
       "<!-- Z&#45;&gt;D -->\n",
       "<g id=\"edge3\" class=\"edge\">\n",
       "<title>Z&#45;&gt;D</title>\n",
       "<path fill=\"none\" stroke=\"black\" d=\"M63,-71.7C63,-64.41 63,-55.73 63,-47.54\"/>\n",
       "<polygon fill=\"black\" stroke=\"black\" points=\"66.5,-47.62 63,-37.62 59.5,-47.62 66.5,-47.62\"/>\n",
       "</g>\n",
       "<!-- Y -->\n",
       "<g id=\"node3\" class=\"node\">\n",
       "<title>Y</title>\n",
       "<ellipse fill=\"none\" stroke=\"white\" cx=\"99\" cy=\"-162\" rx=\"27\" ry=\"18\"/>\n",
       "<text text-anchor=\"middle\" x=\"99\" y=\"-156.95\" font-family=\"Times,serif\" font-size=\"14.00\">Y</text>\n",
       "</g>\n",
       "<!-- Y&#45;&gt;Z -->\n",
       "<g id=\"edge2\" class=\"edge\">\n",
       "<title>Y&#45;&gt;Z</title>\n",
       "<path fill=\"none\" stroke=\"black\" d=\"M90.65,-144.76C86.42,-136.55 81.19,-126.37 76.42,-117.09\"/>\n",
       "<polygon fill=\"black\" stroke=\"black\" points=\"79.68,-115.79 72,-108.49 73.46,-118.99 79.68,-115.79\"/>\n",
       "</g>\n",
       "</g>\n",
       "</svg>\n"
      ],
      "text/plain": [
       "<graphviz.graphs.Digraph at 0x16a70ec50>"
      ]
     },
     "execution_count": 6,
     "metadata": {},
     "output_type": "execute_result"
    }
   ],
   "source": [
    "g = gr.Digraph(\"fork\", node_attr={\"color\": \"white\"})\n",
    "\n",
    "g.node(\"X\")\n",
    "g.node(\"Z\")\n",
    "g.node(\"Y\")\n",
    "g.node(\"D\")\n",
    "\n",
    "g.edge(\"X\", \"Z\")\n",
    "g.edge(\"Y\", \"Z\")\n",
    "g.edge(\"Z\", \"D\")\n",
    "g"
   ]
  },
  {
   "cell_type": "markdown",
   "id": "aabf9796-fd59-4a99-af79-8a9fabed050a",
   "metadata": {},
   "source": [
    "### 6E4\n",
    "How is a biased sample like conditioning on a collider?\n",
    "Think of the example at the opening of the chapter.\n",
    "\n",
    "---"
   ]
  },
  {
   "cell_type": "markdown",
   "id": "42089b55-8327-43dc-b045-3a1914549a70",
   "metadata": {},
   "source": [
    "Conditioning on a collider is like restricting attention to the subsample where the collider takes a particular value.\n",
    "If the values of the collider are affected by the other two variables, then this is equivalent to selecting for certain (joint) values of those variables.\n",
    "This is equivalent to selecting a biased (sub)sample."
   ]
  },
  {
   "cell_type": "markdown",
   "id": "8b105392-c09c-4079-a483-c4b21b4d3da2",
   "metadata": {},
   "source": [
    "## Medium"
   ]
  },
  {
   "cell_type": "markdown",
   "id": "3de3155d-ff18-456a-be1b-a53cff981844",
   "metadata": {},
   "source": [
    "### 6M1\n",
    "Modify the DAG on page 186 to include the variable $V$, an unobserved cause of $C$ and $Y$: $C \\leftarrow V \\rightarrow Y$.\n",
    "Reanalyze the DAG.\n",
    "How many paths connect $X$ to $Y$?\n",
    "Which must be closed?\n",
    "Which variables should you condition on now?\n",
    "\n",
    "---"
   ]
  },
  {
   "cell_type": "markdown",
   "id": "5b1c9a0c-cafa-4532-aca9-e7d235016fe3",
   "metadata": {},
   "source": [
    "Let's redraw the DAG."
   ]
  },
  {
   "cell_type": "code",
   "execution_count": 8,
   "id": "a404f185-4dd8-42db-b511-332138660875",
   "metadata": {
    "tags": []
   },
   "outputs": [
    {
     "data": {
      "image/svg+xml": [
       "<?xml version=\"1.0\" encoding=\"UTF-8\" standalone=\"no\"?>\n",
       "<!DOCTYPE svg PUBLIC \"-//W3C//DTD SVG 1.1//EN\"\n",
       " \"http://www.w3.org/Graphics/SVG/1.1/DTD/svg11.dtd\">\n",
       "<!-- Generated by graphviz version 9.0.0 (20230911.1827)\n",
       " -->\n",
       "<!-- Title: 6m1 Pages: 1 -->\n",
       "<svg width=\"200pt\" height=\"260pt\"\n",
       " viewBox=\"0.00 0.00 200.00 260.00\" xmlns=\"http://www.w3.org/2000/svg\" xmlns:xlink=\"http://www.w3.org/1999/xlink\">\n",
       "<g id=\"graph0\" class=\"graph\" transform=\"scale(1 1) rotate(0) translate(4 256)\">\n",
       "<title>6m1</title>\n",
       "<polygon fill=\"white\" stroke=\"none\" points=\"-4,4 -4,-256 196,-256 196,4 -4,4\"/>\n",
       "<!-- X -->\n",
       "<g id=\"node1\" class=\"node\">\n",
       "<title>X</title>\n",
       "<ellipse fill=\"none\" stroke=\"white\" cx=\"165\" cy=\"-90\" rx=\"27\" ry=\"18\"/>\n",
       "<text text-anchor=\"middle\" x=\"165\" y=\"-84.95\" font-family=\"Times,serif\" font-size=\"14.00\">X</text>\n",
       "</g>\n",
       "<!-- Y -->\n",
       "<g id=\"node2\" class=\"node\">\n",
       "<title>Y</title>\n",
       "<ellipse fill=\"none\" stroke=\"white\" cx=\"38\" cy=\"-18\" rx=\"27\" ry=\"18\"/>\n",
       "<text text-anchor=\"middle\" x=\"38\" y=\"-12.95\" font-family=\"Times,serif\" font-size=\"14.00\">Y</text>\n",
       "</g>\n",
       "<!-- X&#45;&gt;Y -->\n",
       "<g id=\"edge1\" class=\"edge\">\n",
       "<title>X&#45;&gt;Y</title>\n",
       "<path fill=\"none\" stroke=\"black\" d=\"M144.6,-77.75C123.95,-66.37 91.8,-48.65 68.2,-35.65\"/>\n",
       "<polygon fill=\"black\" stroke=\"black\" points=\"70.13,-32.71 59.68,-30.95 66.75,-38.84 70.13,-32.71\"/>\n",
       "</g>\n",
       "<!-- U -->\n",
       "<g id=\"node3\" class=\"node\">\n",
       "<title>U</title>\n",
       "<ellipse fill=\"none\" stroke=\"black\" cx=\"127\" cy=\"-162\" rx=\"27\" ry=\"18\"/>\n",
       "<text text-anchor=\"middle\" x=\"127\" y=\"-156.95\" font-family=\"Times,serif\" font-size=\"14.00\">U</text>\n",
       "</g>\n",
       "<!-- U&#45;&gt;X -->\n",
       "<g id=\"edge2\" class=\"edge\">\n",
       "<title>U&#45;&gt;X</title>\n",
       "<path fill=\"none\" stroke=\"black\" d=\"M135.81,-144.76C140.27,-136.55 145.8,-126.37 150.84,-117.09\"/>\n",
       "<polygon fill=\"black\" stroke=\"black\" points=\"153.82,-118.94 155.51,-108.48 147.67,-115.6 153.82,-118.94\"/>\n",
       "</g>\n",
       "<!-- B -->\n",
       "<g id=\"node6\" class=\"node\">\n",
       "<title>B</title>\n",
       "<ellipse fill=\"none\" stroke=\"white\" cx=\"93\" cy=\"-90\" rx=\"27\" ry=\"18\"/>\n",
       "<text text-anchor=\"middle\" x=\"93\" y=\"-84.95\" font-family=\"Times,serif\" font-size=\"14.00\">B</text>\n",
       "</g>\n",
       "<!-- U&#45;&gt;B -->\n",
       "<g id=\"edge5\" class=\"edge\">\n",
       "<title>U&#45;&gt;B</title>\n",
       "<path fill=\"none\" stroke=\"black\" d=\"M118.94,-144.41C115.05,-136.39 110.28,-126.57 105.89,-117.54\"/>\n",
       "<polygon fill=\"black\" stroke=\"black\" points=\"109.18,-116.3 101.66,-108.83 102.88,-119.36 109.18,-116.3\"/>\n",
       "</g>\n",
       "<!-- V -->\n",
       "<g id=\"node4\" class=\"node\">\n",
       "<title>V</title>\n",
       "<ellipse fill=\"none\" stroke=\"black\" cx=\"27\" cy=\"-234\" rx=\"27\" ry=\"18\"/>\n",
       "<text text-anchor=\"middle\" x=\"27\" y=\"-228.95\" font-family=\"Times,serif\" font-size=\"14.00\">V</text>\n",
       "</g>\n",
       "<!-- V&#45;&gt;Y -->\n",
       "<g id=\"edge9\" class=\"edge\">\n",
       "<title>V&#45;&gt;Y</title>\n",
       "<path fill=\"none\" stroke=\"black\" d=\"M23.75,-215.89C21.95,-205.54 19.91,-192.06 19,-180 15.49,-133.21 24.61,-79.09 31.4,-47.02\"/>\n",
       "<polygon fill=\"black\" stroke=\"black\" points=\"34.79,-47.87 33.53,-37.35 27.96,-46.37 34.79,-47.87\"/>\n",
       "</g>\n",
       "<!-- C -->\n",
       "<g id=\"node7\" class=\"node\">\n",
       "<title>C</title>\n",
       "<ellipse fill=\"none\" stroke=\"white\" cx=\"55\" cy=\"-162\" rx=\"27\" ry=\"18\"/>\n",
       "<text text-anchor=\"middle\" x=\"55\" y=\"-156.95\" font-family=\"Times,serif\" font-size=\"14.00\">C</text>\n",
       "</g>\n",
       "<!-- V&#45;&gt;C -->\n",
       "<g id=\"edge8\" class=\"edge\">\n",
       "<title>V&#45;&gt;C</title>\n",
       "<path fill=\"none\" stroke=\"black\" d=\"M33.64,-216.41C36.77,-208.57 40.6,-198.99 44.15,-190.13\"/>\n",
       "<polygon fill=\"black\" stroke=\"black\" points=\"47.39,-191.46 47.85,-180.88 40.89,-188.86 47.39,-191.46\"/>\n",
       "</g>\n",
       "<!-- A -->\n",
       "<g id=\"node5\" class=\"node\">\n",
       "<title>A</title>\n",
       "<ellipse fill=\"none\" stroke=\"white\" cx=\"113\" cy=\"-234\" rx=\"27\" ry=\"18\"/>\n",
       "<text text-anchor=\"middle\" x=\"113\" y=\"-228.95\" font-family=\"Times,serif\" font-size=\"14.00\">A</text>\n",
       "</g>\n",
       "<!-- A&#45;&gt;U -->\n",
       "<g id=\"edge3\" class=\"edge\">\n",
       "<title>A&#45;&gt;U</title>\n",
       "<path fill=\"none\" stroke=\"black\" d=\"M116.46,-215.7C117.94,-208.32 119.7,-199.52 121.35,-191.25\"/>\n",
       "<polygon fill=\"black\" stroke=\"black\" points=\"124.75,-192.08 123.28,-181.59 117.89,-190.71 124.75,-192.08\"/>\n",
       "</g>\n",
       "<!-- A&#45;&gt;C -->\n",
       "<g id=\"edge4\" class=\"edge\">\n",
       "<title>A&#45;&gt;C</title>\n",
       "<path fill=\"none\" stroke=\"black\" d=\"M100.41,-217.81C92.89,-208.73 83.17,-197 74.65,-186.72\"/>\n",
       "<polygon fill=\"black\" stroke=\"black\" points=\"77.6,-184.79 68.53,-179.32 72.21,-189.26 77.6,-184.79\"/>\n",
       "</g>\n",
       "<!-- C&#45;&gt;Y -->\n",
       "<g id=\"edge7\" class=\"edge\">\n",
       "<title>C&#45;&gt;Y</title>\n",
       "<path fill=\"none\" stroke=\"black\" d=\"M52.92,-143.59C50.05,-119.61 44.84,-76.14 41.4,-47.42\"/>\n",
       "<polygon fill=\"black\" stroke=\"black\" points=\"44.89,-47.13 40.23,-37.61 37.94,-47.96 44.89,-47.13\"/>\n",
       "</g>\n",
       "<!-- C&#45;&gt;B -->\n",
       "<g id=\"edge6\" class=\"edge\">\n",
       "<title>C&#45;&gt;B</title>\n",
       "<path fill=\"none\" stroke=\"black\" d=\"M63.81,-144.76C68.27,-136.55 73.8,-126.37 78.84,-117.09\"/>\n",
       "<polygon fill=\"black\" stroke=\"black\" points=\"81.82,-118.94 83.51,-108.48 75.67,-115.6 81.82,-118.94\"/>\n",
       "</g>\n",
       "</g>\n",
       "</svg>\n"
      ],
      "text/plain": [
       "<graphviz.graphs.Digraph at 0x10761f0a0>"
      ]
     },
     "execution_count": 8,
     "metadata": {},
     "output_type": "execute_result"
    }
   ],
   "source": [
    "g = gr.Digraph(\"6m1\", node_attr={\"color\": \"white\"})\n",
    "\n",
    "g.node(\"X\")\n",
    "g.node(\"Y\")\n",
    "g.node(\"U\", color=\"black\")\n",
    "g.node(\"V\", color=\"black\")\n",
    "g.node(\"A\")\n",
    "g.node(\"B\")\n",
    "g.node(\"C\")\n",
    "\n",
    "g.edge(\"X\", \"Y\")\n",
    "g.edge(\"U\", \"X\")\n",
    "g.edge(\"A\", \"U\")\n",
    "g.edge(\"A\", \"C\")\n",
    "g.edge(\"U\", \"B\")\n",
    "g.edge(\"C\", \"B\")\n",
    "g.edge(\"C\", \"Y\")\n",
    "g.edge(\"V\", \"C\")\n",
    "g.edge(\"V\", \"Y\")\n",
    "g"
   ]
  },
  {
   "cell_type": "markdown",
   "id": "6dee9a7d-f02a-4828-b02f-0d38eacef215",
   "metadata": {},
   "source": [
    "There are now five paths connecting $X$ and $Y$:\n",
    "1. $X \\rightarrow Y$\n",
    "2. $X \\leftarrow U \\leftarrow A \\rightarrow C \\rightarrow Y$\n",
    "3. $X \\leftarrow U \\rightarrow B \\leftarrow C \\rightarrow Y$\n",
    "2. $X \\leftarrow U \\leftarrow A \\rightarrow C \\leftarrow V \\rightarrow Y$\n",
    "3. $X \\leftarrow U \\rightarrow B \\leftarrow C \\leftarrow V \\rightarrow Y$"
   ]
  },
  {
   "cell_type": "markdown",
   "id": "27866277-8fe1-41bb-b0e4-73839a913c73",
   "metadata": {},
   "source": [
    "Paths 2, and 4 are open and so must be closed.\n",
    "The others are closed since they contain the confound at $B$.\n",
    "\n",
    "We can close all open paths by conditioning on $A$."
   ]
  },
  {
   "cell_type": "markdown",
   "id": "5bd4bf79-d54d-4e19-9b47-c03cadfc7c95",
   "metadata": {},
   "source": [
    "### 6M2\n",
    "Sometimes, in order to avoid multicollinearity, people inspect pairwise correlations among predictors before including them in a model.\n",
    "This is a bad procedure, because what matters is the conditional association, not the association before the variables are included in the model.\n",
    "To highlight this, consider the DAG $X \\to Z \\to Y$.\n",
    "Simulate data from this DAG so that the correlation between $X$ and $Z$ is very large.\n",
    "Then include both in a model predicting $Y$.\n",
    "Do you observe any multicollinearity?\n",
    "Why or why not?\n",
    "What is different from the legs example in the chapter?\n",
    "\n",
    "---"
   ]
  },
  {
   "cell_type": "markdown",
   "id": "6efb007f-f9fc-4046-b062-ca432b70c86c",
   "metadata": {},
   "source": [
    "Let's simulate some data"
   ]
  },
  {
   "cell_type": "code",
   "execution_count": 22,
   "id": "f454eba4-2054-483e-b181-0eb98b786b19",
   "metadata": {
    "tags": []
   },
   "outputs": [],
   "source": [
    "N = 100\n",
    "\n",
    "rng = np.random.default_rng(RANDOM_SEED)\n",
    "x = rng.normal(loc=0, scale=1, size=N)\n",
    "z = 1 + 2*x + rng.normal(loc=0, scale=0.5, size=N)\n",
    "y = 2 - z + rng.normal(loc=0, scale=0.5, size=N)\n",
    "\n",
    "data = pd.DataFrame({\n",
    "    \"x\": x, \"y\": y, \"z\": z\n",
    "})"
   ]
  },
  {
   "cell_type": "markdown",
   "id": "9d5e00a6-516f-4e6d-9cb8-24bcf20b3ddf",
   "metadata": {},
   "source": [
    "There is a lot of correlation between the variables"
   ]
  },
  {
   "cell_type": "code",
   "execution_count": 23,
   "id": "a5197ca0-163a-43e5-962b-89bc358b4e64",
   "metadata": {
    "tags": []
   },
   "outputs": [
    {
     "data": {
      "text/html": [
       "<div>\n",
       "<style scoped>\n",
       "    .dataframe tbody tr th:only-of-type {\n",
       "        vertical-align: middle;\n",
       "    }\n",
       "\n",
       "    .dataframe tbody tr th {\n",
       "        vertical-align: top;\n",
       "    }\n",
       "\n",
       "    .dataframe thead th {\n",
       "        text-align: right;\n",
       "    }\n",
       "</style>\n",
       "<table border=\"1\" class=\"dataframe\">\n",
       "  <thead>\n",
       "    <tr style=\"text-align: right;\">\n",
       "      <th></th>\n",
       "      <th>x</th>\n",
       "      <th>y</th>\n",
       "      <th>z</th>\n",
       "    </tr>\n",
       "  </thead>\n",
       "  <tbody>\n",
       "    <tr>\n",
       "      <th>x</th>\n",
       "      <td>1.000000</td>\n",
       "      <td>-0.915949</td>\n",
       "      <td>0.956554</td>\n",
       "    </tr>\n",
       "    <tr>\n",
       "      <th>y</th>\n",
       "      <td>-0.915949</td>\n",
       "      <td>1.000000</td>\n",
       "      <td>-0.956216</td>\n",
       "    </tr>\n",
       "    <tr>\n",
       "      <th>z</th>\n",
       "      <td>0.956554</td>\n",
       "      <td>-0.956216</td>\n",
       "      <td>1.000000</td>\n",
       "    </tr>\n",
       "  </tbody>\n",
       "</table>\n",
       "</div>"
      ],
      "text/plain": [
       "          x         y         z\n",
       "x  1.000000 -0.915949  0.956554\n",
       "y -0.915949  1.000000 -0.956216\n",
       "z  0.956554 -0.956216  1.000000"
      ]
     },
     "execution_count": 23,
     "metadata": {},
     "output_type": "execute_result"
    }
   ],
   "source": [
    "data.corr()"
   ]
  },
  {
   "cell_type": "code",
   "execution_count": 39,
   "id": "53d8d095-d720-42f4-a365-58268aea77ae",
   "metadata": {
    "tags": []
   },
   "outputs": [
    {
     "data": {
      "image/png": "[encoded data removed]",
      "text/plain": [
       "<Figure size 750x750 with 12 Axes>"
      ]
     },
     "metadata": {},
     "output_type": "display_data"
    }
   ],
   "source": [
    "sns.pairplot(data);"
   ]
  },
  {
   "cell_type": "markdown",
   "id": "5586df37-4beb-4adc-ac87-17fad3e8eb9a",
   "metadata": {},
   "source": [
    "Now we'll fit models for $Z$ as functions $X$ and $Y$ separately and together.\n",
    "I can't be bothered to normalise everything so I'll just use vague priors."
   ]
  },
  {
   "cell_type": "code",
   "execution_count": 31,
   "id": "09c9fef2-888e-4ef1-b52b-9916d096ac6f",
   "metadata": {
    "tags": []
   },
   "outputs": [
    {
     "name": "stderr",
     "output_type": "stream",
     "text": [
      "Auto-assigning NUTS sampler...\n",
      "Initializing NUTS using jitter+adapt_diag...\n",
      "Multiprocess sampling (4 chains in 4 jobs)\n",
      "NUTS: [alpha, beta_x, sigma]\n"
     ]
    },
    {
     "data": {
      "text/html": [
       "\n",
       "<style>\n",
       "    /* Turns off some styling */\n",
       "    progress {\n",
       "        /* gets rid of default border in Firefox and Opera. */\n",
       "        border: none;\n",
       "        /* Needs to be in here for Safari polyfill so background images work as expected. */\n",
       "        background-size: auto;\n",
       "    }\n",
       "    progress:not([value]), progress:not([value])::-webkit-progress-bar {\n",
       "        background: repeating-linear-gradient(45deg, #7e7e7e, #7e7e7e 10px, #5c5c5c 10px, #5c5c5c 20px);\n",
       "    }\n",
       "    .progress-bar-interrupted, .progress-bar-interrupted::-webkit-progress-bar {\n",
       "        background: #F44336;\n",
       "    }\n",
       "</style>\n"
      ],
      "text/plain": [
       "<IPython.core.display.HTML object>"
      ]
     },
     "metadata": {},
     "output_type": "display_data"
    },
    {
     "data": {
      "text/html": [
       "\n",
       "    <div>\n",
       "      <progress value='8000' class='' max='8000' style='width:300px; height:20px; vertical-align: middle;'></progress>\n",
       "      100.00% [8000/8000 00:00&lt;00:00 Sampling 4 chains, 0 divergences]\n",
       "    </div>\n",
       "    "
      ],
      "text/plain": [
       "<IPython.core.display.HTML object>"
      ]
     },
     "metadata": {},
     "output_type": "display_data"
    },
    {
     "name": "stderr",
     "output_type": "stream",
     "text": [
      "Sampling 4 chains for 1_000 tune and 1_000 draw iterations (4_000 + 4_000 draws total) took 1 seconds.\n",
      "Auto-assigning NUTS sampler...\n",
      "Initializing NUTS using jitter+adapt_diag...\n",
      "Multiprocess sampling (4 chains in 4 jobs)\n",
      "NUTS: [alpha, beta_z, sigma]\n"
     ]
    },
    {
     "data": {
      "text/html": [
       "\n",
       "<style>\n",
       "    /* Turns off some styling */\n",
       "    progress {\n",
       "        /* gets rid of default border in Firefox and Opera. */\n",
       "        border: none;\n",
       "        /* Needs to be in here for Safari polyfill so background images work as expected. */\n",
       "        background-size: auto;\n",
       "    }\n",
       "    progress:not([value]), progress:not([value])::-webkit-progress-bar {\n",
       "        background: repeating-linear-gradient(45deg, #7e7e7e, #7e7e7e 10px, #5c5c5c 10px, #5c5c5c 20px);\n",
       "    }\n",
       "    .progress-bar-interrupted, .progress-bar-interrupted::-webkit-progress-bar {\n",
       "        background: #F44336;\n",
       "    }\n",
       "</style>\n"
      ],
      "text/plain": [
       "<IPython.core.display.HTML object>"
      ]
     },
     "metadata": {},
     "output_type": "display_data"
    },
    {
     "data": {
      "text/html": [
       "\n",
       "    <div>\n",
       "      <progress value='8000' class='' max='8000' style='width:300px; height:20px; vertical-align: middle;'></progress>\n",
       "      100.00% [8000/8000 00:00&lt;00:00 Sampling 4 chains, 0 divergences]\n",
       "    </div>\n",
       "    "
      ],
      "text/plain": [
       "<IPython.core.display.HTML object>"
      ]
     },
     "metadata": {},
     "output_type": "display_data"
    },
    {
     "name": "stderr",
     "output_type": "stream",
     "text": [
      "Sampling 4 chains for 1_000 tune and 1_000 draw iterations (4_000 + 4_000 draws total) took 1 seconds.\n",
      "Auto-assigning NUTS sampler...\n",
      "Initializing NUTS using jitter+adapt_diag...\n",
      "Multiprocess sampling (4 chains in 4 jobs)\n",
      "NUTS: [alpha, beta_x, beta_z, sigma]\n"
     ]
    },
    {
     "data": {
      "text/html": [
       "\n",
       "<style>\n",
       "    /* Turns off some styling */\n",
       "    progress {\n",
       "        /* gets rid of default border in Firefox and Opera. */\n",
       "        border: none;\n",
       "        /* Needs to be in here for Safari polyfill so background images work as expected. */\n",
       "        background-size: auto;\n",
       "    }\n",
       "    progress:not([value]), progress:not([value])::-webkit-progress-bar {\n",
       "        background: repeating-linear-gradient(45deg, #7e7e7e, #7e7e7e 10px, #5c5c5c 10px, #5c5c5c 20px);\n",
       "    }\n",
       "    .progress-bar-interrupted, .progress-bar-interrupted::-webkit-progress-bar {\n",
       "        background: #F44336;\n",
       "    }\n",
       "</style>\n"
      ],
      "text/plain": [
       "<IPython.core.display.HTML object>"
      ]
     },
     "metadata": {},
     "output_type": "display_data"
    },
    {
     "data": {
      "text/html": [
       "\n",
       "    <div>\n",
       "      <progress value='8000' class='' max='8000' style='width:300px; height:20px; vertical-align: middle;'></progress>\n",
       "      100.00% [8000/8000 00:01&lt;00:00 Sampling 4 chains, 0 divergences]\n",
       "    </div>\n",
       "    "
      ],
      "text/plain": [
       "<IPython.core.display.HTML object>"
      ]
     },
     "metadata": {},
     "output_type": "display_data"
    },
    {
     "name": "stderr",
     "output_type": "stream",
     "text": [
      "Sampling 4 chains for 1_000 tune and 1_000 draw iterations (4_000 + 4_000 draws total) took 2 seconds.\n"
     ]
    }
   ],
   "source": [
    "coords = {\n",
    "    \"obs_id\": data.index,\n",
    "}\n",
    "with pm.Model(coords_mutable=coords) as m_6m2a:\n",
    "    # data\n",
    "    x = pm.MutableData(\"x\", data.x, dims=\"obs_id\")\n",
    "    \n",
    "    # priors\n",
    "    alpha = pm.Normal(\"alpha\", mu=0, sigma=2)\n",
    "    beta_x = pm.Normal(\"beta_x\", mu=0, sigma=2)\n",
    "    sigma = pm.Exponential(\"sigma\", lam=1)\n",
    "    \n",
    "    # model\n",
    "    mu = pm.Deterministic(\"mu\", alpha + beta_x * x, dims=\"obs_id\")\n",
    "    \n",
    "    # likelihood\n",
    "    y = pm.Normal(\"y\", mu=mu, sigma=sigma, observed=data.y, dims=\"obs_id\")\n",
    "    \n",
    "    # sample\n",
    "    trace_6m2a = pm.sample(random_seed=RANDOM_SEED)\n",
    "    \n",
    "\n",
    "with pm.Model(coords_mutable=coords) as m_6m2b:\n",
    "    # data\n",
    "    z = pm.MutableData(\"z\", data.z, dims=\"obs_id\")\n",
    "    \n",
    "    # priors\n",
    "    alpha = pm.Normal(\"alpha\", mu=0, sigma=2)\n",
    "    beta_z = pm.Normal(\"beta_z\", mu=0, sigma=2)\n",
    "    sigma = pm.Exponential(\"sigma\", lam=1)\n",
    "    \n",
    "    # model\n",
    "    mu = pm.Deterministic(\"mu\", alpha + beta_z * z, dims=\"obs_id\")\n",
    "    \n",
    "    # likelihood\n",
    "    y = pm.Normal(\"y\", mu=mu, sigma=sigma, observed=data.y, dims=\"obs_id\")\n",
    "    \n",
    "    # sample\n",
    "    trace_6m2b = pm.sample(random_seed=RANDOM_SEED)\n",
    "\n",
    "    \n",
    "with pm.Model(coords_mutable=coords) as m_6m2c:\n",
    "    # data\n",
    "    x = pm.MutableData(\"x\", data.x, dims=\"obs_id\")\n",
    "    z = pm.MutableData(\"z\", data.z, dims=\"obs_id\")\n",
    "    \n",
    "    # priors\n",
    "    alpha = pm.Normal(\"alpha\", mu=0, sigma=2)\n",
    "    beta_x = pm.Normal(\"beta_x\", mu=0, sigma=2)\n",
    "    beta_z = pm.Normal(\"beta_z\", mu=0, sigma=2)\n",
    "    sigma = pm.Exponential(\"sigma\", lam=1)\n",
    "    \n",
    "    # model\n",
    "    mu = pm.Deterministic(\"mu\", alpha + beta_x * x + beta_z * z, dims=\"obs_id\")\n",
    "    \n",
    "    # likelihood\n",
    "    y = pm.Normal(\"y\", mu=mu, sigma=sigma, observed=data.y, dims=\"obs_id\")\n",
    "    \n",
    "    # sample\n",
    "    trace_6m2c = pm.sample(random_seed=RANDOM_SEED)"
   ]
  },
  {
   "cell_type": "markdown",
   "id": "d9081806-14a9-424f-9c85-d7d17349481d",
   "metadata": {},
   "source": [
    "Now look at the results."
   ]
  },
  {
   "cell_type": "code",
   "execution_count": 36,
   "id": "a27d57a0-e214-4998-83d0-57525a0430a1",
   "metadata": {
    "tags": []
   },
   "outputs": [
    {
     "data": {
      "image/png": "[encoded data removed]",
      "text/plain": [
       "<Figure size 800x200 with 1 Axes>"
      ]
     },
     "metadata": {},
     "output_type": "display_data"
    }
   ],
   "source": [
    "fig, ax = plt.subplots(figsize=(8, 2))\n",
    "\n",
    "az.plot_forest(\n",
    "    [trace_6m2a,trace_6m2b, trace_6m2c],\n",
    "    model_names=[\"6m2a\", \"6m2b\", \"6m2c\"],\n",
    "    var_names=[\"~mu\"],\n",
    "    combined=True,\n",
    "    hdi_prob=0.89,\n",
    "    ax=ax\n",
    ");"
   ]
  },
  {
   "cell_type": "markdown",
   "id": "6d83e229-c911-4729-9a7b-c1ab1c15ed74",
   "metadata": {},
   "source": [
    "The book defined multicollinearity as follows: each individual predictor helps in predicting the outcome, but neither helps as much once you know the other.\n",
    "That's not what's happening here.\n",
    "If we have $Z$ in the model, then adding $X$ appears to increase uncertainty in the posteriors (this is a bit of a mirage - there is a lot of correlation in the posteriors) but it doesn't meaningfully change the estimate of $\\beta_Z$.\n",
    "That is, $Z$ is independent of $Y$ conditional on $X$.\n",
    "This wasn't the case in the legs example, where there was no direct causal relationship between the two predictors."
   ]
  },
  {
   "cell_type": "code",
   "execution_count": 42,
   "id": "14e12fa7-feef-4abb-b9ab-317c314c648f",
   "metadata": {
    "tags": []
   },
   "outputs": [
    {
     "data": {
      "image/png": "[encoded data removed]",
      "text/plain": [
       "<Figure size 1472x1104 with 3 Axes>"
      ]
     },
     "metadata": {},
     "output_type": "display_data"
    }
   ],
   "source": [
    "axs = az.plot_pair(\n",
    "    trace_6m2c,\n",
    "    var_names=[\"alpha\", \"beta_x\", \"beta_z\"],\n",
    ")\n",
    "fig = axs[0][0].get_figure()\n",
    "fig.suptitle(\"Posterior associations\")\n",
    "fig.tight_layout();"
   ]
  },
  {
   "cell_type": "markdown",
   "id": "cef423df-0a5f-45a0-a4ef-e23dd3eb7c8a",
   "metadata": {},
   "source": [
    "### 6M3\n",
    "Learning to analyze DAGs requires practice.\n",
    "For each of the four DAGs below, state which variables, if any, you must adjust for (condition on) to estimate the total causal influence of $X$ on $Y$.\n",
    "\n",
    "---"
   ]
  },
  {
   "cell_type": "markdown",
   "id": "798ca1e4-c9b3-4ce0-9bbc-8d442e82449b",
   "metadata": {
    "tags": []
   },
   "source": [
    "a) Conditioning on $Z$ takes care of both open paths."
   ]
  },
  {
   "cell_type": "code",
   "execution_count": 46,
   "id": "beb1b748-c6c8-4e19-9e01-92693cca4cbe",
   "metadata": {
    "tags": []
   },
   "outputs": [
    {
     "data": {
      "image/svg+xml": [
       "<?xml version=\"1.0\" encoding=\"UTF-8\" standalone=\"no\"?>\n",
       "<!DOCTYPE svg PUBLIC \"-//W3C//DTD SVG 1.1//EN\"\n",
       " \"http://www.w3.org/Graphics/SVG/1.1/DTD/svg11.dtd\">\n",
       "<!-- Generated by graphviz version 9.0.0 (20230911.1827)\n",
       " -->\n",
       "<!-- Title: 6m3a Pages: 1 -->\n",
       "<svg width=\"103pt\" height=\"260pt\"\n",
       " viewBox=\"0.00 0.00 102.53 260.00\" xmlns=\"http://www.w3.org/2000/svg\" xmlns:xlink=\"http://www.w3.org/1999/xlink\">\n",
       "<g id=\"graph0\" class=\"graph\" transform=\"scale(1 1) rotate(0) translate(4 256)\">\n",
       "<title>6m3a</title>\n",
       "<polygon fill=\"white\" stroke=\"none\" points=\"-4,4 -4,-256 98.53,-256 98.53,4 -4,4\"/>\n",
       "<!-- X -->\n",
       "<g id=\"node1\" class=\"node\">\n",
       "<title>X</title>\n",
       "<ellipse fill=\"none\" stroke=\"white\" cx=\"55\" cy=\"-90\" rx=\"27\" ry=\"18\"/>\n",
       "<text text-anchor=\"middle\" x=\"55\" y=\"-84.95\" font-family=\"Times,serif\" font-size=\"14.00\">X</text>\n",
       "</g>\n",
       "<!-- Y -->\n",
       "<g id=\"node2\" class=\"node\">\n",
       "<title>Y</title>\n",
       "<ellipse fill=\"none\" stroke=\"white\" cx=\"55\" cy=\"-18\" rx=\"27\" ry=\"18\"/>\n",
       "<text text-anchor=\"middle\" x=\"55\" y=\"-12.95\" font-family=\"Times,serif\" font-size=\"14.00\">Y</text>\n",
       "</g>\n",
       "<!-- X&#45;&gt;Y -->\n",
       "<g id=\"edge1\" class=\"edge\">\n",
       "<title>X&#45;&gt;Y</title>\n",
       "<path fill=\"none\" stroke=\"black\" d=\"M55,-71.7C55,-64.41 55,-55.73 55,-47.54\"/>\n",
       "<polygon fill=\"black\" stroke=\"black\" points=\"58.5,-47.62 55,-37.62 51.5,-47.62 58.5,-47.62\"/>\n",
       "</g>\n",
       "<!-- Z -->\n",
       "<g id=\"node3\" class=\"node\">\n",
       "<title>Z</title>\n",
       "<ellipse fill=\"none\" stroke=\"white\" cx=\"55\" cy=\"-162\" rx=\"27\" ry=\"18\"/>\n",
       "<text text-anchor=\"middle\" x=\"55\" y=\"-156.95\" font-family=\"Times,serif\" font-size=\"14.00\">Z</text>\n",
       "</g>\n",
       "<!-- Z&#45;&gt;X -->\n",
       "<g id=\"edge2\" class=\"edge\">\n",
       "<title>Z&#45;&gt;X</title>\n",
       "<path fill=\"none\" stroke=\"black\" d=\"M55,-143.7C55,-136.41 55,-127.73 55,-119.54\"/>\n",
       "<polygon fill=\"black\" stroke=\"black\" points=\"58.5,-119.62 55,-109.62 51.5,-119.62 58.5,-119.62\"/>\n",
       "</g>\n",
       "<!-- Z&#45;&gt;Y -->\n",
       "<g id=\"edge3\" class=\"edge\">\n",
       "<title>Z&#45;&gt;Y</title>\n",
       "<path fill=\"none\" stroke=\"black\" d=\"M68.75,-146.07C76.96,-136.1 86.62,-122.25 91,-108 95.7,-92.71 95.7,-87.29 91,-72 87.82,-61.65 81.85,-51.51 75.67,-42.91\"/>\n",
       "<polygon fill=\"black\" stroke=\"black\" points=\"78.55,-40.91 69.67,-35.13 73.01,-45.19 78.55,-40.91\"/>\n",
       "</g>\n",
       "<!-- A -->\n",
       "<g id=\"node4\" class=\"node\">\n",
       "<title>A</title>\n",
       "<ellipse fill=\"none\" stroke=\"white\" cx=\"27\" cy=\"-234\" rx=\"27\" ry=\"18\"/>\n",
       "<text text-anchor=\"middle\" x=\"27\" y=\"-228.95\" font-family=\"Times,serif\" font-size=\"14.00\">A</text>\n",
       "</g>\n",
       "<!-- A&#45;&gt;Y -->\n",
       "<g id=\"edge5\" class=\"edge\">\n",
       "<title>A&#45;&gt;Y</title>\n",
       "<path fill=\"none\" stroke=\"black\" d=\"M22.45,-216.08C15.22,-186.22 3.45,-122.56 19,-72 22.18,-61.65 28.15,-51.51 34.33,-42.91\"/>\n",
       "<polygon fill=\"black\" stroke=\"black\" points=\"36.99,-45.19 40.33,-35.13 31.45,-40.91 36.99,-45.19\"/>\n",
       "</g>\n",
       "<!-- A&#45;&gt;Z -->\n",
       "<g id=\"edge4\" class=\"edge\">\n",
       "<title>A&#45;&gt;Z</title>\n",
       "<path fill=\"none\" stroke=\"black\" d=\"M33.64,-216.41C36.77,-208.57 40.6,-198.99 44.15,-190.13\"/>\n",
       "<polygon fill=\"black\" stroke=\"black\" points=\"47.39,-191.46 47.85,-180.88 40.89,-188.86 47.39,-191.46\"/>\n",
       "</g>\n",
       "</g>\n",
       "</svg>\n"
      ],
      "text/plain": [
       "<graphviz.graphs.Digraph at 0x30f186050>"
      ]
     },
     "execution_count": 46,
     "metadata": {},
     "output_type": "execute_result"
    }
   ],
   "source": [
    "g = gr.Digraph(\"6m3a\", node_attr={\"color\": \"white\"})\n",
    "\n",
    "g.node(\"X\")\n",
    "g.node(\"Y\")\n",
    "g.node(\"Z\")\n",
    "g.node(\"A\")\n",
    "\n",
    "g.edge(\"X\", \"Y\")\n",
    "g.edge(\"Z\", \"X\")\n",
    "g.edge(\"Z\", \"Y\")\n",
    "g.edge(\"A\", \"Z\")\n",
    "g.edge(\"A\", \"Y\")\n",
    "g"
   ]
  },
  {
   "cell_type": "markdown",
   "id": "0d0ae151-a047-4d46-a2e5-3ecaacc8565e",
   "metadata": {},
   "source": [
    "b) There are two additional paths from $X$ to $Y$, but only the one through $A$ is a backdoor.\n",
    "But, since $Z$ is a collider this path is already closed.\n",
    "So we don't need to condition on anything."
   ]
  },
  {
   "cell_type": "code",
   "execution_count": 47,
   "id": "5394a980-9e14-453d-8fda-69ac86052a76",
   "metadata": {
    "tags": []
   },
   "outputs": [
    {
     "data": {
      "image/svg+xml": [
       "<?xml version=\"1.0\" encoding=\"UTF-8\" standalone=\"no\"?>\n",
       "<!DOCTYPE svg PUBLIC \"-//W3C//DTD SVG 1.1//EN\"\n",
       " \"http://www.w3.org/Graphics/SVG/1.1/DTD/svg11.dtd\">\n",
       "<!-- Generated by graphviz version 9.0.0 (20230911.1827)\n",
       " -->\n",
       "<!-- Title: 6m3b Pages: 1 -->\n",
       "<svg width=\"143pt\" height=\"188pt\"\n",
       " viewBox=\"0.00 0.00 143.00 188.00\" xmlns=\"http://www.w3.org/2000/svg\" xmlns:xlink=\"http://www.w3.org/1999/xlink\">\n",
       "<g id=\"graph0\" class=\"graph\" transform=\"scale(1 1) rotate(0) translate(4 184)\">\n",
       "<title>6m3b</title>\n",
       "<polygon fill=\"white\" stroke=\"none\" points=\"-4,4 -4,-184 139,-184 139,4 -4,4\"/>\n",
       "<!-- X -->\n",
       "<g id=\"node1\" class=\"node\">\n",
       "<title>X</title>\n",
       "<ellipse fill=\"none\" stroke=\"white\" cx=\"27\" cy=\"-162\" rx=\"27\" ry=\"18\"/>\n",
       "<text text-anchor=\"middle\" x=\"27\" y=\"-156.95\" font-family=\"Times,serif\" font-size=\"14.00\">X</text>\n",
       "</g>\n",
       "<!-- Y -->\n",
       "<g id=\"node2\" class=\"node\">\n",
       "<title>Y</title>\n",
       "<ellipse fill=\"none\" stroke=\"white\" cx=\"63\" cy=\"-18\" rx=\"27\" ry=\"18\"/>\n",
       "<text text-anchor=\"middle\" x=\"63\" y=\"-12.95\" font-family=\"Times,serif\" font-size=\"14.00\">Y</text>\n",
       "</g>\n",
       "<!-- X&#45;&gt;Y -->\n",
       "<g id=\"edge1\" class=\"edge\">\n",
       "<title>X&#45;&gt;Y</title>\n",
       "<path fill=\"none\" stroke=\"black\" d=\"M24.07,-143.83C21.62,-125.57 19.6,-96.07 27,-72 30.18,-61.65 36.15,-51.51 42.33,-42.91\"/>\n",
       "<polygon fill=\"black\" stroke=\"black\" points=\"44.99,-45.19 48.33,-35.13 39.45,-40.91 44.99,-45.19\"/>\n",
       "</g>\n",
       "<!-- Z -->\n",
       "<g id=\"node3\" class=\"node\">\n",
       "<title>Z</title>\n",
       "<ellipse fill=\"none\" stroke=\"white\" cx=\"63\" cy=\"-90\" rx=\"27\" ry=\"18\"/>\n",
       "<text text-anchor=\"middle\" x=\"63\" y=\"-84.95\" font-family=\"Times,serif\" font-size=\"14.00\">Z</text>\n",
       "</g>\n",
       "<!-- X&#45;&gt;Z -->\n",
       "<g id=\"edge2\" class=\"edge\">\n",
       "<title>X&#45;&gt;Z</title>\n",
       "<path fill=\"none\" stroke=\"black\" d=\"M35.35,-144.76C39.58,-136.55 44.81,-126.37 49.58,-117.09\"/>\n",
       "<polygon fill=\"black\" stroke=\"black\" points=\"52.54,-118.99 54,-108.49 46.32,-115.79 52.54,-118.99\"/>\n",
       "</g>\n",
       "<!-- Z&#45;&gt;Y -->\n",
       "<g id=\"edge3\" class=\"edge\">\n",
       "<title>Z&#45;&gt;Y</title>\n",
       "<path fill=\"none\" stroke=\"black\" d=\"M63,-71.7C63,-64.41 63,-55.73 63,-47.54\"/>\n",
       "<polygon fill=\"black\" stroke=\"black\" points=\"66.5,-47.62 63,-37.62 59.5,-47.62 66.5,-47.62\"/>\n",
       "</g>\n",
       "<!-- A -->\n",
       "<g id=\"node4\" class=\"node\">\n",
       "<title>A</title>\n",
       "<ellipse fill=\"none\" stroke=\"white\" cx=\"108\" cy=\"-162\" rx=\"27\" ry=\"18\"/>\n",
       "<text text-anchor=\"middle\" x=\"108\" y=\"-156.95\" font-family=\"Times,serif\" font-size=\"14.00\">A</text>\n",
       "</g>\n",
       "<!-- A&#45;&gt;Y -->\n",
       "<g id=\"edge5\" class=\"edge\">\n",
       "<title>A&#45;&gt;Y</title>\n",
       "<path fill=\"none\" stroke=\"black\" d=\"M108.72,-143.72C108.93,-125.37 107.65,-95.79 99,-72 95.3,-61.82 89.21,-51.72 83.08,-43.11\"/>\n",
       "<polygon fill=\"black\" stroke=\"black\" points=\"86,-41.17 77.18,-35.3 80.41,-45.39 86,-41.17\"/>\n",
       "</g>\n",
       "<!-- A&#45;&gt;Z -->\n",
       "<g id=\"edge4\" class=\"edge\">\n",
       "<title>A&#45;&gt;Z</title>\n",
       "<path fill=\"none\" stroke=\"black\" d=\"M97.79,-145.12C92.32,-136.61 85.46,-125.94 79.28,-116.32\"/>\n",
       "<polygon fill=\"black\" stroke=\"black\" points=\"82.34,-114.61 73.99,-108.09 76.45,-118.4 82.34,-114.61\"/>\n",
       "</g>\n",
       "</g>\n",
       "</svg>\n"
      ],
      "text/plain": [
       "<graphviz.graphs.Digraph at 0x30f319480>"
      ]
     },
     "execution_count": 47,
     "metadata": {},
     "output_type": "execute_result"
    }
   ],
   "source": [
    "g = gr.Digraph(\"6m3b\", node_attr={\"color\": \"white\"})\n",
    "\n",
    "g.node(\"X\")\n",
    "g.node(\"Y\")\n",
    "g.node(\"Z\")\n",
    "g.node(\"A\")\n",
    "\n",
    "g.edge(\"X\", \"Y\")\n",
    "g.edge(\"X\", \"Z\")\n",
    "g.edge(\"Z\", \"Y\")\n",
    "g.edge(\"A\", \"Z\")\n",
    "g.edge(\"A\", \"Y\")\n",
    "g"
   ]
  },
  {
   "cell_type": "markdown",
   "id": "d34dde35-f8d9-44fa-89a4-ed66b4b7dd9c",
   "metadata": {},
   "source": [
    "c) There are two additional paths from $X$ to $Y$, but only the one through $A$ is a backdoor path.\n",
    "But, this path is already closed because $Z$ is a collider.\n",
    "So we don't need to condition on any variables."
   ]
  },
  {
   "cell_type": "code",
   "execution_count": 48,
   "id": "eb88175d-2589-45d5-8a61-bff16bad38cd",
   "metadata": {
    "tags": []
   },
   "outputs": [
    {
     "data": {
      "image/svg+xml": [
       "<?xml version=\"1.0\" encoding=\"UTF-8\" standalone=\"no\"?>\n",
       "<!DOCTYPE svg PUBLIC \"-//W3C//DTD SVG 1.1//EN\"\n",
       " \"http://www.w3.org/Graphics/SVG/1.1/DTD/svg11.dtd\">\n",
       "<!-- Generated by graphviz version 9.0.0 (20230911.1827)\n",
       " -->\n",
       "<!-- Title: 6m3C Pages: 1 -->\n",
       "<svg width=\"127pt\" height=\"260pt\"\n",
       " viewBox=\"0.00 0.00 127.00 260.00\" xmlns=\"http://www.w3.org/2000/svg\" xmlns:xlink=\"http://www.w3.org/1999/xlink\">\n",
       "<g id=\"graph0\" class=\"graph\" transform=\"scale(1 1) rotate(0) translate(4 256)\">\n",
       "<title>6m3C</title>\n",
       "<polygon fill=\"white\" stroke=\"none\" points=\"-4,4 -4,-256 123,-256 123,4 -4,4\"/>\n",
       "<!-- X -->\n",
       "<g id=\"node1\" class=\"node\">\n",
       "<title>X</title>\n",
       "<ellipse fill=\"none\" stroke=\"white\" cx=\"65\" cy=\"-162\" rx=\"27\" ry=\"18\"/>\n",
       "<text text-anchor=\"middle\" x=\"65\" y=\"-156.95\" font-family=\"Times,serif\" font-size=\"14.00\">X</text>\n",
       "</g>\n",
       "<!-- Y -->\n",
       "<g id=\"node2\" class=\"node\">\n",
       "<title>Y</title>\n",
       "<ellipse fill=\"none\" stroke=\"white\" cx=\"27\" cy=\"-90\" rx=\"27\" ry=\"18\"/>\n",
       "<text text-anchor=\"middle\" x=\"27\" y=\"-84.95\" font-family=\"Times,serif\" font-size=\"14.00\">Y</text>\n",
       "</g>\n",
       "<!-- X&#45;&gt;Y -->\n",
       "<g id=\"edge1\" class=\"edge\">\n",
       "<title>X&#45;&gt;Y</title>\n",
       "<path fill=\"none\" stroke=\"black\" d=\"M56.19,-144.76C51.73,-136.55 46.2,-126.37 41.16,-117.09\"/>\n",
       "<polygon fill=\"black\" stroke=\"black\" points=\"44.33,-115.6 36.49,-108.48 38.18,-118.94 44.33,-115.6\"/>\n",
       "</g>\n",
       "<!-- Z -->\n",
       "<g id=\"node3\" class=\"node\">\n",
       "<title>Z</title>\n",
       "<ellipse fill=\"none\" stroke=\"white\" cx=\"82\" cy=\"-18\" rx=\"27\" ry=\"18\"/>\n",
       "<text text-anchor=\"middle\" x=\"82\" y=\"-12.95\" font-family=\"Times,serif\" font-size=\"14.00\">Z</text>\n",
       "</g>\n",
       "<!-- X&#45;&gt;Z -->\n",
       "<g id=\"edge2\" class=\"edge\">\n",
       "<title>X&#45;&gt;Z</title>\n",
       "<path fill=\"none\" stroke=\"black\" d=\"M67.08,-143.59C69.95,-119.61 75.16,-76.14 78.6,-47.42\"/>\n",
       "<polygon fill=\"black\" stroke=\"black\" points=\"82.06,-47.96 79.77,-37.61 75.11,-47.13 82.06,-47.96\"/>\n",
       "</g>\n",
       "<!-- Y&#45;&gt;Z -->\n",
       "<g id=\"edge3\" class=\"edge\">\n",
       "<title>Y&#45;&gt;Z</title>\n",
       "<path fill=\"none\" stroke=\"black\" d=\"M39.21,-73.46C46.11,-64.67 54.91,-53.48 62.73,-43.53\"/>\n",
       "<polygon fill=\"black\" stroke=\"black\" points=\"65.47,-45.71 68.89,-35.68 59.96,-41.38 65.47,-45.71\"/>\n",
       "</g>\n",
       "<!-- A -->\n",
       "<g id=\"node4\" class=\"node\">\n",
       "<title>A</title>\n",
       "<ellipse fill=\"none\" stroke=\"white\" cx=\"92\" cy=\"-234\" rx=\"27\" ry=\"18\"/>\n",
       "<text text-anchor=\"middle\" x=\"92\" y=\"-228.95\" font-family=\"Times,serif\" font-size=\"14.00\">A</text>\n",
       "</g>\n",
       "<!-- A&#45;&gt;X -->\n",
       "<g id=\"edge4\" class=\"edge\">\n",
       "<title>A&#45;&gt;X</title>\n",
       "<path fill=\"none\" stroke=\"black\" d=\"M85.46,-216.05C82.48,-208.32 78.87,-198.96 75.52,-190.27\"/>\n",
       "<polygon fill=\"black\" stroke=\"black\" points=\"78.88,-189.27 72.02,-181.2 72.35,-191.79 78.88,-189.27\"/>\n",
       "</g>\n",
       "<!-- A&#45;&gt;Z -->\n",
       "<g id=\"edge5\" class=\"edge\">\n",
       "<title>A&#45;&gt;Z</title>\n",
       "<path fill=\"none\" stroke=\"black\" d=\"M95.65,-215.91C97.68,-205.57 99.98,-192.09 101,-180 104.94,-133.25 95.69,-79.11 88.76,-47.04\"/>\n",
       "<polygon fill=\"black\" stroke=\"black\" points=\"92.19,-46.35 86.58,-37.36 85.36,-47.88 92.19,-46.35\"/>\n",
       "</g>\n",
       "</g>\n",
       "</svg>\n"
      ],
      "text/plain": [
       "<graphviz.graphs.Digraph at 0x30f186ec0>"
      ]
     },
     "execution_count": 48,
     "metadata": {},
     "output_type": "execute_result"
    }
   ],
   "source": [
    "g = gr.Digraph(\"6m3c\", node_attr={\"color\": \"white\"})\n",
    "\n",
    "g.node(\"X\")\n",
    "g.node(\"Y\")\n",
    "g.node(\"Z\")\n",
    "g.node(\"A\")\n",
    "\n",
    "g.edge(\"X\", \"Y\")\n",
    "g.edge(\"X\", \"Z\")\n",
    "g.edge(\"Y\", \"Z\")\n",
    "g.edge(\"A\", \"X\")\n",
    "g.edge(\"A\", \"Z\")\n",
    "g"
   ]
  },
  {
   "cell_type": "markdown",
   "id": "d2f7a3e9-2919-4d99-864f-009f556c0b66",
   "metadata": {},
   "source": [
    "d) Everything is the same as in (c), except $Z$ is no longer a collider.\n",
    "So we need to close the path through $A$ by conditioning on $A$."
   ]
  },
  {
   "cell_type": "code",
   "execution_count": 49,
   "id": "46f64a8f-b517-42b6-b320-f8845fb7de30",
   "metadata": {
    "tags": []
   },
   "outputs": [
    {
     "data": {
      "image/svg+xml": [
       "<?xml version=\"1.0\" encoding=\"UTF-8\" standalone=\"no\"?>\n",
       "<!DOCTYPE svg PUBLIC \"-//W3C//DTD SVG 1.1//EN\"\n",
       " \"http://www.w3.org/Graphics/SVG/1.1/DTD/svg11.dtd\">\n",
       "<!-- Generated by graphviz version 9.0.0 (20230911.1827)\n",
       " -->\n",
       "<!-- Title: 6m3d Pages: 1 -->\n",
       "<svg width=\"117pt\" height=\"260pt\"\n",
       " viewBox=\"0.00 0.00 117.00 260.00\" xmlns=\"http://www.w3.org/2000/svg\" xmlns:xlink=\"http://www.w3.org/1999/xlink\">\n",
       "<g id=\"graph0\" class=\"graph\" transform=\"scale(1 1) rotate(0) translate(4 256)\">\n",
       "<title>6m3d</title>\n",
       "<polygon fill=\"white\" stroke=\"none\" points=\"-4,4 -4,-256 113,-256 113,4 -4,4\"/>\n",
       "<!-- X -->\n",
       "<g id=\"node1\" class=\"node\">\n",
       "<title>X</title>\n",
       "<ellipse fill=\"none\" stroke=\"white\" cx=\"27\" cy=\"-162\" rx=\"27\" ry=\"18\"/>\n",
       "<text text-anchor=\"middle\" x=\"27\" y=\"-156.95\" font-family=\"Times,serif\" font-size=\"14.00\">X</text>\n",
       "</g>\n",
       "<!-- Y -->\n",
       "<g id=\"node2\" class=\"node\">\n",
       "<title>Y</title>\n",
       "<ellipse fill=\"none\" stroke=\"white\" cx=\"54\" cy=\"-18\" rx=\"27\" ry=\"18\"/>\n",
       "<text text-anchor=\"middle\" x=\"54\" y=\"-12.95\" font-family=\"Times,serif\" font-size=\"14.00\">Y</text>\n",
       "</g>\n",
       "<!-- X&#45;&gt;Y -->\n",
       "<g id=\"edge1\" class=\"edge\">\n",
       "<title>X&#45;&gt;Y</title>\n",
       "<path fill=\"none\" stroke=\"black\" d=\"M30.26,-143.87C34.82,-119.88 43.16,-75.99 48.65,-47.16\"/>\n",
       "<polygon fill=\"black\" stroke=\"black\" points=\"52.02,-48.15 50.45,-37.68 45.14,-46.85 52.02,-48.15\"/>\n",
       "</g>\n",
       "<!-- Z -->\n",
       "<g id=\"node3\" class=\"node\">\n",
       "<title>Z</title>\n",
       "<ellipse fill=\"none\" stroke=\"white\" cx=\"82\" cy=\"-90\" rx=\"27\" ry=\"18\"/>\n",
       "<text text-anchor=\"middle\" x=\"82\" y=\"-84.95\" font-family=\"Times,serif\" font-size=\"14.00\">Z</text>\n",
       "</g>\n",
       "<!-- X&#45;&gt;Z -->\n",
       "<g id=\"edge2\" class=\"edge\">\n",
       "<title>X&#45;&gt;Z</title>\n",
       "<path fill=\"none\" stroke=\"black\" d=\"M39.21,-145.46C46.11,-136.67 54.91,-125.48 62.73,-115.53\"/>\n",
       "<polygon fill=\"black\" stroke=\"black\" points=\"65.47,-117.71 68.89,-107.68 59.96,-113.38 65.47,-117.71\"/>\n",
       "</g>\n",
       "<!-- Z&#45;&gt;Y -->\n",
       "<g id=\"edge3\" class=\"edge\">\n",
       "<title>Z&#45;&gt;Y</title>\n",
       "<path fill=\"none\" stroke=\"black\" d=\"M75.36,-72.41C72.23,-64.57 68.4,-54.99 64.85,-46.13\"/>\n",
       "<polygon fill=\"black\" stroke=\"black\" points=\"68.11,-44.86 61.15,-36.88 61.61,-47.46 68.11,-44.86\"/>\n",
       "</g>\n",
       "<!-- A -->\n",
       "<g id=\"node4\" class=\"node\">\n",
       "<title>A</title>\n",
       "<ellipse fill=\"none\" stroke=\"white\" cx=\"54\" cy=\"-234\" rx=\"27\" ry=\"18\"/>\n",
       "<text text-anchor=\"middle\" x=\"54\" y=\"-228.95\" font-family=\"Times,serif\" font-size=\"14.00\">A</text>\n",
       "</g>\n",
       "<!-- A&#45;&gt;X -->\n",
       "<g id=\"edge4\" class=\"edge\">\n",
       "<title>A&#45;&gt;X</title>\n",
       "<path fill=\"none\" stroke=\"black\" d=\"M47.46,-216.05C44.48,-208.32 40.87,-198.96 37.52,-190.27\"/>\n",
       "<polygon fill=\"black\" stroke=\"black\" points=\"40.88,-189.27 34.02,-181.2 34.35,-191.79 40.88,-189.27\"/>\n",
       "</g>\n",
       "<!-- A&#45;&gt;Z -->\n",
       "<g id=\"edge5\" class=\"edge\">\n",
       "<title>A&#45;&gt;Z</title>\n",
       "<path fill=\"none\" stroke=\"black\" d=\"M57.38,-215.87C62.11,-191.88 70.76,-147.99 76.45,-119.16\"/>\n",
       "<polygon fill=\"black\" stroke=\"black\" points=\"79.82,-120.16 78.32,-109.67 72.95,-118.81 79.82,-120.16\"/>\n",
       "</g>\n",
       "</g>\n",
       "</svg>\n"
      ],
      "text/plain": [
       "<graphviz.graphs.Digraph at 0x30f31b460>"
      ]
     },
     "execution_count": 49,
     "metadata": {},
     "output_type": "execute_result"
    }
   ],
   "source": [
    "g = gr.Digraph(\"6m3d\", node_attr={\"color\": \"white\"})\n",
    "\n",
    "g.node(\"X\")\n",
    "g.node(\"Y\")\n",
    "g.node(\"Z\")\n",
    "g.node(\"A\")\n",
    "\n",
    "g.edge(\"X\", \"Y\")\n",
    "g.edge(\"X\", \"Z\")\n",
    "g.edge(\"Z\", \"Y\")\n",
    "g.edge(\"A\", \"X\")\n",
    "g.edge(\"A\", \"Z\")\n",
    "g"
   ]
  },
  {
   "cell_type": "markdown",
   "id": "4e906ef6-a2b7-4691-9c79-71ef460b8346",
   "metadata": {},
   "source": [
    "## Hard"
   ]
  },
  {
   "cell_type": "code",
   "execution_count": null,
   "id": "99fa6b0c-7dc3-4081-9812-c285d5a26cab",
   "metadata": {},
   "outputs": [],
   "source": []
  }
 ],
 "metadata": {
  "kernelspec": {
   "display_name": "Python 3 (ipykernel)",
   "language": "python",
   "name": "python3"
  },
  "language_info": {
   "codemirror_mode": {
    "name": "ipython",
    "version": 3
   },
   "file_extension": ".py",
   "mimetype": "text/x-python",
   "name": "python",
   "nbconvert_exporter": "python",
   "pygments_lexer": "ipython3",
   "version": "3.10.13"
  }
 },
 "nbformat": 4,
 "nbformat_minor": 5
}
