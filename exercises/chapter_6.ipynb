{
 "cells": [
  {
   "cell_type": "markdown",
   "id": "1db305d7-3f18-43b8-a961-0cfa79284639",
   "metadata": {},
   "source": [
    "# Chapter 6 - Exercises"
   ]
  },
  {
   "cell_type": "markdown",
   "id": "94f80642-11b4-4bf5-a263-32b920a92b72",
   "metadata": {},
   "source": [
    "## Set Up"
   ]
  },
  {
   "cell_type": "markdown",
   "id": "eae63e7c-cc00-481d-beab-b3588fe3c7f9",
   "metadata": {},
   "source": [
    "### Packages"
   ]
  },
  {
   "cell_type": "code",
   "execution_count": 1,
   "id": "f27e73b3-2186-43cf-b7ce-35a80ce058ea",
   "metadata": {
    "tags": []
   },
   "outputs": [
    {
     "name": "stderr",
     "output_type": "stream",
     "text": [
      "WARNING (pytensor.tensor.blas): Using NumPy C-API based implementation for BLAS functions.\n"
     ]
    }
   ],
   "source": [
    "import os\n",
    "\n",
    "import arviz as az\n",
    "import graphviz as gr\n",
    "import matplotlib.pyplot as plt\n",
    "import numpy as np\n",
    "import pandas as pd\n",
    "import pymc as pm\n",
    "import seaborn as sns\n",
    "import xarray as xr\n",
    "from numpy.polynomial import polynomial as poly\n",
    "from scipy import stats\n",
    "from scipy.special import expit, logit, logsumexp, softmax\n",
    "from sklearn.preprocessing import StandardScaler"
   ]
  },
  {
   "cell_type": "markdown",
   "id": "ed7f5cae-1e85-4013-878e-78ce3b9de9ce",
   "metadata": {},
   "source": [
    "### Defaults"
   ]
  },
  {
   "cell_type": "code",
   "execution_count": 2,
   "id": "f61fe68b-59fc-4915-90e0-1e4a4d8f7a6a",
   "metadata": {
    "tags": []
   },
   "outputs": [],
   "source": [
    "# seaborn defaults\n",
    "sns.set(\n",
    "    style=\"whitegrid\",\n",
    "    font_scale=1.2,\n",
    "    rc={\n",
    "        \"axes.edgecolor\": \"0\",\n",
    "        \"axes.grid.which\": \"both\",\n",
    "        \"axes.labelcolor\": \"0\",\n",
    "        \"axes.spines.right\": False,\n",
    "        \"axes.spines.top\": False,\n",
    "        \"xtick.bottom\": True,\n",
    "        \"ytick.left\": True,\n",
    "    },\n",
    ")\n",
    "\n",
    "colors = sns.color_palette()"
   ]
  },
  {
   "cell_type": "markdown",
   "id": "629d545d-8886-40e4-b6b6-52d52d50e5af",
   "metadata": {},
   "source": [
    "### Constants"
   ]
  },
  {
   "cell_type": "code",
   "execution_count": 3,
   "id": "4a09aea4-58d5-44f5-9267-160437fb6d0d",
   "metadata": {
    "tags": []
   },
   "outputs": [],
   "source": [
    "DATA_DIR = \"../data\"\n",
    "HOWELL_FILE = \"howell.csv\"\n",
    "CHERRY_BLOSSOMS_FILE = \"cherry_blossoms.csv\"\n",
    "WAFFLE_DIVORCE_FILE = \"waffle_divorce.csv\"\n",
    "MILK_FILE = \"milk.csv\"\n",
    "CHIMPANZEES_FILE = \"chimpanzees.csv\"\n",
    "ADMISSIONS_FILE = \"ucbadmit.csv\"\n",
    "KLINE_FILE = \"kline.csv\"\n",
    "REEDFROGS_FILE = \"reedfrogs.csv\"\n",
    "CARS_FILE = \"cars.csv\"\n",
    "\n",
    "RANDOM_SEED = 42"
   ]
  },
  {
   "cell_type": "code",
   "execution_count": 4,
   "id": "ebbac1ab-add4-4555-962f-e4a500b084a0",
   "metadata": {
    "tags": []
   },
   "outputs": [],
   "source": [
    "def load_data(file_name, data_dir=DATA_DIR, **kwargs):\n",
    "    path = os.path.join(data_dir, file_name)\n",
    "    return pd.read_csv(path, **kwargs)"
   ]
  },
  {
   "cell_type": "markdown",
   "id": "134f5d9d-208e-430c-b7b2-dd43bb7f1650",
   "metadata": {},
   "source": [
    "## Easy"
   ]
  },
  {
   "cell_type": "markdown",
   "id": "1b10c3c3-3f55-484c-b99d-828bc94658ae",
   "metadata": {},
   "source": [
    "### 6E1\n",
    "\n",
    "List three mechanisms by which multiple regression can product false inferences about causal effects.\n",
    "\n",
    "---"
   ]
  },
  {
   "cell_type": "markdown",
   "id": "4fcf0c7b-ebd7-419e-a0e9-47d3f295667f",
   "metadata": {},
   "source": [
    "**Multicollinearity:** If two predictors have correlation, conditional on the target.\n",
    "In this case, each individual predictor may help in predicting the outcome, but neither helps as much once you know the other.\n",
    "This can make the coefficients non-identifiable and frustrate inference.\n",
    "\n",
    "**Collider bias:** If two, unrelated, variables $X$ and $Y$ have a causal effect on a third $Z$, then conditioning on $Z$ can induce associations between $X$ and $Y$.\n",
    "This is sometimes known as Berkson's paradox.\n",
    "\n",
    "**Post-treatment bias:** Conditioning on a variable downstream of the variable of interest can frustrate the causal inference.\n",
    "For example, if we want to understand the causal effect of an individual's parents' income on life expectancy, then conditioning on the individual's income might lead us to believe that parents' income has no causal effect.\n",
    "But, this is disregarding the causal effect of parents' income on individual income."
   ]
  },
  {
   "cell_type": "markdown",
   "id": "1a75a987-c90f-4d9f-8f1f-0df662cd31dd",
   "metadata": {},
   "source": [
    "### 6E2\n",
    "For one of the mechanisms in the previous problem, provide an example of your choice, perhaps from your own research.\n",
    "\n",
    "---"
   ]
  },
  {
   "cell_type": "markdown",
   "id": "3e3ccb09-4a22-4180-8924-c7618b21811d",
   "metadata": {},
   "source": [
    "Among companies we mail, there is an inverse relationship between probability of sign-up and probability of funding.\n",
    "However, this may not be a general association.\n",
    "We select companies to mail based on an ROI threshold, so for us to have mailed a company with a low (predicted) probability of sign-up, it must have had a high (predicted) probability of funding."
   ]
  },
  {
   "cell_type": "markdown",
   "id": "65f650d8-22e2-46d2-8c58-43c99e5a6fed",
   "metadata": {},
   "source": [
    "### 6E3\n",
    "List the four elemental confounds.\n",
    "Can you explain the conditional dependencies of each?\n",
    "\n",
    "---"
   ]
  },
  {
   "cell_type": "markdown",
   "id": "bccc528a-1a53-432a-9c37-cb237cd26fe9",
   "metadata": {},
   "source": [
    "**The fork:** $X$ and $Y$ are independent conditional on $Z$."
   ]
  },
  {
   "cell_type": "code",
   "execution_count": 5,
   "id": "41066e09-0406-4567-ae28-d2678323408b",
   "metadata": {
    "tags": []
   },
   "outputs": [
    {
     "data": {
      "image/svg+xml": [
       "<?xml version=\"1.0\" encoding=\"UTF-8\" standalone=\"no\"?>\n",
       "<!DOCTYPE svg PUBLIC \"-//W3C//DTD SVG 1.1//EN\"\n",
       " \"http://www.w3.org/Graphics/SVG/1.1/DTD/svg11.dtd\">\n",
       "<!-- Generated by graphviz version 9.0.0 (20230911.1827)\n",
       " -->\n",
       "<!-- Title: fork Pages: 1 -->\n",
       "<svg width=\"134pt\" height=\"116pt\"\n",
       " viewBox=\"0.00 0.00 134.00 116.00\" xmlns=\"http://www.w3.org/2000/svg\" xmlns:xlink=\"http://www.w3.org/1999/xlink\">\n",
       "<g id=\"graph0\" class=\"graph\" transform=\"scale(1 1) rotate(0) translate(4 112)\">\n",
       "<title>fork</title>\n",
       "<polygon fill=\"white\" stroke=\"none\" points=\"-4,4 -4,-112 130,-112 130,4 -4,4\"/>\n",
       "<!-- X -->\n",
       "<g id=\"node1\" class=\"node\">\n",
       "<title>X</title>\n",
       "<ellipse fill=\"none\" stroke=\"white\" cx=\"27\" cy=\"-18\" rx=\"27\" ry=\"18\"/>\n",
       "<text text-anchor=\"middle\" x=\"27\" y=\"-12.95\" font-family=\"Times,serif\" font-size=\"14.00\">X</text>\n",
       "</g>\n",
       "<!-- Z -->\n",
       "<g id=\"node2\" class=\"node\">\n",
       "<title>Z</title>\n",
       "<ellipse fill=\"none\" stroke=\"white\" cx=\"63\" cy=\"-90\" rx=\"27\" ry=\"18\"/>\n",
       "<text text-anchor=\"middle\" x=\"63\" y=\"-84.95\" font-family=\"Times,serif\" font-size=\"14.00\">Z</text>\n",
       "</g>\n",
       "<!-- Z&#45;&gt;X -->\n",
       "<g id=\"edge1\" class=\"edge\">\n",
       "<title>Z&#45;&gt;X</title>\n",
       "<path fill=\"none\" stroke=\"black\" d=\"M54.65,-72.76C50.42,-64.55 45.19,-54.37 40.42,-45.09\"/>\n",
       "<polygon fill=\"black\" stroke=\"black\" points=\"43.68,-43.79 36,-36.49 37.46,-46.99 43.68,-43.79\"/>\n",
       "</g>\n",
       "<!-- Y -->\n",
       "<g id=\"node3\" class=\"node\">\n",
       "<title>Y</title>\n",
       "<ellipse fill=\"none\" stroke=\"white\" cx=\"99\" cy=\"-18\" rx=\"27\" ry=\"18\"/>\n",
       "<text text-anchor=\"middle\" x=\"99\" y=\"-12.95\" font-family=\"Times,serif\" font-size=\"14.00\">Y</text>\n",
       "</g>\n",
       "<!-- Z&#45;&gt;Y -->\n",
       "<g id=\"edge2\" class=\"edge\">\n",
       "<title>Z&#45;&gt;Y</title>\n",
       "<path fill=\"none\" stroke=\"black\" d=\"M71.35,-72.76C75.58,-64.55 80.81,-54.37 85.58,-45.09\"/>\n",
       "<polygon fill=\"black\" stroke=\"black\" points=\"88.54,-46.99 90,-36.49 82.32,-43.79 88.54,-46.99\"/>\n",
       "</g>\n",
       "</g>\n",
       "</svg>\n"
      ],
      "text/plain": [
       "<graphviz.graphs.Digraph at 0x107f1b1f0>"
      ]
     },
     "execution_count": 5,
     "metadata": {},
     "output_type": "execute_result"
    }
   ],
   "source": [
    "g = gr.Digraph(\"fork\", node_attr={\"color\": \"white\"})\n",
    "\n",
    "g.node(\"X\")\n",
    "g.node(\"Z\")\n",
    "g.node(\"Y\")\n",
    "\n",
    "g.edge(\"Z\", \"X\")\n",
    "g.edge(\"Z\", \"Y\")\n",
    "g"
   ]
  },
  {
   "cell_type": "markdown",
   "id": "a62282c7-4a65-4891-bd78-2b83fb2375d5",
   "metadata": {},
   "source": [
    "**The pipe:** $X$ and $Y$ are independent conditional on $Z$."
   ]
  },
  {
   "cell_type": "code",
   "execution_count": 6,
   "id": "bd34dbbe-1718-4764-8499-e11db35f78ec",
   "metadata": {
    "tags": []
   },
   "outputs": [
    {
     "data": {
      "image/svg+xml": [
       "<?xml version=\"1.0\" encoding=\"UTF-8\" standalone=\"no\"?>\n",
       "<!DOCTYPE svg PUBLIC \"-//W3C//DTD SVG 1.1//EN\"\n",
       " \"http://www.w3.org/Graphics/SVG/1.1/DTD/svg11.dtd\">\n",
       "<!-- Generated by graphviz version 9.0.0 (20230911.1827)\n",
       " -->\n",
       "<!-- Title: fork Pages: 1 -->\n",
       "<svg width=\"62pt\" height=\"188pt\"\n",
       " viewBox=\"0.00 0.00 62.00 188.00\" xmlns=\"http://www.w3.org/2000/svg\" xmlns:xlink=\"http://www.w3.org/1999/xlink\">\n",
       "<g id=\"graph0\" class=\"graph\" transform=\"scale(1 1) rotate(0) translate(4 184)\">\n",
       "<title>fork</title>\n",
       "<polygon fill=\"white\" stroke=\"none\" points=\"-4,4 -4,-184 58,-184 58,4 -4,4\"/>\n",
       "<!-- X -->\n",
       "<g id=\"node1\" class=\"node\">\n",
       "<title>X</title>\n",
       "<ellipse fill=\"none\" stroke=\"white\" cx=\"27\" cy=\"-162\" rx=\"27\" ry=\"18\"/>\n",
       "<text text-anchor=\"middle\" x=\"27\" y=\"-156.95\" font-family=\"Times,serif\" font-size=\"14.00\">X</text>\n",
       "</g>\n",
       "<!-- Z -->\n",
       "<g id=\"node2\" class=\"node\">\n",
       "<title>Z</title>\n",
       "<ellipse fill=\"none\" stroke=\"white\" cx=\"27\" cy=\"-90\" rx=\"27\" ry=\"18\"/>\n",
       "<text text-anchor=\"middle\" x=\"27\" y=\"-84.95\" font-family=\"Times,serif\" font-size=\"14.00\">Z</text>\n",
       "</g>\n",
       "<!-- X&#45;&gt;Z -->\n",
       "<g id=\"edge1\" class=\"edge\">\n",
       "<title>X&#45;&gt;Z</title>\n",
       "<path fill=\"none\" stroke=\"black\" d=\"M27,-143.7C27,-136.41 27,-127.73 27,-119.54\"/>\n",
       "<polygon fill=\"black\" stroke=\"black\" points=\"30.5,-119.62 27,-109.62 23.5,-119.62 30.5,-119.62\"/>\n",
       "</g>\n",
       "<!-- Y -->\n",
       "<g id=\"node3\" class=\"node\">\n",
       "<title>Y</title>\n",
       "<ellipse fill=\"none\" stroke=\"white\" cx=\"27\" cy=\"-18\" rx=\"27\" ry=\"18\"/>\n",
       "<text text-anchor=\"middle\" x=\"27\" y=\"-12.95\" font-family=\"Times,serif\" font-size=\"14.00\">Y</text>\n",
       "</g>\n",
       "<!-- Z&#45;&gt;Y -->\n",
       "<g id=\"edge2\" class=\"edge\">\n",
       "<title>Z&#45;&gt;Y</title>\n",
       "<path fill=\"none\" stroke=\"black\" d=\"M27,-71.7C27,-64.41 27,-55.73 27,-47.54\"/>\n",
       "<polygon fill=\"black\" stroke=\"black\" points=\"30.5,-47.62 27,-37.62 23.5,-47.62 30.5,-47.62\"/>\n",
       "</g>\n",
       "</g>\n",
       "</svg>\n"
      ],
      "text/plain": [
       "<graphviz.graphs.Digraph at 0x16730f010>"
      ]
     },
     "execution_count": 6,
     "metadata": {},
     "output_type": "execute_result"
    }
   ],
   "source": [
    "g = gr.Digraph(\"fork\", node_attr={\"color\": \"white\"})\n",
    "\n",
    "g.node(\"X\")\n",
    "g.node(\"Z\")\n",
    "g.node(\"Y\")\n",
    "\n",
    "g.edge(\"X\", \"Z\")\n",
    "g.edge(\"Z\", \"Y\")\n",
    "g"
   ]
  },
  {
   "cell_type": "markdown",
   "id": "b06b276f-62f1-4602-884c-02bfec0d9c1f",
   "metadata": {},
   "source": [
    "**The collider:** $X$ and $Y$ are independent, but conditioning on $Z$ may induce association between them."
   ]
  },
  {
   "cell_type": "code",
   "execution_count": 7,
   "id": "4dc5d56b-50e7-4ca8-9a4d-e0bc9b66d176",
   "metadata": {
    "tags": []
   },
   "outputs": [
    {
     "data": {
      "image/svg+xml": [
       "<?xml version=\"1.0\" encoding=\"UTF-8\" standalone=\"no\"?>\n",
       "<!DOCTYPE svg PUBLIC \"-//W3C//DTD SVG 1.1//EN\"\n",
       " \"http://www.w3.org/Graphics/SVG/1.1/DTD/svg11.dtd\">\n",
       "<!-- Generated by graphviz version 9.0.0 (20230911.1827)\n",
       " -->\n",
       "<!-- Title: fork Pages: 1 -->\n",
       "<svg width=\"134pt\" height=\"116pt\"\n",
       " viewBox=\"0.00 0.00 134.00 116.00\" xmlns=\"http://www.w3.org/2000/svg\" xmlns:xlink=\"http://www.w3.org/1999/xlink\">\n",
       "<g id=\"graph0\" class=\"graph\" transform=\"scale(1 1) rotate(0) translate(4 112)\">\n",
       "<title>fork</title>\n",
       "<polygon fill=\"white\" stroke=\"none\" points=\"-4,4 -4,-112 130,-112 130,4 -4,4\"/>\n",
       "<!-- X -->\n",
       "<g id=\"node1\" class=\"node\">\n",
       "<title>X</title>\n",
       "<ellipse fill=\"none\" stroke=\"white\" cx=\"27\" cy=\"-90\" rx=\"27\" ry=\"18\"/>\n",
       "<text text-anchor=\"middle\" x=\"27\" y=\"-84.95\" font-family=\"Times,serif\" font-size=\"14.00\">X</text>\n",
       "</g>\n",
       "<!-- Z -->\n",
       "<g id=\"node2\" class=\"node\">\n",
       "<title>Z</title>\n",
       "<ellipse fill=\"none\" stroke=\"white\" cx=\"63\" cy=\"-18\" rx=\"27\" ry=\"18\"/>\n",
       "<text text-anchor=\"middle\" x=\"63\" y=\"-12.95\" font-family=\"Times,serif\" font-size=\"14.00\">Z</text>\n",
       "</g>\n",
       "<!-- X&#45;&gt;Z -->\n",
       "<g id=\"edge1\" class=\"edge\">\n",
       "<title>X&#45;&gt;Z</title>\n",
       "<path fill=\"none\" stroke=\"black\" d=\"M35.35,-72.76C39.58,-64.55 44.81,-54.37 49.58,-45.09\"/>\n",
       "<polygon fill=\"black\" stroke=\"black\" points=\"52.54,-46.99 54,-36.49 46.32,-43.79 52.54,-46.99\"/>\n",
       "</g>\n",
       "<!-- Y -->\n",
       "<g id=\"node3\" class=\"node\">\n",
       "<title>Y</title>\n",
       "<ellipse fill=\"none\" stroke=\"white\" cx=\"99\" cy=\"-90\" rx=\"27\" ry=\"18\"/>\n",
       "<text text-anchor=\"middle\" x=\"99\" y=\"-84.95\" font-family=\"Times,serif\" font-size=\"14.00\">Y</text>\n",
       "</g>\n",
       "<!-- Y&#45;&gt;Z -->\n",
       "<g id=\"edge2\" class=\"edge\">\n",
       "<title>Y&#45;&gt;Z</title>\n",
       "<path fill=\"none\" stroke=\"black\" d=\"M90.65,-72.76C86.42,-64.55 81.19,-54.37 76.42,-45.09\"/>\n",
       "<polygon fill=\"black\" stroke=\"black\" points=\"79.68,-43.79 72,-36.49 73.46,-46.99 79.68,-43.79\"/>\n",
       "</g>\n",
       "</g>\n",
       "</svg>\n"
      ],
      "text/plain": [
       "<graphviz.graphs.Digraph at 0x16730ea10>"
      ]
     },
     "execution_count": 7,
     "metadata": {},
     "output_type": "execute_result"
    }
   ],
   "source": [
    "g = gr.Digraph(\"fork\", node_attr={\"color\": \"white\"})\n",
    "\n",
    "g.node(\"X\")\n",
    "g.node(\"Z\")\n",
    "g.node(\"Y\")\n",
    "\n",
    "g.edge(\"X\", \"Z\")\n",
    "g.edge(\"Y\", \"Z\")\n",
    "g"
   ]
  },
  {
   "cell_type": "markdown",
   "id": "afd74bf3-5d41-4a8d-93c2-eab30ad306e3",
   "metadata": {},
   "source": [
    "**The descendant:** $X$ and $Y$ are independent, but conditioning on $D$ may induce association (depending its relationship with $Z$)."
   ]
  },
  {
   "cell_type": "code",
   "execution_count": 8,
   "id": "988d6b64-2b75-4d18-aeec-a5779a3865e4",
   "metadata": {
    "tags": []
   },
   "outputs": [
    {
     "data": {
      "image/svg+xml": [
       "<?xml version=\"1.0\" encoding=\"UTF-8\" standalone=\"no\"?>\n",
       "<!DOCTYPE svg PUBLIC \"-//W3C//DTD SVG 1.1//EN\"\n",
       " \"http://www.w3.org/Graphics/SVG/1.1/DTD/svg11.dtd\">\n",
       "<!-- Generated by graphviz version 9.0.0 (20230911.1827)\n",
       " -->\n",
       "<!-- Title: fork Pages: 1 -->\n",
       "<svg width=\"134pt\" height=\"188pt\"\n",
       " viewBox=\"0.00 0.00 134.00 188.00\" xmlns=\"http://www.w3.org/2000/svg\" xmlns:xlink=\"http://www.w3.org/1999/xlink\">\n",
       "<g id=\"graph0\" class=\"graph\" transform=\"scale(1 1) rotate(0) translate(4 184)\">\n",
       "<title>fork</title>\n",
       "<polygon fill=\"white\" stroke=\"none\" points=\"-4,4 -4,-184 130,-184 130,4 -4,4\"/>\n",
       "<!-- X -->\n",
       "<g id=\"node1\" class=\"node\">\n",
       "<title>X</title>\n",
       "<ellipse fill=\"none\" stroke=\"white\" cx=\"27\" cy=\"-162\" rx=\"27\" ry=\"18\"/>\n",
       "<text text-anchor=\"middle\" x=\"27\" y=\"-156.95\" font-family=\"Times,serif\" font-size=\"14.00\">X</text>\n",
       "</g>\n",
       "<!-- Z -->\n",
       "<g id=\"node2\" class=\"node\">\n",
       "<title>Z</title>\n",
       "<ellipse fill=\"none\" stroke=\"white\" cx=\"63\" cy=\"-90\" rx=\"27\" ry=\"18\"/>\n",
       "<text text-anchor=\"middle\" x=\"63\" y=\"-84.95\" font-family=\"Times,serif\" font-size=\"14.00\">Z</text>\n",
       "</g>\n",
       "<!-- X&#45;&gt;Z -->\n",
       "<g id=\"edge1\" class=\"edge\">\n",
       "<title>X&#45;&gt;Z</title>\n",
       "<path fill=\"none\" stroke=\"black\" d=\"M35.35,-144.76C39.58,-136.55 44.81,-126.37 49.58,-117.09\"/>\n",
       "<polygon fill=\"black\" stroke=\"black\" points=\"52.54,-118.99 54,-108.49 46.32,-115.79 52.54,-118.99\"/>\n",
       "</g>\n",
       "<!-- D -->\n",
       "<g id=\"node4\" class=\"node\">\n",
       "<title>D</title>\n",
       "<ellipse fill=\"none\" stroke=\"white\" cx=\"63\" cy=\"-18\" rx=\"27\" ry=\"18\"/>\n",
       "<text text-anchor=\"middle\" x=\"63\" y=\"-12.95\" font-family=\"Times,serif\" font-size=\"14.00\">D</text>\n",
       "</g>\n",
       "<!-- Z&#45;&gt;D -->\n",
       "<g id=\"edge3\" class=\"edge\">\n",
       "<title>Z&#45;&gt;D</title>\n",
       "<path fill=\"none\" stroke=\"black\" d=\"M63,-71.7C63,-64.41 63,-55.73 63,-47.54\"/>\n",
       "<polygon fill=\"black\" stroke=\"black\" points=\"66.5,-47.62 63,-37.62 59.5,-47.62 66.5,-47.62\"/>\n",
       "</g>\n",
       "<!-- Y -->\n",
       "<g id=\"node3\" class=\"node\">\n",
       "<title>Y</title>\n",
       "<ellipse fill=\"none\" stroke=\"white\" cx=\"99\" cy=\"-162\" rx=\"27\" ry=\"18\"/>\n",
       "<text text-anchor=\"middle\" x=\"99\" y=\"-156.95\" font-family=\"Times,serif\" font-size=\"14.00\">Y</text>\n",
       "</g>\n",
       "<!-- Y&#45;&gt;Z -->\n",
       "<g id=\"edge2\" class=\"edge\">\n",
       "<title>Y&#45;&gt;Z</title>\n",
       "<path fill=\"none\" stroke=\"black\" d=\"M90.65,-144.76C86.42,-136.55 81.19,-126.37 76.42,-117.09\"/>\n",
       "<polygon fill=\"black\" stroke=\"black\" points=\"79.68,-115.79 72,-108.49 73.46,-118.99 79.68,-115.79\"/>\n",
       "</g>\n",
       "</g>\n",
       "</svg>\n"
      ],
      "text/plain": [
       "<graphviz.graphs.Digraph at 0x16730ee60>"
      ]
     },
     "execution_count": 8,
     "metadata": {},
     "output_type": "execute_result"
    }
   ],
   "source": [
    "g = gr.Digraph(\"fork\", node_attr={\"color\": \"white\"})\n",
    "\n",
    "g.node(\"X\")\n",
    "g.node(\"Z\")\n",
    "g.node(\"Y\")\n",
    "g.node(\"D\")\n",
    "\n",
    "g.edge(\"X\", \"Z\")\n",
    "g.edge(\"Y\", \"Z\")\n",
    "g.edge(\"Z\", \"D\")\n",
    "g"
   ]
  },
  {
   "cell_type": "markdown",
   "id": "aabf9796-fd59-4a99-af79-8a9fabed050a",
   "metadata": {},
   "source": [
    "### 6E4\n",
    "How is a biased sample like conditioning on a collider?\n",
    "Think of the example at the opening of the chapter.\n",
    "\n",
    "---"
   ]
  },
  {
   "cell_type": "markdown",
   "id": "42089b55-8327-43dc-b045-3a1914549a70",
   "metadata": {},
   "source": [
    "Conditioning on a collider is like restricting attention to the subsample where the collider takes a particular value.\n",
    "If the values of the collider are affected by the other two variables, then this is equivalent to selecting for certain (joint) values of those variables.\n",
    "This is equivalent to selecting a biased (sub)sample."
   ]
  },
  {
   "cell_type": "markdown",
   "id": "8b105392-c09c-4079-a483-c4b21b4d3da2",
   "metadata": {},
   "source": [
    "## Medium"
   ]
  },
  {
   "cell_type": "markdown",
   "id": "3de3155d-ff18-456a-be1b-a53cff981844",
   "metadata": {},
   "source": [
    "### 6M1\n",
    "Modify the DAG on page 186 to include the variable $V$, an unobserved cause of $C$ and $Y$: $C \\leftarrow V \\rightarrow Y$.\n",
    "Reanalyze the DAG.\n",
    "How many paths connect $X$ to $Y$?\n",
    "Which must be closed?\n",
    "Which variables should you condition on now?\n",
    "\n",
    "---"
   ]
  },
  {
   "cell_type": "markdown",
   "id": "5b1c9a0c-cafa-4532-aca9-e7d235016fe3",
   "metadata": {},
   "source": [
    "Let's redraw the DAG."
   ]
  },
  {
   "cell_type": "code",
   "execution_count": 9,
   "id": "a404f185-4dd8-42db-b511-332138660875",
   "metadata": {
    "tags": []
   },
   "outputs": [
    {
     "data": {
      "image/svg+xml": [
       "<?xml version=\"1.0\" encoding=\"UTF-8\" standalone=\"no\"?>\n",
       "<!DOCTYPE svg PUBLIC \"-//W3C//DTD SVG 1.1//EN\"\n",
       " \"http://www.w3.org/Graphics/SVG/1.1/DTD/svg11.dtd\">\n",
       "<!-- Generated by graphviz version 9.0.0 (20230911.1827)\n",
       " -->\n",
       "<!-- Title: 6m1 Pages: 1 -->\n",
       "<svg width=\"200pt\" height=\"260pt\"\n",
       " viewBox=\"0.00 0.00 200.00 260.00\" xmlns=\"http://www.w3.org/2000/svg\" xmlns:xlink=\"http://www.w3.org/1999/xlink\">\n",
       "<g id=\"graph0\" class=\"graph\" transform=\"scale(1 1) rotate(0) translate(4 256)\">\n",
       "<title>6m1</title>\n",
       "<polygon fill=\"white\" stroke=\"none\" points=\"-4,4 -4,-256 196,-256 196,4 -4,4\"/>\n",
       "<!-- X -->\n",
       "<g id=\"node1\" class=\"node\">\n",
       "<title>X</title>\n",
       "<ellipse fill=\"none\" stroke=\"white\" cx=\"165\" cy=\"-90\" rx=\"27\" ry=\"18\"/>\n",
       "<text text-anchor=\"middle\" x=\"165\" y=\"-84.95\" font-family=\"Times,serif\" font-size=\"14.00\">X</text>\n",
       "</g>\n",
       "<!-- Y -->\n",
       "<g id=\"node2\" class=\"node\">\n",
       "<title>Y</title>\n",
       "<ellipse fill=\"none\" stroke=\"white\" cx=\"38\" cy=\"-18\" rx=\"27\" ry=\"18\"/>\n",
       "<text text-anchor=\"middle\" x=\"38\" y=\"-12.95\" font-family=\"Times,serif\" font-size=\"14.00\">Y</text>\n",
       "</g>\n",
       "<!-- X&#45;&gt;Y -->\n",
       "<g id=\"edge1\" class=\"edge\">\n",
       "<title>X&#45;&gt;Y</title>\n",
       "<path fill=\"none\" stroke=\"black\" d=\"M144.6,-77.75C123.95,-66.37 91.8,-48.65 68.2,-35.65\"/>\n",
       "<polygon fill=\"black\" stroke=\"black\" points=\"70.13,-32.71 59.68,-30.95 66.75,-38.84 70.13,-32.71\"/>\n",
       "</g>\n",
       "<!-- U -->\n",
       "<g id=\"node3\" class=\"node\">\n",
       "<title>U</title>\n",
       "<ellipse fill=\"none\" stroke=\"black\" cx=\"127\" cy=\"-162\" rx=\"27\" ry=\"18\"/>\n",
       "<text text-anchor=\"middle\" x=\"127\" y=\"-156.95\" font-family=\"Times,serif\" font-size=\"14.00\">U</text>\n",
       "</g>\n",
       "<!-- U&#45;&gt;X -->\n",
       "<g id=\"edge2\" class=\"edge\">\n",
       "<title>U&#45;&gt;X</title>\n",
       "<path fill=\"none\" stroke=\"black\" d=\"M135.81,-144.76C140.27,-136.55 145.8,-126.37 150.84,-117.09\"/>\n",
       "<polygon fill=\"black\" stroke=\"black\" points=\"153.82,-118.94 155.51,-108.48 147.67,-115.6 153.82,-118.94\"/>\n",
       "</g>\n",
       "<!-- B -->\n",
       "<g id=\"node6\" class=\"node\">\n",
       "<title>B</title>\n",
       "<ellipse fill=\"none\" stroke=\"white\" cx=\"93\" cy=\"-90\" rx=\"27\" ry=\"18\"/>\n",
       "<text text-anchor=\"middle\" x=\"93\" y=\"-84.95\" font-family=\"Times,serif\" font-size=\"14.00\">B</text>\n",
       "</g>\n",
       "<!-- U&#45;&gt;B -->\n",
       "<g id=\"edge5\" class=\"edge\">\n",
       "<title>U&#45;&gt;B</title>\n",
       "<path fill=\"none\" stroke=\"black\" d=\"M118.94,-144.41C115.05,-136.39 110.28,-126.57 105.89,-117.54\"/>\n",
       "<polygon fill=\"black\" stroke=\"black\" points=\"109.18,-116.3 101.66,-108.83 102.88,-119.36 109.18,-116.3\"/>\n",
       "</g>\n",
       "<!-- V -->\n",
       "<g id=\"node4\" class=\"node\">\n",
       "<title>V</title>\n",
       "<ellipse fill=\"none\" stroke=\"black\" cx=\"27\" cy=\"-234\" rx=\"27\" ry=\"18\"/>\n",
       "<text text-anchor=\"middle\" x=\"27\" y=\"-228.95\" font-family=\"Times,serif\" font-size=\"14.00\">V</text>\n",
       "</g>\n",
       "<!-- V&#45;&gt;Y -->\n",
       "<g id=\"edge9\" class=\"edge\">\n",
       "<title>V&#45;&gt;Y</title>\n",
       "<path fill=\"none\" stroke=\"black\" d=\"M23.75,-215.89C21.95,-205.54 19.91,-192.06 19,-180 15.49,-133.21 24.61,-79.09 31.4,-47.02\"/>\n",
       "<polygon fill=\"black\" stroke=\"black\" points=\"34.79,-47.87 33.53,-37.35 27.96,-46.37 34.79,-47.87\"/>\n",
       "</g>\n",
       "<!-- C -->\n",
       "<g id=\"node7\" class=\"node\">\n",
       "<title>C</title>\n",
       "<ellipse fill=\"none\" stroke=\"white\" cx=\"55\" cy=\"-162\" rx=\"27\" ry=\"18\"/>\n",
       "<text text-anchor=\"middle\" x=\"55\" y=\"-156.95\" font-family=\"Times,serif\" font-size=\"14.00\">C</text>\n",
       "</g>\n",
       "<!-- V&#45;&gt;C -->\n",
       "<g id=\"edge8\" class=\"edge\">\n",
       "<title>V&#45;&gt;C</title>\n",
       "<path fill=\"none\" stroke=\"black\" d=\"M33.64,-216.41C36.77,-208.57 40.6,-198.99 44.15,-190.13\"/>\n",
       "<polygon fill=\"black\" stroke=\"black\" points=\"47.39,-191.46 47.85,-180.88 40.89,-188.86 47.39,-191.46\"/>\n",
       "</g>\n",
       "<!-- A -->\n",
       "<g id=\"node5\" class=\"node\">\n",
       "<title>A</title>\n",
       "<ellipse fill=\"none\" stroke=\"white\" cx=\"113\" cy=\"-234\" rx=\"27\" ry=\"18\"/>\n",
       "<text text-anchor=\"middle\" x=\"113\" y=\"-228.95\" font-family=\"Times,serif\" font-size=\"14.00\">A</text>\n",
       "</g>\n",
       "<!-- A&#45;&gt;U -->\n",
       "<g id=\"edge3\" class=\"edge\">\n",
       "<title>A&#45;&gt;U</title>\n",
       "<path fill=\"none\" stroke=\"black\" d=\"M116.46,-215.7C117.94,-208.32 119.7,-199.52 121.35,-191.25\"/>\n",
       "<polygon fill=\"black\" stroke=\"black\" points=\"124.75,-192.08 123.28,-181.59 117.89,-190.71 124.75,-192.08\"/>\n",
       "</g>\n",
       "<!-- A&#45;&gt;C -->\n",
       "<g id=\"edge4\" class=\"edge\">\n",
       "<title>A&#45;&gt;C</title>\n",
       "<path fill=\"none\" stroke=\"black\" d=\"M100.41,-217.81C92.89,-208.73 83.17,-197 74.65,-186.72\"/>\n",
       "<polygon fill=\"black\" stroke=\"black\" points=\"77.6,-184.79 68.53,-179.32 72.21,-189.26 77.6,-184.79\"/>\n",
       "</g>\n",
       "<!-- C&#45;&gt;Y -->\n",
       "<g id=\"edge7\" class=\"edge\">\n",
       "<title>C&#45;&gt;Y</title>\n",
       "<path fill=\"none\" stroke=\"black\" d=\"M52.92,-143.59C50.05,-119.61 44.84,-76.14 41.4,-47.42\"/>\n",
       "<polygon fill=\"black\" stroke=\"black\" points=\"44.89,-47.13 40.23,-37.61 37.94,-47.96 44.89,-47.13\"/>\n",
       "</g>\n",
       "<!-- C&#45;&gt;B -->\n",
       "<g id=\"edge6\" class=\"edge\">\n",
       "<title>C&#45;&gt;B</title>\n",
       "<path fill=\"none\" stroke=\"black\" d=\"M63.81,-144.76C68.27,-136.55 73.8,-126.37 78.84,-117.09\"/>\n",
       "<polygon fill=\"black\" stroke=\"black\" points=\"81.82,-118.94 83.51,-108.48 75.67,-115.6 81.82,-118.94\"/>\n",
       "</g>\n",
       "</g>\n",
       "</svg>\n"
      ],
      "text/plain": [
       "<graphviz.graphs.Digraph at 0x16730f850>"
      ]
     },
     "execution_count": 9,
     "metadata": {},
     "output_type": "execute_result"
    }
   ],
   "source": [
    "g = gr.Digraph(\"6m1\", node_attr={\"color\": \"white\"})\n",
    "\n",
    "g.node(\"X\")\n",
    "g.node(\"Y\")\n",
    "g.node(\"U\", color=\"black\")\n",
    "g.node(\"V\", color=\"black\")\n",
    "g.node(\"A\")\n",
    "g.node(\"B\")\n",
    "g.node(\"C\")\n",
    "\n",
    "g.edge(\"X\", \"Y\")\n",
    "g.edge(\"U\", \"X\")\n",
    "g.edge(\"A\", \"U\")\n",
    "g.edge(\"A\", \"C\")\n",
    "g.edge(\"U\", \"B\")\n",
    "g.edge(\"C\", \"B\")\n",
    "g.edge(\"C\", \"Y\")\n",
    "g.edge(\"V\", \"C\")\n",
    "g.edge(\"V\", \"Y\")\n",
    "g"
   ]
  },
  {
   "cell_type": "markdown",
   "id": "6dee9a7d-f02a-4828-b02f-0d38eacef215",
   "metadata": {},
   "source": [
    "There are now five paths connecting $X$ and $Y$:\n",
    "1. $X \\rightarrow Y$\n",
    "2. $X \\leftarrow U \\leftarrow A \\rightarrow C \\rightarrow Y$\n",
    "3. $X \\leftarrow U \\rightarrow B \\leftarrow C \\rightarrow Y$\n",
    "2. $X \\leftarrow U \\leftarrow A \\rightarrow C \\leftarrow V \\rightarrow Y$\n",
    "3. $X \\leftarrow U \\rightarrow B \\leftarrow C \\leftarrow V \\rightarrow Y$"
   ]
  },
  {
   "cell_type": "markdown",
   "id": "27866277-8fe1-41bb-b0e4-73839a913c73",
   "metadata": {},
   "source": [
    "Paths 2, and 4 are open and so must be closed.\n",
    "The others are closed since they contain the confound at $B$.\n",
    "\n",
    "We can close all open paths by conditioning on $A$."
   ]
  },
  {
   "cell_type": "markdown",
   "id": "5bd4bf79-d54d-4e19-9b47-c03cadfc7c95",
   "metadata": {},
   "source": [
    "### 6M2\n",
    "Sometimes, in order to avoid multicollinearity, people inspect pairwise correlations among predictors before including them in a model.\n",
    "This is a bad procedure, because what matters is the conditional association, not the association before the variables are included in the model.\n",
    "To highlight this, consider the DAG $X \\to Z \\to Y$.\n",
    "Simulate data from this DAG so that the correlation between $X$ and $Z$ is very large.\n",
    "Then include both in a model predicting $Y$.\n",
    "Do you observe any multicollinearity?\n",
    "Why or why not?\n",
    "What is different from the legs example in the chapter?\n",
    "\n",
    "---"
   ]
  },
  {
   "cell_type": "markdown",
   "id": "6efb007f-f9fc-4046-b062-ca432b70c86c",
   "metadata": {},
   "source": [
    "Let's simulate some data"
   ]
  },
  {
   "cell_type": "code",
   "execution_count": 10,
   "id": "f454eba4-2054-483e-b181-0eb98b786b19",
   "metadata": {
    "tags": []
   },
   "outputs": [],
   "source": [
    "N = 100\n",
    "\n",
    "rng = np.random.default_rng(RANDOM_SEED)\n",
    "x = rng.normal(loc=0, scale=1, size=N)\n",
    "z = 1 + 2 * x + rng.normal(loc=0, scale=0.5, size=N)\n",
    "y = 2 - z + rng.normal(loc=0, scale=0.5, size=N)\n",
    "\n",
    "data = pd.DataFrame({\"x\": x, \"y\": y, \"z\": z})"
   ]
  },
  {
   "cell_type": "markdown",
   "id": "9d5e00a6-516f-4e6d-9cb8-24bcf20b3ddf",
   "metadata": {},
   "source": [
    "There is a lot of correlation between the variables"
   ]
  },
  {
   "cell_type": "code",
   "execution_count": 11,
   "id": "a5197ca0-163a-43e5-962b-89bc358b4e64",
   "metadata": {
    "tags": []
   },
   "outputs": [
    {
     "data": {
      "text/html": [
       "<div>\n",
       "<style scoped>\n",
       "    .dataframe tbody tr th:only-of-type {\n",
       "        vertical-align: middle;\n",
       "    }\n",
       "\n",
       "    .dataframe tbody tr th {\n",
       "        vertical-align: top;\n",
       "    }\n",
       "\n",
       "    .dataframe thead th {\n",
       "        text-align: right;\n",
       "    }\n",
       "</style>\n",
       "<table border=\"1\" class=\"dataframe\">\n",
       "  <thead>\n",
       "    <tr style=\"text-align: right;\">\n",
       "      <th></th>\n",
       "      <th>x</th>\n",
       "      <th>y</th>\n",
       "      <th>z</th>\n",
       "    </tr>\n",
       "  </thead>\n",
       "  <tbody>\n",
       "    <tr>\n",
       "      <th>x</th>\n",
       "      <td>1.000000</td>\n",
       "      <td>-0.915949</td>\n",
       "      <td>0.956554</td>\n",
       "    </tr>\n",
       "    <tr>\n",
       "      <th>y</th>\n",
       "      <td>-0.915949</td>\n",
       "      <td>1.000000</td>\n",
       "      <td>-0.956216</td>\n",
       "    </tr>\n",
       "    <tr>\n",
       "      <th>z</th>\n",
       "      <td>0.956554</td>\n",
       "      <td>-0.956216</td>\n",
       "      <td>1.000000</td>\n",
       "    </tr>\n",
       "  </tbody>\n",
       "</table>\n",
       "</div>"
      ],
      "text/plain": [
       "          x         y         z\n",
       "x  1.000000 -0.915949  0.956554\n",
       "y -0.915949  1.000000 -0.956216\n",
       "z  0.956554 -0.956216  1.000000"
      ]
     },
     "execution_count": 11,
     "metadata": {},
     "output_type": "execute_result"
    }
   ],
   "source": [
    "data.corr()"
   ]
  },
  {
   "cell_type": "code",
   "execution_count": 12,
   "id": "53d8d095-d720-42f4-a365-58268aea77ae",
   "metadata": {
    "tags": []
   },
   "outputs": [
    {
     "data": {
      "image/png": "[encoded data removed]",
      "text/plain": [
       "<Figure size 750x750 with 12 Axes>"
      ]
     },
     "metadata": {},
     "output_type": "display_data"
    }
   ],
   "source": [
    "sns.pairplot(data);"
   ]
  },
  {
   "cell_type": "markdown",
   "id": "5586df37-4beb-4adc-ac87-17fad3e8eb9a",
   "metadata": {},
   "source": [
    "Now we'll fit models for $Z$ as functions $X$ and $Y$ separately and together.\n",
    "I can't be bothered to normalise everything so I'll just use vague priors."
   ]
  },
  {
   "cell_type": "code",
   "execution_count": 13,
   "id": "09c9fef2-888e-4ef1-b52b-9916d096ac6f",
   "metadata": {
    "tags": []
   },
   "outputs": [
    {
     "name": "stderr",
     "output_type": "stream",
     "text": [
      "Auto-assigning NUTS sampler...\n",
      "Initializing NUTS using jitter+adapt_diag...\n",
      "Multiprocess sampling (4 chains in 4 jobs)\n",
      "NUTS: [alpha, beta_x, sigma]\n"
     ]
    },
    {
     "data": {
      "text/html": [
       "\n",
       "<style>\n",
       "    /* Turns off some styling */\n",
       "    progress {\n",
       "        /* gets rid of default border in Firefox and Opera. */\n",
       "        border: none;\n",
       "        /* Needs to be in here for Safari polyfill so background images work as expected. */\n",
       "        background-size: auto;\n",
       "    }\n",
       "    progress:not([value]), progress:not([value])::-webkit-progress-bar {\n",
       "        background: repeating-linear-gradient(45deg, #7e7e7e, #7e7e7e 10px, #5c5c5c 10px, #5c5c5c 20px);\n",
       "    }\n",
       "    .progress-bar-interrupted, .progress-bar-interrupted::-webkit-progress-bar {\n",
       "        background: #F44336;\n",
       "    }\n",
       "</style>\n"
      ],
      "text/plain": [
       "<IPython.core.display.HTML object>"
      ]
     },
     "metadata": {},
     "output_type": "display_data"
    },
    {
     "data": {
      "text/html": [
       "\n",
       "    <div>\n",
       "      <progress value='8000' class='' max='8000' style='width:300px; height:20px; vertical-align: middle;'></progress>\n",
       "      100.00% [8000/8000 00:00&lt;00:00 Sampling 4 chains, 0 divergences]\n",
       "    </div>\n",
       "    "
      ],
      "text/plain": [
       "<IPython.core.display.HTML object>"
      ]
     },
     "metadata": {},
     "output_type": "display_data"
    },
    {
     "name": "stderr",
     "output_type": "stream",
     "text": [
      "Sampling 4 chains for 1_000 tune and 1_000 draw iterations (4_000 + 4_000 draws total) took 1 seconds.\n",
      "Auto-assigning NUTS sampler...\n",
      "Initializing NUTS using jitter+adapt_diag...\n",
      "Multiprocess sampling (4 chains in 4 jobs)\n",
      "NUTS: [alpha, beta_z, sigma]\n"
     ]
    },
    {
     "data": {
      "text/html": [
       "\n",
       "<style>\n",
       "    /* Turns off some styling */\n",
       "    progress {\n",
       "        /* gets rid of default border in Firefox and Opera. */\n",
       "        border: none;\n",
       "        /* Needs to be in here for Safari polyfill so background images work as expected. */\n",
       "        background-size: auto;\n",
       "    }\n",
       "    progress:not([value]), progress:not([value])::-webkit-progress-bar {\n",
       "        background: repeating-linear-gradient(45deg, #7e7e7e, #7e7e7e 10px, #5c5c5c 10px, #5c5c5c 20px);\n",
       "    }\n",
       "    .progress-bar-interrupted, .progress-bar-interrupted::-webkit-progress-bar {\n",
       "        background: #F44336;\n",
       "    }\n",
       "</style>\n"
      ],
      "text/plain": [
       "<IPython.core.display.HTML object>"
      ]
     },
     "metadata": {},
     "output_type": "display_data"
    },
    {
     "data": {
      "text/html": [
       "\n",
       "    <div>\n",
       "      <progress value='8000' class='' max='8000' style='width:300px; height:20px; vertical-align: middle;'></progress>\n",
       "      100.00% [8000/8000 00:00&lt;00:00 Sampling 4 chains, 0 divergences]\n",
       "    </div>\n",
       "    "
      ],
      "text/plain": [
       "<IPython.core.display.HTML object>"
      ]
     },
     "metadata": {},
     "output_type": "display_data"
    },
    {
     "name": "stderr",
     "output_type": "stream",
     "text": [
      "Sampling 4 chains for 1_000 tune and 1_000 draw iterations (4_000 + 4_000 draws total) took 1 seconds.\n",
      "Auto-assigning NUTS sampler...\n",
      "Initializing NUTS using jitter+adapt_diag...\n",
      "Multiprocess sampling (4 chains in 4 jobs)\n",
      "NUTS: [alpha, beta_x, beta_z, sigma]\n"
     ]
    },
    {
     "data": {
      "text/html": [
       "\n",
       "<style>\n",
       "    /* Turns off some styling */\n",
       "    progress {\n",
       "        /* gets rid of default border in Firefox and Opera. */\n",
       "        border: none;\n",
       "        /* Needs to be in here for Safari polyfill so background images work as expected. */\n",
       "        background-size: auto;\n",
       "    }\n",
       "    progress:not([value]), progress:not([value])::-webkit-progress-bar {\n",
       "        background: repeating-linear-gradient(45deg, #7e7e7e, #7e7e7e 10px, #5c5c5c 10px, #5c5c5c 20px);\n",
       "    }\n",
       "    .progress-bar-interrupted, .progress-bar-interrupted::-webkit-progress-bar {\n",
       "        background: #F44336;\n",
       "    }\n",
       "</style>\n"
      ],
      "text/plain": [
       "<IPython.core.display.HTML object>"
      ]
     },
     "metadata": {},
     "output_type": "display_data"
    },
    {
     "data": {
      "text/html": [
       "\n",
       "    <div>\n",
       "      <progress value='8000' class='' max='8000' style='width:300px; height:20px; vertical-align: middle;'></progress>\n",
       "      100.00% [8000/8000 00:01&lt;00:00 Sampling 4 chains, 0 divergences]\n",
       "    </div>\n",
       "    "
      ],
      "text/plain": [
       "<IPython.core.display.HTML object>"
      ]
     },
     "metadata": {},
     "output_type": "display_data"
    },
    {
     "name": "stderr",
     "output_type": "stream",
     "text": [
      "Sampling 4 chains for 1_000 tune and 1_000 draw iterations (4_000 + 4_000 draws total) took 1 seconds.\n"
     ]
    }
   ],
   "source": [
    "coords = {\n",
    "    \"obs_id\": data.index,\n",
    "}\n",
    "with pm.Model(coords_mutable=coords) as m_6m2a:\n",
    "    # data\n",
    "    x = pm.MutableData(\"x\", data.x, dims=\"obs_id\")\n",
    "\n",
    "    # priors\n",
    "    alpha = pm.Normal(\"alpha\", mu=0, sigma=2)\n",
    "    beta_x = pm.Normal(\"beta_x\", mu=0, sigma=2)\n",
    "    sigma = pm.Exponential(\"sigma\", lam=1)\n",
    "\n",
    "    # model\n",
    "    mu = pm.Deterministic(\"mu\", alpha + beta_x * x, dims=\"obs_id\")\n",
    "\n",
    "    # likelihood\n",
    "    y = pm.Normal(\"y\", mu=mu, sigma=sigma, observed=data.y, dims=\"obs_id\")\n",
    "\n",
    "    # sample\n",
    "    trace_6m2a = pm.sample(random_seed=RANDOM_SEED)\n",
    "\n",
    "\n",
    "with pm.Model(coords_mutable=coords) as m_6m2b:\n",
    "    # data\n",
    "    z = pm.MutableData(\"z\", data.z, dims=\"obs_id\")\n",
    "\n",
    "    # priors\n",
    "    alpha = pm.Normal(\"alpha\", mu=0, sigma=2)\n",
    "    beta_z = pm.Normal(\"beta_z\", mu=0, sigma=2)\n",
    "    sigma = pm.Exponential(\"sigma\", lam=1)\n",
    "\n",
    "    # model\n",
    "    mu = pm.Deterministic(\"mu\", alpha + beta_z * z, dims=\"obs_id\")\n",
    "\n",
    "    # likelihood\n",
    "    y = pm.Normal(\"y\", mu=mu, sigma=sigma, observed=data.y, dims=\"obs_id\")\n",
    "\n",
    "    # sample\n",
    "    trace_6m2b = pm.sample(random_seed=RANDOM_SEED)\n",
    "\n",
    "\n",
    "with pm.Model(coords_mutable=coords) as m_6m2c:\n",
    "    # data\n",
    "    x = pm.MutableData(\"x\", data.x, dims=\"obs_id\")\n",
    "    z = pm.MutableData(\"z\", data.z, dims=\"obs_id\")\n",
    "\n",
    "    # priors\n",
    "    alpha = pm.Normal(\"alpha\", mu=0, sigma=2)\n",
    "    beta_x = pm.Normal(\"beta_x\", mu=0, sigma=2)\n",
    "    beta_z = pm.Normal(\"beta_z\", mu=0, sigma=2)\n",
    "    sigma = pm.Exponential(\"sigma\", lam=1)\n",
    "\n",
    "    # model\n",
    "    mu = pm.Deterministic(\"mu\", alpha + beta_x * x + beta_z * z, dims=\"obs_id\")\n",
    "\n",
    "    # likelihood\n",
    "    y = pm.Normal(\"y\", mu=mu, sigma=sigma, observed=data.y, dims=\"obs_id\")\n",
    "\n",
    "    # sample\n",
    "    trace_6m2c = pm.sample(random_seed=RANDOM_SEED)"
   ]
  },
  {
   "cell_type": "markdown",
   "id": "d9081806-14a9-424f-9c85-d7d17349481d",
   "metadata": {},
   "source": [
    "Now look at the results."
   ]
  },
  {
   "cell_type": "code",
   "execution_count": 14,
   "id": "a27d57a0-e214-4998-83d0-57525a0430a1",
   "metadata": {
    "tags": []
   },
   "outputs": [
    {
     "data": {
      "image/png": "[encoded data removed]",
      "text/plain": [
       "<Figure size 800x200 with 1 Axes>"
      ]
     },
     "metadata": {},
     "output_type": "display_data"
    }
   ],
   "source": [
    "fig, ax = plt.subplots(figsize=(8, 2))\n",
    "\n",
    "az.plot_forest(\n",
    "    [trace_6m2a, trace_6m2b, trace_6m2c],\n",
    "    model_names=[\"6m2a\", \"6m2b\", \"6m2c\"],\n",
    "    var_names=[\"~mu\"],\n",
    "    combined=True,\n",
    "    hdi_prob=0.89,\n",
    "    ax=ax,\n",
    ");"
   ]
  },
  {
   "cell_type": "markdown",
   "id": "6d83e229-c911-4729-9a7b-c1ab1c15ed74",
   "metadata": {},
   "source": [
    "The book defined multicollinearity as follows: each individual predictor helps in predicting the outcome, but neither helps as much once you know the other.\n",
    "That's not what's happening here.\n",
    "If we have $Z$ in the model, then adding $X$ appears to increase uncertainty in the posteriors (this is a bit of a mirage - there is a lot of correlation in the posteriors) but it doesn't meaningfully change the estimate of $\\beta_Z$.\n",
    "That is, $Z$ is independent of $Y$ conditional on $X$.\n",
    "This wasn't the case in the legs example, where there was no direct causal relationship between the two predictors."
   ]
  },
  {
   "cell_type": "code",
   "execution_count": 15,
   "id": "14e12fa7-feef-4abb-b9ab-317c314c648f",
   "metadata": {
    "tags": []
   },
   "outputs": [
    {
     "data": {
      "image/png": "[encoded data removed]",
      "text/plain": [
       "<Figure size 1472x1104 with 3 Axes>"
      ]
     },
     "metadata": {},
     "output_type": "display_data"
    }
   ],
   "source": [
    "axs = az.plot_pair(\n",
    "    trace_6m2c,\n",
    "    var_names=[\"alpha\", \"beta_x\", \"beta_z\"],\n",
    ")\n",
    "fig = axs[0][0].get_figure()\n",
    "fig.suptitle(\"Posterior associations\")\n",
    "fig.tight_layout();"
   ]
  },
  {
   "cell_type": "markdown",
   "id": "cef423df-0a5f-45a0-a4ef-e23dd3eb7c8a",
   "metadata": {},
   "source": [
    "### 6M3\n",
    "Learning to analyze DAGs requires practice.\n",
    "For each of the four DAGs below, state which variables, if any, you must adjust for (condition on) to estimate the total causal influence of $X$ on $Y$.\n",
    "\n",
    "---"
   ]
  },
  {
   "cell_type": "markdown",
   "id": "798ca1e4-c9b3-4ce0-9bbc-8d442e82449b",
   "metadata": {
    "tags": []
   },
   "source": [
    "a) Conditioning on $Z$ takes care of both open paths."
   ]
  },
  {
   "cell_type": "code",
   "execution_count": 16,
   "id": "beb1b748-c6c8-4e19-9e01-92693cca4cbe",
   "metadata": {
    "tags": []
   },
   "outputs": [
    {
     "data": {
      "image/svg+xml": [
       "<?xml version=\"1.0\" encoding=\"UTF-8\" standalone=\"no\"?>\n",
       "<!DOCTYPE svg PUBLIC \"-//W3C//DTD SVG 1.1//EN\"\n",
       " \"http://www.w3.org/Graphics/SVG/1.1/DTD/svg11.dtd\">\n",
       "<!-- Generated by graphviz version 9.0.0 (20230911.1827)\n",
       " -->\n",
       "<!-- Title: 6m3a Pages: 1 -->\n",
       "<svg width=\"103pt\" height=\"260pt\"\n",
       " viewBox=\"0.00 0.00 102.53 260.00\" xmlns=\"http://www.w3.org/2000/svg\" xmlns:xlink=\"http://www.w3.org/1999/xlink\">\n",
       "<g id=\"graph0\" class=\"graph\" transform=\"scale(1 1) rotate(0) translate(4 256)\">\n",
       "<title>6m3a</title>\n",
       "<polygon fill=\"white\" stroke=\"none\" points=\"-4,4 -4,-256 98.53,-256 98.53,4 -4,4\"/>\n",
       "<!-- X -->\n",
       "<g id=\"node1\" class=\"node\">\n",
       "<title>X</title>\n",
       "<ellipse fill=\"none\" stroke=\"white\" cx=\"55\" cy=\"-90\" rx=\"27\" ry=\"18\"/>\n",
       "<text text-anchor=\"middle\" x=\"55\" y=\"-84.95\" font-family=\"Times,serif\" font-size=\"14.00\">X</text>\n",
       "</g>\n",
       "<!-- Y -->\n",
       "<g id=\"node2\" class=\"node\">\n",
       "<title>Y</title>\n",
       "<ellipse fill=\"none\" stroke=\"white\" cx=\"55\" cy=\"-18\" rx=\"27\" ry=\"18\"/>\n",
       "<text text-anchor=\"middle\" x=\"55\" y=\"-12.95\" font-family=\"Times,serif\" font-size=\"14.00\">Y</text>\n",
       "</g>\n",
       "<!-- X&#45;&gt;Y -->\n",
       "<g id=\"edge1\" class=\"edge\">\n",
       "<title>X&#45;&gt;Y</title>\n",
       "<path fill=\"none\" stroke=\"black\" d=\"M55,-71.7C55,-64.41 55,-55.73 55,-47.54\"/>\n",
       "<polygon fill=\"black\" stroke=\"black\" points=\"58.5,-47.62 55,-37.62 51.5,-47.62 58.5,-47.62\"/>\n",
       "</g>\n",
       "<!-- Z -->\n",
       "<g id=\"node3\" class=\"node\">\n",
       "<title>Z</title>\n",
       "<ellipse fill=\"none\" stroke=\"white\" cx=\"55\" cy=\"-162\" rx=\"27\" ry=\"18\"/>\n",
       "<text text-anchor=\"middle\" x=\"55\" y=\"-156.95\" font-family=\"Times,serif\" font-size=\"14.00\">Z</text>\n",
       "</g>\n",
       "<!-- Z&#45;&gt;X -->\n",
       "<g id=\"edge2\" class=\"edge\">\n",
       "<title>Z&#45;&gt;X</title>\n",
       "<path fill=\"none\" stroke=\"black\" d=\"M55,-143.7C55,-136.41 55,-127.73 55,-119.54\"/>\n",
       "<polygon fill=\"black\" stroke=\"black\" points=\"58.5,-119.62 55,-109.62 51.5,-119.62 58.5,-119.62\"/>\n",
       "</g>\n",
       "<!-- Z&#45;&gt;Y -->\n",
       "<g id=\"edge3\" class=\"edge\">\n",
       "<title>Z&#45;&gt;Y</title>\n",
       "<path fill=\"none\" stroke=\"black\" d=\"M68.75,-146.07C76.96,-136.1 86.62,-122.25 91,-108 95.7,-92.71 95.7,-87.29 91,-72 87.82,-61.65 81.85,-51.51 75.67,-42.91\"/>\n",
       "<polygon fill=\"black\" stroke=\"black\" points=\"78.55,-40.91 69.67,-35.13 73.01,-45.19 78.55,-40.91\"/>\n",
       "</g>\n",
       "<!-- A -->\n",
       "<g id=\"node4\" class=\"node\">\n",
       "<title>A</title>\n",
       "<ellipse fill=\"none\" stroke=\"white\" cx=\"27\" cy=\"-234\" rx=\"27\" ry=\"18\"/>\n",
       "<text text-anchor=\"middle\" x=\"27\" y=\"-228.95\" font-family=\"Times,serif\" font-size=\"14.00\">A</text>\n",
       "</g>\n",
       "<!-- A&#45;&gt;Y -->\n",
       "<g id=\"edge5\" class=\"edge\">\n",
       "<title>A&#45;&gt;Y</title>\n",
       "<path fill=\"none\" stroke=\"black\" d=\"M22.45,-216.08C15.22,-186.22 3.45,-122.56 19,-72 22.18,-61.65 28.15,-51.51 34.33,-42.91\"/>\n",
       "<polygon fill=\"black\" stroke=\"black\" points=\"36.99,-45.19 40.33,-35.13 31.45,-40.91 36.99,-45.19\"/>\n",
       "</g>\n",
       "<!-- A&#45;&gt;Z -->\n",
       "<g id=\"edge4\" class=\"edge\">\n",
       "<title>A&#45;&gt;Z</title>\n",
       "<path fill=\"none\" stroke=\"black\" d=\"M33.64,-216.41C36.77,-208.57 40.6,-198.99 44.15,-190.13\"/>\n",
       "<polygon fill=\"black\" stroke=\"black\" points=\"47.39,-191.46 47.85,-180.88 40.89,-188.86 47.39,-191.46\"/>\n",
       "</g>\n",
       "</g>\n",
       "</svg>\n"
      ],
      "text/plain": [
       "<graphviz.graphs.Digraph at 0x169233400>"
      ]
     },
     "execution_count": 16,
     "metadata": {},
     "output_type": "execute_result"
    }
   ],
   "source": [
    "g = gr.Digraph(\"6m3a\", node_attr={\"color\": \"white\"})\n",
    "\n",
    "g.node(\"X\")\n",
    "g.node(\"Y\")\n",
    "g.node(\"Z\")\n",
    "g.node(\"A\")\n",
    "\n",
    "g.edge(\"X\", \"Y\")\n",
    "g.edge(\"Z\", \"X\")\n",
    "g.edge(\"Z\", \"Y\")\n",
    "g.edge(\"A\", \"Z\")\n",
    "g.edge(\"A\", \"Y\")\n",
    "g"
   ]
  },
  {
   "cell_type": "markdown",
   "id": "0d0ae151-a047-4d46-a2e5-3ecaacc8565e",
   "metadata": {},
   "source": [
    "b) There are two additional paths from $X$ to $Y$, but only the one through $A$ is a backdoor.\n",
    "But, since $Z$ is a collider this path is already closed.\n",
    "So we don't need to condition on anything."
   ]
  },
  {
   "cell_type": "code",
   "execution_count": 17,
   "id": "5394a980-9e14-453d-8fda-69ac86052a76",
   "metadata": {
    "tags": []
   },
   "outputs": [
    {
     "data": {
      "image/svg+xml": [
       "<?xml version=\"1.0\" encoding=\"UTF-8\" standalone=\"no\"?>\n",
       "<!DOCTYPE svg PUBLIC \"-//W3C//DTD SVG 1.1//EN\"\n",
       " \"http://www.w3.org/Graphics/SVG/1.1/DTD/svg11.dtd\">\n",
       "<!-- Generated by graphviz version 9.0.0 (20230911.1827)\n",
       " -->\n",
       "<!-- Title: 6m3b Pages: 1 -->\n",
       "<svg width=\"143pt\" height=\"188pt\"\n",
       " viewBox=\"0.00 0.00 143.00 188.00\" xmlns=\"http://www.w3.org/2000/svg\" xmlns:xlink=\"http://www.w3.org/1999/xlink\">\n",
       "<g id=\"graph0\" class=\"graph\" transform=\"scale(1 1) rotate(0) translate(4 184)\">\n",
       "<title>6m3b</title>\n",
       "<polygon fill=\"white\" stroke=\"none\" points=\"-4,4 -4,-184 139,-184 139,4 -4,4\"/>\n",
       "<!-- X -->\n",
       "<g id=\"node1\" class=\"node\">\n",
       "<title>X</title>\n",
       "<ellipse fill=\"none\" stroke=\"white\" cx=\"27\" cy=\"-162\" rx=\"27\" ry=\"18\"/>\n",
       "<text text-anchor=\"middle\" x=\"27\" y=\"-156.95\" font-family=\"Times,serif\" font-size=\"14.00\">X</text>\n",
       "</g>\n",
       "<!-- Y -->\n",
       "<g id=\"node2\" class=\"node\">\n",
       "<title>Y</title>\n",
       "<ellipse fill=\"none\" stroke=\"white\" cx=\"63\" cy=\"-18\" rx=\"27\" ry=\"18\"/>\n",
       "<text text-anchor=\"middle\" x=\"63\" y=\"-12.95\" font-family=\"Times,serif\" font-size=\"14.00\">Y</text>\n",
       "</g>\n",
       "<!-- X&#45;&gt;Y -->\n",
       "<g id=\"edge1\" class=\"edge\">\n",
       "<title>X&#45;&gt;Y</title>\n",
       "<path fill=\"none\" stroke=\"black\" d=\"M24.07,-143.83C21.62,-125.57 19.6,-96.07 27,-72 30.18,-61.65 36.15,-51.51 42.33,-42.91\"/>\n",
       "<polygon fill=\"black\" stroke=\"black\" points=\"44.99,-45.19 48.33,-35.13 39.45,-40.91 44.99,-45.19\"/>\n",
       "</g>\n",
       "<!-- Z -->\n",
       "<g id=\"node3\" class=\"node\">\n",
       "<title>Z</title>\n",
       "<ellipse fill=\"none\" stroke=\"white\" cx=\"63\" cy=\"-90\" rx=\"27\" ry=\"18\"/>\n",
       "<text text-anchor=\"middle\" x=\"63\" y=\"-84.95\" font-family=\"Times,serif\" font-size=\"14.00\">Z</text>\n",
       "</g>\n",
       "<!-- X&#45;&gt;Z -->\n",
       "<g id=\"edge2\" class=\"edge\">\n",
       "<title>X&#45;&gt;Z</title>\n",
       "<path fill=\"none\" stroke=\"black\" d=\"M35.35,-144.76C39.58,-136.55 44.81,-126.37 49.58,-117.09\"/>\n",
       "<polygon fill=\"black\" stroke=\"black\" points=\"52.54,-118.99 54,-108.49 46.32,-115.79 52.54,-118.99\"/>\n",
       "</g>\n",
       "<!-- Z&#45;&gt;Y -->\n",
       "<g id=\"edge3\" class=\"edge\">\n",
       "<title>Z&#45;&gt;Y</title>\n",
       "<path fill=\"none\" stroke=\"black\" d=\"M63,-71.7C63,-64.41 63,-55.73 63,-47.54\"/>\n",
       "<polygon fill=\"black\" stroke=\"black\" points=\"66.5,-47.62 63,-37.62 59.5,-47.62 66.5,-47.62\"/>\n",
       "</g>\n",
       "<!-- A -->\n",
       "<g id=\"node4\" class=\"node\">\n",
       "<title>A</title>\n",
       "<ellipse fill=\"none\" stroke=\"white\" cx=\"108\" cy=\"-162\" rx=\"27\" ry=\"18\"/>\n",
       "<text text-anchor=\"middle\" x=\"108\" y=\"-156.95\" font-family=\"Times,serif\" font-size=\"14.00\">A</text>\n",
       "</g>\n",
       "<!-- A&#45;&gt;Y -->\n",
       "<g id=\"edge5\" class=\"edge\">\n",
       "<title>A&#45;&gt;Y</title>\n",
       "<path fill=\"none\" stroke=\"black\" d=\"M108.72,-143.72C108.93,-125.37 107.65,-95.79 99,-72 95.3,-61.82 89.21,-51.72 83.08,-43.11\"/>\n",
       "<polygon fill=\"black\" stroke=\"black\" points=\"86,-41.17 77.18,-35.3 80.41,-45.39 86,-41.17\"/>\n",
       "</g>\n",
       "<!-- A&#45;&gt;Z -->\n",
       "<g id=\"edge4\" class=\"edge\">\n",
       "<title>A&#45;&gt;Z</title>\n",
       "<path fill=\"none\" stroke=\"black\" d=\"M97.79,-145.12C92.32,-136.61 85.46,-125.94 79.28,-116.32\"/>\n",
       "<polygon fill=\"black\" stroke=\"black\" points=\"82.34,-114.61 73.99,-108.09 76.45,-118.4 82.34,-114.61\"/>\n",
       "</g>\n",
       "</g>\n",
       "</svg>\n"
      ],
      "text/plain": [
       "<graphviz.graphs.Digraph at 0x16938d660>"
      ]
     },
     "execution_count": 17,
     "metadata": {},
     "output_type": "execute_result"
    }
   ],
   "source": [
    "g = gr.Digraph(\"6m3b\", node_attr={\"color\": \"white\"})\n",
    "\n",
    "g.node(\"X\")\n",
    "g.node(\"Y\")\n",
    "g.node(\"Z\")\n",
    "g.node(\"A\")\n",
    "\n",
    "g.edge(\"X\", \"Y\")\n",
    "g.edge(\"X\", \"Z\")\n",
    "g.edge(\"Z\", \"Y\")\n",
    "g.edge(\"A\", \"Z\")\n",
    "g.edge(\"A\", \"Y\")\n",
    "g"
   ]
  },
  {
   "cell_type": "markdown",
   "id": "d34dde35-f8d9-44fa-89a4-ed66b4b7dd9c",
   "metadata": {},
   "source": [
    "c) There are two additional paths from $X$ to $Y$, but only the one through $A$ is a backdoor path.\n",
    "But, this path is already closed because $Z$ is a collider.\n",
    "So we don't need to condition on any variables."
   ]
  },
  {
   "cell_type": "code",
   "execution_count": 18,
   "id": "eb88175d-2589-45d5-8a61-bff16bad38cd",
   "metadata": {
    "tags": []
   },
   "outputs": [
    {
     "data": {
      "image/svg+xml": [
       "<?xml version=\"1.0\" encoding=\"UTF-8\" standalone=\"no\"?>\n",
       "<!DOCTYPE svg PUBLIC \"-//W3C//DTD SVG 1.1//EN\"\n",
       " \"http://www.w3.org/Graphics/SVG/1.1/DTD/svg11.dtd\">\n",
       "<!-- Generated by graphviz version 9.0.0 (20230911.1827)\n",
       " -->\n",
       "<!-- Title: 6m3c Pages: 1 -->\n",
       "<svg width=\"127pt\" height=\"260pt\"\n",
       " viewBox=\"0.00 0.00 127.00 260.00\" xmlns=\"http://www.w3.org/2000/svg\" xmlns:xlink=\"http://www.w3.org/1999/xlink\">\n",
       "<g id=\"graph0\" class=\"graph\" transform=\"scale(1 1) rotate(0) translate(4 256)\">\n",
       "<title>6m3c</title>\n",
       "<polygon fill=\"white\" stroke=\"none\" points=\"-4,4 -4,-256 123,-256 123,4 -4,4\"/>\n",
       "<!-- X -->\n",
       "<g id=\"node1\" class=\"node\">\n",
       "<title>X</title>\n",
       "<ellipse fill=\"none\" stroke=\"white\" cx=\"65\" cy=\"-162\" rx=\"27\" ry=\"18\"/>\n",
       "<text text-anchor=\"middle\" x=\"65\" y=\"-156.95\" font-family=\"Times,serif\" font-size=\"14.00\">X</text>\n",
       "</g>\n",
       "<!-- Y -->\n",
       "<g id=\"node2\" class=\"node\">\n",
       "<title>Y</title>\n",
       "<ellipse fill=\"none\" stroke=\"white\" cx=\"27\" cy=\"-90\" rx=\"27\" ry=\"18\"/>\n",
       "<text text-anchor=\"middle\" x=\"27\" y=\"-84.95\" font-family=\"Times,serif\" font-size=\"14.00\">Y</text>\n",
       "</g>\n",
       "<!-- X&#45;&gt;Y -->\n",
       "<g id=\"edge1\" class=\"edge\">\n",
       "<title>X&#45;&gt;Y</title>\n",
       "<path fill=\"none\" stroke=\"black\" d=\"M56.19,-144.76C51.73,-136.55 46.2,-126.37 41.16,-117.09\"/>\n",
       "<polygon fill=\"black\" stroke=\"black\" points=\"44.33,-115.6 36.49,-108.48 38.18,-118.94 44.33,-115.6\"/>\n",
       "</g>\n",
       "<!-- Z -->\n",
       "<g id=\"node3\" class=\"node\">\n",
       "<title>Z</title>\n",
       "<ellipse fill=\"none\" stroke=\"white\" cx=\"82\" cy=\"-18\" rx=\"27\" ry=\"18\"/>\n",
       "<text text-anchor=\"middle\" x=\"82\" y=\"-12.95\" font-family=\"Times,serif\" font-size=\"14.00\">Z</text>\n",
       "</g>\n",
       "<!-- X&#45;&gt;Z -->\n",
       "<g id=\"edge2\" class=\"edge\">\n",
       "<title>X&#45;&gt;Z</title>\n",
       "<path fill=\"none\" stroke=\"black\" d=\"M67.08,-143.59C69.95,-119.61 75.16,-76.14 78.6,-47.42\"/>\n",
       "<polygon fill=\"black\" stroke=\"black\" points=\"82.06,-47.96 79.77,-37.61 75.11,-47.13 82.06,-47.96\"/>\n",
       "</g>\n",
       "<!-- Y&#45;&gt;Z -->\n",
       "<g id=\"edge3\" class=\"edge\">\n",
       "<title>Y&#45;&gt;Z</title>\n",
       "<path fill=\"none\" stroke=\"black\" d=\"M39.21,-73.46C46.11,-64.67 54.91,-53.48 62.73,-43.53\"/>\n",
       "<polygon fill=\"black\" stroke=\"black\" points=\"65.47,-45.71 68.89,-35.68 59.96,-41.38 65.47,-45.71\"/>\n",
       "</g>\n",
       "<!-- A -->\n",
       "<g id=\"node4\" class=\"node\">\n",
       "<title>A</title>\n",
       "<ellipse fill=\"none\" stroke=\"white\" cx=\"92\" cy=\"-234\" rx=\"27\" ry=\"18\"/>\n",
       "<text text-anchor=\"middle\" x=\"92\" y=\"-228.95\" font-family=\"Times,serif\" font-size=\"14.00\">A</text>\n",
       "</g>\n",
       "<!-- A&#45;&gt;X -->\n",
       "<g id=\"edge4\" class=\"edge\">\n",
       "<title>A&#45;&gt;X</title>\n",
       "<path fill=\"none\" stroke=\"black\" d=\"M85.46,-216.05C82.48,-208.32 78.87,-198.96 75.52,-190.27\"/>\n",
       "<polygon fill=\"black\" stroke=\"black\" points=\"78.88,-189.27 72.02,-181.2 72.35,-191.79 78.88,-189.27\"/>\n",
       "</g>\n",
       "<!-- A&#45;&gt;Z -->\n",
       "<g id=\"edge5\" class=\"edge\">\n",
       "<title>A&#45;&gt;Z</title>\n",
       "<path fill=\"none\" stroke=\"black\" d=\"M95.65,-215.91C97.68,-205.57 99.98,-192.09 101,-180 104.94,-133.25 95.69,-79.11 88.76,-47.04\"/>\n",
       "<polygon fill=\"black\" stroke=\"black\" points=\"92.19,-46.35 86.58,-37.36 85.36,-47.88 92.19,-46.35\"/>\n",
       "</g>\n",
       "</g>\n",
       "</svg>\n"
      ],
      "text/plain": [
       "<graphviz.graphs.Digraph at 0x169232b60>"
      ]
     },
     "execution_count": 18,
     "metadata": {},
     "output_type": "execute_result"
    }
   ],
   "source": [
    "g = gr.Digraph(\"6m3c\", node_attr={\"color\": \"white\"})\n",
    "\n",
    "g.node(\"X\")\n",
    "g.node(\"Y\")\n",
    "g.node(\"Z\")\n",
    "g.node(\"A\")\n",
    "\n",
    "g.edge(\"X\", \"Y\")\n",
    "g.edge(\"X\", \"Z\")\n",
    "g.edge(\"Y\", \"Z\")\n",
    "g.edge(\"A\", \"X\")\n",
    "g.edge(\"A\", \"Z\")\n",
    "g"
   ]
  },
  {
   "cell_type": "markdown",
   "id": "d2f7a3e9-2919-4d99-864f-009f556c0b66",
   "metadata": {},
   "source": [
    "d) Everything is the same as in (c), except $Z$ is no longer a collider.\n",
    "So we need to close the path through $A$ by conditioning on $A$."
   ]
  },
  {
   "cell_type": "code",
   "execution_count": 19,
   "id": "46f64a8f-b517-42b6-b320-f8845fb7de30",
   "metadata": {
    "tags": []
   },
   "outputs": [
    {
     "data": {
      "image/svg+xml": [
       "<?xml version=\"1.0\" encoding=\"UTF-8\" standalone=\"no\"?>\n",
       "<!DOCTYPE svg PUBLIC \"-//W3C//DTD SVG 1.1//EN\"\n",
       " \"http://www.w3.org/Graphics/SVG/1.1/DTD/svg11.dtd\">\n",
       "<!-- Generated by graphviz version 9.0.0 (20230911.1827)\n",
       " -->\n",
       "<!-- Title: 6m3d Pages: 1 -->\n",
       "<svg width=\"117pt\" height=\"260pt\"\n",
       " viewBox=\"0.00 0.00 117.00 260.00\" xmlns=\"http://www.w3.org/2000/svg\" xmlns:xlink=\"http://www.w3.org/1999/xlink\">\n",
       "<g id=\"graph0\" class=\"graph\" transform=\"scale(1 1) rotate(0) translate(4 256)\">\n",
       "<title>6m3d</title>\n",
       "<polygon fill=\"white\" stroke=\"none\" points=\"-4,4 -4,-256 113,-256 113,4 -4,4\"/>\n",
       "<!-- X -->\n",
       "<g id=\"node1\" class=\"node\">\n",
       "<title>X</title>\n",
       "<ellipse fill=\"none\" stroke=\"white\" cx=\"27\" cy=\"-162\" rx=\"27\" ry=\"18\"/>\n",
       "<text text-anchor=\"middle\" x=\"27\" y=\"-156.95\" font-family=\"Times,serif\" font-size=\"14.00\">X</text>\n",
       "</g>\n",
       "<!-- Y -->\n",
       "<g id=\"node2\" class=\"node\">\n",
       "<title>Y</title>\n",
       "<ellipse fill=\"none\" stroke=\"white\" cx=\"54\" cy=\"-18\" rx=\"27\" ry=\"18\"/>\n",
       "<text text-anchor=\"middle\" x=\"54\" y=\"-12.95\" font-family=\"Times,serif\" font-size=\"14.00\">Y</text>\n",
       "</g>\n",
       "<!-- X&#45;&gt;Y -->\n",
       "<g id=\"edge1\" class=\"edge\">\n",
       "<title>X&#45;&gt;Y</title>\n",
       "<path fill=\"none\" stroke=\"black\" d=\"M30.26,-143.87C34.82,-119.88 43.16,-75.99 48.65,-47.16\"/>\n",
       "<polygon fill=\"black\" stroke=\"black\" points=\"52.02,-48.15 50.45,-37.68 45.14,-46.85 52.02,-48.15\"/>\n",
       "</g>\n",
       "<!-- Z -->\n",
       "<g id=\"node3\" class=\"node\">\n",
       "<title>Z</title>\n",
       "<ellipse fill=\"none\" stroke=\"white\" cx=\"82\" cy=\"-90\" rx=\"27\" ry=\"18\"/>\n",
       "<text text-anchor=\"middle\" x=\"82\" y=\"-84.95\" font-family=\"Times,serif\" font-size=\"14.00\">Z</text>\n",
       "</g>\n",
       "<!-- X&#45;&gt;Z -->\n",
       "<g id=\"edge2\" class=\"edge\">\n",
       "<title>X&#45;&gt;Z</title>\n",
       "<path fill=\"none\" stroke=\"black\" d=\"M39.21,-145.46C46.11,-136.67 54.91,-125.48 62.73,-115.53\"/>\n",
       "<polygon fill=\"black\" stroke=\"black\" points=\"65.47,-117.71 68.89,-107.68 59.96,-113.38 65.47,-117.71\"/>\n",
       "</g>\n",
       "<!-- Z&#45;&gt;Y -->\n",
       "<g id=\"edge3\" class=\"edge\">\n",
       "<title>Z&#45;&gt;Y</title>\n",
       "<path fill=\"none\" stroke=\"black\" d=\"M75.36,-72.41C72.23,-64.57 68.4,-54.99 64.85,-46.13\"/>\n",
       "<polygon fill=\"black\" stroke=\"black\" points=\"68.11,-44.86 61.15,-36.88 61.61,-47.46 68.11,-44.86\"/>\n",
       "</g>\n",
       "<!-- A -->\n",
       "<g id=\"node4\" class=\"node\">\n",
       "<title>A</title>\n",
       "<ellipse fill=\"none\" stroke=\"white\" cx=\"54\" cy=\"-234\" rx=\"27\" ry=\"18\"/>\n",
       "<text text-anchor=\"middle\" x=\"54\" y=\"-228.95\" font-family=\"Times,serif\" font-size=\"14.00\">A</text>\n",
       "</g>\n",
       "<!-- A&#45;&gt;X -->\n",
       "<g id=\"edge4\" class=\"edge\">\n",
       "<title>A&#45;&gt;X</title>\n",
       "<path fill=\"none\" stroke=\"black\" d=\"M47.46,-216.05C44.48,-208.32 40.87,-198.96 37.52,-190.27\"/>\n",
       "<polygon fill=\"black\" stroke=\"black\" points=\"40.88,-189.27 34.02,-181.2 34.35,-191.79 40.88,-189.27\"/>\n",
       "</g>\n",
       "<!-- A&#45;&gt;Z -->\n",
       "<g id=\"edge5\" class=\"edge\">\n",
       "<title>A&#45;&gt;Z</title>\n",
       "<path fill=\"none\" stroke=\"black\" d=\"M57.38,-215.87C62.11,-191.88 70.76,-147.99 76.45,-119.16\"/>\n",
       "<polygon fill=\"black\" stroke=\"black\" points=\"79.82,-120.16 78.32,-109.67 72.95,-118.81 79.82,-120.16\"/>\n",
       "</g>\n",
       "</g>\n",
       "</svg>\n"
      ],
      "text/plain": [
       "<graphviz.graphs.Digraph at 0x169232860>"
      ]
     },
     "execution_count": 19,
     "metadata": {},
     "output_type": "execute_result"
    }
   ],
   "source": [
    "g = gr.Digraph(\"6m3d\", node_attr={\"color\": \"white\"})\n",
    "\n",
    "g.node(\"X\")\n",
    "g.node(\"Y\")\n",
    "g.node(\"Z\")\n",
    "g.node(\"A\")\n",
    "\n",
    "g.edge(\"X\", \"Y\")\n",
    "g.edge(\"X\", \"Z\")\n",
    "g.edge(\"Z\", \"Y\")\n",
    "g.edge(\"A\", \"X\")\n",
    "g.edge(\"A\", \"Z\")\n",
    "g"
   ]
  },
  {
   "cell_type": "markdown",
   "id": "4e906ef6-a2b7-4691-9c79-71ef460b8346",
   "metadata": {},
   "source": [
    "## Hard"
   ]
  },
  {
   "cell_type": "markdown",
   "id": "769db898-ebb1-4d39-9769-f9d992887882",
   "metadata": {},
   "source": [
    "### 6H1\n",
    "Use the Waffle House data, `data(WaffleDivorce)`, to find the total causal influence of number of Waffle Houses on divorce rate.\n",
    "Justify your model or models with a causal graph.\n",
    "\n",
    "---"
   ]
  },
  {
   "cell_type": "markdown",
   "id": "1fbe8269-f496-4dd4-9160-68a1578d3621",
   "metadata": {},
   "source": [
    "We have seen previously that median marriage age $A$ has a causal effect on marriage rate $M$ and divorce rate $D$ but that $M$ is independent of $D$ conditional on $A$.\n",
    "I hypothesise that Southernness $S$ has a causal effect on the number of Wafflehouses $W$, $A$, and $M$, but not $D$.\n",
    "This yields the following DAG:"
   ]
  },
  {
   "cell_type": "code",
   "execution_count": 20,
   "id": "f0280a8c-2c66-4aa1-a9c4-28392e21b26c",
   "metadata": {
    "tags": []
   },
   "outputs": [
    {
     "data": {
      "image/svg+xml": [
       "<?xml version=\"1.0\" encoding=\"UTF-8\" standalone=\"no\"?>\n",
       "<!DOCTYPE svg PUBLIC \"-//W3C//DTD SVG 1.1//EN\"\n",
       " \"http://www.w3.org/Graphics/SVG/1.1/DTD/svg11.dtd\">\n",
       "<!-- Generated by graphviz version 9.0.0 (20230911.1827)\n",
       " -->\n",
       "<!-- Title: 6h1 Pages: 1 -->\n",
       "<svg width=\"175pt\" height=\"188pt\"\n",
       " viewBox=\"0.00 0.00 175.00 188.00\" xmlns=\"http://www.w3.org/2000/svg\" xmlns:xlink=\"http://www.w3.org/1999/xlink\">\n",
       "<g id=\"graph0\" class=\"graph\" transform=\"scale(1 1) rotate(0) translate(4 184)\">\n",
       "<title>6h1</title>\n",
       "<polygon fill=\"white\" stroke=\"none\" points=\"-4,4 -4,-184 171,-184 171,4 -4,4\"/>\n",
       "<!-- W -->\n",
       "<g id=\"node1\" class=\"node\">\n",
       "<title>W</title>\n",
       "<ellipse fill=\"none\" stroke=\"white\" cx=\"27\" cy=\"-90\" rx=\"27\" ry=\"18\"/>\n",
       "<text text-anchor=\"middle\" x=\"27\" y=\"-84.95\" font-family=\"Times,serif\" font-size=\"14.00\">W</text>\n",
       "</g>\n",
       "<!-- D -->\n",
       "<g id=\"node5\" class=\"node\">\n",
       "<title>D</title>\n",
       "<ellipse fill=\"none\" stroke=\"white\" cx=\"54\" cy=\"-18\" rx=\"27\" ry=\"18\"/>\n",
       "<text text-anchor=\"middle\" x=\"54\" y=\"-12.95\" font-family=\"Times,serif\" font-size=\"14.00\">D</text>\n",
       "</g>\n",
       "<!-- W&#45;&gt;D -->\n",
       "<g id=\"edge1\" class=\"edge\">\n",
       "<title>W&#45;&gt;D</title>\n",
       "<path fill=\"none\" stroke=\"black\" d=\"M33.54,-72.05C36.52,-64.32 40.13,-54.96 43.48,-46.27\"/>\n",
       "<polygon fill=\"black\" stroke=\"black\" points=\"46.65,-47.79 46.98,-37.2 40.12,-45.27 46.65,-47.79\"/>\n",
       "</g>\n",
       "<!-- S -->\n",
       "<g id=\"node2\" class=\"node\">\n",
       "<title>S</title>\n",
       "<ellipse fill=\"none\" stroke=\"white\" cx=\"99\" cy=\"-162\" rx=\"27\" ry=\"18\"/>\n",
       "<text text-anchor=\"middle\" x=\"99\" y=\"-156.95\" font-family=\"Times,serif\" font-size=\"14.00\">S</text>\n",
       "</g>\n",
       "<!-- S&#45;&gt;W -->\n",
       "<g id=\"edge2\" class=\"edge\">\n",
       "<title>S&#45;&gt;W</title>\n",
       "<path fill=\"none\" stroke=\"black\" d=\"M84.08,-146.5C74.23,-136.92 61.14,-124.19 49.97,-113.34\"/>\n",
       "<polygon fill=\"black\" stroke=\"black\" points=\"52.59,-111 42.98,-106.54 47.71,-116.02 52.59,-111\"/>\n",
       "</g>\n",
       "<!-- M -->\n",
       "<g id=\"node3\" class=\"node\">\n",
       "<title>M</title>\n",
       "<ellipse fill=\"none\" stroke=\"white\" cx=\"140\" cy=\"-18\" rx=\"27\" ry=\"18\"/>\n",
       "<text text-anchor=\"middle\" x=\"140\" y=\"-12.95\" font-family=\"Times,serif\" font-size=\"14.00\">M</text>\n",
       "</g>\n",
       "<!-- S&#45;&gt;M -->\n",
       "<g id=\"edge3\" class=\"edge\">\n",
       "<title>S&#45;&gt;M</title>\n",
       "<path fill=\"none\" stroke=\"black\" d=\"M112.48,-145.98C120.58,-135.98 130.22,-122.12 135,-108 141.57,-88.59 142.68,-65.44 142.22,-47.62\"/>\n",
       "<polygon fill=\"black\" stroke=\"black\" points=\"145.72,-47.58 141.77,-37.75 138.73,-47.9 145.72,-47.58\"/>\n",
       "</g>\n",
       "<!-- A -->\n",
       "<g id=\"node4\" class=\"node\">\n",
       "<title>A</title>\n",
       "<ellipse fill=\"none\" stroke=\"white\" cx=\"99\" cy=\"-90\" rx=\"27\" ry=\"18\"/>\n",
       "<text text-anchor=\"middle\" x=\"99\" y=\"-84.95\" font-family=\"Times,serif\" font-size=\"14.00\">A</text>\n",
       "</g>\n",
       "<!-- S&#45;&gt;A -->\n",
       "<g id=\"edge4\" class=\"edge\">\n",
       "<title>S&#45;&gt;A</title>\n",
       "<path fill=\"none\" stroke=\"black\" d=\"M99,-143.7C99,-136.41 99,-127.73 99,-119.54\"/>\n",
       "<polygon fill=\"black\" stroke=\"black\" points=\"102.5,-119.62 99,-109.62 95.5,-119.62 102.5,-119.62\"/>\n",
       "</g>\n",
       "<!-- A&#45;&gt;M -->\n",
       "<g id=\"edge5\" class=\"edge\">\n",
       "<title>A&#45;&gt;M</title>\n",
       "<path fill=\"none\" stroke=\"black\" d=\"M108.51,-72.76C113.37,-64.46 119.41,-54.15 124.89,-44.79\"/>\n",
       "<polygon fill=\"black\" stroke=\"black\" points=\"127.74,-46.85 129.78,-36.45 121.7,-43.31 127.74,-46.85\"/>\n",
       "</g>\n",
       "<!-- A&#45;&gt;D -->\n",
       "<g id=\"edge6\" class=\"edge\">\n",
       "<title>A&#45;&gt;D</title>\n",
       "<path fill=\"none\" stroke=\"black\" d=\"M88.79,-73.12C83.32,-64.61 76.46,-53.94 70.28,-44.32\"/>\n",
       "<polygon fill=\"black\" stroke=\"black\" points=\"73.34,-42.61 64.99,-36.09 67.45,-46.4 73.34,-42.61\"/>\n",
       "</g>\n",
       "</g>\n",
       "</svg>\n"
      ],
      "text/plain": [
       "<graphviz.graphs.Digraph at 0x1692301f0>"
      ]
     },
     "execution_count": 20,
     "metadata": {},
     "output_type": "execute_result"
    }
   ],
   "source": [
    "g = gr.Digraph(\"6h1\", node_attr={\"color\": \"white\"})\n",
    "\n",
    "g.node(\"W\")\n",
    "g.node(\"S\")\n",
    "g.node(\"M\")\n",
    "g.node(\"A\")\n",
    "g.node(\"D\")\n",
    "\n",
    "g.edge(\"W\", \"D\")\n",
    "g.edge(\"S\", \"W\")\n",
    "g.edge(\"S\", \"M\")\n",
    "g.edge(\"S\", \"A\")\n",
    "g.edge(\"A\", \"M\")\n",
    "g.edge(\"A\", \"D\")\n",
    "g"
   ]
  },
  {
   "cell_type": "markdown",
   "id": "b8518778-02c8-48ba-b733-8413c74ba2fd",
   "metadata": {},
   "source": [
    "There are two backdoor paths.\n",
    "Since $M$ is a collider, the path through it already closed so we only need to close the other path.\n",
    "We can do this by conditioning on either $S$ or $A$, but conditioning on $A$ should improve the estimate of $W \\to D$."
   ]
  },
  {
   "cell_type": "markdown",
   "id": "68210e86-7bbb-4f8a-929c-7987848257b7",
   "metadata": {},
   "source": [
    "Start by reloading the data."
   ]
  },
  {
   "cell_type": "code",
   "execution_count": 21,
   "id": "bbad84a7-35b3-4363-be74-e0d68544d303",
   "metadata": {
    "tags": []
   },
   "outputs": [],
   "source": [
    "# load data\n",
    "waffle = load_data(WAFFLE_DIVORCE_FILE, delimiter=\";\")\n",
    "\n",
    "# rename columns\n",
    "waffle = waffle.rename(\n",
    "    columns={\n",
    "        \"Divorce\": \"divorce\",\n",
    "        \"Marriage\": \"marriage\",\n",
    "        \"MedianAgeMarriage\": \"age\",\n",
    "        \"WaffleHouses\": \"wafflehouse\",\n",
    "        \"South\": \"south\",\n",
    "    }\n",
    ")\n",
    "\n",
    "waffle[\"wafflehouse\"] = waffle[\"wafflehouse\"].astype(float)\n",
    "\n",
    "waffle[\"north_south\"] = np.where(\n",
    "    waffle[\"south\"] == 0,\n",
    "    \"north\",\n",
    "    \"south\",\n",
    ")\n",
    "\n",
    "\n",
    "# normalise columns\n",
    "def normalise(data):\n",
    "    return (data - data.mean()) / data.std()\n",
    "\n",
    "\n",
    "for col in [\"divorce\", \"marriage\", \"age\", \"wafflehouse\"]:\n",
    "    waffle[f\"{col}_norm\"] = normalise(waffle[col])"
   ]
  },
  {
   "cell_type": "markdown",
   "id": "11e9cd35-9406-41aa-8e24-2d7ab6cafa64",
   "metadata": {},
   "source": [
    "#### Regression on $A$"
   ]
  },
  {
   "cell_type": "markdown",
   "id": "d89f7243-46f4-4cbe-b876-831785f12698",
   "metadata": {},
   "source": [
    "Now fit a model on $W$ and $A$."
   ]
  },
  {
   "cell_type": "code",
   "execution_count": 22,
   "id": "ef45f789-2e0c-4d46-8a91-8c19bedea2af",
   "metadata": {
    "tags": []
   },
   "outputs": [
    {
     "name": "stderr",
     "output_type": "stream",
     "text": [
      "Auto-assigning NUTS sampler...\n",
      "Initializing NUTS using jitter+adapt_diag...\n",
      "Multiprocess sampling (4 chains in 4 jobs)\n",
      "NUTS: [alpha, beta_age, beta_waffle, sigma]\n"
     ]
    },
    {
     "data": {
      "text/html": [
       "\n",
       "<style>\n",
       "    /* Turns off some styling */\n",
       "    progress {\n",
       "        /* gets rid of default border in Firefox and Opera. */\n",
       "        border: none;\n",
       "        /* Needs to be in here for Safari polyfill so background images work as expected. */\n",
       "        background-size: auto;\n",
       "    }\n",
       "    progress:not([value]), progress:not([value])::-webkit-progress-bar {\n",
       "        background: repeating-linear-gradient(45deg, #7e7e7e, #7e7e7e 10px, #5c5c5c 10px, #5c5c5c 20px);\n",
       "    }\n",
       "    .progress-bar-interrupted, .progress-bar-interrupted::-webkit-progress-bar {\n",
       "        background: #F44336;\n",
       "    }\n",
       "</style>\n"
      ],
      "text/plain": [
       "<IPython.core.display.HTML object>"
      ]
     },
     "metadata": {},
     "output_type": "display_data"
    },
    {
     "data": {
      "text/html": [
       "\n",
       "    <div>\n",
       "      <progress value='8000' class='' max='8000' style='width:300px; height:20px; vertical-align: middle;'></progress>\n",
       "      100.00% [8000/8000 00:00&lt;00:00 Sampling 4 chains, 0 divergences]\n",
       "    </div>\n",
       "    "
      ],
      "text/plain": [
       "<IPython.core.display.HTML object>"
      ]
     },
     "metadata": {},
     "output_type": "display_data"
    },
    {
     "name": "stderr",
     "output_type": "stream",
     "text": [
      "Sampling 4 chains for 1_000 tune and 1_000 draw iterations (4_000 + 4_000 draws total) took 1 seconds.\n"
     ]
    }
   ],
   "source": [
    "coords = {\n",
    "    \"state\": waffle.Location,\n",
    "}\n",
    "with pm.Model(coords_mutable=coords) as m_6h1a:\n",
    "    # data\n",
    "    wafflehouse = pm.MutableData(\"wafflehouse\", waffle.wafflehouse, dims=\"state\")\n",
    "    age = pm.MutableData(\"age\", waffle.age, dims=\"state\")\n",
    "\n",
    "    # normalise\n",
    "    wafflehouse_norm = pm.Deterministic(\n",
    "        \"wafflehouse_norm\",\n",
    "        (wafflehouse - waffle.wafflehouse.mean()) / waffle.wafflehouse.std(),\n",
    "        dims=\"state\",\n",
    "    )\n",
    "    age_norm = pm.Deterministic(\n",
    "        \"age_norm\",\n",
    "        (age - waffle.age.mean()) / waffle.age.std(),\n",
    "        dims=\"state\",\n",
    "    )\n",
    "\n",
    "    # priors\n",
    "    alpha = pm.Normal(\"alpha\", mu=0, sigma=0.2)\n",
    "    beta_age = pm.Normal(\"beta_age\", mu=0, sigma=1.5)\n",
    "    beta_waffle = pm.Normal(\"beta_waffle\", mu=0, sigma=1.5)\n",
    "    sigma = pm.Exponential(\"sigma\", lam=1)\n",
    "\n",
    "    # model\n",
    "    mu_norm = pm.Deterministic(\n",
    "        \"mu_norm\",\n",
    "        alpha + beta_age * age_norm + beta_waffle * wafflehouse_norm,\n",
    "        dims=\"state\",\n",
    "    )\n",
    "\n",
    "    # likelihood\n",
    "    divorce_norm = pm.Normal(\n",
    "        \"divorce_norm\",\n",
    "        mu=mu_norm,\n",
    "        sigma=sigma,\n",
    "        observed=waffle.divorce_norm,\n",
    "        dims=\"state\",\n",
    "    )\n",
    "\n",
    "    # unnormalise\n",
    "    mu = pm.Deterministic(\n",
    "        \"mu\",\n",
    "        mu_norm * waffle.divorce.std() + waffle.divorce.mean(),\n",
    "        dims=\"state\",\n",
    "    )\n",
    "    divorce = pm.Deterministic(\n",
    "        \"divorce\",\n",
    "        divorce_norm * waffle.divorce.std() + waffle.divorce.mean(),\n",
    "        dims=\"state\",\n",
    "    )\n",
    "\n",
    "    # sample\n",
    "    trace_6h1a = pm.sample(random_seed=RANDOM_SEED)"
   ]
  },
  {
   "cell_type": "code",
   "execution_count": 23,
   "id": "ac6905fa-9708-488c-a980-165d3d108378",
   "metadata": {
    "tags": []
   },
   "outputs": [
    {
     "data": {
      "image/svg+xml": [
       "<?xml version=\"1.0\" encoding=\"UTF-8\" standalone=\"no\"?>\n",
       "<!DOCTYPE svg PUBLIC \"-//W3C//DTD SVG 1.1//EN\"\n",
       " \"http://www.w3.org/Graphics/SVG/1.1/DTD/svg11.dtd\">\n",
       "<!-- Generated by graphviz version 9.0.0 (20230911.1827)\n",
       " -->\n",
       "<!-- Pages: 1 -->\n",
       "<svg width=\"600pt\" height=\"567pt\"\n",
       " viewBox=\"0.00 0.00 600.01 567.45\" xmlns=\"http://www.w3.org/2000/svg\" xmlns:xlink=\"http://www.w3.org/1999/xlink\">\n",
       "<g id=\"graph0\" class=\"graph\" transform=\"scale(1 1) rotate(0) translate(4 563.45)\">\n",
       "<polygon fill=\"white\" stroke=\"none\" points=\"-4,4 -4,-563.45 596.01,-563.45 596.01,4 -4,4\"/>\n",
       "<g id=\"clust1\" class=\"cluster\">\n",
       "<title>clusterstate (50)</title>\n",
       "<path fill=\"none\" stroke=\"black\" d=\"M20,-8C20,-8 251,-8 251,-8 257,-8 263,-14 263,-20 263,-20 263,-539.45 263,-539.45 263,-545.45 257,-551.45 251,-551.45 251,-551.45 20,-551.45 20,-551.45 14,-551.45 8,-545.45 8,-539.45 8,-539.45 8,-20 8,-20 8,-14 14,-8 20,-8\"/>\n",
       "<text text-anchor=\"middle\" x=\"229.5\" y=\"-15.2\" font-family=\"Times,serif\" font-size=\"14.00\">state (50)</text>\n",
       "</g>\n",
       "<!-- divorce -->\n",
       "<g id=\"node1\" class=\"node\">\n",
       "<title>divorce</title>\n",
       "<polygon fill=\"none\" stroke=\"black\" points=\"235.12,-98 144.88,-98 144.88,-40.5 235.12,-40.5 235.12,-98\"/>\n",
       "<text text-anchor=\"middle\" x=\"190\" y=\"-80.7\" font-family=\"Times,serif\" font-size=\"14.00\">divorce</text>\n",
       "<text text-anchor=\"middle\" x=\"190\" y=\"-64.2\" font-family=\"Times,serif\" font-size=\"14.00\">~</text>\n",
       "<text text-anchor=\"middle\" x=\"190\" y=\"-47.7\" font-family=\"Times,serif\" font-size=\"14.00\">Deterministic</text>\n",
       "</g>\n",
       "<!-- wafflehouse_norm -->\n",
       "<g id=\"node2\" class=\"node\">\n",
       "<title>wafflehouse_norm</title>\n",
       "<polygon fill=\"none\" stroke=\"black\" points=\"144,-438.04 26,-438.04 26,-380.54 144,-380.54 144,-438.04\"/>\n",
       "<text text-anchor=\"middle\" x=\"85\" y=\"-420.74\" font-family=\"Times,serif\" font-size=\"14.00\">wafflehouse_norm</text>\n",
       "<text text-anchor=\"middle\" x=\"85\" y=\"-404.24\" font-family=\"Times,serif\" font-size=\"14.00\">~</text>\n",
       "<text text-anchor=\"middle\" x=\"85\" y=\"-387.74\" font-family=\"Times,serif\" font-size=\"14.00\">Deterministic</text>\n",
       "</g>\n",
       "<!-- mu_norm -->\n",
       "<g id=\"node8\" class=\"node\">\n",
       "<title>mu_norm</title>\n",
       "<polygon fill=\"none\" stroke=\"black\" points=\"252.12,-320.73 161.88,-320.73 161.88,-263.23 252.12,-263.23 252.12,-320.73\"/>\n",
       "<text text-anchor=\"middle\" x=\"207\" y=\"-303.43\" font-family=\"Times,serif\" font-size=\"14.00\">mu_norm</text>\n",
       "<text text-anchor=\"middle\" x=\"207\" y=\"-286.93\" font-family=\"Times,serif\" font-size=\"14.00\">~</text>\n",
       "<text text-anchor=\"middle\" x=\"207\" y=\"-270.43\" font-family=\"Times,serif\" font-size=\"14.00\">Deterministic</text>\n",
       "</g>\n",
       "<!-- wafflehouse_norm&#45;&gt;mu_norm -->\n",
       "<g id=\"edge5\" class=\"edge\">\n",
       "<title>wafflehouse_norm&#45;&gt;mu_norm</title>\n",
       "<path fill=\"none\" stroke=\"black\" d=\"M114.84,-380.08C131.21,-364.61 151.67,-345.27 169.15,-328.75\"/>\n",
       "<polygon fill=\"black\" stroke=\"black\" points=\"171.5,-331.35 176.36,-321.93 166.69,-326.26 171.5,-331.35\"/>\n",
       "</g>\n",
       "<!-- age_norm -->\n",
       "<g id=\"node3\" class=\"node\">\n",
       "<title>age_norm</title>\n",
       "<polygon fill=\"none\" stroke=\"black\" points=\"252.12,-438.04 161.88,-438.04 161.88,-380.54 252.12,-380.54 252.12,-438.04\"/>\n",
       "<text text-anchor=\"middle\" x=\"207\" y=\"-420.74\" font-family=\"Times,serif\" font-size=\"14.00\">age_norm</text>\n",
       "<text text-anchor=\"middle\" x=\"207\" y=\"-404.24\" font-family=\"Times,serif\" font-size=\"14.00\">~</text>\n",
       "<text text-anchor=\"middle\" x=\"207\" y=\"-387.74\" font-family=\"Times,serif\" font-size=\"14.00\">Deterministic</text>\n",
       "</g>\n",
       "<!-- age_norm&#45;&gt;mu_norm -->\n",
       "<g id=\"edge6\" class=\"edge\">\n",
       "<title>age_norm&#45;&gt;mu_norm</title>\n",
       "<path fill=\"none\" stroke=\"black\" d=\"M207,-380.08C207,-365.74 207,-348.07 207,-332.4\"/>\n",
       "<polygon fill=\"black\" stroke=\"black\" points=\"210.5,-332.41 207,-322.41 203.5,-332.41 210.5,-332.41\"/>\n",
       "</g>\n",
       "<!-- age -->\n",
       "<g id=\"node4\" class=\"node\">\n",
       "<title>age</title>\n",
       "<path fill=\"lightgrey\" stroke=\"black\" d=\"M238.62,-543.45C238.62,-543.45 175.38,-543.45 175.38,-543.45 169.38,-543.45 163.38,-537.45 163.38,-531.45 163.38,-531.45 163.38,-497.95 163.38,-497.95 163.38,-491.95 169.38,-485.95 175.38,-485.95 175.38,-485.95 238.62,-485.95 238.62,-485.95 244.62,-485.95 250.62,-491.95 250.62,-497.95 250.62,-497.95 250.62,-531.45 250.62,-531.45 250.62,-537.45 244.62,-543.45 238.62,-543.45\"/>\n",
       "<text text-anchor=\"middle\" x=\"207\" y=\"-526.15\" font-family=\"Times,serif\" font-size=\"14.00\">age</text>\n",
       "<text text-anchor=\"middle\" x=\"207\" y=\"-509.65\" font-family=\"Times,serif\" font-size=\"14.00\">~</text>\n",
       "<text text-anchor=\"middle\" x=\"207\" y=\"-493.15\" font-family=\"Times,serif\" font-size=\"14.00\">MutableData</text>\n",
       "</g>\n",
       "<!-- age&#45;&gt;age_norm -->\n",
       "<g id=\"edge2\" class=\"edge\">\n",
       "<title>age&#45;&gt;age_norm</title>\n",
       "<path fill=\"none\" stroke=\"black\" d=\"M207,-485.72C207,-474.57 207,-461.54 207,-449.48\"/>\n",
       "<polygon fill=\"black\" stroke=\"black\" points=\"210.5,-449.81 207,-439.81 203.5,-449.81 210.5,-449.81\"/>\n",
       "</g>\n",
       "<!-- wafflehouse -->\n",
       "<g id=\"node5\" class=\"node\">\n",
       "<title>wafflehouse</title>\n",
       "<path fill=\"lightgrey\" stroke=\"black\" d=\"M116.62,-543.45C116.62,-543.45 53.37,-543.45 53.37,-543.45 47.38,-543.45 41.38,-537.45 41.38,-531.45 41.38,-531.45 41.38,-497.95 41.38,-497.95 41.38,-491.95 47.38,-485.95 53.38,-485.95 53.38,-485.95 116.62,-485.95 116.62,-485.95 122.62,-485.95 128.62,-491.95 128.62,-497.95 128.62,-497.95 128.62,-531.45 128.62,-531.45 128.62,-537.45 122.62,-543.45 116.62,-543.45\"/>\n",
       "<text text-anchor=\"middle\" x=\"85\" y=\"-526.15\" font-family=\"Times,serif\" font-size=\"14.00\">wafflehouse</text>\n",
       "<text text-anchor=\"middle\" x=\"85\" y=\"-509.65\" font-family=\"Times,serif\" font-size=\"14.00\">~</text>\n",
       "<text text-anchor=\"middle\" x=\"85\" y=\"-493.15\" font-family=\"Times,serif\" font-size=\"14.00\">MutableData</text>\n",
       "</g>\n",
       "<!-- wafflehouse&#45;&gt;wafflehouse_norm -->\n",
       "<g id=\"edge1\" class=\"edge\">\n",
       "<title>wafflehouse&#45;&gt;wafflehouse_norm</title>\n",
       "<path fill=\"none\" stroke=\"black\" d=\"M85,-485.72C85,-474.57 85,-461.54 85,-449.48\"/>\n",
       "<polygon fill=\"black\" stroke=\"black\" points=\"88.5,-449.81 85,-439.81 81.5,-449.81 88.5,-449.81\"/>\n",
       "</g>\n",
       "<!-- divorce_norm -->\n",
       "<g id=\"node6\" class=\"node\">\n",
       "<title>divorce_norm</title>\n",
       "<ellipse fill=\"lightgrey\" stroke=\"black\" cx=\"190\" cy=\"-174.66\" rx=\"65.41\" ry=\"40.66\"/>\n",
       "<text text-anchor=\"middle\" x=\"190\" y=\"-186.11\" font-family=\"Times,serif\" font-size=\"14.00\">divorce_norm</text>\n",
       "<text text-anchor=\"middle\" x=\"190\" y=\"-169.61\" font-family=\"Times,serif\" font-size=\"14.00\">~</text>\n",
       "<text text-anchor=\"middle\" x=\"190\" y=\"-153.11\" font-family=\"Times,serif\" font-size=\"14.00\">Normal</text>\n",
       "</g>\n",
       "<!-- divorce_norm&#45;&gt;divorce -->\n",
       "<g id=\"edge11\" class=\"edge\">\n",
       "<title>divorce_norm&#45;&gt;divorce</title>\n",
       "<path fill=\"none\" stroke=\"black\" d=\"M190,-133.68C190,-125.83 190,-117.6 190,-109.76\"/>\n",
       "<polygon fill=\"black\" stroke=\"black\" points=\"193.5,-109.79 190,-99.79 186.5,-109.79 193.5,-109.79\"/>\n",
       "</g>\n",
       "<!-- mu -->\n",
       "<g id=\"node7\" class=\"node\">\n",
       "<title>mu</title>\n",
       "<polygon fill=\"none\" stroke=\"black\" points=\"106.12,-203.41 15.88,-203.41 15.88,-145.91 106.12,-145.91 106.12,-203.41\"/>\n",
       "<text text-anchor=\"middle\" x=\"61\" y=\"-186.11\" font-family=\"Times,serif\" font-size=\"14.00\">mu</text>\n",
       "<text text-anchor=\"middle\" x=\"61\" y=\"-169.61\" font-family=\"Times,serif\" font-size=\"14.00\">~</text>\n",
       "<text text-anchor=\"middle\" x=\"61\" y=\"-153.11\" font-family=\"Times,serif\" font-size=\"14.00\">Deterministic</text>\n",
       "</g>\n",
       "<!-- mu_norm&#45;&gt;divorce_norm -->\n",
       "<g id=\"edge9\" class=\"edge\">\n",
       "<title>mu_norm&#45;&gt;divorce_norm</title>\n",
       "<path fill=\"none\" stroke=\"black\" d=\"M202.84,-262.77C201.23,-251.84 199.34,-238.99 197.5,-226.56\"/>\n",
       "<polygon fill=\"black\" stroke=\"black\" points=\"200.99,-226.21 196.07,-216.83 194.07,-227.23 200.99,-226.21\"/>\n",
       "</g>\n",
       "<!-- mu_norm&#45;&gt;mu -->\n",
       "<g id=\"edge10\" class=\"edge\">\n",
       "<title>mu_norm&#45;&gt;mu</title>\n",
       "<path fill=\"none\" stroke=\"black\" d=\"M171.28,-262.77C151.41,-247.07 126.51,-227.4 105.39,-210.72\"/>\n",
       "<polygon fill=\"black\" stroke=\"black\" points=\"107.8,-208.17 97.79,-204.71 103.47,-213.66 107.8,-208.17\"/>\n",
       "</g>\n",
       "<!-- sigma -->\n",
       "<g id=\"node9\" class=\"node\">\n",
       "<title>sigma</title>\n",
       "<ellipse fill=\"none\" stroke=\"black\" cx=\"328\" cy=\"-291.98\" rx=\"57.45\" ry=\"40.66\"/>\n",
       "<text text-anchor=\"middle\" x=\"328\" y=\"-303.43\" font-family=\"Times,serif\" font-size=\"14.00\">sigma</text>\n",
       "<text text-anchor=\"middle\" x=\"328\" y=\"-286.93\" font-family=\"Times,serif\" font-size=\"14.00\">~</text>\n",
       "<text text-anchor=\"middle\" x=\"328\" y=\"-270.43\" font-family=\"Times,serif\" font-size=\"14.00\">Exponential</text>\n",
       "</g>\n",
       "<!-- sigma&#45;&gt;divorce_norm -->\n",
       "<g id=\"edge8\" class=\"edge\">\n",
       "<title>sigma&#45;&gt;divorce_norm</title>\n",
       "<path fill=\"none\" stroke=\"black\" d=\"M291.38,-260.38C274.64,-246.38 254.6,-229.64 236.78,-214.75\"/>\n",
       "<polygon fill=\"black\" stroke=\"black\" points=\"239.32,-212.31 229.4,-208.58 234.83,-217.68 239.32,-212.31\"/>\n",
       "</g>\n",
       "<!-- beta_age -->\n",
       "<g id=\"node10\" class=\"node\">\n",
       "<title>beta_age</title>\n",
       "<ellipse fill=\"none\" stroke=\"black\" cx=\"316\" cy=\"-409.29\" rx=\"45.25\" ry=\"40.66\"/>\n",
       "<text text-anchor=\"middle\" x=\"316\" y=\"-420.74\" font-family=\"Times,serif\" font-size=\"14.00\">beta_age</text>\n",
       "<text text-anchor=\"middle\" x=\"316\" y=\"-404.24\" font-family=\"Times,serif\" font-size=\"14.00\">~</text>\n",
       "<text text-anchor=\"middle\" x=\"316\" y=\"-387.74\" font-family=\"Times,serif\" font-size=\"14.00\">Normal</text>\n",
       "</g>\n",
       "<!-- beta_age&#45;&gt;mu_norm -->\n",
       "<g id=\"edge4\" class=\"edge\">\n",
       "<title>beta_age&#45;&gt;mu_norm</title>\n",
       "<path fill=\"none\" stroke=\"black\" d=\"M287.08,-377.69C273.03,-362.83 256.05,-344.86 241.34,-329.31\"/>\n",
       "<polygon fill=\"black\" stroke=\"black\" points=\"243.89,-326.91 234.48,-322.05 238.81,-331.72 243.89,-326.91\"/>\n",
       "</g>\n",
       "<!-- beta_waffle -->\n",
       "<g id=\"node11\" class=\"node\">\n",
       "<title>beta_waffle</title>\n",
       "<ellipse fill=\"none\" stroke=\"black\" cx=\"436\" cy=\"-409.29\" rx=\"56.39\" ry=\"40.66\"/>\n",
       "<text text-anchor=\"middle\" x=\"436\" y=\"-420.74\" font-family=\"Times,serif\" font-size=\"14.00\">beta_waffle</text>\n",
       "<text text-anchor=\"middle\" x=\"436\" y=\"-404.24\" font-family=\"Times,serif\" font-size=\"14.00\">~</text>\n",
       "<text text-anchor=\"middle\" x=\"436\" y=\"-387.74\" font-family=\"Times,serif\" font-size=\"14.00\">Normal</text>\n",
       "</g>\n",
       "<!-- beta_waffle&#45;&gt;mu_norm -->\n",
       "<g id=\"edge3\" class=\"edge\">\n",
       "<title>beta_waffle&#45;&gt;mu_norm</title>\n",
       "<path fill=\"none\" stroke=\"black\" d=\"M394.5,-381.49C386.53,-376.88 378.14,-372.38 370,-368.63 324.04,-347.48 307.04,-355.69 262,-332.63 258.75,-330.97 255.48,-329.13 252.25,-327.18\"/>\n",
       "<polygon fill=\"black\" stroke=\"black\" points=\"254.27,-324.32 243.97,-321.87 250.5,-330.21 254.27,-324.32\"/>\n",
       "</g>\n",
       "<!-- alpha -->\n",
       "<g id=\"node12\" class=\"node\">\n",
       "<title>alpha</title>\n",
       "<ellipse fill=\"none\" stroke=\"black\" cx=\"551\" cy=\"-409.29\" rx=\"41.01\" ry=\"40.66\"/>\n",
       "<text text-anchor=\"middle\" x=\"551\" y=\"-420.74\" font-family=\"Times,serif\" font-size=\"14.00\">alpha</text>\n",
       "<text text-anchor=\"middle\" x=\"551\" y=\"-404.24\" font-family=\"Times,serif\" font-size=\"14.00\">~</text>\n",
       "<text text-anchor=\"middle\" x=\"551\" y=\"-387.74\" font-family=\"Times,serif\" font-size=\"14.00\">Normal</text>\n",
       "</g>\n",
       "<!-- alpha&#45;&gt;mu_norm -->\n",
       "<g id=\"edge7\" class=\"edge\">\n",
       "<title>alpha&#45;&gt;mu_norm</title>\n",
       "<path fill=\"none\" stroke=\"black\" d=\"M521.44,-380.8C515.07,-376.09 508.11,-371.73 501,-368.63 402.48,-325.81 361.47,-373.19 262,-332.63 258.12,-331.05 254.26,-329.14 250.48,-327.03\"/>\n",
       "<polygon fill=\"black\" stroke=\"black\" points=\"252.37,-324.08 242.02,-321.83 248.7,-330.05 252.37,-324.08\"/>\n",
       "</g>\n",
       "</g>\n",
       "</svg>\n"
      ],
      "text/plain": [
       "<graphviz.graphs.Digraph at 0x1692de950>"
      ]
     },
     "execution_count": 23,
     "metadata": {},
     "output_type": "execute_result"
    }
   ],
   "source": [
    "m_6h1a.to_graphviz()"
   ]
  },
  {
   "cell_type": "markdown",
   "id": "ae4539bf-4a7b-48ca-be99-86afca05e8a5",
   "metadata": {
    "tags": []
   },
   "source": [
    "Let's look at the coefficients."
   ]
  },
  {
   "cell_type": "code",
   "execution_count": 24,
   "id": "11ae5b86-5788-48d1-87cc-7b7529e6b868",
   "metadata": {
    "tags": []
   },
   "outputs": [
    {
     "data": {
      "text/html": [
       "<div>\n",
       "<style scoped>\n",
       "    .dataframe tbody tr th:only-of-type {\n",
       "        vertical-align: middle;\n",
       "    }\n",
       "\n",
       "    .dataframe tbody tr th {\n",
       "        vertical-align: top;\n",
       "    }\n",
       "\n",
       "    .dataframe thead th {\n",
       "        text-align: right;\n",
       "    }\n",
       "</style>\n",
       "<table border=\"1\" class=\"dataframe\">\n",
       "  <thead>\n",
       "    <tr style=\"text-align: right;\">\n",
       "      <th></th>\n",
       "      <th>mean</th>\n",
       "      <th>sd</th>\n",
       "      <th>hdi_5.5%</th>\n",
       "      <th>hdi_94.5%</th>\n",
       "    </tr>\n",
       "  </thead>\n",
       "  <tbody>\n",
       "    <tr>\n",
       "      <th>alpha</th>\n",
       "      <td>-0.000</td>\n",
       "      <td>0.099</td>\n",
       "      <td>-0.160</td>\n",
       "      <td>0.157</td>\n",
       "    </tr>\n",
       "    <tr>\n",
       "      <th>beta_age</th>\n",
       "      <td>-0.572</td>\n",
       "      <td>0.116</td>\n",
       "      <td>-0.773</td>\n",
       "      <td>-0.407</td>\n",
       "    </tr>\n",
       "    <tr>\n",
       "      <th>beta_waffle</th>\n",
       "      <td>0.185</td>\n",
       "      <td>0.117</td>\n",
       "      <td>0.000</td>\n",
       "      <td>0.374</td>\n",
       "    </tr>\n",
       "    <tr>\n",
       "      <th>sigma</th>\n",
       "      <td>0.810</td>\n",
       "      <td>0.087</td>\n",
       "      <td>0.669</td>\n",
       "      <td>0.941</td>\n",
       "    </tr>\n",
       "  </tbody>\n",
       "</table>\n",
       "</div>"
      ],
      "text/plain": [
       "              mean     sd  hdi_5.5%  hdi_94.5%\n",
       "alpha       -0.000  0.099    -0.160      0.157\n",
       "beta_age    -0.572  0.116    -0.773     -0.407\n",
       "beta_waffle  0.185  0.117     0.000      0.374\n",
       "sigma        0.810  0.087     0.669      0.941"
      ]
     },
     "execution_count": 24,
     "metadata": {},
     "output_type": "execute_result"
    }
   ],
   "source": [
    "az.summary(\n",
    "    trace_6h1a,\n",
    "    var_names=[\"alpha\", \"beta\", \"sigma\"],\n",
    "    filter_vars=\"like\",\n",
    "    kind=\"stats\",\n",
    "    hdi_prob=0.89,\n",
    ")"
   ]
  },
  {
   "cell_type": "markdown",
   "id": "d233d0ac-98fd-4d94-b73e-daa0d1d1f5fb",
   "metadata": {},
   "source": [
    "This gives an estimate of 0.185 for the coefficient of $W$.\n",
    "Let's relate that back to real numbers."
   ]
  },
  {
   "cell_type": "code",
   "execution_count": 25,
   "id": "8cab4bcb-faaf-4f32-af85-5e202f9e8502",
   "metadata": {
    "tags": []
   },
   "outputs": [
    {
     "data": {
      "text/plain": [
       "0.0051"
      ]
     },
     "execution_count": 25,
     "metadata": {},
     "output_type": "execute_result"
    }
   ],
   "source": [
    "beta_waffle_mean = trace_6h1a.posterior.beta_waffle.mean().item()\n",
    "(beta_waffle_mean / waffle[\"wafflehouse\"].std() * waffle[\"divorce\"].std()).round(4)"
   ]
  },
  {
   "cell_type": "markdown",
   "id": "17a9b78e-77c6-4892-a22e-d1ecbb6c5baf",
   "metadata": {},
   "source": [
    "So an increase of 100 Waffle House per million implies an increase of half a percent in the divorce rate."
   ]
  },
  {
   "cell_type": "markdown",
   "id": "946b6c5c-a1a3-46df-83d0-978b3d5acd5a",
   "metadata": {},
   "source": [
    "It's difficult to plot the results of this multiple regression, but we can make an attempt by putting age into three bins."
   ]
  },
  {
   "cell_type": "code",
   "execution_count": 26,
   "id": "c7d7ca14-90d2-4108-9e36-6a02f15f3d52",
   "metadata": {
    "tags": []
   },
   "outputs": [
    {
     "name": "stderr",
     "output_type": "stream",
     "text": [
      "Sampling: [divorce_norm]\n"
     ]
    },
    {
     "data": {
      "text/html": [
       "\n",
       "<style>\n",
       "    /* Turns off some styling */\n",
       "    progress {\n",
       "        /* gets rid of default border in Firefox and Opera. */\n",
       "        border: none;\n",
       "        /* Needs to be in here for Safari polyfill so background images work as expected. */\n",
       "        background-size: auto;\n",
       "    }\n",
       "    progress:not([value]), progress:not([value])::-webkit-progress-bar {\n",
       "        background: repeating-linear-gradient(45deg, #7e7e7e, #7e7e7e 10px, #5c5c5c 10px, #5c5c5c 20px);\n",
       "    }\n",
       "    .progress-bar-interrupted, .progress-bar-interrupted::-webkit-progress-bar {\n",
       "        background: #F44336;\n",
       "    }\n",
       "</style>\n"
      ],
      "text/plain": [
       "<IPython.core.display.HTML object>"
      ]
     },
     "metadata": {},
     "output_type": "display_data"
    },
    {
     "data": {
      "text/html": [
       "\n",
       "    <div>\n",
       "      <progress value='4000' class='' max='4000' style='width:300px; height:20px; vertical-align: middle;'></progress>\n",
       "      100.00% [4000/4000 00:00&lt;00:00]\n",
       "    </div>\n",
       "    "
      ],
      "text/plain": [
       "<IPython.core.display.HTML object>"
      ]
     },
     "metadata": {},
     "output_type": "display_data"
    },
    {
     "name": "stderr",
     "output_type": "stream",
     "text": [
      "Sampling: [divorce_norm]\n"
     ]
    },
    {
     "data": {
      "text/html": [
       "\n",
       "<style>\n",
       "    /* Turns off some styling */\n",
       "    progress {\n",
       "        /* gets rid of default border in Firefox and Opera. */\n",
       "        border: none;\n",
       "        /* Needs to be in here for Safari polyfill so background images work as expected. */\n",
       "        background-size: auto;\n",
       "    }\n",
       "    progress:not([value]), progress:not([value])::-webkit-progress-bar {\n",
       "        background: repeating-linear-gradient(45deg, #7e7e7e, #7e7e7e 10px, #5c5c5c 10px, #5c5c5c 20px);\n",
       "    }\n",
       "    .progress-bar-interrupted, .progress-bar-interrupted::-webkit-progress-bar {\n",
       "        background: #F44336;\n",
       "    }\n",
       "</style>\n"
      ],
      "text/plain": [
       "<IPython.core.display.HTML object>"
      ]
     },
     "metadata": {},
     "output_type": "display_data"
    },
    {
     "data": {
      "text/html": [
       "\n",
       "    <div>\n",
       "      <progress value='4000' class='' max='4000' style='width:300px; height:20px; vertical-align: middle;'></progress>\n",
       "      100.00% [4000/4000 00:00&lt;00:00]\n",
       "    </div>\n",
       "    "
      ],
      "text/plain": [
       "<IPython.core.display.HTML object>"
      ]
     },
     "metadata": {},
     "output_type": "display_data"
    },
    {
     "name": "stderr",
     "output_type": "stream",
     "text": [
      "Sampling: [divorce_norm]\n"
     ]
    },
    {
     "data": {
      "text/html": [
       "\n",
       "<style>\n",
       "    /* Turns off some styling */\n",
       "    progress {\n",
       "        /* gets rid of default border in Firefox and Opera. */\n",
       "        border: none;\n",
       "        /* Needs to be in here for Safari polyfill so background images work as expected. */\n",
       "        background-size: auto;\n",
       "    }\n",
       "    progress:not([value]), progress:not([value])::-webkit-progress-bar {\n",
       "        background: repeating-linear-gradient(45deg, #7e7e7e, #7e7e7e 10px, #5c5c5c 10px, #5c5c5c 20px);\n",
       "    }\n",
       "    .progress-bar-interrupted, .progress-bar-interrupted::-webkit-progress-bar {\n",
       "        background: #F44336;\n",
       "    }\n",
       "</style>\n"
      ],
      "text/plain": [
       "<IPython.core.display.HTML object>"
      ]
     },
     "metadata": {},
     "output_type": "display_data"
    },
    {
     "data": {
      "text/html": [
       "\n",
       "    <div>\n",
       "      <progress value='4000' class='' max='4000' style='width:300px; height:20px; vertical-align: middle;'></progress>\n",
       "      100.00% [4000/4000 00:00&lt;00:00]\n",
       "    </div>\n",
       "    "
      ],
      "text/plain": [
       "<IPython.core.display.HTML object>"
      ]
     },
     "metadata": {},
     "output_type": "display_data"
    }
   ],
   "source": [
    "waffle[\"age_bin\"] = pd.cut(waffle[\"age\"], bins=3, retbins=False)\n",
    "age_vals = waffle.groupby(\"age_bin\").age.mean().values\n",
    "\n",
    "N = 100\n",
    "wafflehouse_vals = np.linspace(\n",
    "    waffle.wafflehouse.min(),\n",
    "    waffle.wafflehouse.max(),\n",
    "    N,\n",
    ")\n",
    "\n",
    "with m_6h1a:\n",
    "    counterfact_trace_dict_6h1a = {}\n",
    "    for age in age_vals:\n",
    "        pm.set_data(\n",
    "            {\n",
    "                \"age\": np.full(N, age),\n",
    "                \"wafflehouse\": wafflehouse_vals,\n",
    "            },\n",
    "            coords={\"state\": range(N)},\n",
    "        )\n",
    "        counterfact_trace_dict_6h1a[age] = pm.sample_posterior_predictive(\n",
    "            trace_6h1a,\n",
    "            var_names=[\"mu\", \"divorce\"],\n",
    "            predictions=True,\n",
    "            random_seed=RANDOM_SEED,\n",
    "        )"
   ]
  },
  {
   "cell_type": "code",
   "execution_count": 29,
   "id": "12f74898-081c-4588-a4aa-99950f8a075f",
   "metadata": {
    "tags": []
   },
   "outputs": [],
   "source": [
    "def plot_divorce_counterfactuals(trace, color=None, hdi_prob=0.89, ax=None):\n",
    "    if not ax:\n",
    "        fig, ax = plt.subplots(figsize=(8, 6))\n",
    "\n",
    "    wafflehouse = trace.predictions_constant_data.wafflehouse\n",
    "\n",
    "    mu_mean = trace.predictions.mu.mean(dim=[\"chain\", \"draw\"])\n",
    "    ax.plot(wafflehouse, mu_mean, color=color)\n",
    "\n",
    "    mu_hdi = az.hdi(trace.predictions.mu, hdi_prob=hdi_prob).mu\n",
    "    ax.fill_between(\n",
    "        wafflehouse,\n",
    "        mu_hdi.sel(hdi=\"lower\"),\n",
    "        mu_hdi.sel(hdi=\"higher\"),\n",
    "        color=color,\n",
    "        alpha=0.3,\n",
    "    )\n",
    "\n",
    "    divorce_hdi = az.hdi(trace.predictions.divorce, hdi_prob=hdi_prob).divorce\n",
    "    ax.fill_between(\n",
    "        wafflehouse,\n",
    "        divorce_hdi.sel(hdi=\"lower\"),\n",
    "        divorce_hdi.sel(hdi=\"higher\"),\n",
    "        color=color,\n",
    "        alpha=0.1,\n",
    "    )\n",
    "\n",
    "    return ax"
   ]
  },
  {
   "cell_type": "code",
   "execution_count": 30,
   "id": "a14c6cfa-bf1e-4b98-aed1-26f9d2b2b30e",
   "metadata": {
    "tags": []
   },
   "outputs": [
    {
     "data": {
      "image/png": "[encoded data removed]",
      "text/plain": [
       "<Figure size 1000x600 with 1 Axes>"
      ]
     },
     "metadata": {},
     "output_type": "display_data"
    }
   ],
   "source": [
    "fig, ax = plt.subplots(figsize=(10, 6))\n",
    "\n",
    "# plot actual data\n",
    "sns.scatterplot(\n",
    "    data=waffle,\n",
    "    x=\"wafflehouse\",\n",
    "    y=\"divorce\",\n",
    "    hue=\"age_bin\",\n",
    "    ax=ax,\n",
    ")\n",
    "\n",
    "for color, (_, trace) in zip(colors, counterfact_trace_dict_6h1a.items()):\n",
    "    plot_divorce_counterfactuals(trace, color=color, ax=ax)\n",
    "\n",
    "ax.set(\n",
    "    xlabel=\"Waffle Houses per million\",\n",
    "    ylabel=\"Divorce rate\",\n",
    "    title=\"Linear regression on waffle houses and median marriage age\",\n",
    ")\n",
    "ax.legend(title=\"Median marriage age\");"
   ]
  },
  {
   "cell_type": "markdown",
   "id": "3d96a3d9-3261-4888-8fc4-8c4baed5567d",
   "metadata": {},
   "source": [
    "It's not a terribly convincing graph."
   ]
  },
  {
   "cell_type": "markdown",
   "id": "498e367d-7384-4331-9ad6-64d08d19229c",
   "metadata": {},
   "source": [
    "#### Regression on $S$"
   ]
  },
  {
   "cell_type": "markdown",
   "id": "9747f9f2-a75f-4994-b9c8-06466a437d8b",
   "metadata": {},
   "source": [
    "Theoretically, conditioning on $S$ should give us (roughly) the same estimate.\n",
    "Let's test that out."
   ]
  },
  {
   "cell_type": "code",
   "execution_count": 31,
   "id": "f4864abe-9399-4544-ae0b-6dbfff1d47f5",
   "metadata": {
    "tags": []
   },
   "outputs": [
    {
     "name": "stderr",
     "output_type": "stream",
     "text": [
      "Auto-assigning NUTS sampler...\n",
      "Initializing NUTS using jitter+adapt_diag...\n",
      "Multiprocess sampling (4 chains in 4 jobs)\n",
      "NUTS: [alpha, beta_waffle, sigma]\n"
     ]
    },
    {
     "data": {
      "text/html": [
       "\n",
       "<style>\n",
       "    /* Turns off some styling */\n",
       "    progress {\n",
       "        /* gets rid of default border in Firefox and Opera. */\n",
       "        border: none;\n",
       "        /* Needs to be in here for Safari polyfill so background images work as expected. */\n",
       "        background-size: auto;\n",
       "    }\n",
       "    progress:not([value]), progress:not([value])::-webkit-progress-bar {\n",
       "        background: repeating-linear-gradient(45deg, #7e7e7e, #7e7e7e 10px, #5c5c5c 10px, #5c5c5c 20px);\n",
       "    }\n",
       "    .progress-bar-interrupted, .progress-bar-interrupted::-webkit-progress-bar {\n",
       "        background: #F44336;\n",
       "    }\n",
       "</style>\n"
      ],
      "text/plain": [
       "<IPython.core.display.HTML object>"
      ]
     },
     "metadata": {},
     "output_type": "display_data"
    },
    {
     "data": {
      "text/html": [
       "\n",
       "    <div>\n",
       "      <progress value='8000' class='' max='8000' style='width:300px; height:20px; vertical-align: middle;'></progress>\n",
       "      100.00% [8000/8000 00:00&lt;00:00 Sampling 4 chains, 0 divergences]\n",
       "    </div>\n",
       "    "
      ],
      "text/plain": [
       "<IPython.core.display.HTML object>"
      ]
     },
     "metadata": {},
     "output_type": "display_data"
    },
    {
     "name": "stderr",
     "output_type": "stream",
     "text": [
      "Sampling 4 chains for 1_000 tune and 1_000 draw iterations (4_000 + 4_000 draws total) took 1 seconds.\n"
     ]
    }
   ],
   "source": [
    "coords = {\n",
    "    \"state\": waffle.Location,\n",
    "    \"north_south\": [\"north\", \"south\"],\n",
    "}\n",
    "with pm.Model(coords_mutable=coords) as m_6h1b:\n",
    "    # data\n",
    "    wafflehouse = pm.MutableData(\"wafflehouse\", waffle.wafflehouse, dims=\"state\")\n",
    "    south_idx = pm.MutableData(\"south_idx\", waffle.south, dims=\"state\")\n",
    "\n",
    "    # normalise\n",
    "    wafflehouse_norm = pm.Deterministic(\n",
    "        \"wafflehouse_norm\",\n",
    "        (wafflehouse - waffle.wafflehouse.mean()) / waffle.wafflehouse.std(),\n",
    "        dims=\"state\",\n",
    "    )\n",
    "\n",
    "    # priors\n",
    "    alpha = pm.Normal(\"alpha\", mu=0, sigma=0.2, dims=\"north_south\")\n",
    "    beta_waffle = pm.Normal(\"beta_waffle\", mu=0, sigma=1.5)\n",
    "    sigma = pm.Exponential(\"sigma\", lam=1)\n",
    "\n",
    "    # model\n",
    "    mu_norm = pm.Deterministic(\n",
    "        \"mu_norm\", alpha[south_idx] + beta_waffle * wafflehouse_norm, dims=\"state\"\n",
    "    )\n",
    "\n",
    "    # likelihood\n",
    "    divorce_norm = pm.Normal(\n",
    "        \"divorce_norm\",\n",
    "        mu=mu_norm,\n",
    "        sigma=sigma,\n",
    "        observed=waffle.divorce_norm,\n",
    "        dims=\"state\",\n",
    "    )\n",
    "\n",
    "    # unnormalise\n",
    "    mu = pm.Deterministic(\n",
    "        \"mu\",\n",
    "        mu_norm * waffle.divorce.std() + waffle.divorce.mean(),\n",
    "        dims=\"state\",\n",
    "    )\n",
    "    divorce = pm.Deterministic(\n",
    "        \"divorce\",\n",
    "        divorce_norm * waffle.divorce.std() + waffle.divorce.mean(),\n",
    "        dims=\"state\",\n",
    "    )\n",
    "\n",
    "    # sample\n",
    "    trace_6h1b = pm.sample(random_seed=RANDOM_SEED)"
   ]
  },
  {
   "cell_type": "code",
   "execution_count": 32,
   "id": "79514709-d034-4ae7-824a-c89abda13d99",
   "metadata": {
    "tags": []
   },
   "outputs": [
    {
     "data": {
      "image/svg+xml": [
       "<?xml version=\"1.0\" encoding=\"UTF-8\" standalone=\"no\"?>\n",
       "<!DOCTYPE svg PUBLIC \"-//W3C//DTD SVG 1.1//EN\"\n",
       " \"http://www.w3.org/Graphics/SVG/1.1/DTD/svg11.dtd\">\n",
       "<!-- Generated by graphviz version 9.0.0 (20230911.1827)\n",
       " -->\n",
       "<!-- Pages: 1 -->\n",
       "<svg width=\"499pt\" height=\"572pt\"\n",
       " viewBox=\"0.00 0.00 499.39 571.95\" xmlns=\"http://www.w3.org/2000/svg\" xmlns:xlink=\"http://www.w3.org/1999/xlink\">\n",
       "<g id=\"graph0\" class=\"graph\" transform=\"scale(1 1) rotate(0) translate(4 567.95)\">\n",
       "<polygon fill=\"white\" stroke=\"none\" points=\"-4,4 -4,-567.95 495.39,-567.95 495.39,4 -4,4\"/>\n",
       "<g id=\"clust1\" class=\"cluster\">\n",
       "<title>clusterstate (50)</title>\n",
       "<path fill=\"none\" stroke=\"black\" d=\"M20,-8C20,-8 251,-8 251,-8 257,-8 263,-14 263,-20 263,-20 263,-543.95 263,-543.95 263,-549.95 257,-555.95 251,-555.95 251,-555.95 20,-555.95 20,-555.95 14,-555.95 8,-549.95 8,-543.95 8,-543.95 8,-20 8,-20 8,-14 14,-8 20,-8\"/>\n",
       "<text text-anchor=\"middle\" x=\"229.5\" y=\"-15.2\" font-family=\"Times,serif\" font-size=\"14.00\">state (50)</text>\n",
       "</g>\n",
       "<g id=\"clust2\" class=\"cluster\">\n",
       "<title>clusternorth_south (2)</title>\n",
       "<path fill=\"none\" stroke=\"black\" d=\"M283,-340.63C283,-340.63 359,-340.63 359,-340.63 365,-340.63 371,-346.63 371,-352.63 371,-352.63 371,-450.45 371,-450.45 371,-456.45 365,-462.45 359,-462.45 359,-462.45 283,-462.45 283,-462.45 277,-462.45 271,-456.45 271,-450.45 271,-450.45 271,-352.63 271,-352.63 271,-346.63 277,-340.63 283,-340.63\"/>\n",
       "<text text-anchor=\"middle\" x=\"321\" y=\"-347.83\" font-family=\"Times,serif\" font-size=\"14.00\">north_south (2)</text>\n",
       "</g>\n",
       "<!-- divorce -->\n",
       "<g id=\"node1\" class=\"node\">\n",
       "<title>divorce</title>\n",
       "<polygon fill=\"none\" stroke=\"black\" points=\"235.12,-98 144.88,-98 144.88,-40.5 235.12,-40.5 235.12,-98\"/>\n",
       "<text text-anchor=\"middle\" x=\"190\" y=\"-80.7\" font-family=\"Times,serif\" font-size=\"14.00\">divorce</text>\n",
       "<text text-anchor=\"middle\" x=\"190\" y=\"-64.2\" font-family=\"Times,serif\" font-size=\"14.00\">~</text>\n",
       "<text text-anchor=\"middle\" x=\"190\" y=\"-47.7\" font-family=\"Times,serif\" font-size=\"14.00\">Deterministic</text>\n",
       "</g>\n",
       "<!-- wafflehouse_norm -->\n",
       "<g id=\"node2\" class=\"node\">\n",
       "<title>wafflehouse_norm</title>\n",
       "<polygon fill=\"none\" stroke=\"black\" points=\"141,-442.54 23,-442.54 23,-385.04 141,-385.04 141,-442.54\"/>\n",
       "<text text-anchor=\"middle\" x=\"82\" y=\"-425.24\" font-family=\"Times,serif\" font-size=\"14.00\">wafflehouse_norm</text>\n",
       "<text text-anchor=\"middle\" x=\"82\" y=\"-408.74\" font-family=\"Times,serif\" font-size=\"14.00\">~</text>\n",
       "<text text-anchor=\"middle\" x=\"82\" y=\"-392.24\" font-family=\"Times,serif\" font-size=\"14.00\">Deterministic</text>\n",
       "</g>\n",
       "<!-- mu_norm -->\n",
       "<g id=\"node7\" class=\"node\">\n",
       "<title>mu_norm</title>\n",
       "<polygon fill=\"none\" stroke=\"black\" points=\"241.12,-320.73 150.88,-320.73 150.88,-263.23 241.12,-263.23 241.12,-320.73\"/>\n",
       "<text text-anchor=\"middle\" x=\"196\" y=\"-303.43\" font-family=\"Times,serif\" font-size=\"14.00\">mu_norm</text>\n",
       "<text text-anchor=\"middle\" x=\"196\" y=\"-286.93\" font-family=\"Times,serif\" font-size=\"14.00\">~</text>\n",
       "<text text-anchor=\"middle\" x=\"196\" y=\"-270.43\" font-family=\"Times,serif\" font-size=\"14.00\">Deterministic</text>\n",
       "</g>\n",
       "<!-- wafflehouse_norm&#45;&gt;mu_norm -->\n",
       "<g id=\"edge3\" class=\"edge\">\n",
       "<title>wafflehouse_norm&#45;&gt;mu_norm</title>\n",
       "<path fill=\"none\" stroke=\"black\" d=\"M108.4,-384.62C120.97,-371.25 136.22,-355.08 150,-340.63 153.49,-336.98 157.13,-333.17 160.78,-329.38\"/>\n",
       "<polygon fill=\"black\" stroke=\"black\" points=\"163.24,-331.87 167.65,-322.24 158.2,-327.01 163.24,-331.87\"/>\n",
       "</g>\n",
       "<!-- south_idx -->\n",
       "<g id=\"node3\" class=\"node\">\n",
       "<title>south_idx</title>\n",
       "<path fill=\"lightgrey\" stroke=\"black\" d=\"M234.62,-442.54C234.62,-442.54 171.38,-442.54 171.38,-442.54 165.38,-442.54 159.38,-436.54 159.38,-430.54 159.38,-430.54 159.38,-397.04 159.38,-397.04 159.38,-391.04 165.38,-385.04 171.38,-385.04 171.38,-385.04 234.62,-385.04 234.62,-385.04 240.62,-385.04 246.62,-391.04 246.62,-397.04 246.62,-397.04 246.62,-430.54 246.62,-430.54 246.62,-436.54 240.62,-442.54 234.62,-442.54\"/>\n",
       "<text text-anchor=\"middle\" x=\"203\" y=\"-425.24\" font-family=\"Times,serif\" font-size=\"14.00\">south_idx</text>\n",
       "<text text-anchor=\"middle\" x=\"203\" y=\"-408.74\" font-family=\"Times,serif\" font-size=\"14.00\">~</text>\n",
       "<text text-anchor=\"middle\" x=\"203\" y=\"-392.24\" font-family=\"Times,serif\" font-size=\"14.00\">MutableData</text>\n",
       "</g>\n",
       "<!-- south_idx&#45;&gt;mu_norm -->\n",
       "<g id=\"edge4\" class=\"edge\">\n",
       "<title>south_idx&#45;&gt;mu_norm</title>\n",
       "<path fill=\"none\" stroke=\"black\" d=\"M201.36,-384.7C200.45,-369.08 199.3,-349.39 198.3,-332.26\"/>\n",
       "<polygon fill=\"black\" stroke=\"black\" points=\"201.8,-332.18 197.72,-322.4 194.81,-332.59 201.8,-332.18\"/>\n",
       "</g>\n",
       "<!-- wafflehouse -->\n",
       "<g id=\"node4\" class=\"node\">\n",
       "<title>wafflehouse</title>\n",
       "<path fill=\"lightgrey\" stroke=\"black\" d=\"M113.62,-547.95C113.62,-547.95 50.37,-547.95 50.37,-547.95 44.38,-547.95 38.38,-541.95 38.38,-535.95 38.38,-535.95 38.38,-502.45 38.38,-502.45 38.38,-496.45 44.38,-490.45 50.38,-490.45 50.38,-490.45 113.62,-490.45 113.62,-490.45 119.62,-490.45 125.62,-496.45 125.62,-502.45 125.62,-502.45 125.62,-535.95 125.62,-535.95 125.62,-541.95 119.62,-547.95 113.62,-547.95\"/>\n",
       "<text text-anchor=\"middle\" x=\"82\" y=\"-530.65\" font-family=\"Times,serif\" font-size=\"14.00\">wafflehouse</text>\n",
       "<text text-anchor=\"middle\" x=\"82\" y=\"-514.15\" font-family=\"Times,serif\" font-size=\"14.00\">~</text>\n",
       "<text text-anchor=\"middle\" x=\"82\" y=\"-497.65\" font-family=\"Times,serif\" font-size=\"14.00\">MutableData</text>\n",
       "</g>\n",
       "<!-- wafflehouse&#45;&gt;wafflehouse_norm -->\n",
       "<g id=\"edge1\" class=\"edge\">\n",
       "<title>wafflehouse&#45;&gt;wafflehouse_norm</title>\n",
       "<path fill=\"none\" stroke=\"black\" d=\"M82,-490.22C82,-479.07 82,-466.04 82,-453.98\"/>\n",
       "<polygon fill=\"black\" stroke=\"black\" points=\"85.5,-454.31 82,-444.31 78.5,-454.31 85.5,-454.31\"/>\n",
       "</g>\n",
       "<!-- divorce_norm -->\n",
       "<g id=\"node5\" class=\"node\">\n",
       "<title>divorce_norm</title>\n",
       "<ellipse fill=\"lightgrey\" stroke=\"black\" cx=\"190\" cy=\"-174.66\" rx=\"65.41\" ry=\"40.66\"/>\n",
       "<text text-anchor=\"middle\" x=\"190\" y=\"-186.11\" font-family=\"Times,serif\" font-size=\"14.00\">divorce_norm</text>\n",
       "<text text-anchor=\"middle\" x=\"190\" y=\"-169.61\" font-family=\"Times,serif\" font-size=\"14.00\">~</text>\n",
       "<text text-anchor=\"middle\" x=\"190\" y=\"-153.11\" font-family=\"Times,serif\" font-size=\"14.00\">Normal</text>\n",
       "</g>\n",
       "<!-- divorce_norm&#45;&gt;divorce -->\n",
       "<g id=\"edge9\" class=\"edge\">\n",
       "<title>divorce_norm&#45;&gt;divorce</title>\n",
       "<path fill=\"none\" stroke=\"black\" d=\"M190,-133.68C190,-125.83 190,-117.6 190,-109.76\"/>\n",
       "<polygon fill=\"black\" stroke=\"black\" points=\"193.5,-109.79 190,-99.79 186.5,-109.79 193.5,-109.79\"/>\n",
       "</g>\n",
       "<!-- mu -->\n",
       "<g id=\"node6\" class=\"node\">\n",
       "<title>mu</title>\n",
       "<polygon fill=\"none\" stroke=\"black\" points=\"106.12,-203.41 15.88,-203.41 15.88,-145.91 106.12,-145.91 106.12,-203.41\"/>\n",
       "<text text-anchor=\"middle\" x=\"61\" y=\"-186.11\" font-family=\"Times,serif\" font-size=\"14.00\">mu</text>\n",
       "<text text-anchor=\"middle\" x=\"61\" y=\"-169.61\" font-family=\"Times,serif\" font-size=\"14.00\">~</text>\n",
       "<text text-anchor=\"middle\" x=\"61\" y=\"-153.11\" font-family=\"Times,serif\" font-size=\"14.00\">Deterministic</text>\n",
       "</g>\n",
       "<!-- mu_norm&#45;&gt;divorce_norm -->\n",
       "<g id=\"edge7\" class=\"edge\">\n",
       "<title>mu_norm&#45;&gt;divorce_norm</title>\n",
       "<path fill=\"none\" stroke=\"black\" d=\"M194.53,-262.77C193.97,-251.94 193.31,-239.23 192.67,-226.91\"/>\n",
       "<polygon fill=\"black\" stroke=\"black\" points=\"196.18,-227.09 192.17,-217.28 189.19,-227.45 196.18,-227.09\"/>\n",
       "</g>\n",
       "<!-- mu_norm&#45;&gt;mu -->\n",
       "<g id=\"edge8\" class=\"edge\">\n",
       "<title>mu_norm&#45;&gt;mu</title>\n",
       "<path fill=\"none\" stroke=\"black\" d=\"M162.98,-262.77C144.7,-247.15 121.81,-227.6 102.35,-210.98\"/>\n",
       "<polygon fill=\"black\" stroke=\"black\" points=\"104.71,-208.39 94.83,-204.56 100.16,-213.72 104.71,-208.39\"/>\n",
       "</g>\n",
       "<!-- alpha -->\n",
       "<g id=\"node8\" class=\"node\">\n",
       "<title>alpha</title>\n",
       "<ellipse fill=\"none\" stroke=\"black\" cx=\"320\" cy=\"-413.79\" rx=\"41.01\" ry=\"40.66\"/>\n",
       "<text text-anchor=\"middle\" x=\"320\" y=\"-425.24\" font-family=\"Times,serif\" font-size=\"14.00\">alpha</text>\n",
       "<text text-anchor=\"middle\" x=\"320\" y=\"-408.74\" font-family=\"Times,serif\" font-size=\"14.00\">~</text>\n",
       "<text text-anchor=\"middle\" x=\"320\" y=\"-392.24\" font-family=\"Times,serif\" font-size=\"14.00\">Normal</text>\n",
       "</g>\n",
       "<!-- alpha&#45;&gt;mu_norm -->\n",
       "<g id=\"edge5\" class=\"edge\">\n",
       "<title>alpha&#45;&gt;mu_norm</title>\n",
       "<path fill=\"none\" stroke=\"black\" d=\"M298.73,-378.88C289.82,-366.1 278.78,-351.93 267,-340.63 261.94,-335.78 256.32,-331.09 250.54,-326.68\"/>\n",
       "<polygon fill=\"black\" stroke=\"black\" points=\"252.72,-323.94 242.57,-320.87 248.59,-329.59 252.72,-323.94\"/>\n",
       "</g>\n",
       "<!-- sigma -->\n",
       "<g id=\"node9\" class=\"node\">\n",
       "<title>sigma</title>\n",
       "<ellipse fill=\"none\" stroke=\"black\" cx=\"328\" cy=\"-291.98\" rx=\"57.45\" ry=\"40.66\"/>\n",
       "<text text-anchor=\"middle\" x=\"328\" y=\"-303.43\" font-family=\"Times,serif\" font-size=\"14.00\">sigma</text>\n",
       "<text text-anchor=\"middle\" x=\"328\" y=\"-286.93\" font-family=\"Times,serif\" font-size=\"14.00\">~</text>\n",
       "<text text-anchor=\"middle\" x=\"328\" y=\"-270.43\" font-family=\"Times,serif\" font-size=\"14.00\">Exponential</text>\n",
       "</g>\n",
       "<!-- sigma&#45;&gt;divorce_norm -->\n",
       "<g id=\"edge6\" class=\"edge\">\n",
       "<title>sigma&#45;&gt;divorce_norm</title>\n",
       "<path fill=\"none\" stroke=\"black\" d=\"M291.38,-260.38C274.64,-246.38 254.6,-229.64 236.78,-214.75\"/>\n",
       "<polygon fill=\"black\" stroke=\"black\" points=\"239.32,-212.31 229.4,-208.58 234.83,-217.68 239.32,-212.31\"/>\n",
       "</g>\n",
       "<!-- beta_waffle -->\n",
       "<g id=\"node10\" class=\"node\">\n",
       "<title>beta_waffle</title>\n",
       "<ellipse fill=\"none\" stroke=\"black\" cx=\"435\" cy=\"-413.79\" rx=\"56.39\" ry=\"40.66\"/>\n",
       "<text text-anchor=\"middle\" x=\"435\" y=\"-425.24\" font-family=\"Times,serif\" font-size=\"14.00\">beta_waffle</text>\n",
       "<text text-anchor=\"middle\" x=\"435\" y=\"-408.74\" font-family=\"Times,serif\" font-size=\"14.00\">~</text>\n",
       "<text text-anchor=\"middle\" x=\"435\" y=\"-392.24\" font-family=\"Times,serif\" font-size=\"14.00\">Normal</text>\n",
       "</g>\n",
       "<!-- beta_waffle&#45;&gt;mu_norm -->\n",
       "<g id=\"edge2\" class=\"edge\">\n",
       "<title>beta_waffle&#45;&gt;mu_norm</title>\n",
       "<path fill=\"none\" stroke=\"black\" d=\"M413.45,-376C403.54,-362.5 390.51,-348.59 375,-340.63 352.6,-329.15 286.01,-340.22 262,-332.63 256.64,-330.94 251.26,-328.74 246.01,-326.23\"/>\n",
       "<polygon fill=\"black\" stroke=\"black\" points=\"247.95,-323.29 237.46,-321.8 244.73,-329.51 247.95,-323.29\"/>\n",
       "</g>\n",
       "</g>\n",
       "</svg>\n"
      ],
      "text/plain": [
       "<graphviz.graphs.Digraph at 0x169b56290>"
      ]
     },
     "execution_count": 32,
     "metadata": {},
     "output_type": "execute_result"
    }
   ],
   "source": [
    "m_6h1b.to_graphviz()"
   ]
  },
  {
   "cell_type": "markdown",
   "id": "70fc0d41-e280-4ca6-bba3-cac0502a4309",
   "metadata": {
    "tags": []
   },
   "source": [
    "Let's look at the coefficients."
   ]
  },
  {
   "cell_type": "code",
   "execution_count": 33,
   "id": "8ee8592d-8d0e-4eb5-8ffb-14cf2290d375",
   "metadata": {
    "tags": []
   },
   "outputs": [
    {
     "data": {
      "text/html": [
       "<div>\n",
       "<style scoped>\n",
       "    .dataframe tbody tr th:only-of-type {\n",
       "        vertical-align: middle;\n",
       "    }\n",
       "\n",
       "    .dataframe tbody tr th {\n",
       "        vertical-align: top;\n",
       "    }\n",
       "\n",
       "    .dataframe thead th {\n",
       "        text-align: right;\n",
       "    }\n",
       "</style>\n",
       "<table border=\"1\" class=\"dataframe\">\n",
       "  <thead>\n",
       "    <tr style=\"text-align: right;\">\n",
       "      <th></th>\n",
       "      <th>mean</th>\n",
       "      <th>sd</th>\n",
       "      <th>hdi_5.5%</th>\n",
       "      <th>hdi_94.5%</th>\n",
       "    </tr>\n",
       "  </thead>\n",
       "  <tbody>\n",
       "    <tr>\n",
       "      <th>alpha[north]</th>\n",
       "      <td>-0.080</td>\n",
       "      <td>0.134</td>\n",
       "      <td>-0.297</td>\n",
       "      <td>0.131</td>\n",
       "    </tr>\n",
       "    <tr>\n",
       "      <th>alpha[south]</th>\n",
       "      <td>0.129</td>\n",
       "      <td>0.174</td>\n",
       "      <td>-0.130</td>\n",
       "      <td>0.421</td>\n",
       "    </tr>\n",
       "    <tr>\n",
       "      <th>beta_waffle</th>\n",
       "      <td>0.189</td>\n",
       "      <td>0.154</td>\n",
       "      <td>-0.046</td>\n",
       "      <td>0.443</td>\n",
       "    </tr>\n",
       "    <tr>\n",
       "      <th>sigma</th>\n",
       "      <td>0.976</td>\n",
       "      <td>0.101</td>\n",
       "      <td>0.819</td>\n",
       "      <td>1.137</td>\n",
       "    </tr>\n",
       "  </tbody>\n",
       "</table>\n",
       "</div>"
      ],
      "text/plain": [
       "               mean     sd  hdi_5.5%  hdi_94.5%\n",
       "alpha[north] -0.080  0.134    -0.297      0.131\n",
       "alpha[south]  0.129  0.174    -0.130      0.421\n",
       "beta_waffle   0.189  0.154    -0.046      0.443\n",
       "sigma         0.976  0.101     0.819      1.137"
      ]
     },
     "execution_count": 33,
     "metadata": {},
     "output_type": "execute_result"
    }
   ],
   "source": [
    "az.summary(\n",
    "    trace_6h1b,\n",
    "    var_names=[\"alpha\", \"beta\", \"sigma\"],\n",
    "    filter_vars=\"like\",\n",
    "    kind=\"stats\",\n",
    "    hdi_prob=0.89,\n",
    ")"
   ]
  },
  {
   "cell_type": "markdown",
   "id": "06e8afda-a5f5-4878-b3ff-a5fd38c8eb9e",
   "metadata": {},
   "source": [
    "The estimate of the waffle coefficient is similar to before, but with a wider posterior.\n",
    "This fits with what we said at the start of the exercise: conditioning on $A$ should give the same effect as conditioning on $S$, but should lead to a more precise estimate of the causal effect of $W$.\n",
    "\n",
    "The advantage of this model is that it also deals with the DAG where there is also a direct causal effect $S \\to D$."
   ]
  },
  {
   "cell_type": "markdown",
   "id": "58a3e0a3-e7cb-4fb4-8881-4b9c8f5e63c0",
   "metadata": {},
   "source": [
    "Now that the conditioned variable is binary, the posteriors are much easier to plot.\n",
    "\n",
    "First we'll need to generate counterfactual values for both the north and the south."
   ]
  },
  {
   "cell_type": "code",
   "execution_count": 34,
   "id": "f59245a6-fcae-45b7-b865-cf5bb135606e",
   "metadata": {},
   "outputs": [
    {
     "name": "stderr",
     "output_type": "stream",
     "text": [
      "Sampling: [divorce_norm]\n"
     ]
    },
    {
     "data": {
      "text/html": [
       "\n",
       "<style>\n",
       "    /* Turns off some styling */\n",
       "    progress {\n",
       "        /* gets rid of default border in Firefox and Opera. */\n",
       "        border: none;\n",
       "        /* Needs to be in here for Safari polyfill so background images work as expected. */\n",
       "        background-size: auto;\n",
       "    }\n",
       "    progress:not([value]), progress:not([value])::-webkit-progress-bar {\n",
       "        background: repeating-linear-gradient(45deg, #7e7e7e, #7e7e7e 10px, #5c5c5c 10px, #5c5c5c 20px);\n",
       "    }\n",
       "    .progress-bar-interrupted, .progress-bar-interrupted::-webkit-progress-bar {\n",
       "        background: #F44336;\n",
       "    }\n",
       "</style>\n"
      ],
      "text/plain": [
       "<IPython.core.display.HTML object>"
      ]
     },
     "metadata": {},
     "output_type": "display_data"
    },
    {
     "data": {
      "text/html": [
       "\n",
       "    <div>\n",
       "      <progress value='4000' class='' max='4000' style='width:300px; height:20px; vertical-align: middle;'></progress>\n",
       "      100.00% [4000/4000 00:00&lt;00:00]\n",
       "    </div>\n",
       "    "
      ],
      "text/plain": [
       "<IPython.core.display.HTML object>"
      ]
     },
     "metadata": {},
     "output_type": "display_data"
    },
    {
     "name": "stderr",
     "output_type": "stream",
     "text": [
      "Sampling: [divorce_norm]\n"
     ]
    },
    {
     "data": {
      "text/html": [
       "\n",
       "<style>\n",
       "    /* Turns off some styling */\n",
       "    progress {\n",
       "        /* gets rid of default border in Firefox and Opera. */\n",
       "        border: none;\n",
       "        /* Needs to be in here for Safari polyfill so background images work as expected. */\n",
       "        background-size: auto;\n",
       "    }\n",
       "    progress:not([value]), progress:not([value])::-webkit-progress-bar {\n",
       "        background: repeating-linear-gradient(45deg, #7e7e7e, #7e7e7e 10px, #5c5c5c 10px, #5c5c5c 20px);\n",
       "    }\n",
       "    .progress-bar-interrupted, .progress-bar-interrupted::-webkit-progress-bar {\n",
       "        background: #F44336;\n",
       "    }\n",
       "</style>\n"
      ],
      "text/plain": [
       "<IPython.core.display.HTML object>"
      ]
     },
     "metadata": {},
     "output_type": "display_data"
    },
    {
     "data": {
      "text/html": [
       "\n",
       "    <div>\n",
       "      <progress value='4000' class='' max='4000' style='width:300px; height:20px; vertical-align: middle;'></progress>\n",
       "      100.00% [4000/4000 00:00&lt;00:00]\n",
       "    </div>\n",
       "    "
      ],
      "text/plain": [
       "<IPython.core.display.HTML object>"
      ]
     },
     "metadata": {},
     "output_type": "display_data"
    }
   ],
   "source": [
    "N = 100\n",
    "\n",
    "wafflehouse_vals = np.linspace(\n",
    "    waffle.wafflehouse.min(),\n",
    "    waffle.wafflehouse.max(),\n",
    "    N,\n",
    ")\n",
    "\n",
    "with m_6h1b:\n",
    "    # southern data\n",
    "    pm.set_data(\n",
    "        {\n",
    "            \"south_idx\": np.ones(N).astype(int),\n",
    "            \"wafflehouse\": wafflehouse_vals,\n",
    "        },\n",
    "        coords={\"state\": range(N)},\n",
    "    )\n",
    "    counterfact_south_trace_6h1b = pm.sample_posterior_predictive(\n",
    "        trace_6h1b,\n",
    "        var_names=[\"mu\", \"divorce\"],\n",
    "        predictions=True,\n",
    "        random_seed=RANDOM_SEED,\n",
    "    )\n",
    "\n",
    "    # northern data\n",
    "    pm.set_data(\n",
    "        {\n",
    "            \"south_idx\": np.zeros(N).astype(int),\n",
    "            \"wafflehouse\": wafflehouse_vals,\n",
    "        },\n",
    "        coords={\"state\": range(N)},\n",
    "    )\n",
    "    counterfact_north_trace_6h1b = pm.sample_posterior_predictive(\n",
    "        trace_6h1b,\n",
    "        var_names=[\"mu\", \"divorce\"],\n",
    "        predictions=True,\n",
    "        random_seed=RANDOM_SEED,\n",
    "    )"
   ]
  },
  {
   "cell_type": "markdown",
   "id": "eb8ebd0a-fef8-49ca-86f7-33ac23d122be",
   "metadata": {},
   "source": [
    "Now let's plot it"
   ]
  },
  {
   "cell_type": "code",
   "execution_count": 35,
   "id": "5f0b009b-1337-49f6-8f14-515e8be77b39",
   "metadata": {
    "tags": []
   },
   "outputs": [
    {
     "data": {
      "image/png": "[encoded data removed]",
      "text/plain": [
       "<Figure size 1000x600 with 1 Axes>"
      ]
     },
     "metadata": {},
     "output_type": "display_data"
    }
   ],
   "source": [
    "fig, ax = plt.subplots(figsize=(10, 6))\n",
    "\n",
    "# plot actual data\n",
    "sns.scatterplot(\n",
    "    data=waffle,\n",
    "    x=\"wafflehouse\",\n",
    "    y=\"divorce\",\n",
    "    hue=\"north_south\",\n",
    "    hue_order=[\"north\", \"south\"],\n",
    "    ax=ax,\n",
    ")\n",
    "\n",
    "plot_divorce_counterfactuals(counterfact_north_trace_6h1b, color=colors[0], ax=ax)\n",
    "plot_divorce_counterfactuals(counterfact_south_trace_6h1b, color=colors[1], ax=ax)\n",
    "\n",
    "ax.set(\n",
    "    xlabel=\"Waffle Houses per million\",\n",
    "    ylabel=\"Divorce rate\",\n",
    "    title=\"Linear regression on waffle houses and southernness\",\n",
    ");"
   ]
  },
  {
   "cell_type": "markdown",
   "id": "e69cce15-4a59-4868-9c79-0af945aabe54",
   "metadata": {},
   "source": [
    "This looks roughly similar to the last graph.\n",
    "It's still not terribly convincing."
   ]
  },
  {
   "cell_type": "markdown",
   "id": "acee7ce8-8b00-4bf2-8c52-90827739596c",
   "metadata": {},
   "source": [
    "#### Interaction between $A$ and $S$"
   ]
  },
  {
   "cell_type": "markdown",
   "id": "9a2d8ed0-653d-4811-b98e-1e76b22231cb",
   "metadata": {},
   "source": [
    "Finally, in exercise 5H4 we found that divorce rate was best modelled using an interaction term between Southernness and age.\n",
    "I'm not really sure what this means for our DAG, but let's try just adding number of Waffle Houses to that model."
   ]
  },
  {
   "cell_type": "code",
   "execution_count": 36,
   "id": "75810758-6e79-475d-9e28-f12a526473f3",
   "metadata": {
    "tags": []
   },
   "outputs": [
    {
     "name": "stderr",
     "output_type": "stream",
     "text": [
      "Auto-assigning NUTS sampler...\n",
      "Initializing NUTS using jitter+adapt_diag...\n",
      "Multiprocess sampling (4 chains in 4 jobs)\n",
      "NUTS: [alpha, beta_age, beta_waffle, sigma]\n"
     ]
    },
    {
     "data": {
      "text/html": [
       "\n",
       "<style>\n",
       "    /* Turns off some styling */\n",
       "    progress {\n",
       "        /* gets rid of default border in Firefox and Opera. */\n",
       "        border: none;\n",
       "        /* Needs to be in here for Safari polyfill so background images work as expected. */\n",
       "        background-size: auto;\n",
       "    }\n",
       "    progress:not([value]), progress:not([value])::-webkit-progress-bar {\n",
       "        background: repeating-linear-gradient(45deg, #7e7e7e, #7e7e7e 10px, #5c5c5c 10px, #5c5c5c 20px);\n",
       "    }\n",
       "    .progress-bar-interrupted, .progress-bar-interrupted::-webkit-progress-bar {\n",
       "        background: #F44336;\n",
       "    }\n",
       "</style>\n"
      ],
      "text/plain": [
       "<IPython.core.display.HTML object>"
      ]
     },
     "metadata": {},
     "output_type": "display_data"
    },
    {
     "data": {
      "text/html": [
       "\n",
       "    <div>\n",
       "      <progress value='8000' class='' max='8000' style='width:300px; height:20px; vertical-align: middle;'></progress>\n",
       "      100.00% [8000/8000 00:01&lt;00:00 Sampling 4 chains, 0 divergences]\n",
       "    </div>\n",
       "    "
      ],
      "text/plain": [
       "<IPython.core.display.HTML object>"
      ]
     },
     "metadata": {},
     "output_type": "display_data"
    },
    {
     "name": "stderr",
     "output_type": "stream",
     "text": [
      "Sampling 4 chains for 1_000 tune and 1_000 draw iterations (4_000 + 4_000 draws total) took 1 seconds.\n"
     ]
    }
   ],
   "source": [
    "coords = {\n",
    "    \"state\": waffle.Location,\n",
    "    \"north_south\": [\"north\", \"south\"],\n",
    "}\n",
    "with pm.Model(coords_mutable=coords) as m_6h1c:\n",
    "    # data\n",
    "    wafflehouse = pm.MutableData(\"wafflehouse\", waffle.wafflehouse, dims=\"state\")\n",
    "    age = pm.MutableData(\"age\", waffle.age, dims=\"state\")\n",
    "    south_idx = pm.MutableData(\"south_idx\", waffle.south, dims=\"state\")\n",
    "\n",
    "    # normalise\n",
    "    wafflehouse_norm = pm.Deterministic(\n",
    "        \"wafflehouse_norm\",\n",
    "        (wafflehouse - waffle.wafflehouse.mean()) / waffle.wafflehouse.std(),\n",
    "        dims=\"state\",\n",
    "    )\n",
    "    age_norm = pm.Deterministic(\n",
    "        \"age_norm\",\n",
    "        (age - waffle.age.mean()) / waffle.age.std(),\n",
    "        dims=\"state\",\n",
    "    )\n",
    "\n",
    "    # priors\n",
    "    alpha = pm.Normal(\"alpha\", mu=0, sigma=0.2)\n",
    "    beta_age = pm.Normal(\"beta_age\", mu=0, sigma=1.5, dims=\"north_south\")\n",
    "    beta_waffle = pm.Normal(\"beta_waffle\", mu=0, sigma=1.5)\n",
    "    sigma = pm.Exponential(\"sigma\", lam=1)\n",
    "\n",
    "    # model\n",
    "    mu_norm = pm.Deterministic(\n",
    "        \"mu_norm\",\n",
    "        alpha + beta_age[south_idx] + beta_waffle * wafflehouse_norm,\n",
    "        dims=\"state\",\n",
    "    )\n",
    "\n",
    "    # likelihood\n",
    "    divorce_norm = pm.Normal(\n",
    "        \"divorce_norm\",\n",
    "        mu=mu_norm,\n",
    "        sigma=sigma,\n",
    "        observed=waffle.divorce_norm,\n",
    "        dims=\"state\",\n",
    "    )\n",
    "\n",
    "    # unnormalise\n",
    "    mu = pm.Deterministic(\n",
    "        \"mu\",\n",
    "        mu_norm * waffle.divorce.std() + waffle.divorce.mean(),\n",
    "        dims=\"state\",\n",
    "    )\n",
    "    divorce = pm.Deterministic(\n",
    "        \"divorce\",\n",
    "        divorce_norm * waffle.divorce.std() + waffle.divorce.mean(),\n",
    "        dims=\"state\",\n",
    "    )\n",
    "\n",
    "    # sample\n",
    "    trace_6h1c = pm.sample(random_seed=RANDOM_SEED)"
   ]
  },
  {
   "cell_type": "code",
   "execution_count": 37,
   "id": "abc5131e-2198-4067-9cb8-3a970f00e81f",
   "metadata": {
    "tags": []
   },
   "outputs": [
    {
     "data": {
      "image/svg+xml": [
       "<?xml version=\"1.0\" encoding=\"UTF-8\" standalone=\"no\"?>\n",
       "<!DOCTYPE svg PUBLIC \"-//W3C//DTD SVG 1.1//EN\"\n",
       " \"http://www.w3.org/Graphics/SVG/1.1/DTD/svg11.dtd\">\n",
       "<!-- Generated by graphviz version 9.0.0 (20230911.1827)\n",
       " -->\n",
       "<!-- Pages: 1 -->\n",
       "<svg width=\"710pt\" height=\"572pt\"\n",
       " viewBox=\"0.00 0.00 710.00 571.95\" xmlns=\"http://www.w3.org/2000/svg\" xmlns:xlink=\"http://www.w3.org/1999/xlink\">\n",
       "<g id=\"graph0\" class=\"graph\" transform=\"scale(1 1) rotate(0) translate(4 567.95)\">\n",
       "<polygon fill=\"white\" stroke=\"none\" points=\"-4,4 -4,-567.95 706,-567.95 706,4 -4,4\"/>\n",
       "<g id=\"clust1\" class=\"cluster\">\n",
       "<title>clusterstate (50)</title>\n",
       "<path fill=\"none\" stroke=\"black\" d=\"M20,-8C20,-8 344,-8 344,-8 350,-8 356,-14 356,-20 356,-20 356,-543.95 356,-543.95 356,-549.95 350,-555.95 344,-555.95 344,-555.95 20,-555.95 20,-555.95 14,-555.95 8,-549.95 8,-543.95 8,-543.95 8,-20 8,-20 8,-14 14,-8 20,-8\"/>\n",
       "<text text-anchor=\"middle\" x=\"322.5\" y=\"-15.2\" font-family=\"Times,serif\" font-size=\"14.00\">state (50)</text>\n",
       "</g>\n",
       "<g id=\"clust2\" class=\"cluster\">\n",
       "<title>clusternorth_south (2)</title>\n",
       "<path fill=\"none\" stroke=\"black\" d=\"M600,-340.63C600,-340.63 682,-340.63 682,-340.63 688,-340.63 694,-346.63 694,-352.63 694,-352.63 694,-450.45 694,-450.45 694,-456.45 688,-462.45 682,-462.45 682,-462.45 600,-462.45 600,-462.45 594,-462.45 588,-456.45 588,-450.45 588,-450.45 588,-352.63 588,-352.63 588,-346.63 594,-340.63 600,-340.63\"/>\n",
       "<text text-anchor=\"middle\" x=\"644\" y=\"-347.83\" font-family=\"Times,serif\" font-size=\"14.00\">north_south (2)</text>\n",
       "</g>\n",
       "<!-- divorce -->\n",
       "<g id=\"node1\" class=\"node\">\n",
       "<title>divorce</title>\n",
       "<polygon fill=\"none\" stroke=\"black\" points=\"328.12,-98 237.88,-98 237.88,-40.5 328.12,-40.5 328.12,-98\"/>\n",
       "<text text-anchor=\"middle\" x=\"283\" y=\"-80.7\" font-family=\"Times,serif\" font-size=\"14.00\">divorce</text>\n",
       "<text text-anchor=\"middle\" x=\"283\" y=\"-64.2\" font-family=\"Times,serif\" font-size=\"14.00\">~</text>\n",
       "<text text-anchor=\"middle\" x=\"283\" y=\"-47.7\" font-family=\"Times,serif\" font-size=\"14.00\">Deterministic</text>\n",
       "</g>\n",
       "<!-- wafflehouse_norm -->\n",
       "<g id=\"node2\" class=\"node\">\n",
       "<title>wafflehouse_norm</title>\n",
       "<polygon fill=\"none\" stroke=\"black\" points=\"134,-442.54 16,-442.54 16,-385.04 134,-385.04 134,-442.54\"/>\n",
       "<text text-anchor=\"middle\" x=\"75\" y=\"-425.24\" font-family=\"Times,serif\" font-size=\"14.00\">wafflehouse_norm</text>\n",
       "<text text-anchor=\"middle\" x=\"75\" y=\"-408.74\" font-family=\"Times,serif\" font-size=\"14.00\">~</text>\n",
       "<text text-anchor=\"middle\" x=\"75\" y=\"-392.24\" font-family=\"Times,serif\" font-size=\"14.00\">Deterministic</text>\n",
       "</g>\n",
       "<!-- mu_norm -->\n",
       "<g id=\"node9\" class=\"node\">\n",
       "<title>mu_norm</title>\n",
       "<polygon fill=\"none\" stroke=\"black\" points=\"346.12,-320.73 255.88,-320.73 255.88,-263.23 346.12,-263.23 346.12,-320.73\"/>\n",
       "<text text-anchor=\"middle\" x=\"301\" y=\"-303.43\" font-family=\"Times,serif\" font-size=\"14.00\">mu_norm</text>\n",
       "<text text-anchor=\"middle\" x=\"301\" y=\"-286.93\" font-family=\"Times,serif\" font-size=\"14.00\">~</text>\n",
       "<text text-anchor=\"middle\" x=\"301\" y=\"-270.43\" font-family=\"Times,serif\" font-size=\"14.00\">Deterministic</text>\n",
       "</g>\n",
       "<!-- wafflehouse_norm&#45;&gt;mu_norm -->\n",
       "<g id=\"edge5\" class=\"edge\">\n",
       "<title>wafflehouse_norm&#45;&gt;mu_norm</title>\n",
       "<path fill=\"none\" stroke=\"black\" d=\"M95.53,-384.7C107.79,-369.7 124.56,-352.05 143,-340.63 173.81,-321.57 212.74,-309.71 244.25,-302.59\"/>\n",
       "<polygon fill=\"black\" stroke=\"black\" points=\"244.97,-306.02 254.01,-300.5 243.5,-299.17 244.97,-306.02\"/>\n",
       "</g>\n",
       "<!-- south_idx -->\n",
       "<g id=\"node3\" class=\"node\">\n",
       "<title>south_idx</title>\n",
       "<path fill=\"lightgrey\" stroke=\"black\" d=\"M335.62,-442.54C335.62,-442.54 272.38,-442.54 272.38,-442.54 266.38,-442.54 260.38,-436.54 260.38,-430.54 260.38,-430.54 260.38,-397.04 260.38,-397.04 260.38,-391.04 266.38,-385.04 272.38,-385.04 272.38,-385.04 335.62,-385.04 335.62,-385.04 341.62,-385.04 347.62,-391.04 347.62,-397.04 347.62,-397.04 347.62,-430.54 347.62,-430.54 347.62,-436.54 341.62,-442.54 335.62,-442.54\"/>\n",
       "<text text-anchor=\"middle\" x=\"304\" y=\"-425.24\" font-family=\"Times,serif\" font-size=\"14.00\">south_idx</text>\n",
       "<text text-anchor=\"middle\" x=\"304\" y=\"-408.74\" font-family=\"Times,serif\" font-size=\"14.00\">~</text>\n",
       "<text text-anchor=\"middle\" x=\"304\" y=\"-392.24\" font-family=\"Times,serif\" font-size=\"14.00\">MutableData</text>\n",
       "</g>\n",
       "<!-- south_idx&#45;&gt;mu_norm -->\n",
       "<g id=\"edge6\" class=\"edge\">\n",
       "<title>south_idx&#45;&gt;mu_norm</title>\n",
       "<path fill=\"none\" stroke=\"black\" d=\"M303.3,-384.7C302.91,-369.08 302.41,-349.39 301.98,-332.26\"/>\n",
       "<polygon fill=\"black\" stroke=\"black\" points=\"305.49,-332.31 301.74,-322.4 298.49,-332.49 305.49,-332.31\"/>\n",
       "</g>\n",
       "<!-- age_norm -->\n",
       "<g id=\"node4\" class=\"node\">\n",
       "<title>age_norm</title>\n",
       "<polygon fill=\"none\" stroke=\"black\" points=\"242.12,-442.54 151.88,-442.54 151.88,-385.04 242.12,-385.04 242.12,-442.54\"/>\n",
       "<text text-anchor=\"middle\" x=\"197\" y=\"-425.24\" font-family=\"Times,serif\" font-size=\"14.00\">age_norm</text>\n",
       "<text text-anchor=\"middle\" x=\"197\" y=\"-408.74\" font-family=\"Times,serif\" font-size=\"14.00\">~</text>\n",
       "<text text-anchor=\"middle\" x=\"197\" y=\"-392.24\" font-family=\"Times,serif\" font-size=\"14.00\">Deterministic</text>\n",
       "</g>\n",
       "<!-- age -->\n",
       "<g id=\"node5\" class=\"node\">\n",
       "<title>age</title>\n",
       "<path fill=\"lightgrey\" stroke=\"black\" d=\"M228.62,-547.95C228.62,-547.95 165.38,-547.95 165.38,-547.95 159.38,-547.95 153.38,-541.95 153.38,-535.95 153.38,-535.95 153.38,-502.45 153.38,-502.45 153.38,-496.45 159.38,-490.45 165.38,-490.45 165.38,-490.45 228.62,-490.45 228.62,-490.45 234.62,-490.45 240.62,-496.45 240.62,-502.45 240.62,-502.45 240.62,-535.95 240.62,-535.95 240.62,-541.95 234.62,-547.95 228.62,-547.95\"/>\n",
       "<text text-anchor=\"middle\" x=\"197\" y=\"-530.65\" font-family=\"Times,serif\" font-size=\"14.00\">age</text>\n",
       "<text text-anchor=\"middle\" x=\"197\" y=\"-514.15\" font-family=\"Times,serif\" font-size=\"14.00\">~</text>\n",
       "<text text-anchor=\"middle\" x=\"197\" y=\"-497.65\" font-family=\"Times,serif\" font-size=\"14.00\">MutableData</text>\n",
       "</g>\n",
       "<!-- age&#45;&gt;age_norm -->\n",
       "<g id=\"edge2\" class=\"edge\">\n",
       "<title>age&#45;&gt;age_norm</title>\n",
       "<path fill=\"none\" stroke=\"black\" d=\"M197,-490.22C197,-479.07 197,-466.04 197,-453.98\"/>\n",
       "<polygon fill=\"black\" stroke=\"black\" points=\"200.5,-454.31 197,-444.31 193.5,-454.31 200.5,-454.31\"/>\n",
       "</g>\n",
       "<!-- wafflehouse -->\n",
       "<g id=\"node6\" class=\"node\">\n",
       "<title>wafflehouse</title>\n",
       "<path fill=\"lightgrey\" stroke=\"black\" d=\"M106.62,-547.95C106.62,-547.95 43.37,-547.95 43.37,-547.95 37.38,-547.95 31.38,-541.95 31.38,-535.95 31.38,-535.95 31.38,-502.45 31.38,-502.45 31.38,-496.45 37.38,-490.45 43.38,-490.45 43.38,-490.45 106.62,-490.45 106.62,-490.45 112.62,-490.45 118.62,-496.45 118.62,-502.45 118.62,-502.45 118.62,-535.95 118.62,-535.95 118.62,-541.95 112.62,-547.95 106.62,-547.95\"/>\n",
       "<text text-anchor=\"middle\" x=\"75\" y=\"-530.65\" font-family=\"Times,serif\" font-size=\"14.00\">wafflehouse</text>\n",
       "<text text-anchor=\"middle\" x=\"75\" y=\"-514.15\" font-family=\"Times,serif\" font-size=\"14.00\">~</text>\n",
       "<text text-anchor=\"middle\" x=\"75\" y=\"-497.65\" font-family=\"Times,serif\" font-size=\"14.00\">MutableData</text>\n",
       "</g>\n",
       "<!-- wafflehouse&#45;&gt;wafflehouse_norm -->\n",
       "<g id=\"edge1\" class=\"edge\">\n",
       "<title>wafflehouse&#45;&gt;wafflehouse_norm</title>\n",
       "<path fill=\"none\" stroke=\"black\" d=\"M75,-490.22C75,-479.07 75,-466.04 75,-453.98\"/>\n",
       "<polygon fill=\"black\" stroke=\"black\" points=\"78.5,-454.31 75,-444.31 71.5,-454.31 78.5,-454.31\"/>\n",
       "</g>\n",
       "<!-- divorce_norm -->\n",
       "<g id=\"node7\" class=\"node\">\n",
       "<title>divorce_norm</title>\n",
       "<ellipse fill=\"lightgrey\" stroke=\"black\" cx=\"283\" cy=\"-174.66\" rx=\"65.41\" ry=\"40.66\"/>\n",
       "<text text-anchor=\"middle\" x=\"283\" y=\"-186.11\" font-family=\"Times,serif\" font-size=\"14.00\">divorce_norm</text>\n",
       "<text text-anchor=\"middle\" x=\"283\" y=\"-169.61\" font-family=\"Times,serif\" font-size=\"14.00\">~</text>\n",
       "<text text-anchor=\"middle\" x=\"283\" y=\"-153.11\" font-family=\"Times,serif\" font-size=\"14.00\">Normal</text>\n",
       "</g>\n",
       "<!-- divorce_norm&#45;&gt;divorce -->\n",
       "<g id=\"edge11\" class=\"edge\">\n",
       "<title>divorce_norm&#45;&gt;divorce</title>\n",
       "<path fill=\"none\" stroke=\"black\" d=\"M283,-133.68C283,-125.83 283,-117.6 283,-109.76\"/>\n",
       "<polygon fill=\"black\" stroke=\"black\" points=\"286.5,-109.79 283,-99.79 279.5,-109.79 286.5,-109.79\"/>\n",
       "</g>\n",
       "<!-- mu -->\n",
       "<g id=\"node8\" class=\"node\">\n",
       "<title>mu</title>\n",
       "<polygon fill=\"none\" stroke=\"black\" points=\"199.12,-203.41 108.88,-203.41 108.88,-145.91 199.12,-145.91 199.12,-203.41\"/>\n",
       "<text text-anchor=\"middle\" x=\"154\" y=\"-186.11\" font-family=\"Times,serif\" font-size=\"14.00\">mu</text>\n",
       "<text text-anchor=\"middle\" x=\"154\" y=\"-169.61\" font-family=\"Times,serif\" font-size=\"14.00\">~</text>\n",
       "<text text-anchor=\"middle\" x=\"154\" y=\"-153.11\" font-family=\"Times,serif\" font-size=\"14.00\">Deterministic</text>\n",
       "</g>\n",
       "<!-- mu_norm&#45;&gt;divorce_norm -->\n",
       "<g id=\"edge9\" class=\"edge\">\n",
       "<title>mu_norm&#45;&gt;divorce_norm</title>\n",
       "<path fill=\"none\" stroke=\"black\" d=\"M296.6,-262.77C294.89,-251.84 292.89,-238.99 290.95,-226.56\"/>\n",
       "<polygon fill=\"black\" stroke=\"black\" points=\"294.43,-226.17 289.43,-216.83 287.51,-227.25 294.43,-226.17\"/>\n",
       "</g>\n",
       "<!-- mu_norm&#45;&gt;mu -->\n",
       "<g id=\"edge10\" class=\"edge\">\n",
       "<title>mu_norm&#45;&gt;mu</title>\n",
       "<path fill=\"none\" stroke=\"black\" d=\"M265.04,-262.77C245.03,-247.07 219.95,-227.4 198.69,-210.72\"/>\n",
       "<polygon fill=\"black\" stroke=\"black\" points=\"201.06,-208.13 191.03,-204.71 196.74,-213.64 201.06,-208.13\"/>\n",
       "</g>\n",
       "<!-- sigma -->\n",
       "<g id=\"node10\" class=\"node\">\n",
       "<title>sigma</title>\n",
       "<ellipse fill=\"none\" stroke=\"black\" cx=\"422\" cy=\"-291.98\" rx=\"57.45\" ry=\"40.66\"/>\n",
       "<text text-anchor=\"middle\" x=\"422\" y=\"-303.43\" font-family=\"Times,serif\" font-size=\"14.00\">sigma</text>\n",
       "<text text-anchor=\"middle\" x=\"422\" y=\"-286.93\" font-family=\"Times,serif\" font-size=\"14.00\">~</text>\n",
       "<text text-anchor=\"middle\" x=\"422\" y=\"-270.43\" font-family=\"Times,serif\" font-size=\"14.00\">Exponential</text>\n",
       "</g>\n",
       "<!-- sigma&#45;&gt;divorce_norm -->\n",
       "<g id=\"edge8\" class=\"edge\">\n",
       "<title>sigma&#45;&gt;divorce_norm</title>\n",
       "<path fill=\"none\" stroke=\"black\" d=\"M385.12,-260.38C368.25,-246.38 348.07,-229.64 330.12,-214.75\"/>\n",
       "<polygon fill=\"black\" stroke=\"black\" points=\"332.61,-212.27 322.68,-208.58 328.14,-217.66 332.61,-212.27\"/>\n",
       "</g>\n",
       "<!-- beta_waffle -->\n",
       "<g id=\"node11\" class=\"node\">\n",
       "<title>beta_waffle</title>\n",
       "<ellipse fill=\"none\" stroke=\"black\" cx=\"422\" cy=\"-413.79\" rx=\"56.39\" ry=\"40.66\"/>\n",
       "<text text-anchor=\"middle\" x=\"422\" y=\"-425.24\" font-family=\"Times,serif\" font-size=\"14.00\">beta_waffle</text>\n",
       "<text text-anchor=\"middle\" x=\"422\" y=\"-408.74\" font-family=\"Times,serif\" font-size=\"14.00\">~</text>\n",
       "<text text-anchor=\"middle\" x=\"422\" y=\"-392.24\" font-family=\"Times,serif\" font-size=\"14.00\">Normal</text>\n",
       "</g>\n",
       "<!-- beta_waffle&#45;&gt;mu_norm -->\n",
       "<g id=\"edge3\" class=\"edge\">\n",
       "<title>beta_waffle&#45;&gt;mu_norm</title>\n",
       "<path fill=\"none\" stroke=\"black\" d=\"M394.51,-378.24C384.15,-365.93 371.97,-352.25 360,-340.63 355.85,-336.61 351.4,-332.57 346.85,-328.63\"/>\n",
       "<polygon fill=\"black\" stroke=\"black\" points=\"349.13,-325.97 339.23,-322.19 344.61,-331.32 349.13,-325.97\"/>\n",
       "</g>\n",
       "<!-- alpha -->\n",
       "<g id=\"node12\" class=\"node\">\n",
       "<title>alpha</title>\n",
       "<ellipse fill=\"none\" stroke=\"black\" cx=\"537\" cy=\"-413.79\" rx=\"41.01\" ry=\"40.66\"/>\n",
       "<text text-anchor=\"middle\" x=\"537\" y=\"-425.24\" font-family=\"Times,serif\" font-size=\"14.00\">alpha</text>\n",
       "<text text-anchor=\"middle\" x=\"537\" y=\"-408.74\" font-family=\"Times,serif\" font-size=\"14.00\">~</text>\n",
       "<text text-anchor=\"middle\" x=\"537\" y=\"-392.24\" font-family=\"Times,serif\" font-size=\"14.00\">Normal</text>\n",
       "</g>\n",
       "<!-- alpha&#45;&gt;mu_norm -->\n",
       "<g id=\"edge7\" class=\"edge\">\n",
       "<title>alpha&#45;&gt;mu_norm</title>\n",
       "<path fill=\"none\" stroke=\"black\" d=\"M520.57,-376.43C512.48,-362.82 501.34,-348.71 487,-340.63 461.59,-326.32 383.47,-342.44 356,-332.63 351.82,-331.14 347.67,-329.23 343.64,-327.05\"/>\n",
       "<polygon fill=\"black\" stroke=\"black\" points=\"345.59,-324.13 335.22,-321.96 341.97,-330.12 345.59,-324.13\"/>\n",
       "</g>\n",
       "<!-- beta_age -->\n",
       "<g id=\"node13\" class=\"node\">\n",
       "<title>beta_age</title>\n",
       "<ellipse fill=\"none\" stroke=\"black\" cx=\"641\" cy=\"-413.79\" rx=\"45.25\" ry=\"40.66\"/>\n",
       "<text text-anchor=\"middle\" x=\"641\" y=\"-425.24\" font-family=\"Times,serif\" font-size=\"14.00\">beta_age</text>\n",
       "<text text-anchor=\"middle\" x=\"641\" y=\"-408.74\" font-family=\"Times,serif\" font-size=\"14.00\">~</text>\n",
       "<text text-anchor=\"middle\" x=\"641\" y=\"-392.24\" font-family=\"Times,serif\" font-size=\"14.00\">Normal</text>\n",
       "</g>\n",
       "<!-- beta_age&#45;&gt;mu_norm -->\n",
       "<g id=\"edge4\" class=\"edge\">\n",
       "<title>beta_age&#45;&gt;mu_norm</title>\n",
       "<path fill=\"none\" stroke=\"black\" d=\"M622.74,-376.17C613.93,-362.53 601.98,-348.46 587,-340.63 564.24,-328.74 380.3,-340.95 356,-332.63 351.74,-331.18 347.52,-329.27 343.43,-327.07\"/>\n",
       "<polygon fill=\"black\" stroke=\"black\" points=\"345.23,-324.08 334.86,-321.92 341.62,-330.07 345.23,-324.08\"/>\n",
       "</g>\n",
       "</g>\n",
       "</svg>\n"
      ],
      "text/plain": [
       "<graphviz.graphs.Digraph at 0x16a067160>"
      ]
     },
     "execution_count": 37,
     "metadata": {},
     "output_type": "execute_result"
    }
   ],
   "source": [
    "m_6h1c.to_graphviz()"
   ]
  },
  {
   "cell_type": "code",
   "execution_count": 38,
   "id": "89e2b4bb-7693-4962-b8c2-4082b81854ab",
   "metadata": {
    "tags": []
   },
   "outputs": [
    {
     "data": {
      "text/html": [
       "<div>\n",
       "<style scoped>\n",
       "    .dataframe tbody tr th:only-of-type {\n",
       "        vertical-align: middle;\n",
       "    }\n",
       "\n",
       "    .dataframe tbody tr th {\n",
       "        vertical-align: top;\n",
       "    }\n",
       "\n",
       "    .dataframe thead th {\n",
       "        text-align: right;\n",
       "    }\n",
       "</style>\n",
       "<table border=\"1\" class=\"dataframe\">\n",
       "  <thead>\n",
       "    <tr style=\"text-align: right;\">\n",
       "      <th></th>\n",
       "      <th>mean</th>\n",
       "      <th>sd</th>\n",
       "      <th>hdi_5.5%</th>\n",
       "      <th>hdi_94.5%</th>\n",
       "    </tr>\n",
       "  </thead>\n",
       "  <tbody>\n",
       "    <tr>\n",
       "      <th>alpha</th>\n",
       "      <td>0.002</td>\n",
       "      <td>0.200</td>\n",
       "      <td>-0.301</td>\n",
       "      <td>0.334</td>\n",
       "    </tr>\n",
       "    <tr>\n",
       "      <th>beta_age[north]</th>\n",
       "      <td>-0.192</td>\n",
       "      <td>0.264</td>\n",
       "      <td>-0.615</td>\n",
       "      <td>0.205</td>\n",
       "    </tr>\n",
       "    <tr>\n",
       "      <th>beta_age[south]</th>\n",
       "      <td>0.490</td>\n",
       "      <td>0.371</td>\n",
       "      <td>-0.111</td>\n",
       "      <td>1.053</td>\n",
       "    </tr>\n",
       "    <tr>\n",
       "      <th>beta_waffle</th>\n",
       "      <td>0.042</td>\n",
       "      <td>0.183</td>\n",
       "      <td>-0.255</td>\n",
       "      <td>0.320</td>\n",
       "    </tr>\n",
       "    <tr>\n",
       "      <th>sigma</th>\n",
       "      <td>0.970</td>\n",
       "      <td>0.101</td>\n",
       "      <td>0.812</td>\n",
       "      <td>1.123</td>\n",
       "    </tr>\n",
       "  </tbody>\n",
       "</table>\n",
       "</div>"
      ],
      "text/plain": [
       "                  mean     sd  hdi_5.5%  hdi_94.5%\n",
       "alpha            0.002  0.200    -0.301      0.334\n",
       "beta_age[north] -0.192  0.264    -0.615      0.205\n",
       "beta_age[south]  0.490  0.371    -0.111      1.053\n",
       "beta_waffle      0.042  0.183    -0.255      0.320\n",
       "sigma            0.970  0.101     0.812      1.123"
      ]
     },
     "execution_count": 38,
     "metadata": {},
     "output_type": "execute_result"
    }
   ],
   "source": [
    "az.summary(\n",
    "    trace_6h1c,\n",
    "    var_names=[\"alpha\", \"beta\", \"sigma\"],\n",
    "    filter_vars=\"like\",\n",
    "    kind=\"stats\",\n",
    "    hdi_prob=0.89,\n",
    ")"
   ]
  },
  {
   "cell_type": "markdown",
   "id": "77f49873-f02a-47a5-9b3f-9f37391178a6",
   "metadata": {},
   "source": [
    "This gives us a lower estimate for the waffle coefficient, and higher standard deviation all around.\n",
    "So this goes some way towards explaining away the effect of the number of Waffle Houses, but the model seems pretty uncertain overall."
   ]
  },
  {
   "cell_type": "markdown",
   "id": "c0ac2273-c707-4fc9-be56-46161194ad95",
   "metadata": {},
   "source": [
    "Let's compare the models directly"
   ]
  },
  {
   "cell_type": "code",
   "execution_count": 43,
   "id": "a91a17f4-7a2d-4b10-959f-ea70b3d44890",
   "metadata": {
    "tags": []
   },
   "outputs": [
    {
     "data": {
      "image/png": "[encoded data removed]",
      "text/plain": [
       "<Figure size 800x400 with 1 Axes>"
      ]
     },
     "metadata": {},
     "output_type": "display_data"
    }
   ],
   "source": [
    "fig, ax = plt.subplots(figsize=(8, 4))\n",
    "\n",
    "az.plot_forest(\n",
    "    [trace_6h1a, trace_6h1b, trace_6h1c],\n",
    "    model_names=[\"m_6h1a\", \"m_6h1b\", \"m_6h1c\"],\n",
    "    var_names=[\"alpha\", \"beta\", \"sigma\"],\n",
    "    filter_vars=\"like\",\n",
    "    combined=True,\n",
    "    ax=ax,\n",
    ");"
   ]
  },
  {
   "cell_type": "markdown",
   "id": "8f79f111-cbca-438c-938e-54d65428569a",
   "metadata": {},
   "source": [
    "Yes, this new model really isn't very convincing.\n",
    "I'm particularly suspicious of those large posteriors for the interaction coefficients."
   ]
  },
  {
   "cell_type": "markdown",
   "id": "714347c7-2c1e-4632-8fe8-90cb22e1ef55",
   "metadata": {},
   "source": [
    "#### Conclusion"
   ]
  },
  {
   "cell_type": "markdown",
   "id": "fd796888-d343-4b74-b39c-64096c783acf",
   "metadata": {},
   "source": [
    "My estimate for the causal influence is that an increase of 100 Waffle Houses per million causes an increase in the divorce rate of 0.5%.\n",
    "I'm not particularly convinced of this, since the posterior predictions don't look like a good fit to the data and my work in 5H4 suggests that interaction terms are needed, but I'm not confident in my ability to include those at present."
   ]
  },
  {
   "cell_type": "markdown",
   "id": "2228c929-7b70-4cad-a7ed-2afd8b08578e",
   "metadata": {},
   "source": [
    "### 6H2\n",
    "Build a series of models to test the implied conditional independencies of the causal graph you used in the previous problem.\n",
    "If any of the tests fail, how do you think the graph needs to be amended?\n",
    "Does the graph need more or fewer arrows?\n",
    "Feel gree to nominate variables that aren't in the data.\n",
    "\n",
    "---"
   ]
  },
  {
   "cell_type": "markdown",
   "id": "9b1ea41a-75f9-4f03-82aa-15fe0347ca55",
   "metadata": {},
   "source": [
    "The conditional independencies of the graph are as follows:\n",
    "1. $D$ is independent of $S$, conditional on $A$ and $W$\n",
    "2. $D$ is independent of $M$, conditional on $A$ and $S$\n",
    "2. $D$ is independent of $M$, conditional on $A$ and $W$\n",
    "3. $W$ is independent of $A$, conditional on $S$\n",
    "4. $W$ is independent of $M$, conditional on $S$"
   ]
  },
  {
   "cell_type": "code",
   "execution_count": null,
   "id": "a167cb66-3328-4dfb-96df-9a8fce65e0cb",
   "metadata": {},
   "outputs": [],
   "source": []
  }
 ],
 "metadata": {
  "kernelspec": {
   "display_name": "Python 3 (ipykernel)",
   "language": "python",
   "name": "python3"
  },
  "language_info": {
   "codemirror_mode": {
    "name": "ipython",
    "version": 3
   },
   "file_extension": ".py",
   "mimetype": "text/x-python",
   "name": "python",
   "nbconvert_exporter": "python",
   "pygments_lexer": "ipython3",
   "version": "3.10.13"
  }
 },
 "nbformat": 4,
 "nbformat_minor": 5
}
