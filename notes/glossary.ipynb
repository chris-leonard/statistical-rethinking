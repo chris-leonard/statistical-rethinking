{
 "cells": [
  {
   "cell_type": "markdown",
   "id": "f7f64ba7-9520-4fdf-a696-7b24e381970c",
   "metadata": {},
   "source": [
    "# Glossary"
   ]
  },
  {
   "cell_type": "markdown",
   "id": "a4a5aa2d-dfc0-46b5-9a7b-727c1f3d2641",
   "metadata": {},
   "source": [
    "#### D-separation\n",
    "\n",
    "*p174* In a DAG, d-separation means some variables in a graph are independent of others.\n",
    "That is, there is no path connecting them.\n",
    "The 'D' stands for directional."
   ]
  },
  {
   "cell_type": "markdown",
   "id": "ba849b18-6517-4d1f-867e-5dbbeed0f6f9",
   "metadata": {},
   "source": [
    "#### Included variable bias"
   ]
  },
  {
   "cell_type": "markdown",
   "id": "c2395e20-2596-4fd4-be05-86fdaddb1a33",
   "metadata": {},
   "source": [
    "*p170* Mistaken inferences arising from including variables.\n",
    "\n",
    "E.g. post-treatment bias."
   ]
  },
  {
   "cell_type": "markdown",
   "id": "1eabd493-27c4-43b2-b810-9c0d115fc172",
   "metadata": {},
   "source": [
    "#### Omitted variable bias"
   ]
  },
  {
   "cell_type": "markdown",
   "id": "e360f625-1829-4958-aed8-bdefda5ace9e",
   "metadata": {},
   "source": [
    "*p.170* Mistaken inferences that arise from omitting predictor variables. \n",
    "\n",
    "E.g. a masked relationship where two variables are positively associated with each other but one is positively associated with the outcome and the other is negatively associated with the outcome."
   ]
  },
  {
   "cell_type": "markdown",
   "id": "89f083cf-1998-4033-8248-6f49efe88090",
   "metadata": {},
   "source": [
    "#### Post-treatment bias\n",
    "\n",
    "*p170* Mistaken inferences arising from including a predictor that is affected by the treatment you are measuring the effect of."
   ]
  },
  {
   "cell_type": "code",
   "execution_count": null,
   "id": "b74459b1-7fdd-42f4-be4f-5213d5a4a331",
   "metadata": {},
   "outputs": [],
   "source": []
  }
 ],
 "metadata": {
  "kernelspec": {
   "display_name": "Python 3 (ipykernel)",
   "language": "python",
   "name": "python3"
  },
  "language_info": {
   "codemirror_mode": {
    "name": "ipython",
    "version": 3
   },
   "file_extension": ".py",
   "mimetype": "text/x-python",
   "name": "python",
   "nbconvert_exporter": "python",
   "pygments_lexer": "ipython3",
   "version": "3.10.13"
  }
 },
 "nbformat": 4,
 "nbformat_minor": 5
}
