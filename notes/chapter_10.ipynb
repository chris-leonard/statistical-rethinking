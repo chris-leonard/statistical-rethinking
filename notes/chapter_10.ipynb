{
 "cells": [
  {
   "cell_type": "markdown",
   "id": "2f6e577f-6a79-494d-86ff-252a06539feb",
   "metadata": {},
   "source": [
    "# Chapter 10 - Notes"
   ]
  },
  {
   "cell_type": "markdown",
   "id": "bc461464-2184-4376-b25b-e90b6e6b6f38",
   "metadata": {},
   "source": [
    "## Set Up"
   ]
  },
  {
   "cell_type": "markdown",
   "id": "e566d621-65f5-4042-8903-40ac2cea114f",
   "metadata": {},
   "source": [
    "### Packages"
   ]
  },
  {
   "cell_type": "code",
   "execution_count": 1,
   "id": "5d3a97d0-c6c7-4b45-acde-c143199f3c04",
   "metadata": {
    "tags": []
   },
   "outputs": [
    {
     "name": "stderr",
     "output_type": "stream",
     "text": [
      "WARNING (pytensor.tensor.blas): Using NumPy C-API based implementation for BLAS functions.\n"
     ]
    }
   ],
   "source": [
    "import os\n",
    "\n",
    "import arviz as az\n",
    "import matplotlib.pyplot as plt\n",
    "import numpy as np\n",
    "import pandas as pd\n",
    "import pymc as pm\n",
    "import seaborn as sns\n",
    "from scipy import stats\n",
    "from sklearn.preprocessing import StandardScaler"
   ]
  },
  {
   "cell_type": "markdown",
   "id": "0ea68caa-9a6f-4135-b2c6-74d1c14fb137",
   "metadata": {},
   "source": [
    "### Defaults"
   ]
  },
  {
   "cell_type": "code",
   "execution_count": 2,
   "id": "60b05a78-c23a-4516-98eb-66c772821cd7",
   "metadata": {
    "tags": []
   },
   "outputs": [],
   "source": [
    "# seaborn defaults\n",
    "sns.set(\n",
    "    style=\"whitegrid\",\n",
    "    font_scale=1.2,\n",
    "    rc={\n",
    "        \"axes.edgecolor\": \"0\",\n",
    "        \"axes.grid.which\": \"both\",\n",
    "        \"axes.labelcolor\": \"0\",\n",
    "        \"axes.spines.right\": False,\n",
    "        \"axes.spines.top\": False,\n",
    "        \"xtick.bottom\": True,\n",
    "        \"ytick.left\": True,\n",
    "    },\n",
    ")\n",
    "\n",
    "colors = sns.color_palette()"
   ]
  },
  {
   "cell_type": "markdown",
   "id": "9ec8cf20-fe18-4310-8dcd-f633d971177d",
   "metadata": {},
   "source": [
    "### Constants"
   ]
  },
  {
   "cell_type": "code",
   "execution_count": 3,
   "id": "08e5c7f4-9b58-4cb5-84f9-9d438bd1bf2e",
   "metadata": {
    "tags": []
   },
   "outputs": [],
   "source": [
    "DATA_DIR = \"../data\"\n",
    "HOWELL_FILE = \"howell.csv\"\n",
    "CHERRY_BLOSSOMS_FILE = \"cherry_blossoms.csv\"\n",
    "WAFFLE_DIVORCE_FILE = \"waffle_divorce.csv\"\n",
    "MILK_FILE = \"milk.csv\"\n",
    "\n",
    "RANDOM_SEED = 42"
   ]
  },
  {
   "cell_type": "code",
   "execution_count": 4,
   "id": "26205308-5762-47fa-ac48-8d4a1c1ebc92",
   "metadata": {
    "tags": []
   },
   "outputs": [],
   "source": [
    "def load_data(file_name, data_dir=DATA_DIR, **kwargs):\n",
    "    path = os.path.join(data_dir, file_name)\n",
    "    return pd.read_csv(path, **kwargs)"
   ]
  },
  {
   "cell_type": "markdown",
   "id": "2d8eada4-794c-432d-9cbf-cf7a2d393649",
   "metadata": {},
   "source": [
    "## 10.1 Maximum entropy"
   ]
  },
  {
   "cell_type": "markdown",
   "id": "4e785bb0-471d-4b32-b23f-90306a698670",
   "metadata": {},
   "source": [
    "### 10.1.1 Gaussian"
   ]
  },
  {
   "cell_type": "markdown",
   "id": "5a67bde9-733b-4235-96ac-c5c769101500",
   "metadata": {},
   "source": [
    "The Gaussian distribution is the highest entropy continuous distribution with a given (finite) variance."
   ]
  },
  {
   "cell_type": "markdown",
   "id": "62d5d238-219b-469a-8766-86bc22734e44",
   "metadata": {},
   "source": [
    "### 10.1.2 Binomial"
   ]
  },
  {
   "cell_type": "markdown",
   "id": "42ebcc9a-5749-4d3a-9be4-5b3cec957cc2",
   "metadata": {},
   "source": [
    "The Binomial distribution is the highest entropy discrete distribution with two possible unordered outcomes and a given (finite) expected value.\n",
    "More precisely it is the maximum extropy distribution among generalised binomial distributions (a distribution of the sum of $n$ independent but not identically distributed Bernoulli variables) with fixed expected value."
   ]
  },
  {
   "cell_type": "markdown",
   "id": "41fa34dd-f117-4d2a-8e4b-062cc5a44423",
   "metadata": {},
   "source": [
    "## 10.2 General linear models"
   ]
  },
  {
   "cell_type": "markdown",
   "id": "3f50fc8e-d982-46b8-ba3b-1fb877762872",
   "metadata": {},
   "source": [
    "### 10.2.1 Meet the family"
   ]
  },
  {
   "cell_type": "markdown",
   "id": "c965c7cc-c08e-4178-b71d-489eafad955a",
   "metadata": {},
   "source": [
    "The Exponential distribution has maximum entropy among all non-negative continuous distributions with a given expected value.\n",
    "It arises as the distribution of the difference (in time or space) between subsequent independent events, when those events occur at a constant rate."
   ]
  },
  {
   "cell_type": "markdown",
   "id": "d19f421b-5015-47cc-b981-9a1d920c97e2",
   "metadata": {},
   "source": [
    "The Gamma distribuiton has maximum entropy among all non-negative continuous distributions with a given expected value and expected log logarithm.\n",
    "It arises as a sum of Exponential distributions, or in other words, as the distribution of the time it takes for $k$ subsequent independent events that occur at a constant rate."
   ]
  },
  {
   "cell_type": "markdown",
   "id": "5938367b-e535-4d5f-ad48-70580ecd395a",
   "metadata": {},
   "source": [
    "The Poisson distribution is the limit of the Binomial distribution as $n\\to \\infty$ with $\\lambda=np$ as the rate of events.\n",
    "It arises as the number of events in a fixed time period, where the events are independent and occur at a constant rate.\n",
    "It is used for counts that never approach any theoretical maximum. More precisely, it has maximum entropy among the set of generalised Binomial distributions fixed expected value and $n\\to\\infty$."
   ]
  },
  {
   "cell_type": "markdown",
   "id": "37716124-d755-4456-86f5-f51fdee0bb42",
   "metadata": {},
   "source": []
  }
 ],
 "metadata": {
  "kernelspec": {
   "display_name": "Python 3 (ipykernel)",
   "language": "python",
   "name": "python3"
  },
  "language_info": {
   "codemirror_mode": {
    "name": "ipython",
    "version": 3
   },
   "file_extension": ".py",
   "mimetype": "text/x-python",
   "name": "python",
   "nbconvert_exporter": "python",
   "pygments_lexer": "ipython3",
   "version": "3.10.13"
  }
 },
 "nbformat": 4,
 "nbformat_minor": 5
}
