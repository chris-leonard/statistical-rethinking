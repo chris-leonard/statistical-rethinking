{
 "cells": [
  {
   "cell_type": "markdown",
   "id": "2f6e577f-6a79-494d-86ff-252a06539feb",
   "metadata": {},
   "source": [
    "# Chapter 6 - Notes"
   ]
  },
  {
   "cell_type": "markdown",
   "id": "bc461464-2184-4376-b25b-e90b6e6b6f38",
   "metadata": {},
   "source": [
    "## Set Up"
   ]
  },
  {
   "cell_type": "markdown",
   "id": "e566d621-65f5-4042-8903-40ac2cea114f",
   "metadata": {},
   "source": [
    "### Packages"
   ]
  },
  {
   "cell_type": "code",
   "execution_count": 1,
   "id": "5d3a97d0-c6c7-4b45-acde-c143199f3c04",
   "metadata": {
    "tags": []
   },
   "outputs": [
    {
     "name": "stderr",
     "output_type": "stream",
     "text": [
      "WARNING (pytensor.tensor.blas): Using NumPy C-API based implementation for BLAS functions.\n"
     ]
    }
   ],
   "source": [
    "import os\n",
    "\n",
    "import arviz as az\n",
    "import matplotlib.pyplot as plt\n",
    "import numpy as np\n",
    "import pandas as pd\n",
    "import pymc as pm\n",
    "import seaborn as sns\n",
    "import xarray as xr\n",
    "from scipy import stats\n",
    "from scipy.special import expit, logit, logsumexp, softmax\n",
    "from sklearn.preprocessing import StandardScaler"
   ]
  },
  {
   "cell_type": "markdown",
   "id": "0ea68caa-9a6f-4135-b2c6-74d1c14fb137",
   "metadata": {},
   "source": [
    "### Defaults"
   ]
  },
  {
   "cell_type": "code",
   "execution_count": 2,
   "id": "60b05a78-c23a-4516-98eb-66c772821cd7",
   "metadata": {
    "tags": []
   },
   "outputs": [],
   "source": [
    "# seaborn defaults\n",
    "sns.set(\n",
    "    style=\"whitegrid\",\n",
    "    font_scale=1.2,\n",
    "    rc={\n",
    "        \"axes.edgecolor\": \"0\",\n",
    "        \"axes.grid.which\": \"both\",\n",
    "        \"axes.labelcolor\": \"0\",\n",
    "        \"axes.spines.right\": False,\n",
    "        \"axes.spines.top\": False,\n",
    "        \"xtick.bottom\": True,\n",
    "        \"ytick.left\": True,\n",
    "    },\n",
    ")\n",
    "\n",
    "colors = sns.color_palette()"
   ]
  },
  {
   "cell_type": "markdown",
   "id": "9ec8cf20-fe18-4310-8dcd-f633d971177d",
   "metadata": {},
   "source": [
    "### Constants"
   ]
  },
  {
   "cell_type": "code",
   "execution_count": 3,
   "id": "08e5c7f4-9b58-4cb5-84f9-9d438bd1bf2e",
   "metadata": {
    "tags": []
   },
   "outputs": [],
   "source": [
    "DATA_DIR = \"../data\"\n",
    "HOWELL_FILE = \"howell.csv\"\n",
    "CHERRY_BLOSSOMS_FILE = \"cherry_blossoms.csv\"\n",
    "WAFFLE_DIVORCE_FILE = \"waffle_divorce.csv\"\n",
    "MILK_FILE = \"milk.csv\"\n",
    "CHIMPANZEES_FILE = \"chimpanzees.csv\"\n",
    "ADMISSIONS_FILE = \"ucbadmit.csv\"\n",
    "KLINE_FILE = \"kline.csv\"\n",
    "REEDFROGS_FILE = \"reedfrogs.csv\"\n",
    "CARS_FILE = \"cars.csv\"\n",
    "\n",
    "RANDOM_SEED = 42"
   ]
  },
  {
   "cell_type": "code",
   "execution_count": 4,
   "id": "26205308-5762-47fa-ac48-8d4a1c1ebc92",
   "metadata": {
    "tags": []
   },
   "outputs": [],
   "source": [
    "def load_data(file_name, data_dir=DATA_DIR, **kwargs):\n",
    "    path = os.path.join(data_dir, file_name)\n",
    "    return pd.read_csv(path, **kwargs)"
   ]
  },
  {
   "cell_type": "markdown",
   "id": "daa3fbf3-4c34-4ea3-8b8d-f5013576d000",
   "metadata": {},
   "source": [
    "Set seed"
   ]
  },
  {
   "cell_type": "code",
   "execution_count": 5,
   "id": "438ec4a0-32ae-4db5-82f0-89fe03dec616",
   "metadata": {
    "tags": []
   },
   "outputs": [],
   "source": [
    "rng = np.random.default_rng(RANDOM_SEED)"
   ]
  },
  {
   "cell_type": "markdown",
   "id": "2ee58be2-fe64-4305-840c-50d8df1d18f8",
   "metadata": {},
   "source": [
    "## 6.1 Multicollinearity"
   ]
  },
  {
   "cell_type": "markdown",
   "id": "7ca41e52-eafa-4b3b-816b-e2a6c3734426",
   "metadata": {},
   "source": [
    "### 6.1.1 Multicollinear legs"
   ]
  },
  {
   "cell_type": "markdown",
   "id": "20d4da22-e6a4-49c3-8598-f6586b2f37c0",
   "metadata": {},
   "source": [
    "Simulate data with colinear predictors"
   ]
  },
  {
   "cell_type": "code",
   "execution_count": 6,
   "id": "81be8cd9-0eea-425b-8bee-2217d650e611",
   "metadata": {
    "tags": []
   },
   "outputs": [],
   "source": [
    "N = 100\n",
    "\n",
    "rng = np.random.default_rng(RANDOM_SEED)\n",
    "\n",
    "height = rng.normal(loc=10, scale=2, size=N)\n",
    "leg_prop = rng.uniform(low=0.4, high=0.5, size=N)\n",
    "leg_left = leg_prop * height + rng.normal(loc=0, scale=0.02, size=N)\n",
    "leg_right = leg_prop * height + rng.normal(loc=0, scale=0.02, size=N)\n",
    "\n",
    "legs = pd.DataFrame(\n",
    "    {\n",
    "        \"height\": height,\n",
    "        \"leg_left\": leg_left,\n",
    "        \"leg_right\": leg_right,\n",
    "    }\n",
    ")"
   ]
  },
  {
   "cell_type": "markdown",
   "id": "87a5b1ea-a1f8-44b3-9bc3-6d399424ca8b",
   "metadata": {},
   "source": [
    "Now fit a model with both predictors"
   ]
  },
  {
   "cell_type": "code",
   "execution_count": 7,
   "id": "b23ab379-8e20-4451-a012-5046d4343ee2",
   "metadata": {
    "tags": []
   },
   "outputs": [
    {
     "name": "stderr",
     "output_type": "stream",
     "text": [
      "Auto-assigning NUTS sampler...\n",
      "Initializing NUTS using jitter+adapt_diag...\n",
      "Multiprocess sampling (4 chains in 4 jobs)\n",
      "NUTS: [alpha, beta_l, beta_r, sigma]\n"
     ]
    },
    {
     "data": {
      "text/html": [
       "\n",
       "<style>\n",
       "    /* Turns off some styling */\n",
       "    progress {\n",
       "        /* gets rid of default border in Firefox and Opera. */\n",
       "        border: none;\n",
       "        /* Needs to be in here for Safari polyfill so background images work as expected. */\n",
       "        background-size: auto;\n",
       "    }\n",
       "    progress:not([value]), progress:not([value])::-webkit-progress-bar {\n",
       "        background: repeating-linear-gradient(45deg, #7e7e7e, #7e7e7e 10px, #5c5c5c 10px, #5c5c5c 20px);\n",
       "    }\n",
       "    .progress-bar-interrupted, .progress-bar-interrupted::-webkit-progress-bar {\n",
       "        background: #F44336;\n",
       "    }\n",
       "</style>\n"
      ],
      "text/plain": [
       "<IPython.core.display.HTML object>"
      ]
     },
     "metadata": {},
     "output_type": "display_data"
    },
    {
     "data": {
      "text/html": [
       "\n",
       "    <div>\n",
       "      <progress value='8000' class='' max='8000' style='width:300px; height:20px; vertical-align: middle;'></progress>\n",
       "      100.00% [8000/8000 00:43&lt;00:00 Sampling 4 chains, 0 divergences]\n",
       "    </div>\n",
       "    "
      ],
      "text/plain": [
       "<IPython.core.display.HTML object>"
      ]
     },
     "metadata": {},
     "output_type": "display_data"
    },
    {
     "name": "stderr",
     "output_type": "stream",
     "text": [
      "Sampling 4 chains for 1_000 tune and 1_000 draw iterations (4_000 + 4_000 draws total) took 44 seconds.\n"
     ]
    }
   ],
   "source": [
    "coords = {\n",
    "    \"obs_id\": legs.index,\n",
    "}\n",
    "with pm.Model(coords_mutable=coords) as m6_1:\n",
    "    # data\n",
    "    leg_left = pm.MutableData(\"leg_left\", legs.leg_left, dims=\"obs_id\")\n",
    "    leg_right = pm.MutableData(\"leg_right\", legs.leg_right, dims=\"obs_id\")\n",
    "\n",
    "    # priors\n",
    "    alpha = pm.Normal(\"alpha\", mu=10, sigma=100)\n",
    "    beta_l = pm.Normal(\"beta_l\", mu=2, sigma=10)\n",
    "    beta_r = pm.Normal(\"beta_r\", mu=2, sigma=10)\n",
    "    sigma = pm.Exponential(\"sigma\", lam=1)\n",
    "\n",
    "    # model\n",
    "    mu = pm.Deterministic(\n",
    "        \"mu\", alpha + beta_l * leg_left + beta_r * leg_right, dims=\"obs_id\"\n",
    "    )\n",
    "\n",
    "    # likelihood\n",
    "    height = pm.Normal(\n",
    "        \"height\", mu=mu, sigma=sigma, observed=legs.height, dims=\"obs_id\"\n",
    "    )\n",
    "\n",
    "    # fit\n",
    "    trace_6_1 = pm.sample(random_seed=RANDOM_SEED)"
   ]
  },
  {
   "cell_type": "markdown",
   "id": "f664d333-7613-4c2e-9da2-101184194871",
   "metadata": {},
   "source": [
    "Look at the results"
   ]
  },
  {
   "cell_type": "code",
   "execution_count": 8,
   "id": "31482b7d-20f8-40eb-a1a2-8a9bd82c8923",
   "metadata": {
    "tags": []
   },
   "outputs": [
    {
     "data": {
      "text/html": [
       "<div>\n",
       "<style scoped>\n",
       "    .dataframe tbody tr th:only-of-type {\n",
       "        vertical-align: middle;\n",
       "    }\n",
       "\n",
       "    .dataframe tbody tr th {\n",
       "        vertical-align: top;\n",
       "    }\n",
       "\n",
       "    .dataframe thead th {\n",
       "        text-align: right;\n",
       "    }\n",
       "</style>\n",
       "<table border=\"1\" class=\"dataframe\">\n",
       "  <thead>\n",
       "    <tr style=\"text-align: right;\">\n",
       "      <th></th>\n",
       "      <th>mean</th>\n",
       "      <th>sd</th>\n",
       "      <th>hdi_5.5%</th>\n",
       "      <th>hdi_94.5%</th>\n",
       "    </tr>\n",
       "  </thead>\n",
       "  <tbody>\n",
       "    <tr>\n",
       "      <th>alpha</th>\n",
       "      <td>1.841</td>\n",
       "      <td>0.329</td>\n",
       "      <td>1.309</td>\n",
       "      <td>2.353</td>\n",
       "    </tr>\n",
       "    <tr>\n",
       "      <th>beta_l</th>\n",
       "      <td>1.794</td>\n",
       "      <td>1.977</td>\n",
       "      <td>-1.554</td>\n",
       "      <td>4.782</td>\n",
       "    </tr>\n",
       "    <tr>\n",
       "      <th>beta_r</th>\n",
       "      <td>0.011</td>\n",
       "      <td>1.973</td>\n",
       "      <td>-3.021</td>\n",
       "      <td>3.284</td>\n",
       "    </tr>\n",
       "    <tr>\n",
       "      <th>sigma</th>\n",
       "      <td>0.577</td>\n",
       "      <td>0.042</td>\n",
       "      <td>0.513</td>\n",
       "      <td>0.645</td>\n",
       "    </tr>\n",
       "  </tbody>\n",
       "</table>\n",
       "</div>"
      ],
      "text/plain": [
       "         mean     sd  hdi_5.5%  hdi_94.5%\n",
       "alpha   1.841  0.329     1.309      2.353\n",
       "beta_l  1.794  1.977    -1.554      4.782\n",
       "beta_r  0.011  1.973    -3.021      3.284\n",
       "sigma   0.577  0.042     0.513      0.645"
      ]
     },
     "execution_count": 8,
     "metadata": {},
     "output_type": "execute_result"
    }
   ],
   "source": [
    "az.summary(\n",
    "    trace_6_1,\n",
    "    var_names=[\"~mu\"],\n",
    "    kind=\"stats\",\n",
    "    hdi_prob=0.89,\n",
    ")"
   ]
  },
  {
   "cell_type": "markdown",
   "id": "c3e6d2be-84c7-46ce-b82d-4c982036f08e",
   "metadata": {
    "tags": []
   },
   "source": [
    "Note the extremely high standard deviation in the coefficients."
   ]
  },
  {
   "cell_type": "code",
   "execution_count": 9,
   "id": "9a195802-d29c-43d4-8cb9-7f4465cede97",
   "metadata": {
    "tags": []
   },
   "outputs": [
    {
     "data": {
      "image/png": "[encoded data removed]",
      "text/plain": [
       "<Figure size 800x100 with 1 Axes>"
      ]
     },
     "metadata": {},
     "output_type": "display_data"
    }
   ],
   "source": [
    "fig, ax = plt.subplots(figsize=(8, 1))\n",
    "\n",
    "az.plot_forest(\n",
    "    trace_6_1,\n",
    "    var_names=[\"~mu\"],\n",
    "    combined=True,\n",
    "    hdi_prob=0.89,\n",
    "    ax=ax,\n",
    ");"
   ]
  },
  {
   "cell_type": "markdown",
   "id": "fd5da901-c273-4be3-b02b-420c87cbfa29",
   "metadata": {},
   "source": [
    "We can see more clearly what is going on by plotting the bivariate distribution of the coefficients and their sum."
   ]
  },
  {
   "cell_type": "code",
   "execution_count": 10,
   "id": "be4e8565-e3cc-48f2-8c53-22250925bc78",
   "metadata": {
    "tags": []
   },
   "outputs": [
    {
     "data": {
      "image/png": "[encoded data removed]",
      "text/plain": [
       "<Figure size 1100x500 with 2 Axes>"
      ]
     },
     "metadata": {},
     "output_type": "display_data"
    }
   ],
   "source": [
    "fig, axs = plt.subplots(ncols=2, figsize=(11, 5))\n",
    "\n",
    "az.plot_pair(\n",
    "    trace_6_1,\n",
    "    var_names=[\"beta_l\", \"beta_r\"],\n",
    "    filter_vars=\"regex\",\n",
    "    # ax=np.array([axs[:1]]),\n",
    "    ax=axs[0],\n",
    ")\n",
    "\n",
    "trace_6_1.posterior[\"beta_sum\"] = (\n",
    "    trace_6_1.posterior.beta_l + trace_6_1.posterior.beta_r\n",
    ")\n",
    "az.plot_posterior(\n",
    "    trace_6_1,\n",
    "    var_names=\"beta_sum\",\n",
    "    ax=axs[1],\n",
    ")\n",
    "\n",
    "axs[0].set(\n",
    "    title=\"Bivariate distribution\",\n",
    ")\n",
    "axs[1].set(\n",
    "    title=\"Distribution of sum\",\n",
    ")\n",
    "\n",
    "fig.suptitle(\"Posteriors of beta_l and beta_r\")\n",
    "fig.tight_layout();"
   ]
  },
  {
   "cell_type": "markdown",
   "id": "506b90d6-3d71-4165-ad6c-758613e97775",
   "metadata": {},
   "source": [
    "Now fit a model on just left leg lengths."
   ]
  },
  {
   "cell_type": "code",
   "execution_count": 11,
   "id": "4e1d59fa-3c7b-4bee-94df-22e753be3114",
   "metadata": {
    "tags": []
   },
   "outputs": [
    {
     "name": "stderr",
     "output_type": "stream",
     "text": [
      "Auto-assigning NUTS sampler...\n",
      "Initializing NUTS using jitter+adapt_diag...\n",
      "Multiprocess sampling (4 chains in 4 jobs)\n",
      "NUTS: [alpha, beta_l, sigma]\n"
     ]
    },
    {
     "data": {
      "text/html": [
       "\n",
       "<style>\n",
       "    /* Turns off some styling */\n",
       "    progress {\n",
       "        /* gets rid of default border in Firefox and Opera. */\n",
       "        border: none;\n",
       "        /* Needs to be in here for Safari polyfill so background images work as expected. */\n",
       "        background-size: auto;\n",
       "    }\n",
       "    progress:not([value]), progress:not([value])::-webkit-progress-bar {\n",
       "        background: repeating-linear-gradient(45deg, #7e7e7e, #7e7e7e 10px, #5c5c5c 10px, #5c5c5c 20px);\n",
       "    }\n",
       "    .progress-bar-interrupted, .progress-bar-interrupted::-webkit-progress-bar {\n",
       "        background: #F44336;\n",
       "    }\n",
       "</style>\n"
      ],
      "text/plain": [
       "<IPython.core.display.HTML object>"
      ]
     },
     "metadata": {},
     "output_type": "display_data"
    },
    {
     "data": {
      "text/html": [
       "\n",
       "    <div>\n",
       "      <progress value='8000' class='' max='8000' style='width:300px; height:20px; vertical-align: middle;'></progress>\n",
       "      100.00% [8000/8000 00:01&lt;00:00 Sampling 4 chains, 0 divergences]\n",
       "    </div>\n",
       "    "
      ],
      "text/plain": [
       "<IPython.core.display.HTML object>"
      ]
     },
     "metadata": {},
     "output_type": "display_data"
    },
    {
     "name": "stderr",
     "output_type": "stream",
     "text": [
      "Sampling 4 chains for 1_000 tune and 1_000 draw iterations (4_000 + 4_000 draws total) took 2 seconds.\n"
     ]
    }
   ],
   "source": [
    "coords = {\n",
    "    \"obs_id\": legs.index,\n",
    "}\n",
    "with pm.Model(coords_mutable=coords) as m6_2:\n",
    "    # data\n",
    "    leg_left = pm.MutableData(\"leg_left\", legs.leg_left, dims=\"obs_id\")\n",
    "\n",
    "    # priors\n",
    "    alpha = pm.Normal(\"alpha\", mu=10, sigma=100)\n",
    "    beta_l = pm.Normal(\"beta_l\", mu=2, sigma=10)\n",
    "    sigma = pm.Exponential(\"sigma\", lam=1)\n",
    "\n",
    "    # model\n",
    "    mu = pm.Deterministic(\"mu\", alpha + beta_l * leg_left, dims=\"obs_id\")\n",
    "\n",
    "    # likelihood\n",
    "    height = pm.Normal(\n",
    "        \"height\", mu=mu, sigma=sigma, observed=legs.height, dims=\"obs_id\"\n",
    "    )\n",
    "\n",
    "    # fit\n",
    "    trace_6_2 = pm.sample(random_seed=RANDOM_SEED)"
   ]
  },
  {
   "cell_type": "markdown",
   "id": "7f82c1a9-9d79-4cc6-8c9a-1d0092e4d768",
   "metadata": {},
   "source": [
    "Look at the results"
   ]
  },
  {
   "cell_type": "code",
   "execution_count": 12,
   "id": "669e8fc0-ceec-47f1-8ec1-bfb80fa5f1de",
   "metadata": {
    "tags": []
   },
   "outputs": [
    {
     "data": {
      "text/html": [
       "<div>\n",
       "<style scoped>\n",
       "    .dataframe tbody tr th:only-of-type {\n",
       "        vertical-align: middle;\n",
       "    }\n",
       "\n",
       "    .dataframe tbody tr th {\n",
       "        vertical-align: top;\n",
       "    }\n",
       "\n",
       "    .dataframe thead th {\n",
       "        text-align: right;\n",
       "    }\n",
       "</style>\n",
       "<table border=\"1\" class=\"dataframe\">\n",
       "  <thead>\n",
       "    <tr style=\"text-align: right;\">\n",
       "      <th></th>\n",
       "      <th>mean</th>\n",
       "      <th>sd</th>\n",
       "      <th>hdi_5.5%</th>\n",
       "      <th>hdi_94.5%</th>\n",
       "    </tr>\n",
       "  </thead>\n",
       "  <tbody>\n",
       "    <tr>\n",
       "      <th>alpha</th>\n",
       "      <td>1.840</td>\n",
       "      <td>0.327</td>\n",
       "      <td>1.303</td>\n",
       "      <td>2.333</td>\n",
       "    </tr>\n",
       "    <tr>\n",
       "      <th>beta_l</th>\n",
       "      <td>1.806</td>\n",
       "      <td>0.072</td>\n",
       "      <td>1.694</td>\n",
       "      <td>1.920</td>\n",
       "    </tr>\n",
       "    <tr>\n",
       "      <th>sigma</th>\n",
       "      <td>0.575</td>\n",
       "      <td>0.041</td>\n",
       "      <td>0.509</td>\n",
       "      <td>0.637</td>\n",
       "    </tr>\n",
       "  </tbody>\n",
       "</table>\n",
       "</div>"
      ],
      "text/plain": [
       "         mean     sd  hdi_5.5%  hdi_94.5%\n",
       "alpha   1.840  0.327     1.303      2.333\n",
       "beta_l  1.806  0.072     1.694      1.920\n",
       "sigma   0.575  0.041     0.509      0.637"
      ]
     },
     "execution_count": 12,
     "metadata": {},
     "output_type": "execute_result"
    }
   ],
   "source": [
    "az.summary(\n",
    "    trace_6_2,\n",
    "    var_names=[\"~mu\"],\n",
    "    kind=\"stats\",\n",
    "    hdi_prob=0.89,\n",
    ")"
   ]
  },
  {
   "cell_type": "markdown",
   "id": "9f255cbf-0cab-435f-8642-a0e2d12bc3db",
   "metadata": {},
   "source": [
    "That looks much more reasonable."
   ]
  },
  {
   "cell_type": "markdown",
   "id": "8a71182e-b589-4076-88cc-a5af3256ec65",
   "metadata": {},
   "source": [
    "### 6.1.2 Multicollinear milk"
   ]
  },
  {
   "cell_type": "markdown",
   "id": "4d14ac43-0e2e-4935-a24a-cd824d66319b",
   "metadata": {},
   "source": [
    "Load the milk data"
   ]
  },
  {
   "cell_type": "code",
   "execution_count": 13,
   "id": "6ac7fcac-50c6-4abb-93b5-d5b698f640c5",
   "metadata": {
    "tags": []
   },
   "outputs": [],
   "source": [
    "# load data\n",
    "milk = load_data(MILK_FILE, delimiter=\";\")\n",
    "\n",
    "# rename variables\n",
    "milk.columns = milk.columns.str.replace(\".\", \"_\")\n",
    "\n",
    "# standardise variables\n",
    "cols = [\"kcal_per_g\", \"perc_fat\", \"perc_lactose\"]\n",
    "milk_normaliser = StandardScaler()\n",
    "milk_normaliser.fit(milk[cols])\n",
    "\n",
    "milk_norm = pd.DataFrame(\n",
    "    data=milk_normaliser.transform(milk[cols]),\n",
    "    columns=cols,\n",
    ")"
   ]
  },
  {
   "cell_type": "markdown",
   "id": "93ab5d08-42fa-47a0-8c05-e763c6c0d576",
   "metadata": {},
   "source": [
    "Start with two univariate models"
   ]
  },
  {
   "cell_type": "code",
   "execution_count": 14,
   "id": "a35464ec-937c-4495-87ca-53902d1123d0",
   "metadata": {
    "tags": []
   },
   "outputs": [
    {
     "name": "stderr",
     "output_type": "stream",
     "text": [
      "Auto-assigning NUTS sampler...\n",
      "Initializing NUTS using jitter+adapt_diag...\n",
      "Multiprocess sampling (4 chains in 4 jobs)\n",
      "NUTS: [alpha, beta_f, sigma]\n"
     ]
    },
    {
     "data": {
      "text/html": [
       "\n",
       "<style>\n",
       "    /* Turns off some styling */\n",
       "    progress {\n",
       "        /* gets rid of default border in Firefox and Opera. */\n",
       "        border: none;\n",
       "        /* Needs to be in here for Safari polyfill so background images work as expected. */\n",
       "        background-size: auto;\n",
       "    }\n",
       "    progress:not([value]), progress:not([value])::-webkit-progress-bar {\n",
       "        background: repeating-linear-gradient(45deg, #7e7e7e, #7e7e7e 10px, #5c5c5c 10px, #5c5c5c 20px);\n",
       "    }\n",
       "    .progress-bar-interrupted, .progress-bar-interrupted::-webkit-progress-bar {\n",
       "        background: #F44336;\n",
       "    }\n",
       "</style>\n"
      ],
      "text/plain": [
       "<IPython.core.display.HTML object>"
      ]
     },
     "metadata": {},
     "output_type": "display_data"
    },
    {
     "data": {
      "text/html": [
       "\n",
       "    <div>\n",
       "      <progress value='8000' class='' max='8000' style='width:300px; height:20px; vertical-align: middle;'></progress>\n",
       "      100.00% [8000/8000 00:00&lt;00:00 Sampling 4 chains, 0 divergences]\n",
       "    </div>\n",
       "    "
      ],
      "text/plain": [
       "<IPython.core.display.HTML object>"
      ]
     },
     "metadata": {},
     "output_type": "display_data"
    },
    {
     "name": "stderr",
     "output_type": "stream",
     "text": [
      "Sampling 4 chains for 1_000 tune and 1_000 draw iterations (4_000 + 4_000 draws total) took 1 seconds.\n",
      "Auto-assigning NUTS sampler...\n",
      "Initializing NUTS using jitter+adapt_diag...\n",
      "Multiprocess sampling (4 chains in 4 jobs)\n",
      "NUTS: [alpha, beta_l, sigma]\n"
     ]
    },
    {
     "data": {
      "text/html": [
       "\n",
       "<style>\n",
       "    /* Turns off some styling */\n",
       "    progress {\n",
       "        /* gets rid of default border in Firefox and Opera. */\n",
       "        border: none;\n",
       "        /* Needs to be in here for Safari polyfill so background images work as expected. */\n",
       "        background-size: auto;\n",
       "    }\n",
       "    progress:not([value]), progress:not([value])::-webkit-progress-bar {\n",
       "        background: repeating-linear-gradient(45deg, #7e7e7e, #7e7e7e 10px, #5c5c5c 10px, #5c5c5c 20px);\n",
       "    }\n",
       "    .progress-bar-interrupted, .progress-bar-interrupted::-webkit-progress-bar {\n",
       "        background: #F44336;\n",
       "    }\n",
       "</style>\n"
      ],
      "text/plain": [
       "<IPython.core.display.HTML object>"
      ]
     },
     "metadata": {},
     "output_type": "display_data"
    },
    {
     "data": {
      "text/html": [
       "\n",
       "    <div>\n",
       "      <progress value='8000' class='' max='8000' style='width:300px; height:20px; vertical-align: middle;'></progress>\n",
       "      100.00% [8000/8000 00:00&lt;00:00 Sampling 4 chains, 0 divergences]\n",
       "    </div>\n",
       "    "
      ],
      "text/plain": [
       "<IPython.core.display.HTML object>"
      ]
     },
     "metadata": {},
     "output_type": "display_data"
    },
    {
     "name": "stderr",
     "output_type": "stream",
     "text": [
      "Sampling 4 chains for 1_000 tune and 1_000 draw iterations (4_000 + 4_000 draws total) took 1 seconds.\n"
     ]
    }
   ],
   "source": [
    "coords = {\n",
    "    \"obs_id\": milk_norm.index,\n",
    "}\n",
    "with pm.Model(coords_mutable=coords) as m6_3:\n",
    "    # data\n",
    "    perc_fat = pm.MutableData(\"perc_fat\", milk_norm.perc_fat, dims=\"obs_id\")\n",
    "    perc_lactose = pm.MutableData(\"perc_lactose\", milk_norm.perc_lactose, dims=\"obs_id\")\n",
    "\n",
    "    # priors\n",
    "    alpha = pm.Normal(\"alpha\", mu=0, sigma=0.2)\n",
    "    beta_f = pm.Normal(\"beta_f\", mu=0, sigma=0.5)\n",
    "    sigma = pm.Exponential(\"sigma\", lam=1)\n",
    "\n",
    "    # model\n",
    "    mu = pm.Deterministic(\"mu\", alpha + beta_f * perc_fat, dims=\"obs_id\")\n",
    "\n",
    "    # likelihood\n",
    "    kcal_per_g = pm.Normal(\n",
    "        \"kcal_per_g\", mu=mu, sigma=sigma, observed=milk_norm.kcal_per_g, dims=\"obs_id\"\n",
    "    )\n",
    "\n",
    "    # sample\n",
    "    trace_6_3 = pm.sample(random_seed=RANDOM_SEED)\n",
    "\n",
    "\n",
    "with pm.Model(coords_mutable=coords) as m6_4:\n",
    "    # data\n",
    "    perc_fat = pm.MutableData(\"perc_fat\", milk_norm.perc_fat, dims=\"obs_id\")\n",
    "    perc_lactose = pm.MutableData(\"perc_lactose\", milk_norm.perc_lactose, dims=\"obs_id\")\n",
    "\n",
    "    # priors\n",
    "    alpha = pm.Normal(\"alpha\", mu=0, sigma=0.2)\n",
    "    beta_l = pm.Normal(\"beta_l\", mu=0, sigma=0.5)\n",
    "    sigma = pm.Exponential(\"sigma\", lam=1)\n",
    "\n",
    "    # model\n",
    "    mu = pm.Deterministic(\"mu\", alpha + beta_l * perc_lactose, dims=\"obs_id\")\n",
    "\n",
    "    # likelihood\n",
    "    kcal_per_g = pm.Normal(\n",
    "        \"kcal_per_g\", mu=mu, sigma=sigma, observed=milk_norm.kcal_per_g, dims=\"obs_id\"\n",
    "    )\n",
    "\n",
    "    # sample\n",
    "    trace_6_4 = pm.sample(random_seed=RANDOM_SEED)"
   ]
  },
  {
   "cell_type": "markdown",
   "id": "f2c43a5f-f998-4dd6-a369-05e7f1789111",
   "metadata": {},
   "source": [
    "Look at the posteriors"
   ]
  },
  {
   "cell_type": "code",
   "execution_count": 15,
   "id": "ee02a58a-4519-4e76-9f89-6b3b932893ba",
   "metadata": {
    "tags": []
   },
   "outputs": [
    {
     "data": {
      "text/html": [
       "<div>\n",
       "<style scoped>\n",
       "    .dataframe tbody tr th:only-of-type {\n",
       "        vertical-align: middle;\n",
       "    }\n",
       "\n",
       "    .dataframe tbody tr th {\n",
       "        vertical-align: top;\n",
       "    }\n",
       "\n",
       "    .dataframe thead th {\n",
       "        text-align: right;\n",
       "    }\n",
       "</style>\n",
       "<table border=\"1\" class=\"dataframe\">\n",
       "  <thead>\n",
       "    <tr style=\"text-align: right;\">\n",
       "      <th></th>\n",
       "      <th>mean</th>\n",
       "      <th>sd</th>\n",
       "      <th>hdi_5.5%</th>\n",
       "      <th>hdi_94.5%</th>\n",
       "    </tr>\n",
       "  </thead>\n",
       "  <tbody>\n",
       "    <tr>\n",
       "      <th>alpha</th>\n",
       "      <td>-0.00</td>\n",
       "      <td>0.08</td>\n",
       "      <td>-0.13</td>\n",
       "      <td>0.13</td>\n",
       "    </tr>\n",
       "    <tr>\n",
       "      <th>beta_f</th>\n",
       "      <td>0.86</td>\n",
       "      <td>0.09</td>\n",
       "      <td>0.71</td>\n",
       "      <td>1.00</td>\n",
       "    </tr>\n",
       "    <tr>\n",
       "      <th>sigma</th>\n",
       "      <td>0.50</td>\n",
       "      <td>0.07</td>\n",
       "      <td>0.39</td>\n",
       "      <td>0.60</td>\n",
       "    </tr>\n",
       "  </tbody>\n",
       "</table>\n",
       "</div>"
      ],
      "text/plain": [
       "        mean    sd  hdi_5.5%  hdi_94.5%\n",
       "alpha  -0.00  0.08     -0.13       0.13\n",
       "beta_f  0.86  0.09      0.71       1.00\n",
       "sigma   0.50  0.07      0.39       0.60"
      ]
     },
     "execution_count": 15,
     "metadata": {},
     "output_type": "execute_result"
    }
   ],
   "source": [
    "pm.summary(\n",
    "    trace_6_3,\n",
    "    var_names=[\"~mu\"],\n",
    "    kind=\"stats\",\n",
    "    hdi_prob=0.89,\n",
    "    round_to=2,\n",
    ")"
   ]
  },
  {
   "cell_type": "code",
   "execution_count": 16,
   "id": "5c2072c8-8591-40a7-b4cc-521c7a1d90fd",
   "metadata": {
    "tags": []
   },
   "outputs": [
    {
     "data": {
      "text/html": [
       "<div>\n",
       "<style scoped>\n",
       "    .dataframe tbody tr th:only-of-type {\n",
       "        vertical-align: middle;\n",
       "    }\n",
       "\n",
       "    .dataframe tbody tr th {\n",
       "        vertical-align: top;\n",
       "    }\n",
       "\n",
       "    .dataframe thead th {\n",
       "        text-align: right;\n",
       "    }\n",
       "</style>\n",
       "<table border=\"1\" class=\"dataframe\">\n",
       "  <thead>\n",
       "    <tr style=\"text-align: right;\">\n",
       "      <th></th>\n",
       "      <th>mean</th>\n",
       "      <th>sd</th>\n",
       "      <th>hdi_5.5%</th>\n",
       "      <th>hdi_94.5%</th>\n",
       "    </tr>\n",
       "  </thead>\n",
       "  <tbody>\n",
       "    <tr>\n",
       "      <th>alpha</th>\n",
       "      <td>0.00</td>\n",
       "      <td>0.07</td>\n",
       "      <td>-0.11</td>\n",
       "      <td>0.12</td>\n",
       "    </tr>\n",
       "    <tr>\n",
       "      <th>beta_l</th>\n",
       "      <td>-0.90</td>\n",
       "      <td>0.08</td>\n",
       "      <td>-1.02</td>\n",
       "      <td>-0.78</td>\n",
       "    </tr>\n",
       "    <tr>\n",
       "      <th>sigma</th>\n",
       "      <td>0.42</td>\n",
       "      <td>0.06</td>\n",
       "      <td>0.33</td>\n",
       "      <td>0.51</td>\n",
       "    </tr>\n",
       "  </tbody>\n",
       "</table>\n",
       "</div>"
      ],
      "text/plain": [
       "        mean    sd  hdi_5.5%  hdi_94.5%\n",
       "alpha   0.00  0.07     -0.11       0.12\n",
       "beta_l -0.90  0.08     -1.02      -0.78\n",
       "sigma   0.42  0.06      0.33       0.51"
      ]
     },
     "execution_count": 16,
     "metadata": {},
     "output_type": "execute_result"
    }
   ],
   "source": [
    "pm.summary(\n",
    "    trace_6_4,\n",
    "    var_names=[\"~mu\"],\n",
    "    kind=\"stats\",\n",
    "    hdi_prob=0.89,\n",
    "    round_to=2,\n",
    ")"
   ]
  },
  {
   "cell_type": "markdown",
   "id": "fe51af57-2dd1-4cb9-931d-d1650a2ad96c",
   "metadata": {},
   "source": [
    "Note that the two coefficients appear to be opposites."
   ]
  },
  {
   "cell_type": "markdown",
   "id": "2a672b57-7dd7-4d7d-9b97-87a07b49843d",
   "metadata": {},
   "source": [
    "Now fit a model with both predictors."
   ]
  },
  {
   "cell_type": "code",
   "execution_count": 17,
   "id": "dd0c0674-8d3c-495d-b89e-b56da17e16fd",
   "metadata": {
    "tags": []
   },
   "outputs": [
    {
     "name": "stderr",
     "output_type": "stream",
     "text": [
      "Auto-assigning NUTS sampler...\n",
      "Initializing NUTS using jitter+adapt_diag...\n",
      "Multiprocess sampling (4 chains in 4 jobs)\n",
      "NUTS: [alpha, beta_f, beta_l, sigma]\n"
     ]
    },
    {
     "data": {
      "text/html": [
       "\n",
       "<style>\n",
       "    /* Turns off some styling */\n",
       "    progress {\n",
       "        /* gets rid of default border in Firefox and Opera. */\n",
       "        border: none;\n",
       "        /* Needs to be in here for Safari polyfill so background images work as expected. */\n",
       "        background-size: auto;\n",
       "    }\n",
       "    progress:not([value]), progress:not([value])::-webkit-progress-bar {\n",
       "        background: repeating-linear-gradient(45deg, #7e7e7e, #7e7e7e 10px, #5c5c5c 10px, #5c5c5c 20px);\n",
       "    }\n",
       "    .progress-bar-interrupted, .progress-bar-interrupted::-webkit-progress-bar {\n",
       "        background: #F44336;\n",
       "    }\n",
       "</style>\n"
      ],
      "text/plain": [
       "<IPython.core.display.HTML object>"
      ]
     },
     "metadata": {},
     "output_type": "display_data"
    },
    {
     "data": {
      "text/html": [
       "\n",
       "    <div>\n",
       "      <progress value='8000' class='' max='8000' style='width:300px; height:20px; vertical-align: middle;'></progress>\n",
       "      100.00% [8000/8000 00:01&lt;00:00 Sampling 4 chains, 0 divergences]\n",
       "    </div>\n",
       "    "
      ],
      "text/plain": [
       "<IPython.core.display.HTML object>"
      ]
     },
     "metadata": {},
     "output_type": "display_data"
    },
    {
     "name": "stderr",
     "output_type": "stream",
     "text": [
      "Sampling 4 chains for 1_000 tune and 1_000 draw iterations (4_000 + 4_000 draws total) took 2 seconds.\n"
     ]
    }
   ],
   "source": [
    "coords = {\n",
    "    \"obs_id\": milk_norm.index,\n",
    "}\n",
    "with pm.Model(coords_mutable=coords) as m6_5:\n",
    "    # data\n",
    "    perc_fat = pm.MutableData(\"perc_fat\", milk_norm.perc_fat, dims=\"obs_id\")\n",
    "    perc_lactose = pm.MutableData(\"perc_lactose\", milk_norm.perc_lactose, dims=\"obs_id\")\n",
    "\n",
    "    # priors\n",
    "    alpha = pm.Normal(\"alpha\", mu=0, sigma=0.2)\n",
    "    beta_f = pm.Normal(\"beta_f\", mu=0, sigma=0.5)\n",
    "    beta_l = pm.Normal(\"beta_l\", mu=0, sigma=0.5)\n",
    "    sigma = pm.Exponential(\"sigma\", lam=1)\n",
    "\n",
    "    # model\n",
    "    mu = pm.Deterministic(\n",
    "        \"mu\", alpha + beta_f * perc_fat + beta_l * perc_lactose, dims=\"obs_id\"\n",
    "    )\n",
    "\n",
    "    # likelihood\n",
    "    kcal_per_g = pm.Normal(\n",
    "        \"kcal_per_g\", mu=mu, sigma=sigma, observed=milk_norm.kcal_per_g, dims=\"obs_id\"\n",
    "    )\n",
    "\n",
    "    # sample\n",
    "    trace_6_5 = pm.sample(random_seed=RANDOM_SEED)"
   ]
  },
  {
   "cell_type": "code",
   "execution_count": 18,
   "id": "874f98d1-aae9-491f-bd1c-bf60114dae9f",
   "metadata": {
    "tags": []
   },
   "outputs": [
    {
     "data": {
      "text/html": [
       "<div>\n",
       "<style scoped>\n",
       "    .dataframe tbody tr th:only-of-type {\n",
       "        vertical-align: middle;\n",
       "    }\n",
       "\n",
       "    .dataframe tbody tr th {\n",
       "        vertical-align: top;\n",
       "    }\n",
       "\n",
       "    .dataframe thead th {\n",
       "        text-align: right;\n",
       "    }\n",
       "</style>\n",
       "<table border=\"1\" class=\"dataframe\">\n",
       "  <thead>\n",
       "    <tr style=\"text-align: right;\">\n",
       "      <th></th>\n",
       "      <th>mean</th>\n",
       "      <th>sd</th>\n",
       "      <th>hdi_5.5%</th>\n",
       "      <th>hdi_94.5%</th>\n",
       "    </tr>\n",
       "  </thead>\n",
       "  <tbody>\n",
       "    <tr>\n",
       "      <th>alpha</th>\n",
       "      <td>0.00</td>\n",
       "      <td>0.07</td>\n",
       "      <td>-0.11</td>\n",
       "      <td>0.13</td>\n",
       "    </tr>\n",
       "    <tr>\n",
       "      <th>beta_f</th>\n",
       "      <td>0.25</td>\n",
       "      <td>0.20</td>\n",
       "      <td>-0.05</td>\n",
       "      <td>0.58</td>\n",
       "    </tr>\n",
       "    <tr>\n",
       "      <th>beta_l</th>\n",
       "      <td>-0.67</td>\n",
       "      <td>0.20</td>\n",
       "      <td>-0.98</td>\n",
       "      <td>-0.34</td>\n",
       "    </tr>\n",
       "    <tr>\n",
       "      <th>sigma</th>\n",
       "      <td>0.42</td>\n",
       "      <td>0.06</td>\n",
       "      <td>0.33</td>\n",
       "      <td>0.51</td>\n",
       "    </tr>\n",
       "  </tbody>\n",
       "</table>\n",
       "</div>"
      ],
      "text/plain": [
       "        mean    sd  hdi_5.5%  hdi_94.5%\n",
       "alpha   0.00  0.07     -0.11       0.13\n",
       "beta_f  0.25  0.20     -0.05       0.58\n",
       "beta_l -0.67  0.20     -0.98      -0.34\n",
       "sigma   0.42  0.06      0.33       0.51"
      ]
     },
     "execution_count": 18,
     "metadata": {},
     "output_type": "execute_result"
    }
   ],
   "source": [
    "pm.summary(\n",
    "    trace_6_5,\n",
    "    var_names=[\"~mu\"],\n",
    "    kind=\"stats\",\n",
    "    hdi_prob=0.89,\n",
    "    round_to=2,\n",
    ")"
   ]
  },
  {
   "cell_type": "markdown",
   "id": "1d719b95-c248-4619-97d3-9336e505a5bb",
   "metadata": {},
   "source": [
    "We can understand what's happening by plotting the associations between the different variables"
   ]
  },
  {
   "cell_type": "code",
   "execution_count": 19,
   "id": "83a57d4d-4b72-47b1-b16b-802dbe4a0da4",
   "metadata": {
    "tags": []
   },
   "outputs": [
    {
     "data": {
      "image/png": "[encoded data removed]",
      "text/plain": [
       "<Figure size 750x750 with 12 Axes>"
      ]
     },
     "metadata": {},
     "output_type": "display_data"
    }
   ],
   "source": [
    "sns.pairplot(milk_norm);"
   ]
  },
  {
   "cell_type": "markdown",
   "id": "8649162b-c77d-4b3b-a9d0-2a58bd5868be",
   "metadata": {},
   "source": [
    "The two predictors are strongly correlated with each other, but also strongly correlated with the target variable."
   ]
  },
  {
   "cell_type": "code",
   "execution_count": null,
   "id": "3dc91c22-ca25-4fdb-a0f6-8fadd793f369",
   "metadata": {},
   "outputs": [],
   "source": []
  }
 ],
 "metadata": {
  "kernelspec": {
   "display_name": "Python 3 (ipykernel)",
   "language": "python",
   "name": "python3"
  },
  "language_info": {
   "codemirror_mode": {
    "name": "ipython",
    "version": 3
   },
   "file_extension": ".py",
   "mimetype": "text/x-python",
   "name": "python",
   "nbconvert_exporter": "python",
   "pygments_lexer": "ipython3",
   "version": "3.10.13"
  }
 },
 "nbformat": 4,
 "nbformat_minor": 5
}
