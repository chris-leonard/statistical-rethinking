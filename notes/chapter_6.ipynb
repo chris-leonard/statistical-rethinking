{
 "cells": [
  {
   "cell_type": "markdown",
   "id": "2f6e577f-6a79-494d-86ff-252a06539feb",
   "metadata": {},
   "source": [
    "# Chapter 6 - Notes"
   ]
  },
  {
   "cell_type": "markdown",
   "id": "bc461464-2184-4376-b25b-e90b6e6b6f38",
   "metadata": {},
   "source": [
    "## Set Up"
   ]
  },
  {
   "cell_type": "markdown",
   "id": "e566d621-65f5-4042-8903-40ac2cea114f",
   "metadata": {},
   "source": [
    "### Packages"
   ]
  },
  {
   "cell_type": "code",
   "execution_count": 1,
   "id": "5d3a97d0-c6c7-4b45-acde-c143199f3c04",
   "metadata": {
    "tags": []
   },
   "outputs": [
    {
     "name": "stderr",
     "output_type": "stream",
     "text": [
      "WARNING (pytensor.tensor.blas): Using NumPy C-API based implementation for BLAS functions.\n"
     ]
    }
   ],
   "source": [
    "import os\n",
    "\n",
    "import arviz as az\n",
    "import graphviz as gr\n",
    "import matplotlib.pyplot as plt\n",
    "import numpy as np\n",
    "import pandas as pd\n",
    "import pymc as pm\n",
    "import seaborn as sns\n",
    "import xarray as xr\n",
    "from numpy.polynomial import polynomial as poly\n",
    "from scipy import stats\n",
    "from scipy.special import expit, logit, logsumexp, softmax\n",
    "from sklearn.preprocessing import StandardScaler"
   ]
  },
  {
   "cell_type": "markdown",
   "id": "0ea68caa-9a6f-4135-b2c6-74d1c14fb137",
   "metadata": {},
   "source": [
    "### Defaults"
   ]
  },
  {
   "cell_type": "code",
   "execution_count": 2,
   "id": "60b05a78-c23a-4516-98eb-66c772821cd7",
   "metadata": {
    "tags": []
   },
   "outputs": [],
   "source": [
    "# seaborn defaults\n",
    "sns.set(\n",
    "    style=\"whitegrid\",\n",
    "    font_scale=1.2,\n",
    "    rc={\n",
    "        \"axes.edgecolor\": \"0\",\n",
    "        \"axes.grid.which\": \"both\",\n",
    "        \"axes.labelcolor\": \"0\",\n",
    "        \"axes.spines.right\": False,\n",
    "        \"axes.spines.top\": False,\n",
    "        \"xtick.bottom\": True,\n",
    "        \"ytick.left\": True,\n",
    "    },\n",
    ")\n",
    "\n",
    "colors = sns.color_palette()"
   ]
  },
  {
   "cell_type": "markdown",
   "id": "9ec8cf20-fe18-4310-8dcd-f633d971177d",
   "metadata": {},
   "source": [
    "### Constants"
   ]
  },
  {
   "cell_type": "code",
   "execution_count": 3,
   "id": "08e5c7f4-9b58-4cb5-84f9-9d438bd1bf2e",
   "metadata": {
    "tags": []
   },
   "outputs": [],
   "source": [
    "DATA_DIR = \"../data\"\n",
    "HOWELL_FILE = \"howell.csv\"\n",
    "CHERRY_BLOSSOMS_FILE = \"cherry_blossoms.csv\"\n",
    "WAFFLE_DIVORCE_FILE = \"waffle_divorce.csv\"\n",
    "MILK_FILE = \"milk.csv\"\n",
    "CHIMPANZEES_FILE = \"chimpanzees.csv\"\n",
    "ADMISSIONS_FILE = \"ucbadmit.csv\"\n",
    "KLINE_FILE = \"kline.csv\"\n",
    "REEDFROGS_FILE = \"reedfrogs.csv\"\n",
    "CARS_FILE = \"cars.csv\"\n",
    "\n",
    "RANDOM_SEED = 42"
   ]
  },
  {
   "cell_type": "code",
   "execution_count": 4,
   "id": "26205308-5762-47fa-ac48-8d4a1c1ebc92",
   "metadata": {
    "tags": []
   },
   "outputs": [],
   "source": [
    "def load_data(file_name, data_dir=DATA_DIR, **kwargs):\n",
    "    path = os.path.join(data_dir, file_name)\n",
    "    return pd.read_csv(path, **kwargs)"
   ]
  },
  {
   "cell_type": "markdown",
   "id": "daa3fbf3-4c34-4ea3-8b8d-f5013576d000",
   "metadata": {},
   "source": [
    "Set seed"
   ]
  },
  {
   "cell_type": "code",
   "execution_count": 5,
   "id": "438ec4a0-32ae-4db5-82f0-89fe03dec616",
   "metadata": {
    "tags": []
   },
   "outputs": [],
   "source": [
    "rng = np.random.default_rng(RANDOM_SEED)"
   ]
  },
  {
   "cell_type": "markdown",
   "id": "2ee58be2-fe64-4305-840c-50d8df1d18f8",
   "metadata": {},
   "source": [
    "## 6.1 Multicollinearity"
   ]
  },
  {
   "cell_type": "markdown",
   "id": "7ca41e52-eafa-4b3b-816b-e2a6c3734426",
   "metadata": {},
   "source": [
    "### 6.1.1 Multicollinear legs"
   ]
  },
  {
   "cell_type": "markdown",
   "id": "20d4da22-e6a4-49c3-8598-f6586b2f37c0",
   "metadata": {},
   "source": [
    "Simulate data with colinear predictors"
   ]
  },
  {
   "cell_type": "code",
   "execution_count": 6,
   "id": "81be8cd9-0eea-425b-8bee-2217d650e611",
   "metadata": {
    "tags": []
   },
   "outputs": [],
   "source": [
    "N = 100\n",
    "\n",
    "rng = np.random.default_rng(RANDOM_SEED)\n",
    "\n",
    "height = rng.normal(loc=10, scale=2, size=N)\n",
    "leg_prop = rng.uniform(low=0.4, high=0.5, size=N)\n",
    "leg_left = leg_prop * height + rng.normal(loc=0, scale=0.02, size=N)\n",
    "leg_right = leg_prop * height + rng.normal(loc=0, scale=0.02, size=N)\n",
    "\n",
    "legs = pd.DataFrame(\n",
    "    {\n",
    "        \"height\": height,\n",
    "        \"leg_left\": leg_left,\n",
    "        \"leg_right\": leg_right,\n",
    "    }\n",
    ")"
   ]
  },
  {
   "cell_type": "markdown",
   "id": "87a5b1ea-a1f8-44b3-9bc3-6d399424ca8b",
   "metadata": {},
   "source": [
    "Now fit a model with both predictors"
   ]
  },
  {
   "cell_type": "code",
   "execution_count": 7,
   "id": "b23ab379-8e20-4451-a012-5046d4343ee2",
   "metadata": {
    "tags": []
   },
   "outputs": [
    {
     "name": "stderr",
     "output_type": "stream",
     "text": [
      "Auto-assigning NUTS sampler...\n",
      "Initializing NUTS using jitter+adapt_diag...\n",
      "Multiprocess sampling (4 chains in 4 jobs)\n",
      "NUTS: [alpha, beta_l, beta_r, sigma]\n"
     ]
    },
    {
     "data": {
      "text/html": [
       "\n",
       "<style>\n",
       "    /* Turns off some styling */\n",
       "    progress {\n",
       "        /* gets rid of default border in Firefox and Opera. */\n",
       "        border: none;\n",
       "        /* Needs to be in here for Safari polyfill so background images work as expected. */\n",
       "        background-size: auto;\n",
       "    }\n",
       "    progress:not([value]), progress:not([value])::-webkit-progress-bar {\n",
       "        background: repeating-linear-gradient(45deg, #7e7e7e, #7e7e7e 10px, #5c5c5c 10px, #5c5c5c 20px);\n",
       "    }\n",
       "    .progress-bar-interrupted, .progress-bar-interrupted::-webkit-progress-bar {\n",
       "        background: #F44336;\n",
       "    }\n",
       "</style>\n"
      ],
      "text/plain": [
       "<IPython.core.display.HTML object>"
      ]
     },
     "metadata": {},
     "output_type": "display_data"
    },
    {
     "data": {
      "text/html": [
       "\n",
       "    <div>\n",
       "      <progress value='8000' class='' max='8000' style='width:300px; height:20px; vertical-align: middle;'></progress>\n",
       "      100.00% [8000/8000 00:44&lt;00:00 Sampling 4 chains, 0 divergences]\n",
       "    </div>\n",
       "    "
      ],
      "text/plain": [
       "<IPython.core.display.HTML object>"
      ]
     },
     "metadata": {},
     "output_type": "display_data"
    },
    {
     "name": "stderr",
     "output_type": "stream",
     "text": [
      "Sampling 4 chains for 1_000 tune and 1_000 draw iterations (4_000 + 4_000 draws total) took 44 seconds.\n"
     ]
    }
   ],
   "source": [
    "coords = {\n",
    "    \"obs_id\": legs.index,\n",
    "}\n",
    "with pm.Model(coords_mutable=coords) as m6_1:\n",
    "    # data\n",
    "    leg_left = pm.MutableData(\"leg_left\", legs.leg_left, dims=\"obs_id\")\n",
    "    leg_right = pm.MutableData(\"leg_right\", legs.leg_right, dims=\"obs_id\")\n",
    "\n",
    "    # priors\n",
    "    alpha = pm.Normal(\"alpha\", mu=10, sigma=100)\n",
    "    beta_l = pm.Normal(\"beta_l\", mu=2, sigma=10)\n",
    "    beta_r = pm.Normal(\"beta_r\", mu=2, sigma=10)\n",
    "    sigma = pm.Exponential(\"sigma\", lam=1)\n",
    "\n",
    "    # model\n",
    "    mu = pm.Deterministic(\n",
    "        \"mu\", alpha + beta_l * leg_left + beta_r * leg_right, dims=\"obs_id\"\n",
    "    )\n",
    "\n",
    "    # likelihood\n",
    "    height = pm.Normal(\n",
    "        \"height\", mu=mu, sigma=sigma, observed=legs.height, dims=\"obs_id\"\n",
    "    )\n",
    "\n",
    "    # fit\n",
    "    trace_6_1 = pm.sample(random_seed=RANDOM_SEED)"
   ]
  },
  {
   "cell_type": "markdown",
   "id": "f664d333-7613-4c2e-9da2-101184194871",
   "metadata": {},
   "source": [
    "Look at the results"
   ]
  },
  {
   "cell_type": "code",
   "execution_count": 8,
   "id": "31482b7d-20f8-40eb-a1a2-8a9bd82c8923",
   "metadata": {
    "tags": []
   },
   "outputs": [
    {
     "data": {
      "text/html": [
       "<div>\n",
       "<style scoped>\n",
       "    .dataframe tbody tr th:only-of-type {\n",
       "        vertical-align: middle;\n",
       "    }\n",
       "\n",
       "    .dataframe tbody tr th {\n",
       "        vertical-align: top;\n",
       "    }\n",
       "\n",
       "    .dataframe thead th {\n",
       "        text-align: right;\n",
       "    }\n",
       "</style>\n",
       "<table border=\"1\" class=\"dataframe\">\n",
       "  <thead>\n",
       "    <tr style=\"text-align: right;\">\n",
       "      <th></th>\n",
       "      <th>mean</th>\n",
       "      <th>sd</th>\n",
       "      <th>hdi_5.5%</th>\n",
       "      <th>hdi_94.5%</th>\n",
       "    </tr>\n",
       "  </thead>\n",
       "  <tbody>\n",
       "    <tr>\n",
       "      <th>alpha</th>\n",
       "      <td>1.841</td>\n",
       "      <td>0.329</td>\n",
       "      <td>1.309</td>\n",
       "      <td>2.353</td>\n",
       "    </tr>\n",
       "    <tr>\n",
       "      <th>beta_l</th>\n",
       "      <td>1.794</td>\n",
       "      <td>1.977</td>\n",
       "      <td>-1.554</td>\n",
       "      <td>4.782</td>\n",
       "    </tr>\n",
       "    <tr>\n",
       "      <th>beta_r</th>\n",
       "      <td>0.011</td>\n",
       "      <td>1.973</td>\n",
       "      <td>-3.021</td>\n",
       "      <td>3.284</td>\n",
       "    </tr>\n",
       "    <tr>\n",
       "      <th>sigma</th>\n",
       "      <td>0.577</td>\n",
       "      <td>0.042</td>\n",
       "      <td>0.513</td>\n",
       "      <td>0.645</td>\n",
       "    </tr>\n",
       "  </tbody>\n",
       "</table>\n",
       "</div>"
      ],
      "text/plain": [
       "         mean     sd  hdi_5.5%  hdi_94.5%\n",
       "alpha   1.841  0.329     1.309      2.353\n",
       "beta_l  1.794  1.977    -1.554      4.782\n",
       "beta_r  0.011  1.973    -3.021      3.284\n",
       "sigma   0.577  0.042     0.513      0.645"
      ]
     },
     "execution_count": 8,
     "metadata": {},
     "output_type": "execute_result"
    }
   ],
   "source": [
    "az.summary(\n",
    "    trace_6_1,\n",
    "    var_names=[\"~mu\"],\n",
    "    kind=\"stats\",\n",
    "    hdi_prob=0.89,\n",
    ")"
   ]
  },
  {
   "cell_type": "markdown",
   "id": "c3e6d2be-84c7-46ce-b82d-4c982036f08e",
   "metadata": {
    "tags": []
   },
   "source": [
    "Note the extremely high standard deviation in the coefficients."
   ]
  },
  {
   "cell_type": "code",
   "execution_count": 9,
   "id": "9a195802-d29c-43d4-8cb9-7f4465cede97",
   "metadata": {
    "tags": []
   },
   "outputs": [
    {
     "data": {
      "image/png": "[encoded data removed]",
      "text/plain": [
       "<Figure size 800x100 with 1 Axes>"
      ]
     },
     "metadata": {},
     "output_type": "display_data"
    }
   ],
   "source": [
    "fig, ax = plt.subplots(figsize=(8, 1))\n",
    "\n",
    "az.plot_forest(\n",
    "    trace_6_1,\n",
    "    var_names=[\"~mu\"],\n",
    "    combined=True,\n",
    "    hdi_prob=0.89,\n",
    "    ax=ax,\n",
    ");"
   ]
  },
  {
   "cell_type": "markdown",
   "id": "fd5da901-c273-4be3-b02b-420c87cbfa29",
   "metadata": {},
   "source": [
    "We can see more clearly what is going on by plotting the bivariate distribution of the coefficients and their sum."
   ]
  },
  {
   "cell_type": "code",
   "execution_count": 10,
   "id": "be4e8565-e3cc-48f2-8c53-22250925bc78",
   "metadata": {
    "tags": []
   },
   "outputs": [
    {
     "data": {
      "image/png": "[encoded data removed]",
      "text/plain": [
       "<Figure size 1100x500 with 2 Axes>"
      ]
     },
     "metadata": {},
     "output_type": "display_data"
    }
   ],
   "source": [
    "fig, axs = plt.subplots(ncols=2, figsize=(11, 5))\n",
    "\n",
    "az.plot_pair(\n",
    "    trace_6_1,\n",
    "    var_names=[\"beta_l\", \"beta_r\"],\n",
    "    filter_vars=\"regex\",\n",
    "    # ax=np.array([axs[:1]]),\n",
    "    ax=axs[0],\n",
    ")\n",
    "\n",
    "trace_6_1.posterior[\"beta_sum\"] = (\n",
    "    trace_6_1.posterior.beta_l + trace_6_1.posterior.beta_r\n",
    ")\n",
    "az.plot_posterior(\n",
    "    trace_6_1,\n",
    "    var_names=\"beta_sum\",\n",
    "    ax=axs[1],\n",
    ")\n",
    "\n",
    "axs[0].set(\n",
    "    title=\"Bivariate distribution\",\n",
    ")\n",
    "axs[1].set(\n",
    "    title=\"Distribution of sum\",\n",
    ")\n",
    "\n",
    "fig.suptitle(\"Posteriors of beta_l and beta_r\")\n",
    "fig.tight_layout();"
   ]
  },
  {
   "cell_type": "markdown",
   "id": "506b90d6-3d71-4165-ad6c-758613e97775",
   "metadata": {},
   "source": [
    "Now fit a model on just left leg lengths."
   ]
  },
  {
   "cell_type": "code",
   "execution_count": 11,
   "id": "4e1d59fa-3c7b-4bee-94df-22e753be3114",
   "metadata": {
    "tags": []
   },
   "outputs": [
    {
     "name": "stderr",
     "output_type": "stream",
     "text": [
      "Auto-assigning NUTS sampler...\n",
      "Initializing NUTS using jitter+adapt_diag...\n",
      "Multiprocess sampling (4 chains in 4 jobs)\n",
      "NUTS: [alpha, beta_l, sigma]\n"
     ]
    },
    {
     "data": {
      "text/html": [
       "\n",
       "<style>\n",
       "    /* Turns off some styling */\n",
       "    progress {\n",
       "        /* gets rid of default border in Firefox and Opera. */\n",
       "        border: none;\n",
       "        /* Needs to be in here for Safari polyfill so background images work as expected. */\n",
       "        background-size: auto;\n",
       "    }\n",
       "    progress:not([value]), progress:not([value])::-webkit-progress-bar {\n",
       "        background: repeating-linear-gradient(45deg, #7e7e7e, #7e7e7e 10px, #5c5c5c 10px, #5c5c5c 20px);\n",
       "    }\n",
       "    .progress-bar-interrupted, .progress-bar-interrupted::-webkit-progress-bar {\n",
       "        background: #F44336;\n",
       "    }\n",
       "</style>\n"
      ],
      "text/plain": [
       "<IPython.core.display.HTML object>"
      ]
     },
     "metadata": {},
     "output_type": "display_data"
    },
    {
     "data": {
      "text/html": [
       "\n",
       "    <div>\n",
       "      <progress value='8000' class='' max='8000' style='width:300px; height:20px; vertical-align: middle;'></progress>\n",
       "      100.00% [8000/8000 00:02&lt;00:00 Sampling 4 chains, 0 divergences]\n",
       "    </div>\n",
       "    "
      ],
      "text/plain": [
       "<IPython.core.display.HTML object>"
      ]
     },
     "metadata": {},
     "output_type": "display_data"
    },
    {
     "name": "stderr",
     "output_type": "stream",
     "text": [
      "Sampling 4 chains for 1_000 tune and 1_000 draw iterations (4_000 + 4_000 draws total) took 2 seconds.\n"
     ]
    }
   ],
   "source": [
    "coords = {\n",
    "    \"obs_id\": legs.index,\n",
    "}\n",
    "with pm.Model(coords_mutable=coords) as m6_2:\n",
    "    # data\n",
    "    leg_left = pm.MutableData(\"leg_left\", legs.leg_left, dims=\"obs_id\")\n",
    "\n",
    "    # priors\n",
    "    alpha = pm.Normal(\"alpha\", mu=10, sigma=100)\n",
    "    beta_l = pm.Normal(\"beta_l\", mu=2, sigma=10)\n",
    "    sigma = pm.Exponential(\"sigma\", lam=1)\n",
    "\n",
    "    # model\n",
    "    mu = pm.Deterministic(\"mu\", alpha + beta_l * leg_left, dims=\"obs_id\")\n",
    "\n",
    "    # likelihood\n",
    "    height = pm.Normal(\n",
    "        \"height\", mu=mu, sigma=sigma, observed=legs.height, dims=\"obs_id\"\n",
    "    )\n",
    "\n",
    "    # fit\n",
    "    trace_6_2 = pm.sample(random_seed=RANDOM_SEED)"
   ]
  },
  {
   "cell_type": "markdown",
   "id": "7f82c1a9-9d79-4cc6-8c9a-1d0092e4d768",
   "metadata": {},
   "source": [
    "Look at the results"
   ]
  },
  {
   "cell_type": "code",
   "execution_count": 12,
   "id": "669e8fc0-ceec-47f1-8ec1-bfb80fa5f1de",
   "metadata": {
    "tags": []
   },
   "outputs": [
    {
     "data": {
      "text/html": [
       "<div>\n",
       "<style scoped>\n",
       "    .dataframe tbody tr th:only-of-type {\n",
       "        vertical-align: middle;\n",
       "    }\n",
       "\n",
       "    .dataframe tbody tr th {\n",
       "        vertical-align: top;\n",
       "    }\n",
       "\n",
       "    .dataframe thead th {\n",
       "        text-align: right;\n",
       "    }\n",
       "</style>\n",
       "<table border=\"1\" class=\"dataframe\">\n",
       "  <thead>\n",
       "    <tr style=\"text-align: right;\">\n",
       "      <th></th>\n",
       "      <th>mean</th>\n",
       "      <th>sd</th>\n",
       "      <th>hdi_5.5%</th>\n",
       "      <th>hdi_94.5%</th>\n",
       "    </tr>\n",
       "  </thead>\n",
       "  <tbody>\n",
       "    <tr>\n",
       "      <th>alpha</th>\n",
       "      <td>1.840</td>\n",
       "      <td>0.327</td>\n",
       "      <td>1.303</td>\n",
       "      <td>2.333</td>\n",
       "    </tr>\n",
       "    <tr>\n",
       "      <th>beta_l</th>\n",
       "      <td>1.806</td>\n",
       "      <td>0.072</td>\n",
       "      <td>1.694</td>\n",
       "      <td>1.920</td>\n",
       "    </tr>\n",
       "    <tr>\n",
       "      <th>sigma</th>\n",
       "      <td>0.575</td>\n",
       "      <td>0.041</td>\n",
       "      <td>0.509</td>\n",
       "      <td>0.637</td>\n",
       "    </tr>\n",
       "  </tbody>\n",
       "</table>\n",
       "</div>"
      ],
      "text/plain": [
       "         mean     sd  hdi_5.5%  hdi_94.5%\n",
       "alpha   1.840  0.327     1.303      2.333\n",
       "beta_l  1.806  0.072     1.694      1.920\n",
       "sigma   0.575  0.041     0.509      0.637"
      ]
     },
     "execution_count": 12,
     "metadata": {},
     "output_type": "execute_result"
    }
   ],
   "source": [
    "az.summary(\n",
    "    trace_6_2,\n",
    "    var_names=[\"~mu\"],\n",
    "    kind=\"stats\",\n",
    "    hdi_prob=0.89,\n",
    ")"
   ]
  },
  {
   "cell_type": "markdown",
   "id": "9f255cbf-0cab-435f-8642-a0e2d12bc3db",
   "metadata": {},
   "source": [
    "That looks much more reasonable."
   ]
  },
  {
   "cell_type": "markdown",
   "id": "8a71182e-b589-4076-88cc-a5af3256ec65",
   "metadata": {},
   "source": [
    "### 6.1.2 Multicollinear milk"
   ]
  },
  {
   "cell_type": "markdown",
   "id": "4d14ac43-0e2e-4935-a24a-cd824d66319b",
   "metadata": {},
   "source": [
    "Load the milk data"
   ]
  },
  {
   "cell_type": "code",
   "execution_count": 13,
   "id": "6ac7fcac-50c6-4abb-93b5-d5b698f640c5",
   "metadata": {
    "tags": []
   },
   "outputs": [],
   "source": [
    "# load data\n",
    "milk = load_data(MILK_FILE, delimiter=\";\")\n",
    "\n",
    "# rename variables\n",
    "milk.columns = milk.columns.str.replace(\".\", \"_\")\n",
    "\n",
    "# standardise variables\n",
    "cols = [\"kcal_per_g\", \"perc_fat\", \"perc_lactose\"]\n",
    "milk_normaliser = StandardScaler()\n",
    "milk_normaliser.fit(milk[cols])\n",
    "\n",
    "milk_norm = pd.DataFrame(\n",
    "    data=milk_normaliser.transform(milk[cols]),\n",
    "    columns=cols,\n",
    ")"
   ]
  },
  {
   "cell_type": "markdown",
   "id": "93ab5d08-42fa-47a0-8c05-e763c6c0d576",
   "metadata": {},
   "source": [
    "Start with two univariate models"
   ]
  },
  {
   "cell_type": "code",
   "execution_count": 14,
   "id": "a35464ec-937c-4495-87ca-53902d1123d0",
   "metadata": {
    "tags": []
   },
   "outputs": [
    {
     "name": "stderr",
     "output_type": "stream",
     "text": [
      "Auto-assigning NUTS sampler...\n",
      "Initializing NUTS using jitter+adapt_diag...\n",
      "Multiprocess sampling (4 chains in 4 jobs)\n",
      "NUTS: [alpha, beta_f, sigma]\n"
     ]
    },
    {
     "data": {
      "text/html": [
       "\n",
       "<style>\n",
       "    /* Turns off some styling */\n",
       "    progress {\n",
       "        /* gets rid of default border in Firefox and Opera. */\n",
       "        border: none;\n",
       "        /* Needs to be in here for Safari polyfill so background images work as expected. */\n",
       "        background-size: auto;\n",
       "    }\n",
       "    progress:not([value]), progress:not([value])::-webkit-progress-bar {\n",
       "        background: repeating-linear-gradient(45deg, #7e7e7e, #7e7e7e 10px, #5c5c5c 10px, #5c5c5c 20px);\n",
       "    }\n",
       "    .progress-bar-interrupted, .progress-bar-interrupted::-webkit-progress-bar {\n",
       "        background: #F44336;\n",
       "    }\n",
       "</style>\n"
      ],
      "text/plain": [
       "<IPython.core.display.HTML object>"
      ]
     },
     "metadata": {},
     "output_type": "display_data"
    },
    {
     "data": {
      "text/html": [
       "\n",
       "    <div>\n",
       "      <progress value='8000' class='' max='8000' style='width:300px; height:20px; vertical-align: middle;'></progress>\n",
       "      100.00% [8000/8000 00:00&lt;00:00 Sampling 4 chains, 0 divergences]\n",
       "    </div>\n",
       "    "
      ],
      "text/plain": [
       "<IPython.core.display.HTML object>"
      ]
     },
     "metadata": {},
     "output_type": "display_data"
    },
    {
     "name": "stderr",
     "output_type": "stream",
     "text": [
      "Sampling 4 chains for 1_000 tune and 1_000 draw iterations (4_000 + 4_000 draws total) took 1 seconds.\n",
      "Auto-assigning NUTS sampler...\n",
      "Initializing NUTS using jitter+adapt_diag...\n",
      "Multiprocess sampling (4 chains in 4 jobs)\n",
      "NUTS: [alpha, beta_l, sigma]\n"
     ]
    },
    {
     "data": {
      "text/html": [
       "\n",
       "<style>\n",
       "    /* Turns off some styling */\n",
       "    progress {\n",
       "        /* gets rid of default border in Firefox and Opera. */\n",
       "        border: none;\n",
       "        /* Needs to be in here for Safari polyfill so background images work as expected. */\n",
       "        background-size: auto;\n",
       "    }\n",
       "    progress:not([value]), progress:not([value])::-webkit-progress-bar {\n",
       "        background: repeating-linear-gradient(45deg, #7e7e7e, #7e7e7e 10px, #5c5c5c 10px, #5c5c5c 20px);\n",
       "    }\n",
       "    .progress-bar-interrupted, .progress-bar-interrupted::-webkit-progress-bar {\n",
       "        background: #F44336;\n",
       "    }\n",
       "</style>\n"
      ],
      "text/plain": [
       "<IPython.core.display.HTML object>"
      ]
     },
     "metadata": {},
     "output_type": "display_data"
    },
    {
     "data": {
      "text/html": [
       "\n",
       "    <div>\n",
       "      <progress value='8000' class='' max='8000' style='width:300px; height:20px; vertical-align: middle;'></progress>\n",
       "      100.00% [8000/8000 00:00&lt;00:00 Sampling 4 chains, 0 divergences]\n",
       "    </div>\n",
       "    "
      ],
      "text/plain": [
       "<IPython.core.display.HTML object>"
      ]
     },
     "metadata": {},
     "output_type": "display_data"
    },
    {
     "name": "stderr",
     "output_type": "stream",
     "text": [
      "Sampling 4 chains for 1_000 tune and 1_000 draw iterations (4_000 + 4_000 draws total) took 1 seconds.\n"
     ]
    }
   ],
   "source": [
    "coords = {\n",
    "    \"obs_id\": milk_norm.index,\n",
    "}\n",
    "with pm.Model(coords_mutable=coords) as m6_3:\n",
    "    # data\n",
    "    perc_fat = pm.MutableData(\"perc_fat\", milk_norm.perc_fat, dims=\"obs_id\")\n",
    "    perc_lactose = pm.MutableData(\"perc_lactose\", milk_norm.perc_lactose, dims=\"obs_id\")\n",
    "\n",
    "    # priors\n",
    "    alpha = pm.Normal(\"alpha\", mu=0, sigma=0.2)\n",
    "    beta_f = pm.Normal(\"beta_f\", mu=0, sigma=0.5)\n",
    "    sigma = pm.Exponential(\"sigma\", lam=1)\n",
    "\n",
    "    # model\n",
    "    mu = pm.Deterministic(\"mu\", alpha + beta_f * perc_fat, dims=\"obs_id\")\n",
    "\n",
    "    # likelihood\n",
    "    kcal_per_g = pm.Normal(\n",
    "        \"kcal_per_g\", mu=mu, sigma=sigma, observed=milk_norm.kcal_per_g, dims=\"obs_id\"\n",
    "    )\n",
    "\n",
    "    # sample\n",
    "    trace_6_3 = pm.sample(random_seed=RANDOM_SEED)\n",
    "\n",
    "\n",
    "with pm.Model(coords_mutable=coords) as m6_4:\n",
    "    # data\n",
    "    perc_fat = pm.MutableData(\"perc_fat\", milk_norm.perc_fat, dims=\"obs_id\")\n",
    "    perc_lactose = pm.MutableData(\"perc_lactose\", milk_norm.perc_lactose, dims=\"obs_id\")\n",
    "\n",
    "    # priors\n",
    "    alpha = pm.Normal(\"alpha\", mu=0, sigma=0.2)\n",
    "    beta_l = pm.Normal(\"beta_l\", mu=0, sigma=0.5)\n",
    "    sigma = pm.Exponential(\"sigma\", lam=1)\n",
    "\n",
    "    # model\n",
    "    mu = pm.Deterministic(\"mu\", alpha + beta_l * perc_lactose, dims=\"obs_id\")\n",
    "\n",
    "    # likelihood\n",
    "    kcal_per_g = pm.Normal(\n",
    "        \"kcal_per_g\", mu=mu, sigma=sigma, observed=milk_norm.kcal_per_g, dims=\"obs_id\"\n",
    "    )\n",
    "\n",
    "    # sample\n",
    "    trace_6_4 = pm.sample(random_seed=RANDOM_SEED)"
   ]
  },
  {
   "cell_type": "markdown",
   "id": "f2c43a5f-f998-4dd6-a369-05e7f1789111",
   "metadata": {},
   "source": [
    "Look at the posteriors"
   ]
  },
  {
   "cell_type": "code",
   "execution_count": 15,
   "id": "ee02a58a-4519-4e76-9f89-6b3b932893ba",
   "metadata": {
    "tags": []
   },
   "outputs": [
    {
     "data": {
      "text/html": [
       "<div>\n",
       "<style scoped>\n",
       "    .dataframe tbody tr th:only-of-type {\n",
       "        vertical-align: middle;\n",
       "    }\n",
       "\n",
       "    .dataframe tbody tr th {\n",
       "        vertical-align: top;\n",
       "    }\n",
       "\n",
       "    .dataframe thead th {\n",
       "        text-align: right;\n",
       "    }\n",
       "</style>\n",
       "<table border=\"1\" class=\"dataframe\">\n",
       "  <thead>\n",
       "    <tr style=\"text-align: right;\">\n",
       "      <th></th>\n",
       "      <th>mean</th>\n",
       "      <th>sd</th>\n",
       "      <th>hdi_5.5%</th>\n",
       "      <th>hdi_94.5%</th>\n",
       "    </tr>\n",
       "  </thead>\n",
       "  <tbody>\n",
       "    <tr>\n",
       "      <th>alpha</th>\n",
       "      <td>-0.00</td>\n",
       "      <td>0.08</td>\n",
       "      <td>-0.13</td>\n",
       "      <td>0.13</td>\n",
       "    </tr>\n",
       "    <tr>\n",
       "      <th>beta_f</th>\n",
       "      <td>0.86</td>\n",
       "      <td>0.09</td>\n",
       "      <td>0.71</td>\n",
       "      <td>1.00</td>\n",
       "    </tr>\n",
       "    <tr>\n",
       "      <th>sigma</th>\n",
       "      <td>0.50</td>\n",
       "      <td>0.07</td>\n",
       "      <td>0.39</td>\n",
       "      <td>0.60</td>\n",
       "    </tr>\n",
       "  </tbody>\n",
       "</table>\n",
       "</div>"
      ],
      "text/plain": [
       "        mean    sd  hdi_5.5%  hdi_94.5%\n",
       "alpha  -0.00  0.08     -0.13       0.13\n",
       "beta_f  0.86  0.09      0.71       1.00\n",
       "sigma   0.50  0.07      0.39       0.60"
      ]
     },
     "execution_count": 15,
     "metadata": {},
     "output_type": "execute_result"
    }
   ],
   "source": [
    "pm.summary(\n",
    "    trace_6_3,\n",
    "    var_names=[\"~mu\"],\n",
    "    kind=\"stats\",\n",
    "    hdi_prob=0.89,\n",
    "    round_to=2,\n",
    ")"
   ]
  },
  {
   "cell_type": "code",
   "execution_count": 16,
   "id": "5c2072c8-8591-40a7-b4cc-521c7a1d90fd",
   "metadata": {
    "tags": []
   },
   "outputs": [
    {
     "data": {
      "text/html": [
       "<div>\n",
       "<style scoped>\n",
       "    .dataframe tbody tr th:only-of-type {\n",
       "        vertical-align: middle;\n",
       "    }\n",
       "\n",
       "    .dataframe tbody tr th {\n",
       "        vertical-align: top;\n",
       "    }\n",
       "\n",
       "    .dataframe thead th {\n",
       "        text-align: right;\n",
       "    }\n",
       "</style>\n",
       "<table border=\"1\" class=\"dataframe\">\n",
       "  <thead>\n",
       "    <tr style=\"text-align: right;\">\n",
       "      <th></th>\n",
       "      <th>mean</th>\n",
       "      <th>sd</th>\n",
       "      <th>hdi_5.5%</th>\n",
       "      <th>hdi_94.5%</th>\n",
       "    </tr>\n",
       "  </thead>\n",
       "  <tbody>\n",
       "    <tr>\n",
       "      <th>alpha</th>\n",
       "      <td>0.00</td>\n",
       "      <td>0.07</td>\n",
       "      <td>-0.11</td>\n",
       "      <td>0.12</td>\n",
       "    </tr>\n",
       "    <tr>\n",
       "      <th>beta_l</th>\n",
       "      <td>-0.90</td>\n",
       "      <td>0.08</td>\n",
       "      <td>-1.02</td>\n",
       "      <td>-0.78</td>\n",
       "    </tr>\n",
       "    <tr>\n",
       "      <th>sigma</th>\n",
       "      <td>0.42</td>\n",
       "      <td>0.06</td>\n",
       "      <td>0.33</td>\n",
       "      <td>0.51</td>\n",
       "    </tr>\n",
       "  </tbody>\n",
       "</table>\n",
       "</div>"
      ],
      "text/plain": [
       "        mean    sd  hdi_5.5%  hdi_94.5%\n",
       "alpha   0.00  0.07     -0.11       0.12\n",
       "beta_l -0.90  0.08     -1.02      -0.78\n",
       "sigma   0.42  0.06      0.33       0.51"
      ]
     },
     "execution_count": 16,
     "metadata": {},
     "output_type": "execute_result"
    }
   ],
   "source": [
    "pm.summary(\n",
    "    trace_6_4,\n",
    "    var_names=[\"~mu\"],\n",
    "    kind=\"stats\",\n",
    "    hdi_prob=0.89,\n",
    "    round_to=2,\n",
    ")"
   ]
  },
  {
   "cell_type": "markdown",
   "id": "fe51af57-2dd1-4cb9-931d-d1650a2ad96c",
   "metadata": {},
   "source": [
    "Note that the two coefficients appear to be opposites."
   ]
  },
  {
   "cell_type": "markdown",
   "id": "2a672b57-7dd7-4d7d-9b97-87a07b49843d",
   "metadata": {},
   "source": [
    "Now fit a model with both predictors."
   ]
  },
  {
   "cell_type": "code",
   "execution_count": 17,
   "id": "dd0c0674-8d3c-495d-b89e-b56da17e16fd",
   "metadata": {
    "tags": []
   },
   "outputs": [
    {
     "name": "stderr",
     "output_type": "stream",
     "text": [
      "Auto-assigning NUTS sampler...\n",
      "Initializing NUTS using jitter+adapt_diag...\n",
      "Multiprocess sampling (4 chains in 4 jobs)\n",
      "NUTS: [alpha, beta_f, beta_l, sigma]\n"
     ]
    },
    {
     "data": {
      "text/html": [
       "\n",
       "<style>\n",
       "    /* Turns off some styling */\n",
       "    progress {\n",
       "        /* gets rid of default border in Firefox and Opera. */\n",
       "        border: none;\n",
       "        /* Needs to be in here for Safari polyfill so background images work as expected. */\n",
       "        background-size: auto;\n",
       "    }\n",
       "    progress:not([value]), progress:not([value])::-webkit-progress-bar {\n",
       "        background: repeating-linear-gradient(45deg, #7e7e7e, #7e7e7e 10px, #5c5c5c 10px, #5c5c5c 20px);\n",
       "    }\n",
       "    .progress-bar-interrupted, .progress-bar-interrupted::-webkit-progress-bar {\n",
       "        background: #F44336;\n",
       "    }\n",
       "</style>\n"
      ],
      "text/plain": [
       "<IPython.core.display.HTML object>"
      ]
     },
     "metadata": {},
     "output_type": "display_data"
    },
    {
     "data": {
      "text/html": [
       "\n",
       "    <div>\n",
       "      <progress value='8000' class='' max='8000' style='width:300px; height:20px; vertical-align: middle;'></progress>\n",
       "      100.00% [8000/8000 00:01&lt;00:00 Sampling 4 chains, 0 divergences]\n",
       "    </div>\n",
       "    "
      ],
      "text/plain": [
       "<IPython.core.display.HTML object>"
      ]
     },
     "metadata": {},
     "output_type": "display_data"
    },
    {
     "name": "stderr",
     "output_type": "stream",
     "text": [
      "Sampling 4 chains for 1_000 tune and 1_000 draw iterations (4_000 + 4_000 draws total) took 1 seconds.\n"
     ]
    }
   ],
   "source": [
    "coords = {\n",
    "    \"obs_id\": milk_norm.index,\n",
    "}\n",
    "with pm.Model(coords_mutable=coords) as m6_5:\n",
    "    # data\n",
    "    perc_fat = pm.MutableData(\"perc_fat\", milk_norm.perc_fat, dims=\"obs_id\")\n",
    "    perc_lactose = pm.MutableData(\"perc_lactose\", milk_norm.perc_lactose, dims=\"obs_id\")\n",
    "\n",
    "    # priors\n",
    "    alpha = pm.Normal(\"alpha\", mu=0, sigma=0.2)\n",
    "    beta_f = pm.Normal(\"beta_f\", mu=0, sigma=0.5)\n",
    "    beta_l = pm.Normal(\"beta_l\", mu=0, sigma=0.5)\n",
    "    sigma = pm.Exponential(\"sigma\", lam=1)\n",
    "\n",
    "    # model\n",
    "    mu = pm.Deterministic(\n",
    "        \"mu\", alpha + beta_f * perc_fat + beta_l * perc_lactose, dims=\"obs_id\"\n",
    "    )\n",
    "\n",
    "    # likelihood\n",
    "    kcal_per_g = pm.Normal(\n",
    "        \"kcal_per_g\", mu=mu, sigma=sigma, observed=milk_norm.kcal_per_g, dims=\"obs_id\"\n",
    "    )\n",
    "\n",
    "    # sample\n",
    "    trace_6_5 = pm.sample(random_seed=RANDOM_SEED)"
   ]
  },
  {
   "cell_type": "code",
   "execution_count": 18,
   "id": "874f98d1-aae9-491f-bd1c-bf60114dae9f",
   "metadata": {
    "tags": []
   },
   "outputs": [
    {
     "data": {
      "text/html": [
       "<div>\n",
       "<style scoped>\n",
       "    .dataframe tbody tr th:only-of-type {\n",
       "        vertical-align: middle;\n",
       "    }\n",
       "\n",
       "    .dataframe tbody tr th {\n",
       "        vertical-align: top;\n",
       "    }\n",
       "\n",
       "    .dataframe thead th {\n",
       "        text-align: right;\n",
       "    }\n",
       "</style>\n",
       "<table border=\"1\" class=\"dataframe\">\n",
       "  <thead>\n",
       "    <tr style=\"text-align: right;\">\n",
       "      <th></th>\n",
       "      <th>mean</th>\n",
       "      <th>sd</th>\n",
       "      <th>hdi_5.5%</th>\n",
       "      <th>hdi_94.5%</th>\n",
       "    </tr>\n",
       "  </thead>\n",
       "  <tbody>\n",
       "    <tr>\n",
       "      <th>alpha</th>\n",
       "      <td>0.00</td>\n",
       "      <td>0.07</td>\n",
       "      <td>-0.11</td>\n",
       "      <td>0.13</td>\n",
       "    </tr>\n",
       "    <tr>\n",
       "      <th>beta_f</th>\n",
       "      <td>0.25</td>\n",
       "      <td>0.20</td>\n",
       "      <td>-0.05</td>\n",
       "      <td>0.58</td>\n",
       "    </tr>\n",
       "    <tr>\n",
       "      <th>beta_l</th>\n",
       "      <td>-0.67</td>\n",
       "      <td>0.20</td>\n",
       "      <td>-0.98</td>\n",
       "      <td>-0.34</td>\n",
       "    </tr>\n",
       "    <tr>\n",
       "      <th>sigma</th>\n",
       "      <td>0.42</td>\n",
       "      <td>0.06</td>\n",
       "      <td>0.33</td>\n",
       "      <td>0.51</td>\n",
       "    </tr>\n",
       "  </tbody>\n",
       "</table>\n",
       "</div>"
      ],
      "text/plain": [
       "        mean    sd  hdi_5.5%  hdi_94.5%\n",
       "alpha   0.00  0.07     -0.11       0.13\n",
       "beta_f  0.25  0.20     -0.05       0.58\n",
       "beta_l -0.67  0.20     -0.98      -0.34\n",
       "sigma   0.42  0.06      0.33       0.51"
      ]
     },
     "execution_count": 18,
     "metadata": {},
     "output_type": "execute_result"
    }
   ],
   "source": [
    "pm.summary(\n",
    "    trace_6_5,\n",
    "    var_names=[\"~mu\"],\n",
    "    kind=\"stats\",\n",
    "    hdi_prob=0.89,\n",
    "    round_to=2,\n",
    ")"
   ]
  },
  {
   "cell_type": "markdown",
   "id": "1d719b95-c248-4619-97d3-9336e505a5bb",
   "metadata": {},
   "source": [
    "We can understand what's happening by plotting the associations between the different variables"
   ]
  },
  {
   "cell_type": "code",
   "execution_count": 19,
   "id": "83a57d4d-4b72-47b1-b16b-802dbe4a0da4",
   "metadata": {
    "tags": []
   },
   "outputs": [
    {
     "data": {
      "image/png": "[encoded data removed]",
      "text/plain": [
       "<Figure size 750x750 with 12 Axes>"
      ]
     },
     "metadata": {},
     "output_type": "display_data"
    }
   ],
   "source": [
    "sns.pairplot(milk_norm);"
   ]
  },
  {
   "cell_type": "markdown",
   "id": "8649162b-c77d-4b3b-a9d0-2a58bd5868be",
   "metadata": {},
   "source": [
    "The two predictors are strongly correlated with each other, but also strongly correlated with the target variable."
   ]
  },
  {
   "cell_type": "markdown",
   "id": "47a87636-4a92-4175-8674-39a525ccbb08",
   "metadata": {},
   "source": [
    "## 6.2 Post-treatment bias"
   ]
  },
  {
   "cell_type": "markdown",
   "id": "75f2f52b-ac21-4606-8a9b-f88717f29af7",
   "metadata": {},
   "source": [
    "Simulate the plant growth data"
   ]
  },
  {
   "cell_type": "code",
   "execution_count": 20,
   "id": "371f5927-9a96-420d-92bc-9738a8bd3e6b",
   "metadata": {
    "tags": []
   },
   "outputs": [],
   "source": [
    "N = 100\n",
    "rng = np.random.default_rng(RANDOM_SEED)\n",
    "\n",
    "h0 = rng.normal(loc=10, scale=2, size=N)\n",
    "treatment = np.concatenate([np.zeros(int(N / 2)), np.ones(int(N / 2))])\n",
    "fungus = rng.binomial(n=1, p=0.5 - 0.4 * treatment, size=N)\n",
    "h1 = h0 + rng.normal(loc=5 - 3 * fungus, scale=1, size=N)\n",
    "\n",
    "plants = pd.DataFrame(\n",
    "    {\n",
    "        \"h0\": h0,\n",
    "        \"h1\": h1,\n",
    "        \"treatment\": treatment,\n",
    "        \"fungus\": fungus,\n",
    "    }\n",
    ").astype(float)"
   ]
  },
  {
   "cell_type": "markdown",
   "id": "b628b065-851f-4791-b957-9b2eba79cbf1",
   "metadata": {},
   "source": [
    "### 6.2.1 A prior is born"
   ]
  },
  {
   "cell_type": "markdown",
   "id": "8f31a420-55a5-44ba-a227-3a709f54556e",
   "metadata": {},
   "source": [
    "Start with a simple model without using the predictor variable."
   ]
  },
  {
   "cell_type": "code",
   "execution_count": 21,
   "id": "be2c65f2-3fc6-4c1c-8cc9-21d623aae3f2",
   "metadata": {
    "tags": []
   },
   "outputs": [
    {
     "name": "stderr",
     "output_type": "stream",
     "text": [
      "Auto-assigning NUTS sampler...\n",
      "Initializing NUTS using jitter+adapt_diag...\n",
      "Multiprocess sampling (4 chains in 4 jobs)\n",
      "NUTS: [p, sigma]\n"
     ]
    },
    {
     "data": {
      "text/html": [
       "\n",
       "<style>\n",
       "    /* Turns off some styling */\n",
       "    progress {\n",
       "        /* gets rid of default border in Firefox and Opera. */\n",
       "        border: none;\n",
       "        /* Needs to be in here for Safari polyfill so background images work as expected. */\n",
       "        background-size: auto;\n",
       "    }\n",
       "    progress:not([value]), progress:not([value])::-webkit-progress-bar {\n",
       "        background: repeating-linear-gradient(45deg, #7e7e7e, #7e7e7e 10px, #5c5c5c 10px, #5c5c5c 20px);\n",
       "    }\n",
       "    .progress-bar-interrupted, .progress-bar-interrupted::-webkit-progress-bar {\n",
       "        background: #F44336;\n",
       "    }\n",
       "</style>\n"
      ],
      "text/plain": [
       "<IPython.core.display.HTML object>"
      ]
     },
     "metadata": {},
     "output_type": "display_data"
    },
    {
     "data": {
      "text/html": [
       "\n",
       "    <div>\n",
       "      <progress value='8000' class='' max='8000' style='width:300px; height:20px; vertical-align: middle;'></progress>\n",
       "      100.00% [8000/8000 00:00&lt;00:00 Sampling 4 chains, 0 divergences]\n",
       "    </div>\n",
       "    "
      ],
      "text/plain": [
       "<IPython.core.display.HTML object>"
      ]
     },
     "metadata": {},
     "output_type": "display_data"
    },
    {
     "name": "stderr",
     "output_type": "stream",
     "text": [
      "Sampling 4 chains for 1_000 tune and 1_000 draw iterations (4_000 + 4_000 draws total) took 1 seconds.\n"
     ]
    }
   ],
   "source": [
    "coords = {\n",
    "    \"obs_id\": plants.index,\n",
    "}\n",
    "with pm.Model(coords_mutable=coords) as m6_6:\n",
    "    # data\n",
    "    h0 = pm.MutableData(\"h0\", plants.h0, dims=\"obs_id\")\n",
    "\n",
    "    # priors\n",
    "    p = pm.LogNormal(\"p\", mu=0, sigma=0.25)\n",
    "    sigma = pm.Exponential(\"sigma\", lam=1)\n",
    "\n",
    "    # model\n",
    "    mu = pm.Deterministic(\"mu\", h0 * p, dims=\"obs_id\")\n",
    "\n",
    "    # likelihood\n",
    "    h1 = pm.Normal(\"h1\", mu=mu, sigma=sigma, observed=plants.h1, dims=\"obs_id\")\n",
    "\n",
    "    # sample\n",
    "    trace_6_6 = pm.sample(random_seed=RANDOM_SEED)"
   ]
  },
  {
   "cell_type": "code",
   "execution_count": 22,
   "id": "230cf543-ed38-412b-aa1d-6c3da9c0b031",
   "metadata": {
    "tags": []
   },
   "outputs": [
    {
     "data": {
      "text/html": [
       "<div>\n",
       "<style scoped>\n",
       "    .dataframe tbody tr th:only-of-type {\n",
       "        vertical-align: middle;\n",
       "    }\n",
       "\n",
       "    .dataframe tbody tr th {\n",
       "        vertical-align: top;\n",
       "    }\n",
       "\n",
       "    .dataframe thead th {\n",
       "        text-align: right;\n",
       "    }\n",
       "</style>\n",
       "<table border=\"1\" class=\"dataframe\">\n",
       "  <thead>\n",
       "    <tr style=\"text-align: right;\">\n",
       "      <th></th>\n",
       "      <th>mean</th>\n",
       "      <th>sd</th>\n",
       "      <th>hdi_5.5%</th>\n",
       "      <th>hdi_94.5%</th>\n",
       "    </tr>\n",
       "  </thead>\n",
       "  <tbody>\n",
       "    <tr>\n",
       "      <th>p</th>\n",
       "      <td>1.40</td>\n",
       "      <td>0.02</td>\n",
       "      <td>1.37</td>\n",
       "      <td>1.43</td>\n",
       "    </tr>\n",
       "    <tr>\n",
       "      <th>sigma</th>\n",
       "      <td>1.82</td>\n",
       "      <td>0.13</td>\n",
       "      <td>1.61</td>\n",
       "      <td>2.01</td>\n",
       "    </tr>\n",
       "  </tbody>\n",
       "</table>\n",
       "</div>"
      ],
      "text/plain": [
       "       mean    sd  hdi_5.5%  hdi_94.5%\n",
       "p      1.40  0.02      1.37       1.43\n",
       "sigma  1.82  0.13      1.61       2.01"
      ]
     },
     "execution_count": 22,
     "metadata": {},
     "output_type": "execute_result"
    }
   ],
   "source": [
    "pm.summary(\n",
    "    trace_6_6,\n",
    "    var_names=[\"~mu\"],\n",
    "    kind=\"stats\",\n",
    "    hdi_prob=0.89,\n",
    "    round_to=2,\n",
    ")"
   ]
  },
  {
   "cell_type": "markdown",
   "id": "eff8bdb6-5184-4ba1-8846-36dcb6c1240b",
   "metadata": {},
   "source": [
    "Now let's include the predictors"
   ]
  },
  {
   "cell_type": "code",
   "execution_count": 23,
   "id": "177e2068-348c-4aad-b48a-6fb5f6f09f03",
   "metadata": {
    "tags": []
   },
   "outputs": [
    {
     "name": "stderr",
     "output_type": "stream",
     "text": [
      "Auto-assigning NUTS sampler...\n",
      "Initializing NUTS using jitter+adapt_diag...\n",
      "Multiprocess sampling (4 chains in 4 jobs)\n",
      "NUTS: [alpha, beta_t, beta_f, sigma]\n"
     ]
    },
    {
     "data": {
      "text/html": [
       "\n",
       "<style>\n",
       "    /* Turns off some styling */\n",
       "    progress {\n",
       "        /* gets rid of default border in Firefox and Opera. */\n",
       "        border: none;\n",
       "        /* Needs to be in here for Safari polyfill so background images work as expected. */\n",
       "        background-size: auto;\n",
       "    }\n",
       "    progress:not([value]), progress:not([value])::-webkit-progress-bar {\n",
       "        background: repeating-linear-gradient(45deg, #7e7e7e, #7e7e7e 10px, #5c5c5c 10px, #5c5c5c 20px);\n",
       "    }\n",
       "    .progress-bar-interrupted, .progress-bar-interrupted::-webkit-progress-bar {\n",
       "        background: #F44336;\n",
       "    }\n",
       "</style>\n"
      ],
      "text/plain": [
       "<IPython.core.display.HTML object>"
      ]
     },
     "metadata": {},
     "output_type": "display_data"
    },
    {
     "data": {
      "text/html": [
       "\n",
       "    <div>\n",
       "      <progress value='8000' class='' max='8000' style='width:300px; height:20px; vertical-align: middle;'></progress>\n",
       "      100.00% [8000/8000 00:01&lt;00:00 Sampling 4 chains, 0 divergences]\n",
       "    </div>\n",
       "    "
      ],
      "text/plain": [
       "<IPython.core.display.HTML object>"
      ]
     },
     "metadata": {},
     "output_type": "display_data"
    },
    {
     "name": "stderr",
     "output_type": "stream",
     "text": [
      "Sampling 4 chains for 1_000 tune and 1_000 draw iterations (4_000 + 4_000 draws total) took 1 seconds.\n"
     ]
    }
   ],
   "source": [
    "coords = {\n",
    "    \"obs_id\": plants.index,\n",
    "}\n",
    "with pm.Model(coords_mutable=coords) as m6_7:\n",
    "    # data\n",
    "    h0 = pm.MutableData(\"h0\", plants.h0, dims=\"obs_id\")\n",
    "    treatment = pm.MutableData(\"treatment\", plants.treatment, dims=\"obs_id\")\n",
    "    fungus = pm.MutableData(\"fungus\", plants.fungus, dims=\"obs_id\")\n",
    "\n",
    "    # priors\n",
    "    alpha = pm.LogNormal(\"alpha\", mu=0, sigma=0.2)\n",
    "    beta_t = pm.Normal(\"beta_t\", mu=0, sigma=0.5)\n",
    "    beta_f = pm.Normal(\"beta_f\", mu=0, sigma=0.5)\n",
    "    sigma = pm.Exponential(\"sigma\", lam=1)\n",
    "\n",
    "    # model\n",
    "    p = pm.Deterministic(\n",
    "        \"p\", alpha + beta_t * treatment + beta_f * fungus, dims=\"obs_id\"\n",
    "    )\n",
    "    mu = pm.Deterministic(\"mu\", h0 * p, dims=\"obs_id\")\n",
    "\n",
    "    # likelihood\n",
    "    h1 = pm.Normal(\"h1\", mu=mu, sigma=sigma, observed=plants.h1, dims=\"obs_id\")\n",
    "\n",
    "    # sample\n",
    "    trace_6_7 = pm.sample(random_seed=RANDOM_SEED)"
   ]
  },
  {
   "cell_type": "code",
   "execution_count": 24,
   "id": "83428740-eb38-4a74-9a15-7d10a520ad20",
   "metadata": {
    "tags": []
   },
   "outputs": [
    {
     "data": {
      "image/svg+xml": [
       "<?xml version=\"1.0\" encoding=\"UTF-8\" standalone=\"no\"?>\n",
       "<!DOCTYPE svg PUBLIC \"-//W3C//DTD SVG 1.1//EN\"\n",
       " \"http://www.w3.org/Graphics/SVG/1.1/DTD/svg11.dtd\">\n",
       "<!-- Generated by graphviz version 9.0.0 (20230911.1827)\n",
       " -->\n",
       "<!-- Pages: 1 -->\n",
       "<svg width=\"548pt\" height=\"462pt\"\n",
       " viewBox=\"0.00 0.00 548.39 462.04\" xmlns=\"http://www.w3.org/2000/svg\" xmlns:xlink=\"http://www.w3.org/1999/xlink\">\n",
       "<g id=\"graph0\" class=\"graph\" transform=\"scale(1 1) rotate(0) translate(4 458.04)\">\n",
       "<polygon fill=\"white\" stroke=\"none\" points=\"-4,4 -4,-458.04 544.39,-458.04 544.39,4 -4,4\"/>\n",
       "<g id=\"clust1\" class=\"cluster\">\n",
       "<title>clusterobs_id (100)</title>\n",
       "<path fill=\"none\" stroke=\"black\" d=\"M20,-8C20,-8 208,-8 208,-8 214,-8 220,-14 220,-20 220,-20 220,-434.04 220,-434.04 220,-440.04 214,-446.04 208,-446.04 208,-446.04 20,-446.04 20,-446.04 14,-446.04 8,-440.04 8,-434.04 8,-434.04 8,-20 8,-20 8,-14 14,-8 20,-8\"/>\n",
       "<text text-anchor=\"middle\" x=\"177.5\" y=\"-15.2\" font-family=\"Times,serif\" font-size=\"14.00\">obs_id (100)</text>\n",
       "</g>\n",
       "<!-- treatment -->\n",
       "<g id=\"node1\" class=\"node\">\n",
       "<title>treatment</title>\n",
       "<path fill=\"lightgrey\" stroke=\"black\" d=\"M196.62,-438.04C196.62,-438.04 133.38,-438.04 133.38,-438.04 127.38,-438.04 121.38,-432.04 121.38,-426.04 121.38,-426.04 121.38,-392.54 121.38,-392.54 121.38,-386.54 127.38,-380.54 133.38,-380.54 133.38,-380.54 196.62,-380.54 196.62,-380.54 202.62,-380.54 208.62,-386.54 208.62,-392.54 208.62,-392.54 208.62,-426.04 208.62,-426.04 208.62,-432.04 202.62,-438.04 196.62,-438.04\"/>\n",
       "<text text-anchor=\"middle\" x=\"165\" y=\"-420.74\" font-family=\"Times,serif\" font-size=\"14.00\">treatment</text>\n",
       "<text text-anchor=\"middle\" x=\"165\" y=\"-404.24\" font-family=\"Times,serif\" font-size=\"14.00\">~</text>\n",
       "<text text-anchor=\"middle\" x=\"165\" y=\"-387.74\" font-family=\"Times,serif\" font-size=\"14.00\">MutableData</text>\n",
       "</g>\n",
       "<!-- p -->\n",
       "<g id=\"node2\" class=\"node\">\n",
       "<title>p</title>\n",
       "<polygon fill=\"none\" stroke=\"black\" points=\"106.12,-332.63 15.88,-332.63 15.88,-275.13 106.12,-275.13 106.12,-332.63\"/>\n",
       "<text text-anchor=\"middle\" x=\"61\" y=\"-315.33\" font-family=\"Times,serif\" font-size=\"14.00\">p</text>\n",
       "<text text-anchor=\"middle\" x=\"61\" y=\"-298.83\" font-family=\"Times,serif\" font-size=\"14.00\">~</text>\n",
       "<text text-anchor=\"middle\" x=\"61\" y=\"-282.33\" font-family=\"Times,serif\" font-size=\"14.00\">Deterministic</text>\n",
       "</g>\n",
       "<!-- treatment&#45;&gt;p -->\n",
       "<g id=\"edge1\" class=\"edge\">\n",
       "<title>treatment&#45;&gt;p</title>\n",
       "<path fill=\"none\" stroke=\"black\" d=\"M136.86,-380.31C124.6,-368.12 110.09,-353.69 97.06,-340.74\"/>\n",
       "<polygon fill=\"black\" stroke=\"black\" points=\"99.8,-338.53 90.24,-333.96 94.86,-343.49 99.8,-338.53\"/>\n",
       "</g>\n",
       "<!-- mu -->\n",
       "<g id=\"node3\" class=\"node\">\n",
       "<title>mu</title>\n",
       "<polygon fill=\"none\" stroke=\"black\" points=\"210.12,-227.23 119.88,-227.23 119.88,-169.73 210.12,-169.73 210.12,-227.23\"/>\n",
       "<text text-anchor=\"middle\" x=\"165\" y=\"-209.93\" font-family=\"Times,serif\" font-size=\"14.00\">mu</text>\n",
       "<text text-anchor=\"middle\" x=\"165\" y=\"-193.43\" font-family=\"Times,serif\" font-size=\"14.00\">~</text>\n",
       "<text text-anchor=\"middle\" x=\"165\" y=\"-176.93\" font-family=\"Times,serif\" font-size=\"14.00\">Deterministic</text>\n",
       "</g>\n",
       "<!-- p&#45;&gt;mu -->\n",
       "<g id=\"edge6\" class=\"edge\">\n",
       "<title>p&#45;&gt;mu</title>\n",
       "<path fill=\"none\" stroke=\"black\" d=\"M89.14,-274.9C101.4,-262.72 115.91,-248.29 128.94,-235.33\"/>\n",
       "<polygon fill=\"black\" stroke=\"black\" points=\"131.14,-238.08 135.76,-228.55 126.2,-233.12 131.14,-238.08\"/>\n",
       "</g>\n",
       "<!-- h1 -->\n",
       "<g id=\"node5\" class=\"node\">\n",
       "<title>h1</title>\n",
       "<ellipse fill=\"lightgrey\" stroke=\"black\" cx=\"168\" cy=\"-81.16\" rx=\"41.01\" ry=\"40.66\"/>\n",
       "<text text-anchor=\"middle\" x=\"168\" y=\"-92.61\" font-family=\"Times,serif\" font-size=\"14.00\">h1</text>\n",
       "<text text-anchor=\"middle\" x=\"168\" y=\"-76.11\" font-family=\"Times,serif\" font-size=\"14.00\">~</text>\n",
       "<text text-anchor=\"middle\" x=\"168\" y=\"-59.61\" font-family=\"Times,serif\" font-size=\"14.00\">Normal</text>\n",
       "</g>\n",
       "<!-- mu&#45;&gt;h1 -->\n",
       "<g id=\"edge9\" class=\"edge\">\n",
       "<title>mu&#45;&gt;h1</title>\n",
       "<path fill=\"none\" stroke=\"black\" d=\"M165.73,-169.27C166.02,-158.44 166.35,-145.73 166.67,-133.41\"/>\n",
       "<polygon fill=\"black\" stroke=\"black\" points=\"170.16,-133.87 166.92,-123.78 163.16,-133.69 170.16,-133.87\"/>\n",
       "</g>\n",
       "<!-- h0 -->\n",
       "<g id=\"node4\" class=\"node\">\n",
       "<title>h0</title>\n",
       "<path fill=\"lightgrey\" stroke=\"black\" d=\"M199.62,-332.63C199.62,-332.63 136.38,-332.63 136.38,-332.63 130.38,-332.63 124.38,-326.63 124.38,-320.63 124.38,-320.63 124.38,-287.13 124.38,-287.13 124.38,-281.13 130.38,-275.13 136.38,-275.13 136.38,-275.13 199.62,-275.13 199.62,-275.13 205.62,-275.13 211.62,-281.13 211.62,-287.13 211.62,-287.13 211.62,-320.63 211.62,-320.63 211.62,-326.63 205.62,-332.63 199.62,-332.63\"/>\n",
       "<text text-anchor=\"middle\" x=\"168\" y=\"-315.33\" font-family=\"Times,serif\" font-size=\"14.00\">h0</text>\n",
       "<text text-anchor=\"middle\" x=\"168\" y=\"-298.83\" font-family=\"Times,serif\" font-size=\"14.00\">~</text>\n",
       "<text text-anchor=\"middle\" x=\"168\" y=\"-282.33\" font-family=\"Times,serif\" font-size=\"14.00\">MutableData</text>\n",
       "</g>\n",
       "<!-- h0&#45;&gt;mu -->\n",
       "<g id=\"edge7\" class=\"edge\">\n",
       "<title>h0&#45;&gt;mu</title>\n",
       "<path fill=\"none\" stroke=\"black\" d=\"M167.19,-274.9C166.86,-263.75 166.49,-250.72 166.14,-238.66\"/>\n",
       "<polygon fill=\"black\" stroke=\"black\" points=\"169.65,-238.89 165.86,-229 162.65,-239.09 169.65,-238.89\"/>\n",
       "</g>\n",
       "<!-- fungus -->\n",
       "<g id=\"node6\" class=\"node\">\n",
       "<title>fungus</title>\n",
       "<path fill=\"lightgrey\" stroke=\"black\" d=\"M91.62,-438.04C91.62,-438.04 28.37,-438.04 28.37,-438.04 22.37,-438.04 16.38,-432.04 16.38,-426.04 16.38,-426.04 16.38,-392.54 16.38,-392.54 16.38,-386.54 22.38,-380.54 28.38,-380.54 28.38,-380.54 91.62,-380.54 91.62,-380.54 97.62,-380.54 103.62,-386.54 103.62,-392.54 103.62,-392.54 103.62,-426.04 103.62,-426.04 103.62,-432.04 97.62,-438.04 91.62,-438.04\"/>\n",
       "<text text-anchor=\"middle\" x=\"60\" y=\"-420.74\" font-family=\"Times,serif\" font-size=\"14.00\">fungus</text>\n",
       "<text text-anchor=\"middle\" x=\"60\" y=\"-404.24\" font-family=\"Times,serif\" font-size=\"14.00\">~</text>\n",
       "<text text-anchor=\"middle\" x=\"60\" y=\"-387.74\" font-family=\"Times,serif\" font-size=\"14.00\">MutableData</text>\n",
       "</g>\n",
       "<!-- fungus&#45;&gt;p -->\n",
       "<g id=\"edge5\" class=\"edge\">\n",
       "<title>fungus&#45;&gt;p</title>\n",
       "<path fill=\"none\" stroke=\"black\" d=\"M60.27,-380.31C60.38,-369.16 60.5,-356.13 60.62,-344.07\"/>\n",
       "<polygon fill=\"black\" stroke=\"black\" points=\"64.12,-344.44 60.71,-334.4 57.12,-344.37 64.12,-344.44\"/>\n",
       "</g>\n",
       "<!-- beta_f -->\n",
       "<g id=\"node7\" class=\"node\">\n",
       "<title>beta_f</title>\n",
       "<ellipse fill=\"none\" stroke=\"black\" cx=\"269\" cy=\"-409.29\" rx=\"41.01\" ry=\"40.66\"/>\n",
       "<text text-anchor=\"middle\" x=\"269\" y=\"-420.74\" font-family=\"Times,serif\" font-size=\"14.00\">beta_f</text>\n",
       "<text text-anchor=\"middle\" x=\"269\" y=\"-404.24\" font-family=\"Times,serif\" font-size=\"14.00\">~</text>\n",
       "<text text-anchor=\"middle\" x=\"269\" y=\"-387.74\" font-family=\"Times,serif\" font-size=\"14.00\">Normal</text>\n",
       "</g>\n",
       "<!-- beta_f&#45;&gt;p -->\n",
       "<g id=\"edge2\" class=\"edge\">\n",
       "<title>beta_f&#45;&gt;p</title>\n",
       "<path fill=\"none\" stroke=\"black\" d=\"M240.04,-379.82C234.95,-375.7 229.51,-371.79 224,-368.63 182.68,-344.94 164.52,-351.3 117.03,-333.13\"/>\n",
       "<polygon fill=\"black\" stroke=\"black\" points=\"118.42,-329.92 107.83,-329.43 115.8,-336.41 118.42,-329.92\"/>\n",
       "</g>\n",
       "<!-- beta_t -->\n",
       "<g id=\"node8\" class=\"node\">\n",
       "<title>beta_t</title>\n",
       "<ellipse fill=\"none\" stroke=\"black\" cx=\"369\" cy=\"-409.29\" rx=\"41.01\" ry=\"40.66\"/>\n",
       "<text text-anchor=\"middle\" x=\"369\" y=\"-420.74\" font-family=\"Times,serif\" font-size=\"14.00\">beta_t</text>\n",
       "<text text-anchor=\"middle\" x=\"369\" y=\"-404.24\" font-family=\"Times,serif\" font-size=\"14.00\">~</text>\n",
       "<text text-anchor=\"middle\" x=\"369\" y=\"-387.74\" font-family=\"Times,serif\" font-size=\"14.00\">Normal</text>\n",
       "</g>\n",
       "<!-- beta_t&#45;&gt;p -->\n",
       "<g id=\"edge3\" class=\"edge\">\n",
       "<title>beta_t&#45;&gt;p</title>\n",
       "<path fill=\"none\" stroke=\"black\" d=\"M339.1,-380.74C332.82,-376.1 325.97,-371.77 319,-368.63 238.31,-332.35 204.9,-359.68 117.48,-333\"/>\n",
       "<polygon fill=\"black\" stroke=\"black\" points=\"118.58,-329.68 107.99,-329.94 116.43,-336.34 118.58,-329.68\"/>\n",
       "</g>\n",
       "<!-- sigma -->\n",
       "<g id=\"node9\" class=\"node\">\n",
       "<title>sigma</title>\n",
       "<ellipse fill=\"none\" stroke=\"black\" cx=\"286\" cy=\"-198.48\" rx=\"57.45\" ry=\"40.66\"/>\n",
       "<text text-anchor=\"middle\" x=\"286\" y=\"-209.93\" font-family=\"Times,serif\" font-size=\"14.00\">sigma</text>\n",
       "<text text-anchor=\"middle\" x=\"286\" y=\"-193.43\" font-family=\"Times,serif\" font-size=\"14.00\">~</text>\n",
       "<text text-anchor=\"middle\" x=\"286\" y=\"-176.93\" font-family=\"Times,serif\" font-size=\"14.00\">Exponential</text>\n",
       "</g>\n",
       "<!-- sigma&#45;&gt;h1 -->\n",
       "<g id=\"edge8\" class=\"edge\">\n",
       "<title>sigma&#45;&gt;h1</title>\n",
       "<path fill=\"none\" stroke=\"black\" d=\"M252.82,-165.05C237.98,-150.55 220.42,-133.39 205.15,-118.46\"/>\n",
       "<polygon fill=\"black\" stroke=\"black\" points=\"207.61,-115.97 198.01,-111.49 202.71,-120.98 207.61,-115.97\"/>\n",
       "</g>\n",
       "<!-- alpha -->\n",
       "<g id=\"node10\" class=\"node\">\n",
       "<title>alpha</title>\n",
       "<ellipse fill=\"none\" stroke=\"black\" cx=\"484\" cy=\"-409.29\" rx=\"56.39\" ry=\"40.66\"/>\n",
       "<text text-anchor=\"middle\" x=\"484\" y=\"-420.74\" font-family=\"Times,serif\" font-size=\"14.00\">alpha</text>\n",
       "<text text-anchor=\"middle\" x=\"484\" y=\"-404.24\" font-family=\"Times,serif\" font-size=\"14.00\">~</text>\n",
       "<text text-anchor=\"middle\" x=\"484\" y=\"-387.74\" font-family=\"Times,serif\" font-size=\"14.00\">LogNormal</text>\n",
       "</g>\n",
       "<!-- alpha&#45;&gt;p -->\n",
       "<g id=\"edge4\" class=\"edge\">\n",
       "<title>alpha&#45;&gt;p</title>\n",
       "<path fill=\"none\" stroke=\"black\" d=\"M444.07,-380.29C436.06,-375.75 427.5,-371.57 419,-368.63 293.8,-325.35 247.57,-369.88 117.26,-332.85\"/>\n",
       "<polygon fill=\"black\" stroke=\"black\" points=\"118.52,-329.57 107.94,-330.09 116.53,-336.29 118.52,-329.57\"/>\n",
       "</g>\n",
       "</g>\n",
       "</svg>\n"
      ],
      "text/plain": [
       "<graphviz.graphs.Digraph at 0x1558f9660>"
      ]
     },
     "execution_count": 24,
     "metadata": {},
     "output_type": "execute_result"
    }
   ],
   "source": [
    "m6_7.to_graphviz()"
   ]
  },
  {
   "cell_type": "code",
   "execution_count": 25,
   "id": "a56a55c5-80c1-41f1-8628-31cb74f4136b",
   "metadata": {
    "tags": []
   },
   "outputs": [
    {
     "data": {
      "text/html": [
       "<div>\n",
       "<style scoped>\n",
       "    .dataframe tbody tr th:only-of-type {\n",
       "        vertical-align: middle;\n",
       "    }\n",
       "\n",
       "    .dataframe tbody tr th {\n",
       "        vertical-align: top;\n",
       "    }\n",
       "\n",
       "    .dataframe thead th {\n",
       "        text-align: right;\n",
       "    }\n",
       "</style>\n",
       "<table border=\"1\" class=\"dataframe\">\n",
       "  <thead>\n",
       "    <tr style=\"text-align: right;\">\n",
       "      <th></th>\n",
       "      <th>mean</th>\n",
       "      <th>sd</th>\n",
       "      <th>hdi_5.5%</th>\n",
       "      <th>hdi_94.5%</th>\n",
       "    </tr>\n",
       "  </thead>\n",
       "  <tbody>\n",
       "    <tr>\n",
       "      <th>beta_t</th>\n",
       "      <td>0.04</td>\n",
       "      <td>0.03</td>\n",
       "      <td>0.01</td>\n",
       "      <td>0.09</td>\n",
       "    </tr>\n",
       "    <tr>\n",
       "      <th>beta_f</th>\n",
       "      <td>-0.28</td>\n",
       "      <td>0.03</td>\n",
       "      <td>-0.33</td>\n",
       "      <td>-0.24</td>\n",
       "    </tr>\n",
       "    <tr>\n",
       "      <th>alpha</th>\n",
       "      <td>1.47</td>\n",
       "      <td>0.02</td>\n",
       "      <td>1.44</td>\n",
       "      <td>1.50</td>\n",
       "    </tr>\n",
       "    <tr>\n",
       "      <th>sigma</th>\n",
       "      <td>1.14</td>\n",
       "      <td>0.08</td>\n",
       "      <td>1.00</td>\n",
       "      <td>1.26</td>\n",
       "    </tr>\n",
       "  </tbody>\n",
       "</table>\n",
       "</div>"
      ],
      "text/plain": [
       "        mean    sd  hdi_5.5%  hdi_94.5%\n",
       "beta_t  0.04  0.03      0.01       0.09\n",
       "beta_f -0.28  0.03     -0.33      -0.24\n",
       "alpha   1.47  0.02      1.44       1.50\n",
       "sigma   1.14  0.08      1.00       1.26"
      ]
     },
     "execution_count": 25,
     "metadata": {},
     "output_type": "execute_result"
    }
   ],
   "source": [
    "pm.summary(\n",
    "    trace_6_7,\n",
    "    var_names=[\"~mu\", \"~p\"],\n",
    "    kind=\"stats\",\n",
    "    hdi_prob=0.89,\n",
    "    round_to=2,\n",
    ")"
   ]
  },
  {
   "cell_type": "markdown",
   "id": "4efcc569-f2df-4eda-aeb4-da1e70a38764",
   "metadata": {},
   "source": [
    "Note that the value of $\\alpha$ hasn't changed and the treatment effect appears to be basically zero."
   ]
  },
  {
   "cell_type": "markdown",
   "id": "3c231d2e-7769-499a-82a6-035ad6fa2b7a",
   "metadata": {},
   "source": [
    "### 6.2.2 Blocked by consequence"
   ]
  },
  {
   "cell_type": "markdown",
   "id": "9d888aea-1c9d-4b71-894f-6299f83cedd4",
   "metadata": {},
   "source": [
    "Now try removing fungus as a predictor"
   ]
  },
  {
   "cell_type": "code",
   "execution_count": 26,
   "id": "66e7990d-581d-4b62-bb43-948f3c72eb54",
   "metadata": {
    "tags": []
   },
   "outputs": [
    {
     "name": "stderr",
     "output_type": "stream",
     "text": [
      "Auto-assigning NUTS sampler...\n",
      "Initializing NUTS using jitter+adapt_diag...\n",
      "Multiprocess sampling (4 chains in 4 jobs)\n",
      "NUTS: [alpha, beta_t, sigma]\n"
     ]
    },
    {
     "data": {
      "text/html": [
       "\n",
       "<style>\n",
       "    /* Turns off some styling */\n",
       "    progress {\n",
       "        /* gets rid of default border in Firefox and Opera. */\n",
       "        border: none;\n",
       "        /* Needs to be in here for Safari polyfill so background images work as expected. */\n",
       "        background-size: auto;\n",
       "    }\n",
       "    progress:not([value]), progress:not([value])::-webkit-progress-bar {\n",
       "        background: repeating-linear-gradient(45deg, #7e7e7e, #7e7e7e 10px, #5c5c5c 10px, #5c5c5c 20px);\n",
       "    }\n",
       "    .progress-bar-interrupted, .progress-bar-interrupted::-webkit-progress-bar {\n",
       "        background: #F44336;\n",
       "    }\n",
       "</style>\n"
      ],
      "text/plain": [
       "<IPython.core.display.HTML object>"
      ]
     },
     "metadata": {},
     "output_type": "display_data"
    },
    {
     "data": {
      "text/html": [
       "\n",
       "    <div>\n",
       "      <progress value='8000' class='' max='8000' style='width:300px; height:20px; vertical-align: middle;'></progress>\n",
       "      100.00% [8000/8000 00:00&lt;00:00 Sampling 4 chains, 0 divergences]\n",
       "    </div>\n",
       "    "
      ],
      "text/plain": [
       "<IPython.core.display.HTML object>"
      ]
     },
     "metadata": {},
     "output_type": "display_data"
    },
    {
     "name": "stderr",
     "output_type": "stream",
     "text": [
      "Sampling 4 chains for 1_000 tune and 1_000 draw iterations (4_000 + 4_000 draws total) took 1 seconds.\n"
     ]
    }
   ],
   "source": [
    "coords = {\n",
    "    \"obs_id\": plants.index,\n",
    "}\n",
    "with pm.Model(coords_mutable=coords) as m6_8:\n",
    "    # data\n",
    "    h0 = pm.MutableData(\"h0\", plants.h0, dims=\"obs_id\")\n",
    "    treatment = pm.MutableData(\"treatment\", plants.treatment, dims=\"obs_id\")\n",
    "    fungus = pm.MutableData(\"fungus\", plants.fungus, dims=\"obs_id\")\n",
    "\n",
    "    # priors\n",
    "    alpha = pm.LogNormal(\"alpha\", mu=0, sigma=0.2)\n",
    "    beta_t = pm.Normal(\"beta_t\", mu=0, sigma=0.5)\n",
    "    sigma = pm.Exponential(\"sigma\", lam=1)\n",
    "\n",
    "    # model\n",
    "    p = pm.Deterministic(\"p\", alpha + beta_t * treatment, dims=\"obs_id\")\n",
    "    mu = pm.Deterministic(\"mu\", h0 * p, dims=\"obs_id\")\n",
    "\n",
    "    # likelihood\n",
    "    h1 = pm.Normal(\"h1\", mu=mu, sigma=sigma, observed=plants.h1, dims=\"obs_id\")\n",
    "\n",
    "    # sample\n",
    "    trace_6_8 = pm.sample(random_seed=RANDOM_SEED)"
   ]
  },
  {
   "cell_type": "code",
   "execution_count": 27,
   "id": "bed82c24-168c-4b4b-a351-8ad3ddf69528",
   "metadata": {
    "tags": []
   },
   "outputs": [
    {
     "data": {
      "text/html": [
       "<div>\n",
       "<style scoped>\n",
       "    .dataframe tbody tr th:only-of-type {\n",
       "        vertical-align: middle;\n",
       "    }\n",
       "\n",
       "    .dataframe tbody tr th {\n",
       "        vertical-align: top;\n",
       "    }\n",
       "\n",
       "    .dataframe thead th {\n",
       "        text-align: right;\n",
       "    }\n",
       "</style>\n",
       "<table border=\"1\" class=\"dataframe\">\n",
       "  <thead>\n",
       "    <tr style=\"text-align: right;\">\n",
       "      <th></th>\n",
       "      <th>mean</th>\n",
       "      <th>sd</th>\n",
       "      <th>hdi_5.5%</th>\n",
       "      <th>hdi_94.5%</th>\n",
       "    </tr>\n",
       "  </thead>\n",
       "  <tbody>\n",
       "    <tr>\n",
       "      <th>beta_t</th>\n",
       "      <td>0.15</td>\n",
       "      <td>0.03</td>\n",
       "      <td>0.09</td>\n",
       "      <td>0.20</td>\n",
       "    </tr>\n",
       "    <tr>\n",
       "      <th>alpha</th>\n",
       "      <td>1.33</td>\n",
       "      <td>0.02</td>\n",
       "      <td>1.30</td>\n",
       "      <td>1.37</td>\n",
       "    </tr>\n",
       "    <tr>\n",
       "      <th>sigma</th>\n",
       "      <td>1.69</td>\n",
       "      <td>0.12</td>\n",
       "      <td>1.50</td>\n",
       "      <td>1.88</td>\n",
       "    </tr>\n",
       "  </tbody>\n",
       "</table>\n",
       "</div>"
      ],
      "text/plain": [
       "        mean    sd  hdi_5.5%  hdi_94.5%\n",
       "beta_t  0.15  0.03      0.09       0.20\n",
       "alpha   1.33  0.02      1.30       1.37\n",
       "sigma   1.69  0.12      1.50       1.88"
      ]
     },
     "execution_count": 27,
     "metadata": {},
     "output_type": "execute_result"
    }
   ],
   "source": [
    "pm.summary(\n",
    "    trace_6_8,\n",
    "    var_names=[\"~mu\", \"~p\"],\n",
    "    kind=\"stats\",\n",
    "    hdi_prob=0.89,\n",
    "    round_to=2,\n",
    ")"
   ]
  },
  {
   "cell_type": "markdown",
   "id": "4e97cabf-2858-4ac1-84c6-745eaeb271c9",
   "metadata": {},
   "source": [
    "Now we properly capture the causal effect of the treatment."
   ]
  },
  {
   "cell_type": "markdown",
   "id": "3d74ed6b-5eef-4072-825b-fdfdc7dd88b4",
   "metadata": {},
   "source": [
    "### 6.2.3 Fungus and d-separation"
   ]
  },
  {
   "cell_type": "markdown",
   "id": "2b5852d8-9b7b-48c3-9ef1-33b18a729512",
   "metadata": {},
   "source": [
    "Here's the DAG of the process"
   ]
  },
  {
   "cell_type": "code",
   "execution_count": 28,
   "id": "5d3d91a5-e0d7-4f99-ae16-132933942a4f",
   "metadata": {
    "tags": []
   },
   "outputs": [
    {
     "data": {
      "image/svg+xml": [
       "<?xml version=\"1.0\" encoding=\"UTF-8\" standalone=\"no\"?>\n",
       "<!DOCTYPE svg PUBLIC \"-//W3C//DTD SVG 1.1//EN\"\n",
       " \"http://www.w3.org/Graphics/SVG/1.1/DTD/svg11.dtd\">\n",
       "<!-- Generated by graphviz version 9.0.0 (20230911.1827)\n",
       " -->\n",
       "<!-- Title: plant_growth Pages: 1 -->\n",
       "<svg width=\"134pt\" height=\"188pt\"\n",
       " viewBox=\"0.00 0.00 134.00 188.00\" xmlns=\"http://www.w3.org/2000/svg\" xmlns:xlink=\"http://www.w3.org/1999/xlink\">\n",
       "<g id=\"graph0\" class=\"graph\" transform=\"scale(1 1) rotate(0) translate(4 184)\">\n",
       "<title>plant_growth</title>\n",
       "<polygon fill=\"white\" stroke=\"none\" points=\"-4,4 -4,-184 130,-184 130,4 -4,4\"/>\n",
       "<!-- H0 -->\n",
       "<g id=\"node1\" class=\"node\">\n",
       "<title>H0</title>\n",
       "<ellipse fill=\"none\" stroke=\"white\" cx=\"27\" cy=\"-90\" rx=\"27\" ry=\"18\"/>\n",
       "<text text-anchor=\"middle\" x=\"27\" y=\"-84.95\" font-family=\"Times,serif\" font-size=\"14.00\">H0</text>\n",
       "</g>\n",
       "<!-- H1 -->\n",
       "<g id=\"node2\" class=\"node\">\n",
       "<title>H1</title>\n",
       "<ellipse fill=\"none\" stroke=\"white\" cx=\"63\" cy=\"-18\" rx=\"27\" ry=\"18\"/>\n",
       "<text text-anchor=\"middle\" x=\"63\" y=\"-12.95\" font-family=\"Times,serif\" font-size=\"14.00\">H1</text>\n",
       "</g>\n",
       "<!-- H0&#45;&gt;H1 -->\n",
       "<g id=\"edge1\" class=\"edge\">\n",
       "<title>H0&#45;&gt;H1</title>\n",
       "<path fill=\"none\" stroke=\"black\" d=\"M35.35,-72.76C39.58,-64.55 44.81,-54.37 49.58,-45.09\"/>\n",
       "<polygon fill=\"black\" stroke=\"black\" points=\"52.54,-46.99 54,-36.49 46.32,-43.79 52.54,-46.99\"/>\n",
       "</g>\n",
       "<!-- T -->\n",
       "<g id=\"node3\" class=\"node\">\n",
       "<title>T</title>\n",
       "<ellipse fill=\"none\" stroke=\"white\" cx=\"99\" cy=\"-162\" rx=\"27\" ry=\"18\"/>\n",
       "<text text-anchor=\"middle\" x=\"99\" y=\"-156.95\" font-family=\"Times,serif\" font-size=\"14.00\">T</text>\n",
       "</g>\n",
       "<!-- F -->\n",
       "<g id=\"node4\" class=\"node\">\n",
       "<title>F</title>\n",
       "<ellipse fill=\"none\" stroke=\"white\" cx=\"99\" cy=\"-90\" rx=\"27\" ry=\"18\"/>\n",
       "<text text-anchor=\"middle\" x=\"99\" y=\"-84.95\" font-family=\"Times,serif\" font-size=\"14.00\">F</text>\n",
       "</g>\n",
       "<!-- T&#45;&gt;F -->\n",
       "<g id=\"edge3\" class=\"edge\">\n",
       "<title>T&#45;&gt;F</title>\n",
       "<path fill=\"none\" stroke=\"black\" d=\"M99,-143.7C99,-136.41 99,-127.73 99,-119.54\"/>\n",
       "<polygon fill=\"black\" stroke=\"black\" points=\"102.5,-119.62 99,-109.62 95.5,-119.62 102.5,-119.62\"/>\n",
       "</g>\n",
       "<!-- F&#45;&gt;H1 -->\n",
       "<g id=\"edge2\" class=\"edge\">\n",
       "<title>F&#45;&gt;H1</title>\n",
       "<path fill=\"none\" stroke=\"black\" d=\"M90.65,-72.76C86.42,-64.55 81.19,-54.37 76.42,-45.09\"/>\n",
       "<polygon fill=\"black\" stroke=\"black\" points=\"79.68,-43.79 72,-36.49 73.46,-46.99 79.68,-43.79\"/>\n",
       "</g>\n",
       "</g>\n",
       "</svg>\n"
      ],
      "text/plain": [
       "<graphviz.graphs.Digraph at 0x1559e7730>"
      ]
     },
     "execution_count": 28,
     "metadata": {},
     "output_type": "execute_result"
    }
   ],
   "source": [
    "g = gr.Digraph(\"plant_growth\", node_attr={\"color\": \"white\"})\n",
    "\n",
    "g.node(\"H0\")\n",
    "g.node(\"H1\")\n",
    "g.node(\"T\")\n",
    "g.node(\"F\")\n",
    "\n",
    "g.edge(\"H0\", \"H1\")\n",
    "g.edge(\"F\", \"H1\")\n",
    "g.edge(\"T\", \"F\")\n",
    "g"
   ]
  },
  {
   "cell_type": "markdown",
   "id": "8bcb51b4-a681-40e4-a547-5372f62317bc",
   "metadata": {},
   "source": [
    "What if we had moisture as an unobserved variable?"
   ]
  },
  {
   "cell_type": "code",
   "execution_count": 29,
   "id": "08cd8953-245a-41f0-b538-3e350b97ae31",
   "metadata": {
    "tags": []
   },
   "outputs": [
    {
     "data": {
      "image/svg+xml": [
       "<?xml version=\"1.0\" encoding=\"UTF-8\" standalone=\"no\"?>\n",
       "<!DOCTYPE svg PUBLIC \"-//W3C//DTD SVG 1.1//EN\"\n",
       " \"http://www.w3.org/Graphics/SVG/1.1/DTD/svg11.dtd\">\n",
       "<!-- Generated by graphviz version 9.0.0 (20230911.1827)\n",
       " -->\n",
       "<!-- Title: plant_growth Pages: 1 -->\n",
       "<svg width=\"206pt\" height=\"116pt\"\n",
       " viewBox=\"0.00 0.00 206.00 116.00\" xmlns=\"http://www.w3.org/2000/svg\" xmlns:xlink=\"http://www.w3.org/1999/xlink\">\n",
       "<g id=\"graph0\" class=\"graph\" transform=\"scale(1 1) rotate(0) translate(4 112)\">\n",
       "<title>plant_growth</title>\n",
       "<polygon fill=\"white\" stroke=\"none\" points=\"-4,4 -4,-112 202,-112 202,4 -4,4\"/>\n",
       "<!-- H0 -->\n",
       "<g id=\"node1\" class=\"node\">\n",
       "<title>H0</title>\n",
       "<ellipse fill=\"none\" stroke=\"white\" cx=\"27\" cy=\"-90\" rx=\"27\" ry=\"18\"/>\n",
       "<text text-anchor=\"middle\" x=\"27\" y=\"-84.95\" font-family=\"Times,serif\" font-size=\"14.00\">H0</text>\n",
       "</g>\n",
       "<!-- H1 -->\n",
       "<g id=\"node2\" class=\"node\">\n",
       "<title>H1</title>\n",
       "<ellipse fill=\"none\" stroke=\"white\" cx=\"45\" cy=\"-18\" rx=\"27\" ry=\"18\"/>\n",
       "<text text-anchor=\"middle\" x=\"45\" y=\"-12.95\" font-family=\"Times,serif\" font-size=\"14.00\">H1</text>\n",
       "</g>\n",
       "<!-- H0&#45;&gt;H1 -->\n",
       "<g id=\"edge1\" class=\"edge\">\n",
       "<title>H0&#45;&gt;H1</title>\n",
       "<path fill=\"none\" stroke=\"black\" d=\"M31.36,-72.05C33.3,-64.49 35.65,-55.37 37.84,-46.85\"/>\n",
       "<polygon fill=\"black\" stroke=\"black\" points=\"41.21,-47.81 40.31,-37.25 34.43,-46.07 41.21,-47.81\"/>\n",
       "</g>\n",
       "<!-- M -->\n",
       "<g id=\"node3\" class=\"node\">\n",
       "<title>M</title>\n",
       "<ellipse fill=\"none\" stroke=\"black\" cx=\"99\" cy=\"-90\" rx=\"27\" ry=\"18\"/>\n",
       "<text text-anchor=\"middle\" x=\"99\" y=\"-84.95\" font-family=\"Times,serif\" font-size=\"14.00\">M</text>\n",
       "</g>\n",
       "<!-- M&#45;&gt;H1 -->\n",
       "<g id=\"edge2\" class=\"edge\">\n",
       "<title>M&#45;&gt;H1</title>\n",
       "<path fill=\"none\" stroke=\"black\" d=\"M87.02,-73.46C80.23,-64.67 71.6,-53.48 63.92,-43.53\"/>\n",
       "<polygon fill=\"black\" stroke=\"black\" points=\"66.75,-41.47 57.88,-35.69 61.21,-45.75 66.75,-41.47\"/>\n",
       "</g>\n",
       "<!-- F -->\n",
       "<g id=\"node5\" class=\"node\">\n",
       "<title>F</title>\n",
       "<ellipse fill=\"none\" stroke=\"white\" cx=\"153\" cy=\"-18\" rx=\"27\" ry=\"18\"/>\n",
       "<text text-anchor=\"middle\" x=\"153\" y=\"-12.95\" font-family=\"Times,serif\" font-size=\"14.00\">F</text>\n",
       "</g>\n",
       "<!-- M&#45;&gt;F -->\n",
       "<g id=\"edge3\" class=\"edge\">\n",
       "<title>M&#45;&gt;F</title>\n",
       "<path fill=\"none\" stroke=\"black\" d=\"M110.98,-73.46C117.77,-64.67 126.4,-53.48 134.08,-43.53\"/>\n",
       "<polygon fill=\"black\" stroke=\"black\" points=\"136.79,-45.75 140.12,-35.69 131.25,-41.47 136.79,-45.75\"/>\n",
       "</g>\n",
       "<!-- T -->\n",
       "<g id=\"node4\" class=\"node\">\n",
       "<title>T</title>\n",
       "<ellipse fill=\"none\" stroke=\"white\" cx=\"171\" cy=\"-90\" rx=\"27\" ry=\"18\"/>\n",
       "<text text-anchor=\"middle\" x=\"171\" y=\"-84.95\" font-family=\"Times,serif\" font-size=\"14.00\">T</text>\n",
       "</g>\n",
       "<!-- T&#45;&gt;F -->\n",
       "<g id=\"edge4\" class=\"edge\">\n",
       "<title>T&#45;&gt;F</title>\n",
       "<path fill=\"none\" stroke=\"black\" d=\"M166.64,-72.05C164.7,-64.49 162.35,-55.37 160.16,-46.85\"/>\n",
       "<polygon fill=\"black\" stroke=\"black\" points=\"163.57,-46.07 157.69,-37.25 156.79,-47.81 163.57,-46.07\"/>\n",
       "</g>\n",
       "</g>\n",
       "</svg>\n"
      ],
      "text/plain": [
       "<graphviz.graphs.Digraph at 0x14744ea10>"
      ]
     },
     "execution_count": 29,
     "metadata": {},
     "output_type": "execute_result"
    }
   ],
   "source": [
    "g = gr.Digraph(\"plant_growth\", node_attr={\"color\": \"white\"})\n",
    "\n",
    "g.node(\"H0\")\n",
    "g.node(\"H1\")\n",
    "g.node(\"M\", color=\"black\")\n",
    "g.node(\"T\")\n",
    "g.node(\"F\")\n",
    "\n",
    "g.edge(\"H0\", \"H1\")\n",
    "g.edge(\"M\", \"H1\")\n",
    "g.edge(\"M\", \"F\")\n",
    "g.edge(\"T\", \"F\")\n",
    "g"
   ]
  },
  {
   "cell_type": "markdown",
   "id": "10592adf-ff2a-46a9-922d-76feb7c3fff7",
   "metadata": {},
   "source": [
    "## 6.3 Collider bias"
   ]
  },
  {
   "cell_type": "markdown",
   "id": "ea53509c-bc76-4eb2-bf3e-1109e09d596d",
   "metadata": {},
   "source": [
    "### 6.3.1 Collider of false sorrow"
   ]
  },
  {
   "cell_type": "markdown",
   "id": "91ea9330-d0d7-4d7c-bab1-eaad3b18c8d9",
   "metadata": {},
   "source": [
    "Let's simulate happiness and marriage"
   ]
  },
  {
   "cell_type": "code",
   "execution_count": 30,
   "id": "8a84a412-c3ef-43f0-b31b-710e87feb665",
   "metadata": {
    "tags": []
   },
   "outputs": [],
   "source": [
    "def simulate_marriages(\n",
    "    n_years, random_seed, p_marriage_intercept=-4, p_marriage_slope=1\n",
    "):\n",
    "    # set random seed\n",
    "    rng = np.random.default_rng(random_seed)\n",
    "\n",
    "    # defaults\n",
    "    BIRTHS_PER_YEAR = 20\n",
    "    MIN_MARRIAGE_AGE = 18\n",
    "    MAX_MARRIAGE_AGE = 65\n",
    "\n",
    "    # function for probability of marriage from happiness\n",
    "    def prob_marriage(\n",
    "        happiness, intercept=p_marriage_intercept, slope=p_marriage_slope\n",
    "    ):\n",
    "        return expit(intercept + slope * happiness)\n",
    "\n",
    "    # run simulation\n",
    "    people = pd.DataFrame(columns=[\"age\", \"happiness\", \"married\"])\n",
    "    for year in range(n_years):\n",
    "        n_people = people.shape[0]\n",
    "\n",
    "        # simulate people aging\n",
    "        if n_people > 0:\n",
    "            people[\"age\"] = people[\"age\"] + 1\n",
    "\n",
    "            marriable_mask = (people[\"married\"] == 0) & people[\"age\"].between(\n",
    "                MIN_MARRIAGE_AGE, MAX_MARRIAGE_AGE\n",
    "            )\n",
    "            people[\"married\"] = np.where(\n",
    "                marriable_mask,\n",
    "                rng.binomial(\n",
    "                    n=1,\n",
    "                    p=prob_marriage(people.happiness),\n",
    "                    size=n_people,\n",
    "                ),\n",
    "                people[\"married\"],\n",
    "            )\n",
    "\n",
    "        # add new people\n",
    "        new_people = pd.DataFrame(\n",
    "            {\n",
    "                \"age\": np.ones(BIRTHS_PER_YEAR),\n",
    "                \"happiness\": rng.uniform(low=-2, high=2, size=BIRTHS_PER_YEAR),\n",
    "                \"married\": np.zeros(BIRTHS_PER_YEAR),\n",
    "            }\n",
    "        )\n",
    "        people = pd.concat([new_people, people], axis=0)\n",
    "\n",
    "        # send people to spain\n",
    "        people = people.loc[people[\"age\"] <= MAX_MARRIAGE_AGE, :]\n",
    "\n",
    "    return people"
   ]
  },
  {
   "cell_type": "code",
   "execution_count": 31,
   "id": "fa3ba409-b189-48d4-a05e-422cba31995c",
   "metadata": {
    "tags": []
   },
   "outputs": [],
   "source": [
    "people = simulate_marriages(1_000, random_seed=RANDOM_SEED)"
   ]
  },
  {
   "cell_type": "code",
   "execution_count": 32,
   "id": "0ec15db5-fdc9-44c4-aa7f-bbd903049ebc",
   "metadata": {
    "tags": []
   },
   "outputs": [
    {
     "data": {
      "text/html": [
       "<div>\n",
       "<style scoped>\n",
       "    .dataframe tbody tr th:only-of-type {\n",
       "        vertical-align: middle;\n",
       "    }\n",
       "\n",
       "    .dataframe tbody tr th {\n",
       "        vertical-align: top;\n",
       "    }\n",
       "\n",
       "    .dataframe thead th {\n",
       "        text-align: right;\n",
       "    }\n",
       "</style>\n",
       "<table border=\"1\" class=\"dataframe\">\n",
       "  <thead>\n",
       "    <tr style=\"text-align: right;\">\n",
       "      <th></th>\n",
       "      <th>age</th>\n",
       "      <th>happiness</th>\n",
       "      <th>married</th>\n",
       "    </tr>\n",
       "  </thead>\n",
       "  <tbody>\n",
       "    <tr>\n",
       "      <th>count</th>\n",
       "      <td>1300.00</td>\n",
       "      <td>1300.00</td>\n",
       "      <td>1300.00</td>\n",
       "    </tr>\n",
       "    <tr>\n",
       "      <th>mean</th>\n",
       "      <td>33.00</td>\n",
       "      <td>-0.01</td>\n",
       "      <td>0.30</td>\n",
       "    </tr>\n",
       "    <tr>\n",
       "      <th>std</th>\n",
       "      <td>18.77</td>\n",
       "      <td>1.15</td>\n",
       "      <td>0.46</td>\n",
       "    </tr>\n",
       "    <tr>\n",
       "      <th>min</th>\n",
       "      <td>1.00</td>\n",
       "      <td>-2.00</td>\n",
       "      <td>0.00</td>\n",
       "    </tr>\n",
       "    <tr>\n",
       "      <th>50%</th>\n",
       "      <td>33.00</td>\n",
       "      <td>-0.02</td>\n",
       "      <td>0.00</td>\n",
       "    </tr>\n",
       "    <tr>\n",
       "      <th>max</th>\n",
       "      <td>65.00</td>\n",
       "      <td>1.99</td>\n",
       "      <td>1.00</td>\n",
       "    </tr>\n",
       "  </tbody>\n",
       "</table>\n",
       "</div>"
      ],
      "text/plain": [
       "           age  happiness  married\n",
       "count  1300.00    1300.00  1300.00\n",
       "mean     33.00      -0.01     0.30\n",
       "std      18.77       1.15     0.46\n",
       "min       1.00      -2.00     0.00\n",
       "50%      33.00      -0.02     0.00\n",
       "max      65.00       1.99     1.00"
      ]
     },
     "execution_count": 32,
     "metadata": {},
     "output_type": "execute_result"
    }
   ],
   "source": [
    "people.describe(percentiles=[]).round(2)"
   ]
  },
  {
   "cell_type": "markdown",
   "id": "fd8e903a-8c8b-49a7-be36-684f634baaaa",
   "metadata": {},
   "source": [
    "Now plot the sampled data."
   ]
  },
  {
   "cell_type": "code",
   "execution_count": 33,
   "id": "dbea6653-dac2-42f4-9eb4-3e6facc5a3d6",
   "metadata": {
    "tags": []
   },
   "outputs": [
    {
     "data": {
      "image/png": "[encoded data removed]",
      "text/plain": [
       "<Figure size 600x500 with 1 Axes>"
      ]
     },
     "metadata": {},
     "output_type": "display_data"
    }
   ],
   "source": [
    "fig, ax = plt.subplots(figsize=(6, 5))\n",
    "\n",
    "sns.scatterplot(\n",
    "    people,\n",
    "    x=\"age\",\n",
    "    y=\"happiness\",\n",
    "    hue=\"married\",\n",
    "    ax=ax,\n",
    ")\n",
    "ax.set(title=\"Marriage simulation\");"
   ]
  },
  {
   "cell_type": "markdown",
   "id": "c146b5d1-3280-4532-a746-5cca31b27928",
   "metadata": {},
   "source": [
    "Let's clean up the data before fitting the model"
   ]
  },
  {
   "cell_type": "code",
   "execution_count": 34,
   "id": "832c4bb8-1ef9-4876-b750-5de71484c9e9",
   "metadata": {
    "tags": []
   },
   "outputs": [
    {
     "data": {
      "text/html": [
       "<div>\n",
       "<style scoped>\n",
       "    .dataframe tbody tr th:only-of-type {\n",
       "        vertical-align: middle;\n",
       "    }\n",
       "\n",
       "    .dataframe tbody tr th {\n",
       "        vertical-align: top;\n",
       "    }\n",
       "\n",
       "    .dataframe thead th {\n",
       "        text-align: right;\n",
       "    }\n",
       "</style>\n",
       "<table border=\"1\" class=\"dataframe\">\n",
       "  <thead>\n",
       "    <tr style=\"text-align: right;\">\n",
       "      <th></th>\n",
       "      <th>age</th>\n",
       "      <th>happiness</th>\n",
       "      <th>married</th>\n",
       "    </tr>\n",
       "  </thead>\n",
       "  <tbody>\n",
       "    <tr>\n",
       "      <th>0</th>\n",
       "      <td>1.0</td>\n",
       "      <td>0.311445</td>\n",
       "      <td>0.0</td>\n",
       "    </tr>\n",
       "    <tr>\n",
       "      <th>1</th>\n",
       "      <td>1.0</td>\n",
       "      <td>-1.877607</td>\n",
       "      <td>0.0</td>\n",
       "    </tr>\n",
       "    <tr>\n",
       "      <th>2</th>\n",
       "      <td>1.0</td>\n",
       "      <td>-1.194983</td>\n",
       "      <td>0.0</td>\n",
       "    </tr>\n",
       "    <tr>\n",
       "      <th>3</th>\n",
       "      <td>1.0</td>\n",
       "      <td>1.842046</td>\n",
       "      <td>0.0</td>\n",
       "    </tr>\n",
       "    <tr>\n",
       "      <th>4</th>\n",
       "      <td>1.0</td>\n",
       "      <td>-0.218311</td>\n",
       "      <td>0.0</td>\n",
       "    </tr>\n",
       "    <tr>\n",
       "      <th>...</th>\n",
       "      <td>...</td>\n",
       "      <td>...</td>\n",
       "      <td>...</td>\n",
       "    </tr>\n",
       "    <tr>\n",
       "      <th>15</th>\n",
       "      <td>65.0</td>\n",
       "      <td>1.224196</td>\n",
       "      <td>1.0</td>\n",
       "    </tr>\n",
       "    <tr>\n",
       "      <th>16</th>\n",
       "      <td>65.0</td>\n",
       "      <td>-1.001548</td>\n",
       "      <td>1.0</td>\n",
       "    </tr>\n",
       "    <tr>\n",
       "      <th>17</th>\n",
       "      <td>65.0</td>\n",
       "      <td>0.375359</td>\n",
       "      <td>0.0</td>\n",
       "    </tr>\n",
       "    <tr>\n",
       "      <th>18</th>\n",
       "      <td>65.0</td>\n",
       "      <td>0.054301</td>\n",
       "      <td>1.0</td>\n",
       "    </tr>\n",
       "    <tr>\n",
       "      <th>19</th>\n",
       "      <td>65.0</td>\n",
       "      <td>-1.444693</td>\n",
       "      <td>0.0</td>\n",
       "    </tr>\n",
       "  </tbody>\n",
       "</table>\n",
       "<p>1300 rows × 3 columns</p>\n",
       "</div>"
      ],
      "text/plain": [
       "     age  happiness  married\n",
       "0    1.0   0.311445      0.0\n",
       "1    1.0  -1.877607      0.0\n",
       "2    1.0  -1.194983      0.0\n",
       "3    1.0   1.842046      0.0\n",
       "4    1.0  -0.218311      0.0\n",
       "..   ...        ...      ...\n",
       "15  65.0   1.224196      1.0\n",
       "16  65.0  -1.001548      1.0\n",
       "17  65.0   0.375359      0.0\n",
       "18  65.0   0.054301      1.0\n",
       "19  65.0  -1.444693      0.0\n",
       "\n",
       "[1300 rows x 3 columns]"
      ]
     },
     "execution_count": 34,
     "metadata": {},
     "output_type": "execute_result"
    }
   ],
   "source": [
    "people"
   ]
  },
  {
   "cell_type": "code",
   "execution_count": 35,
   "id": "36c305ff-98be-435d-8f94-75235af47adf",
   "metadata": {
    "tags": []
   },
   "outputs": [],
   "source": [
    "# restrict to adults\n",
    "adults = people.loc[people[\"age\"] >= 18, :].copy()\n",
    "adults = adults.reset_index(drop=True)\n",
    "\n",
    "# scale age\n",
    "adults[\"age_scaled\"] = (adults[\"age\"] - 18) / (65 - 18)"
   ]
  },
  {
   "cell_type": "markdown",
   "id": "f41653d0-017d-4c6e-a945-cd8bb28f2d5a",
   "metadata": {
    "tags": []
   },
   "source": [
    "Fit a model with both age and marriage as predictors"
   ]
  },
  {
   "cell_type": "code",
   "execution_count": 36,
   "id": "652df244-2bfe-425d-9f4c-3c5fb7126e1c",
   "metadata": {
    "tags": []
   },
   "outputs": [
    {
     "name": "stderr",
     "output_type": "stream",
     "text": [
      "Auto-assigning NUTS sampler...\n",
      "Initializing NUTS using jitter+adapt_diag...\n",
      "Multiprocess sampling (4 chains in 4 jobs)\n",
      "NUTS: [alpha, beta_a, sigma]\n"
     ]
    },
    {
     "data": {
      "text/html": [
       "\n",
       "<style>\n",
       "    /* Turns off some styling */\n",
       "    progress {\n",
       "        /* gets rid of default border in Firefox and Opera. */\n",
       "        border: none;\n",
       "        /* Needs to be in here for Safari polyfill so background images work as expected. */\n",
       "        background-size: auto;\n",
       "    }\n",
       "    progress:not([value]), progress:not([value])::-webkit-progress-bar {\n",
       "        background: repeating-linear-gradient(45deg, #7e7e7e, #7e7e7e 10px, #5c5c5c 10px, #5c5c5c 20px);\n",
       "    }\n",
       "    .progress-bar-interrupted, .progress-bar-interrupted::-webkit-progress-bar {\n",
       "        background: #F44336;\n",
       "    }\n",
       "</style>\n"
      ],
      "text/plain": [
       "<IPython.core.display.HTML object>"
      ]
     },
     "metadata": {},
     "output_type": "display_data"
    },
    {
     "data": {
      "text/html": [
       "\n",
       "    <div>\n",
       "      <progress value='8000' class='' max='8000' style='width:300px; height:20px; vertical-align: middle;'></progress>\n",
       "      100.00% [8000/8000 00:01&lt;00:00 Sampling 4 chains, 0 divergences]\n",
       "    </div>\n",
       "    "
      ],
      "text/plain": [
       "<IPython.core.display.HTML object>"
      ]
     },
     "metadata": {},
     "output_type": "display_data"
    },
    {
     "name": "stderr",
     "output_type": "stream",
     "text": [
      "Sampling 4 chains for 1_000 tune and 1_000 draw iterations (4_000 + 4_000 draws total) took 1 seconds.\n"
     ]
    }
   ],
   "source": [
    "# create indicator variable\n",
    "adults[\"married_idx\"], married_vals = pd.factorize(adults[\"married\"])\n",
    "\n",
    "coords = {\n",
    "    \"obs_id\": adults.index,\n",
    "    \"married\": married_vals,\n",
    "}\n",
    "with pm.Model(coords_mutable=coords) as m6_9:\n",
    "    # data\n",
    "    age_scaled = pm.MutableData(\"age_scaled\", adults.age_scaled, dims=\"obs_id\")\n",
    "    married_idx = pm.MutableData(\"married_idx\", adults.married_idx, dims=\"obs_id\")\n",
    "\n",
    "    # priors\n",
    "    alpha = pm.Normal(\"alpha\", mu=0, sigma=1, dims=\"married\")\n",
    "    beta_a = pm.Normal(\"beta_a\", mu=0, sigma=2)\n",
    "    sigma = pm.Exponential(\"sigma\", lam=1)\n",
    "\n",
    "    # model\n",
    "    mu = pm.Deterministic(\"mu\", alpha[married_idx] + beta_a * age_scaled, dims=\"obs_id\")\n",
    "\n",
    "    # likelihood\n",
    "    happiness = pm.Normal(\n",
    "        \"happiness\", mu=mu, sigma=sigma, observed=adults.happiness, dims=\"obs_id\"\n",
    "    )\n",
    "\n",
    "    # sample\n",
    "    trace_6_9 = pm.sample(random_seed=RANDOM_SEED)"
   ]
  },
  {
   "cell_type": "code",
   "execution_count": 37,
   "id": "079c822c-c108-4458-9bc8-93fda3f64f1f",
   "metadata": {
    "tags": []
   },
   "outputs": [
    {
     "data": {
      "image/svg+xml": [
       "<?xml version=\"1.0\" encoding=\"UTF-8\" standalone=\"no\"?>\n",
       "<!DOCTYPE svg PUBLIC \"-//W3C//DTD SVG 1.1//EN\"\n",
       " \"http://www.w3.org/Graphics/SVG/1.1/DTD/svg11.dtd\">\n",
       "<!-- Generated by graphviz version 9.0.0 (20230911.1827)\n",
       " -->\n",
       "<!-- Pages: 1 -->\n",
       "<svg width=\"423pt\" height=\"385pt\"\n",
       " viewBox=\"0.00 0.00 423.01 384.95\" xmlns=\"http://www.w3.org/2000/svg\" xmlns:xlink=\"http://www.w3.org/1999/xlink\">\n",
       "<g id=\"graph0\" class=\"graph\" transform=\"scale(1 1) rotate(0) translate(4 380.95)\">\n",
       "<polygon fill=\"white\" stroke=\"none\" points=\"-4,4 -4,-380.95 419.01,-380.95 419.01,4 -4,4\"/>\n",
       "<g id=\"clust1\" class=\"cluster\">\n",
       "<title>clusterobs_id (960)</title>\n",
       "<path fill=\"none\" stroke=\"black\" d=\"M20,-8C20,-8 205,-8 205,-8 211,-8 217,-14 217,-20 217,-20 217,-345.04 217,-345.04 217,-351.04 211,-357.04 205,-357.04 205,-357.04 20,-357.04 20,-357.04 14,-357.04 8,-351.04 8,-345.04 8,-345.04 8,-20 8,-20 8,-14 14,-8 20,-8\"/>\n",
       "<text text-anchor=\"middle\" x=\"174.5\" y=\"-15.2\" font-family=\"Times,serif\" font-size=\"14.00\">obs_id (960)</text>\n",
       "</g>\n",
       "<g id=\"clust2\" class=\"cluster\">\n",
       "<title>clustermarried (2)</title>\n",
       "<path fill=\"none\" stroke=\"black\" d=\"M237,-247.13C237,-247.13 311,-247.13 311,-247.13 317,-247.13 323,-253.13 323,-259.13 323,-259.13 323,-356.95 323,-356.95 323,-362.95 317,-368.95 311,-368.95 311,-368.95 237,-368.95 237,-368.95 231,-368.95 225,-362.95 225,-356.95 225,-356.95 225,-259.13 225,-259.13 225,-253.13 231,-247.13 237,-247.13\"/>\n",
       "<text text-anchor=\"middle\" x=\"283.88\" y=\"-254.33\" font-family=\"Times,serif\" font-size=\"14.00\">married (2)</text>\n",
       "</g>\n",
       "<!-- married_idx -->\n",
       "<g id=\"node1\" class=\"node\">\n",
       "<title>married_idx</title>\n",
       "<path fill=\"lightgrey\" stroke=\"black\" d=\"M196.62,-349.04C196.62,-349.04 133.38,-349.04 133.38,-349.04 127.38,-349.04 121.38,-343.04 121.38,-337.04 121.38,-337.04 121.38,-303.54 121.38,-303.54 121.38,-297.54 127.38,-291.54 133.38,-291.54 133.38,-291.54 196.62,-291.54 196.62,-291.54 202.62,-291.54 208.62,-297.54 208.62,-303.54 208.62,-303.54 208.62,-337.04 208.62,-337.04 208.62,-343.04 202.62,-349.04 196.62,-349.04\"/>\n",
       "<text text-anchor=\"middle\" x=\"165\" y=\"-331.74\" font-family=\"Times,serif\" font-size=\"14.00\">married_idx</text>\n",
       "<text text-anchor=\"middle\" x=\"165\" y=\"-315.24\" font-family=\"Times,serif\" font-size=\"14.00\">~</text>\n",
       "<text text-anchor=\"middle\" x=\"165\" y=\"-298.74\" font-family=\"Times,serif\" font-size=\"14.00\">MutableData</text>\n",
       "</g>\n",
       "<!-- mu -->\n",
       "<g id=\"node4\" class=\"node\">\n",
       "<title>mu</title>\n",
       "<polygon fill=\"none\" stroke=\"black\" points=\"207.12,-227.23 116.88,-227.23 116.88,-169.73 207.12,-169.73 207.12,-227.23\"/>\n",
       "<text text-anchor=\"middle\" x=\"162\" y=\"-209.93\" font-family=\"Times,serif\" font-size=\"14.00\">mu</text>\n",
       "<text text-anchor=\"middle\" x=\"162\" y=\"-193.43\" font-family=\"Times,serif\" font-size=\"14.00\">~</text>\n",
       "<text text-anchor=\"middle\" x=\"162\" y=\"-176.93\" font-family=\"Times,serif\" font-size=\"14.00\">Deterministic</text>\n",
       "</g>\n",
       "<!-- married_idx&#45;&gt;mu -->\n",
       "<g id=\"edge1\" class=\"edge\">\n",
       "<title>married_idx&#45;&gt;mu</title>\n",
       "<path fill=\"none\" stroke=\"black\" d=\"M164.3,-291.2C163.91,-275.58 163.41,-255.89 162.98,-238.76\"/>\n",
       "<polygon fill=\"black\" stroke=\"black\" points=\"166.49,-238.81 162.74,-228.9 159.49,-238.99 166.49,-238.81\"/>\n",
       "</g>\n",
       "<!-- age_scaled -->\n",
       "<g id=\"node2\" class=\"node\">\n",
       "<title>age_scaled</title>\n",
       "<path fill=\"lightgrey\" stroke=\"black\" d=\"M91.62,-349.04C91.62,-349.04 28.37,-349.04 28.37,-349.04 22.37,-349.04 16.38,-343.04 16.38,-337.04 16.38,-337.04 16.38,-303.54 16.38,-303.54 16.38,-297.54 22.38,-291.54 28.38,-291.54 28.38,-291.54 91.62,-291.54 91.62,-291.54 97.62,-291.54 103.62,-297.54 103.62,-303.54 103.62,-303.54 103.62,-337.04 103.62,-337.04 103.62,-343.04 97.62,-349.04 91.62,-349.04\"/>\n",
       "<text text-anchor=\"middle\" x=\"60\" y=\"-331.74\" font-family=\"Times,serif\" font-size=\"14.00\">age_scaled</text>\n",
       "<text text-anchor=\"middle\" x=\"60\" y=\"-315.24\" font-family=\"Times,serif\" font-size=\"14.00\">~</text>\n",
       "<text text-anchor=\"middle\" x=\"60\" y=\"-298.74\" font-family=\"Times,serif\" font-size=\"14.00\">MutableData</text>\n",
       "</g>\n",
       "<!-- age_scaled&#45;&gt;mu -->\n",
       "<g id=\"edge2\" class=\"edge\">\n",
       "<title>age_scaled&#45;&gt;mu</title>\n",
       "<path fill=\"none\" stroke=\"black\" d=\"M78.36,-291.32C87.84,-277.55 99.93,-260.99 112,-247.13 115.33,-243.32 118.91,-239.47 122.59,-235.69\"/>\n",
       "<polygon fill=\"black\" stroke=\"black\" points=\"125.02,-238.21 129.62,-228.67 120.07,-233.26 125.02,-238.21\"/>\n",
       "</g>\n",
       "<!-- happiness -->\n",
       "<g id=\"node3\" class=\"node\">\n",
       "<title>happiness</title>\n",
       "<ellipse fill=\"lightgrey\" stroke=\"black\" cx=\"160\" cy=\"-81.16\" rx=\"48.97\" ry=\"40.66\"/>\n",
       "<text text-anchor=\"middle\" x=\"160\" y=\"-92.61\" font-family=\"Times,serif\" font-size=\"14.00\">happiness</text>\n",
       "<text text-anchor=\"middle\" x=\"160\" y=\"-76.11\" font-family=\"Times,serif\" font-size=\"14.00\">~</text>\n",
       "<text text-anchor=\"middle\" x=\"160\" y=\"-59.61\" font-family=\"Times,serif\" font-size=\"14.00\">Normal</text>\n",
       "</g>\n",
       "<!-- mu&#45;&gt;happiness -->\n",
       "<g id=\"edge6\" class=\"edge\">\n",
       "<title>mu&#45;&gt;happiness</title>\n",
       "<path fill=\"none\" stroke=\"black\" d=\"M161.51,-169.27C161.32,-158.44 161.1,-145.73 160.89,-133.41\"/>\n",
       "<polygon fill=\"black\" stroke=\"black\" points=\"164.39,-133.72 160.72,-123.78 157.4,-133.84 164.39,-133.72\"/>\n",
       "</g>\n",
       "<!-- alpha -->\n",
       "<g id=\"node5\" class=\"node\">\n",
       "<title>alpha</title>\n",
       "<ellipse fill=\"none\" stroke=\"black\" cx=\"274\" cy=\"-320.29\" rx=\"41.01\" ry=\"40.66\"/>\n",
       "<text text-anchor=\"middle\" x=\"274\" y=\"-331.74\" font-family=\"Times,serif\" font-size=\"14.00\">alpha</text>\n",
       "<text text-anchor=\"middle\" x=\"274\" y=\"-315.24\" font-family=\"Times,serif\" font-size=\"14.00\">~</text>\n",
       "<text text-anchor=\"middle\" x=\"274\" y=\"-298.74\" font-family=\"Times,serif\" font-size=\"14.00\">Normal</text>\n",
       "</g>\n",
       "<!-- alpha&#45;&gt;mu -->\n",
       "<g id=\"edge4\" class=\"edge\">\n",
       "<title>alpha&#45;&gt;mu</title>\n",
       "<path fill=\"none\" stroke=\"black\" d=\"M251.94,-285.55C243.01,-272.93 232.16,-258.82 221,-247.13 217.07,-243.01 212.78,-238.93 208.36,-234.98\"/>\n",
       "<polygon fill=\"black\" stroke=\"black\" points=\"210.79,-232.45 200.93,-228.57 206.22,-237.75 210.79,-232.45\"/>\n",
       "</g>\n",
       "<!-- beta_a -->\n",
       "<g id=\"node6\" class=\"node\">\n",
       "<title>beta_a</title>\n",
       "<ellipse fill=\"none\" stroke=\"black\" cx=\"374\" cy=\"-320.29\" rx=\"41.01\" ry=\"40.66\"/>\n",
       "<text text-anchor=\"middle\" x=\"374\" y=\"-331.74\" font-family=\"Times,serif\" font-size=\"14.00\">beta_a</text>\n",
       "<text text-anchor=\"middle\" x=\"374\" y=\"-315.24\" font-family=\"Times,serif\" font-size=\"14.00\">~</text>\n",
       "<text text-anchor=\"middle\" x=\"374\" y=\"-298.74\" font-family=\"Times,serif\" font-size=\"14.00\">Normal</text>\n",
       "</g>\n",
       "<!-- beta_a&#45;&gt;mu -->\n",
       "<g id=\"edge3\" class=\"edge\">\n",
       "<title>beta_a&#45;&gt;mu</title>\n",
       "<path fill=\"none\" stroke=\"black\" d=\"M358.56,-282.3C351.05,-268.94 340.65,-255.19 327,-247.13 305.89,-234.68 240.03,-247.51 217,-239.13 212.83,-237.62 208.69,-235.69 204.66,-233.49\"/>\n",
       "<polygon fill=\"black\" stroke=\"black\" points=\"206.61,-230.58 196.24,-228.39 202.98,-236.56 206.61,-230.58\"/>\n",
       "</g>\n",
       "<!-- sigma -->\n",
       "<g id=\"node7\" class=\"node\">\n",
       "<title>sigma</title>\n",
       "<ellipse fill=\"none\" stroke=\"black\" cx=\"283\" cy=\"-198.48\" rx=\"57.45\" ry=\"40.66\"/>\n",
       "<text text-anchor=\"middle\" x=\"283\" y=\"-209.93\" font-family=\"Times,serif\" font-size=\"14.00\">sigma</text>\n",
       "<text text-anchor=\"middle\" x=\"283\" y=\"-193.43\" font-family=\"Times,serif\" font-size=\"14.00\">~</text>\n",
       "<text text-anchor=\"middle\" x=\"283\" y=\"-176.93\" font-family=\"Times,serif\" font-size=\"14.00\">Exponential</text>\n",
       "</g>\n",
       "<!-- sigma&#45;&gt;happiness -->\n",
       "<g id=\"edge5\" class=\"edge\">\n",
       "<title>sigma&#45;&gt;happiness</title>\n",
       "<path fill=\"none\" stroke=\"black\" d=\"M248.74,-165.35C233.6,-151.17 215.71,-134.39 199.98,-119.64\"/>\n",
       "<polygon fill=\"black\" stroke=\"black\" points=\"202.76,-117.45 193.07,-113.17 197.97,-122.56 202.76,-117.45\"/>\n",
       "</g>\n",
       "</g>\n",
       "</svg>\n"
      ],
      "text/plain": [
       "<graphviz.graphs.Digraph at 0x1541ce650>"
      ]
     },
     "execution_count": 37,
     "metadata": {},
     "output_type": "execute_result"
    }
   ],
   "source": [
    "m6_9.to_graphviz()"
   ]
  },
  {
   "cell_type": "code",
   "execution_count": 38,
   "id": "df29f789-00e0-44b2-ab02-a22ae9640078",
   "metadata": {
    "tags": []
   },
   "outputs": [
    {
     "data": {
      "text/html": [
       "<div>\n",
       "<style scoped>\n",
       "    .dataframe tbody tr th:only-of-type {\n",
       "        vertical-align: middle;\n",
       "    }\n",
       "\n",
       "    .dataframe tbody tr th {\n",
       "        vertical-align: top;\n",
       "    }\n",
       "\n",
       "    .dataframe thead th {\n",
       "        text-align: right;\n",
       "    }\n",
       "</style>\n",
       "<table border=\"1\" class=\"dataframe\">\n",
       "  <thead>\n",
       "    <tr style=\"text-align: right;\">\n",
       "      <th></th>\n",
       "      <th>mean</th>\n",
       "      <th>sd</th>\n",
       "      <th>hdi_5.5%</th>\n",
       "      <th>hdi_94.5%</th>\n",
       "    </tr>\n",
       "  </thead>\n",
       "  <tbody>\n",
       "    <tr>\n",
       "      <th>alpha[0.0]</th>\n",
       "      <td>-0.23</td>\n",
       "      <td>0.06</td>\n",
       "      <td>-0.33</td>\n",
       "      <td>-0.13</td>\n",
       "    </tr>\n",
       "    <tr>\n",
       "      <th>alpha[1.0]</th>\n",
       "      <td>1.16</td>\n",
       "      <td>0.08</td>\n",
       "      <td>1.03</td>\n",
       "      <td>1.29</td>\n",
       "    </tr>\n",
       "    <tr>\n",
       "      <th>beta_a</th>\n",
       "      <td>-0.71</td>\n",
       "      <td>0.11</td>\n",
       "      <td>-0.87</td>\n",
       "      <td>-0.52</td>\n",
       "    </tr>\n",
       "    <tr>\n",
       "      <th>sigma</th>\n",
       "      <td>0.95</td>\n",
       "      <td>0.02</td>\n",
       "      <td>0.92</td>\n",
       "      <td>0.98</td>\n",
       "    </tr>\n",
       "  </tbody>\n",
       "</table>\n",
       "</div>"
      ],
      "text/plain": [
       "            mean    sd  hdi_5.5%  hdi_94.5%\n",
       "alpha[0.0] -0.23  0.06     -0.33      -0.13\n",
       "alpha[1.0]  1.16  0.08      1.03       1.29\n",
       "beta_a     -0.71  0.11     -0.87      -0.52\n",
       "sigma       0.95  0.02      0.92       0.98"
      ]
     },
     "execution_count": 38,
     "metadata": {},
     "output_type": "execute_result"
    }
   ],
   "source": [
    "az.summary(\n",
    "    trace_6_9,\n",
    "    var_names=[\"~mu\"],\n",
    "    kind=\"stats\",\n",
    "    hdi_prob=0.89,\n",
    "    round_to=2,\n",
    ")"
   ]
  },
  {
   "cell_type": "markdown",
   "id": "5bdaa92c-5228-4d09-abe4-a26172ad3c24",
   "metadata": {},
   "source": [
    "This implies a negative correlation between age and happiness; between age 18 and 65 we expect a drop in happiness of 0.7, or 18% of the total range."
   ]
  },
  {
   "cell_type": "markdown",
   "id": "96e3f725-2114-41f6-a8fc-252d5d0fe7a5",
   "metadata": {},
   "source": [
    "Now let's try the same model without marriage status as a predictor."
   ]
  },
  {
   "cell_type": "code",
   "execution_count": 39,
   "id": "9642b392-b6ca-4f4a-b643-78981dd06d48",
   "metadata": {
    "tags": []
   },
   "outputs": [
    {
     "name": "stderr",
     "output_type": "stream",
     "text": [
      "Auto-assigning NUTS sampler...\n",
      "Initializing NUTS using jitter+adapt_diag...\n",
      "Multiprocess sampling (4 chains in 4 jobs)\n",
      "NUTS: [alpha, beta_a, sigma]\n"
     ]
    },
    {
     "data": {
      "text/html": [
       "\n",
       "<style>\n",
       "    /* Turns off some styling */\n",
       "    progress {\n",
       "        /* gets rid of default border in Firefox and Opera. */\n",
       "        border: none;\n",
       "        /* Needs to be in here for Safari polyfill so background images work as expected. */\n",
       "        background-size: auto;\n",
       "    }\n",
       "    progress:not([value]), progress:not([value])::-webkit-progress-bar {\n",
       "        background: repeating-linear-gradient(45deg, #7e7e7e, #7e7e7e 10px, #5c5c5c 10px, #5c5c5c 20px);\n",
       "    }\n",
       "    .progress-bar-interrupted, .progress-bar-interrupted::-webkit-progress-bar {\n",
       "        background: #F44336;\n",
       "    }\n",
       "</style>\n"
      ],
      "text/plain": [
       "<IPython.core.display.HTML object>"
      ]
     },
     "metadata": {},
     "output_type": "display_data"
    },
    {
     "data": {
      "text/html": [
       "\n",
       "    <div>\n",
       "      <progress value='8000' class='' max='8000' style='width:300px; height:20px; vertical-align: middle;'></progress>\n",
       "      100.00% [8000/8000 00:01&lt;00:00 Sampling 4 chains, 0 divergences]\n",
       "    </div>\n",
       "    "
      ],
      "text/plain": [
       "<IPython.core.display.HTML object>"
      ]
     },
     "metadata": {},
     "output_type": "display_data"
    },
    {
     "name": "stderr",
     "output_type": "stream",
     "text": [
      "Sampling 4 chains for 1_000 tune and 1_000 draw iterations (4_000 + 4_000 draws total) took 1 seconds.\n"
     ]
    }
   ],
   "source": [
    "# create indicator variable\n",
    "adults[\"married_idx\"], married_vals = pd.factorize(adults[\"married\"])\n",
    "\n",
    "coords = {\n",
    "    \"obs_id\": adults.index,\n",
    "    \"married\": married_vals,\n",
    "}\n",
    "with pm.Model(coords_mutable=coords) as m6_10:\n",
    "    # data\n",
    "    age_scaled = pm.MutableData(\"age_scaled\", adults.age_scaled, dims=\"obs_id\")\n",
    "    married_idx = pm.MutableData(\"married_idx\", adults.married_idx, dims=\"obs_id\")\n",
    "\n",
    "    # priors\n",
    "    alpha = pm.Normal(\"alpha\", mu=0, sigma=1)\n",
    "    beta_a = pm.Normal(\"beta_a\", mu=0, sigma=2)\n",
    "    sigma = pm.Exponential(\"sigma\", lam=1)\n",
    "\n",
    "    # model\n",
    "    mu = pm.Deterministic(\"mu\", alpha + beta_a * age_scaled, dims=\"obs_id\")\n",
    "\n",
    "    # likelihood\n",
    "    happiness = pm.Normal(\n",
    "        \"happiness\", mu=mu, sigma=sigma, observed=adults.happiness, dims=\"obs_id\"\n",
    "    )\n",
    "\n",
    "    # sample\n",
    "    trace_6_10 = pm.sample(random_seed=RANDOM_SEED)"
   ]
  },
  {
   "cell_type": "code",
   "execution_count": 40,
   "id": "43b7cdf4-43b2-4d93-86d0-db2d32312cd6",
   "metadata": {
    "tags": []
   },
   "outputs": [
    {
     "data": {
      "image/svg+xml": [
       "<?xml version=\"1.0\" encoding=\"UTF-8\" standalone=\"no\"?>\n",
       "<!DOCTYPE svg PUBLIC \"-//W3C//DTD SVG 1.1//EN\"\n",
       " \"http://www.w3.org/Graphics/SVG/1.1/DTD/svg11.dtd\">\n",
       "<!-- Generated by graphviz version 9.0.0 (20230911.1827)\n",
       " -->\n",
       "<!-- Pages: 1 -->\n",
       "<svg width=\"417pt\" height=\"369pt\"\n",
       " viewBox=\"0.00 0.00 417.01 368.54\" xmlns=\"http://www.w3.org/2000/svg\" xmlns:xlink=\"http://www.w3.org/1999/xlink\">\n",
       "<g id=\"graph0\" class=\"graph\" transform=\"scale(1 1) rotate(0) translate(4 364.54)\">\n",
       "<polygon fill=\"white\" stroke=\"none\" points=\"-4,4 -4,-364.54 413.01,-364.54 413.01,4 -4,4\"/>\n",
       "<g id=\"clust1\" class=\"cluster\">\n",
       "<title>clusterobs_id (960)</title>\n",
       "<path fill=\"none\" stroke=\"black\" d=\"M20,-8C20,-8 205,-8 205,-8 211,-8 217,-14 217,-20 217,-20 217,-340.54 217,-340.54 217,-346.54 211,-352.54 205,-352.54 205,-352.54 20,-352.54 20,-352.54 14,-352.54 8,-346.54 8,-340.54 8,-340.54 8,-20 8,-20 8,-14 14,-8 20,-8\"/>\n",
       "<text text-anchor=\"middle\" x=\"174.5\" y=\"-15.2\" font-family=\"Times,serif\" font-size=\"14.00\">obs_id (960)</text>\n",
       "</g>\n",
       "<!-- married_idx -->\n",
       "<g id=\"node1\" class=\"node\">\n",
       "<title>married_idx</title>\n",
       "<path fill=\"lightgrey\" stroke=\"black\" d=\"M196.62,-344.54C196.62,-344.54 133.38,-344.54 133.38,-344.54 127.38,-344.54 121.38,-338.54 121.38,-332.54 121.38,-332.54 121.38,-299.04 121.38,-299.04 121.38,-293.04 127.38,-287.04 133.38,-287.04 133.38,-287.04 196.62,-287.04 196.62,-287.04 202.62,-287.04 208.62,-293.04 208.62,-299.04 208.62,-299.04 208.62,-332.54 208.62,-332.54 208.62,-338.54 202.62,-344.54 196.62,-344.54\"/>\n",
       "<text text-anchor=\"middle\" x=\"165\" y=\"-327.24\" font-family=\"Times,serif\" font-size=\"14.00\">married_idx</text>\n",
       "<text text-anchor=\"middle\" x=\"165\" y=\"-310.74\" font-family=\"Times,serif\" font-size=\"14.00\">~</text>\n",
       "<text text-anchor=\"middle\" x=\"165\" y=\"-294.24\" font-family=\"Times,serif\" font-size=\"14.00\">MutableData</text>\n",
       "</g>\n",
       "<!-- age_scaled -->\n",
       "<g id=\"node2\" class=\"node\">\n",
       "<title>age_scaled</title>\n",
       "<path fill=\"lightgrey\" stroke=\"black\" d=\"M91.62,-344.54C91.62,-344.54 28.37,-344.54 28.37,-344.54 22.37,-344.54 16.38,-338.54 16.38,-332.54 16.38,-332.54 16.38,-299.04 16.38,-299.04 16.38,-293.04 22.38,-287.04 28.38,-287.04 28.38,-287.04 91.62,-287.04 91.62,-287.04 97.62,-287.04 103.62,-293.04 103.62,-299.04 103.62,-299.04 103.62,-332.54 103.62,-332.54 103.62,-338.54 97.62,-344.54 91.62,-344.54\"/>\n",
       "<text text-anchor=\"middle\" x=\"60\" y=\"-327.24\" font-family=\"Times,serif\" font-size=\"14.00\">age_scaled</text>\n",
       "<text text-anchor=\"middle\" x=\"60\" y=\"-310.74\" font-family=\"Times,serif\" font-size=\"14.00\">~</text>\n",
       "<text text-anchor=\"middle\" x=\"60\" y=\"-294.24\" font-family=\"Times,serif\" font-size=\"14.00\">MutableData</text>\n",
       "</g>\n",
       "<!-- mu -->\n",
       "<g id=\"node4\" class=\"node\">\n",
       "<title>mu</title>\n",
       "<polygon fill=\"none\" stroke=\"black\" points=\"205.12,-227.23 114.88,-227.23 114.88,-169.73 205.12,-169.73 205.12,-227.23\"/>\n",
       "<text text-anchor=\"middle\" x=\"160\" y=\"-209.93\" font-family=\"Times,serif\" font-size=\"14.00\">mu</text>\n",
       "<text text-anchor=\"middle\" x=\"160\" y=\"-193.43\" font-family=\"Times,serif\" font-size=\"14.00\">~</text>\n",
       "<text text-anchor=\"middle\" x=\"160\" y=\"-176.93\" font-family=\"Times,serif\" font-size=\"14.00\">Deterministic</text>\n",
       "</g>\n",
       "<!-- age_scaled&#45;&gt;mu -->\n",
       "<g id=\"edge1\" class=\"edge\">\n",
       "<title>age_scaled&#45;&gt;mu</title>\n",
       "<path fill=\"none\" stroke=\"black\" d=\"M84.46,-286.58C97.76,-271.25 114.34,-252.12 128.59,-235.7\"/>\n",
       "<polygon fill=\"black\" stroke=\"black\" points=\"130.89,-238.39 134.8,-228.54 125.6,-233.8 130.89,-238.39\"/>\n",
       "</g>\n",
       "<!-- happiness -->\n",
       "<g id=\"node3\" class=\"node\">\n",
       "<title>happiness</title>\n",
       "<ellipse fill=\"lightgrey\" stroke=\"black\" cx=\"160\" cy=\"-81.16\" rx=\"48.97\" ry=\"40.66\"/>\n",
       "<text text-anchor=\"middle\" x=\"160\" y=\"-92.61\" font-family=\"Times,serif\" font-size=\"14.00\">happiness</text>\n",
       "<text text-anchor=\"middle\" x=\"160\" y=\"-76.11\" font-family=\"Times,serif\" font-size=\"14.00\">~</text>\n",
       "<text text-anchor=\"middle\" x=\"160\" y=\"-59.61\" font-family=\"Times,serif\" font-size=\"14.00\">Normal</text>\n",
       "</g>\n",
       "<!-- mu&#45;&gt;happiness -->\n",
       "<g id=\"edge5\" class=\"edge\">\n",
       "<title>mu&#45;&gt;happiness</title>\n",
       "<path fill=\"none\" stroke=\"black\" d=\"M160,-169.27C160,-158.44 160,-145.73 160,-133.41\"/>\n",
       "<polygon fill=\"black\" stroke=\"black\" points=\"163.5,-133.78 160,-123.78 156.5,-133.78 163.5,-133.78\"/>\n",
       "</g>\n",
       "<!-- beta_a -->\n",
       "<g id=\"node5\" class=\"node\">\n",
       "<title>beta_a</title>\n",
       "<ellipse fill=\"none\" stroke=\"black\" cx=\"268\" cy=\"-315.79\" rx=\"41.01\" ry=\"40.66\"/>\n",
       "<text text-anchor=\"middle\" x=\"268\" y=\"-327.24\" font-family=\"Times,serif\" font-size=\"14.00\">beta_a</text>\n",
       "<text text-anchor=\"middle\" x=\"268\" y=\"-310.74\" font-family=\"Times,serif\" font-size=\"14.00\">~</text>\n",
       "<text text-anchor=\"middle\" x=\"268\" y=\"-294.24\" font-family=\"Times,serif\" font-size=\"14.00\">Normal</text>\n",
       "</g>\n",
       "<!-- beta_a&#45;&gt;mu -->\n",
       "<g id=\"edge2\" class=\"edge\">\n",
       "<title>beta_a&#45;&gt;mu</title>\n",
       "<path fill=\"none\" stroke=\"black\" d=\"M240.47,-285.4C226.31,-270.28 208.93,-251.72 193.95,-235.73\"/>\n",
       "<polygon fill=\"black\" stroke=\"black\" points=\"196.79,-233.64 187.4,-228.73 191.68,-238.42 196.79,-233.64\"/>\n",
       "</g>\n",
       "<!-- sigma -->\n",
       "<g id=\"node6\" class=\"node\">\n",
       "<title>sigma</title>\n",
       "<ellipse fill=\"none\" stroke=\"black\" cx=\"282\" cy=\"-198.48\" rx=\"57.45\" ry=\"40.66\"/>\n",
       "<text text-anchor=\"middle\" x=\"282\" y=\"-209.93\" font-family=\"Times,serif\" font-size=\"14.00\">sigma</text>\n",
       "<text text-anchor=\"middle\" x=\"282\" y=\"-193.43\" font-family=\"Times,serif\" font-size=\"14.00\">~</text>\n",
       "<text text-anchor=\"middle\" x=\"282\" y=\"-176.93\" font-family=\"Times,serif\" font-size=\"14.00\">Exponential</text>\n",
       "</g>\n",
       "<!-- sigma&#45;&gt;happiness -->\n",
       "<g id=\"edge4\" class=\"edge\">\n",
       "<title>sigma&#45;&gt;happiness</title>\n",
       "<path fill=\"none\" stroke=\"black\" d=\"M248.02,-165.35C233.01,-151.17 215.26,-134.39 199.65,-119.64\"/>\n",
       "<polygon fill=\"black\" stroke=\"black\" points=\"202.48,-117.5 192.81,-113.17 197.67,-122.58 202.48,-117.5\"/>\n",
       "</g>\n",
       "<!-- alpha -->\n",
       "<g id=\"node7\" class=\"node\">\n",
       "<title>alpha</title>\n",
       "<ellipse fill=\"none\" stroke=\"black\" cx=\"368\" cy=\"-315.79\" rx=\"41.01\" ry=\"40.66\"/>\n",
       "<text text-anchor=\"middle\" x=\"368\" y=\"-327.24\" font-family=\"Times,serif\" font-size=\"14.00\">alpha</text>\n",
       "<text text-anchor=\"middle\" x=\"368\" y=\"-310.74\" font-family=\"Times,serif\" font-size=\"14.00\">~</text>\n",
       "<text text-anchor=\"middle\" x=\"368\" y=\"-294.24\" font-family=\"Times,serif\" font-size=\"14.00\">Normal</text>\n",
       "</g>\n",
       "<!-- alpha&#45;&gt;mu -->\n",
       "<g id=\"edge3\" class=\"edge\">\n",
       "<title>alpha&#45;&gt;mu</title>\n",
       "<path fill=\"none\" stroke=\"black\" d=\"M337.65,-288.14C331.41,-283.42 324.69,-278.83 318,-275.13 275.93,-251.88 258.69,-261.24 216,-239.13 212.77,-237.46 209.52,-235.63 206.29,-233.69\"/>\n",
       "<polygon fill=\"black\" stroke=\"black\" points=\"208.34,-230.85 198.02,-228.45 204.59,-236.76 208.34,-230.85\"/>\n",
       "</g>\n",
       "</g>\n",
       "</svg>\n"
      ],
      "text/plain": [
       "<graphviz.graphs.Digraph at 0x155de8370>"
      ]
     },
     "execution_count": 40,
     "metadata": {},
     "output_type": "execute_result"
    }
   ],
   "source": [
    "m6_10.to_graphviz()"
   ]
  },
  {
   "cell_type": "code",
   "execution_count": 41,
   "id": "590ff9a6-1a61-4c9e-a8dc-3088d741c323",
   "metadata": {
    "tags": []
   },
   "outputs": [
    {
     "data": {
      "text/html": [
       "<div>\n",
       "<style scoped>\n",
       "    .dataframe tbody tr th:only-of-type {\n",
       "        vertical-align: middle;\n",
       "    }\n",
       "\n",
       "    .dataframe tbody tr th {\n",
       "        vertical-align: top;\n",
       "    }\n",
       "\n",
       "    .dataframe thead th {\n",
       "        text-align: right;\n",
       "    }\n",
       "</style>\n",
       "<table border=\"1\" class=\"dataframe\">\n",
       "  <thead>\n",
       "    <tr style=\"text-align: right;\">\n",
       "      <th></th>\n",
       "      <th>mean</th>\n",
       "      <th>sd</th>\n",
       "      <th>hdi_5.5%</th>\n",
       "      <th>hdi_94.5%</th>\n",
       "    </tr>\n",
       "  </thead>\n",
       "  <tbody>\n",
       "    <tr>\n",
       "      <th>alpha</th>\n",
       "      <td>0.00</td>\n",
       "      <td>0.07</td>\n",
       "      <td>-0.11</td>\n",
       "      <td>0.12</td>\n",
       "    </tr>\n",
       "    <tr>\n",
       "      <th>beta_a</th>\n",
       "      <td>-0.05</td>\n",
       "      <td>0.13</td>\n",
       "      <td>-0.24</td>\n",
       "      <td>0.16</td>\n",
       "    </tr>\n",
       "    <tr>\n",
       "      <th>sigma</th>\n",
       "      <td>1.15</td>\n",
       "      <td>0.03</td>\n",
       "      <td>1.11</td>\n",
       "      <td>1.19</td>\n",
       "    </tr>\n",
       "  </tbody>\n",
       "</table>\n",
       "</div>"
      ],
      "text/plain": [
       "        mean    sd  hdi_5.5%  hdi_94.5%\n",
       "alpha   0.00  0.07     -0.11       0.12\n",
       "beta_a -0.05  0.13     -0.24       0.16\n",
       "sigma   1.15  0.03      1.11       1.19"
      ]
     },
     "execution_count": 41,
     "metadata": {},
     "output_type": "execute_result"
    }
   ],
   "source": [
    "az.summary(\n",
    "    trace_6_10,\n",
    "    var_names=[\"~mu\"],\n",
    "    kind=\"stats\",\n",
    "    hdi_prob=0.89,\n",
    "    round_to=2,\n",
    ")"
   ]
  },
  {
   "cell_type": "markdown",
   "id": "a2d4a570-36c4-4512-a98c-4fb2606d9eaa",
   "metadata": {},
   "source": [
    "Now there's essentially no association between the two."
   ]
  },
  {
   "cell_type": "markdown",
   "id": "129dc9dd-7d81-4a2e-8dff-b4d1d4fd5fbb",
   "metadata": {},
   "source": [
    "### 6.3.2 The haunted DAG"
   ]
  },
  {
   "cell_type": "markdown",
   "id": "d447dde9-de7f-4647-892b-a983d3e20376",
   "metadata": {},
   "source": [
    "First let's draw the DAG including the un-observed collider"
   ]
  },
  {
   "cell_type": "code",
   "execution_count": 42,
   "id": "1d14ccec-7777-414e-95fc-b77ea453b119",
   "metadata": {
    "tags": []
   },
   "outputs": [
    {
     "data": {
      "image/svg+xml": [
       "<?xml version=\"1.0\" encoding=\"UTF-8\" standalone=\"no\"?>\n",
       "<!DOCTYPE svg PUBLIC \"-//W3C//DTD SVG 1.1//EN\"\n",
       " \"http://www.w3.org/Graphics/SVG/1.1/DTD/svg11.dtd\">\n",
       "<!-- Generated by graphviz version 9.0.0 (20230911.1827)\n",
       " -->\n",
       "<!-- Title: plant_growth Pages: 1 -->\n",
       "<svg width=\"153pt\" height=\"188pt\"\n",
       " viewBox=\"0.00 0.00 153.00 188.00\" xmlns=\"http://www.w3.org/2000/svg\" xmlns:xlink=\"http://www.w3.org/1999/xlink\">\n",
       "<g id=\"graph0\" class=\"graph\" transform=\"scale(1 1) rotate(0) translate(4 184)\">\n",
       "<title>plant_growth</title>\n",
       "<polygon fill=\"white\" stroke=\"none\" points=\"-4,4 -4,-184 149,-184 149,4 -4,4\"/>\n",
       "<!-- G -->\n",
       "<g id=\"node1\" class=\"node\">\n",
       "<title>G</title>\n",
       "<ellipse fill=\"none\" stroke=\"white\" cx=\"27\" cy=\"-162\" rx=\"27\" ry=\"18\"/>\n",
       "<text text-anchor=\"middle\" x=\"27\" y=\"-156.95\" font-family=\"Times,serif\" font-size=\"14.00\">G</text>\n",
       "</g>\n",
       "<!-- P -->\n",
       "<g id=\"node2\" class=\"node\">\n",
       "<title>P</title>\n",
       "<ellipse fill=\"none\" stroke=\"white\" cx=\"73\" cy=\"-90\" rx=\"27\" ry=\"18\"/>\n",
       "<text text-anchor=\"middle\" x=\"73\" y=\"-84.95\" font-family=\"Times,serif\" font-size=\"14.00\">P</text>\n",
       "</g>\n",
       "<!-- G&#45;&gt;P -->\n",
       "<g id=\"edge1\" class=\"edge\">\n",
       "<title>G&#45;&gt;P</title>\n",
       "<path fill=\"none\" stroke=\"black\" d=\"M37.44,-145.12C43.03,-136.61 50.04,-125.94 56.36,-116.32\"/>\n",
       "<polygon fill=\"black\" stroke=\"black\" points=\"59.21,-118.37 61.77,-108.09 53.36,-114.52 59.21,-118.37\"/>\n",
       "</g>\n",
       "<!-- C -->\n",
       "<g id=\"node3\" class=\"node\">\n",
       "<title>C</title>\n",
       "<ellipse fill=\"none\" stroke=\"white\" cx=\"73\" cy=\"-18\" rx=\"27\" ry=\"18\"/>\n",
       "<text text-anchor=\"middle\" x=\"73\" y=\"-12.95\" font-family=\"Times,serif\" font-size=\"14.00\">C</text>\n",
       "</g>\n",
       "<!-- G&#45;&gt;C -->\n",
       "<g id=\"edge2\" class=\"edge\">\n",
       "<title>G&#45;&gt;C</title>\n",
       "<path fill=\"none\" stroke=\"black\" d=\"M26.52,-143.71C26.56,-125.35 28.21,-95.77 37,-72 40.76,-61.84 46.86,-51.75 52.99,-43.13\"/>\n",
       "<polygon fill=\"black\" stroke=\"black\" points=\"55.65,-45.41 58.88,-35.32 50.06,-41.2 55.65,-45.41\"/>\n",
       "</g>\n",
       "<!-- P&#45;&gt;C -->\n",
       "<g id=\"edge3\" class=\"edge\">\n",
       "<title>P&#45;&gt;C</title>\n",
       "<path fill=\"none\" stroke=\"black\" d=\"M73,-71.7C73,-64.41 73,-55.73 73,-47.54\"/>\n",
       "<polygon fill=\"black\" stroke=\"black\" points=\"76.5,-47.62 73,-37.62 69.5,-47.62 76.5,-47.62\"/>\n",
       "</g>\n",
       "<!-- U -->\n",
       "<g id=\"node4\" class=\"node\">\n",
       "<title>U</title>\n",
       "<ellipse fill=\"none\" stroke=\"black\" cx=\"118\" cy=\"-162\" rx=\"27\" ry=\"18\"/>\n",
       "<text text-anchor=\"middle\" x=\"118\" y=\"-156.95\" font-family=\"Times,serif\" font-size=\"14.00\">U</text>\n",
       "</g>\n",
       "<!-- U&#45;&gt;P -->\n",
       "<g id=\"edge4\" class=\"edge\">\n",
       "<title>U&#45;&gt;P</title>\n",
       "<path fill=\"none\" stroke=\"black\" d=\"M107.79,-145.12C102.32,-136.61 95.46,-125.94 89.28,-116.32\"/>\n",
       "<polygon fill=\"black\" stroke=\"black\" points=\"92.34,-114.61 83.99,-108.09 86.45,-118.4 92.34,-114.61\"/>\n",
       "</g>\n",
       "<!-- U&#45;&gt;C -->\n",
       "<g id=\"edge5\" class=\"edge\">\n",
       "<title>U&#45;&gt;C</title>\n",
       "<path fill=\"none\" stroke=\"black\" d=\"M118.72,-143.72C118.93,-125.37 117.65,-95.79 109,-72 105.3,-61.82 99.21,-51.72 93.08,-43.11\"/>\n",
       "<polygon fill=\"black\" stroke=\"black\" points=\"96,-41.17 87.18,-35.3 90.41,-45.39 96,-41.17\"/>\n",
       "</g>\n",
       "</g>\n",
       "</svg>\n"
      ],
      "text/plain": [
       "<graphviz.graphs.Digraph at 0x155de9840>"
      ]
     },
     "execution_count": 42,
     "metadata": {},
     "output_type": "execute_result"
    }
   ],
   "source": [
    "g = gr.Digraph(\"plant_growth\", node_attr={\"color\": \"white\"})\n",
    "\n",
    "g.node(\"G\")\n",
    "g.node(\"P\")\n",
    "g.node(\"C\")\n",
    "g.node(\"U\", color=\"black\")\n",
    "\n",
    "g.edge(\"G\", \"P\")\n",
    "g.edge(\"G\", \"C\")\n",
    "g.edge(\"P\", \"C\")\n",
    "g.edge(\"U\", \"P\")\n",
    "g.edge(\"U\", \"C\")\n",
    "g"
   ]
  },
  {
   "cell_type": "markdown",
   "id": "0cf32f2c-51f5-45f7-a08b-acd26b3bd3e6",
   "metadata": {},
   "source": [
    "Now let's simulate the data"
   ]
  },
  {
   "cell_type": "code",
   "execution_count": 45,
   "id": "d72597a7-fdd5-4f02-9a7b-72d2c9fce734",
   "metadata": {
    "tags": []
   },
   "outputs": [],
   "source": [
    "N = 200\n",
    "\n",
    "b_GP = 1\n",
    "b_GC = 0\n",
    "b_PC = 1\n",
    "b_U = 2\n",
    "\n",
    "rng = np.random.default_rng(RANDOM_SEED)\n",
    "U = 2 * rng.binomial(n=1, p=0.5, size=N) - 1\n",
    "G = rng.normal(loc=0, scale=1, size=N)\n",
    "P = rng.normal(loc=b_GP * G + b_U * U, scale=1, size=N)\n",
    "C = rng.normal(loc=b_PC * P + b_U * U, scale=1, size=N)\n",
    "\n",
    "education = pd.DataFrame({\"G\": G, \"P\": P, \"U\": U, \"C\": C}).astype(float)"
   ]
  },
  {
   "cell_type": "markdown",
   "id": "192db8c2-2bc2-46ab-bd53-4d9f961f421c",
   "metadata": {
    "tags": []
   },
   "source": [
    "First we regression C on G and P."
   ]
  },
  {
   "cell_type": "code",
   "execution_count": 46,
   "id": "d6b55cd0-0e0b-4c8e-9acd-19049c4a7ff0",
   "metadata": {
    "tags": []
   },
   "outputs": [
    {
     "name": "stderr",
     "output_type": "stream",
     "text": [
      "Auto-assigning NUTS sampler...\n",
      "Initializing NUTS using jitter+adapt_diag...\n",
      "Multiprocess sampling (4 chains in 4 jobs)\n",
      "NUTS: [alpha, beta_PC, beta_GC, sigma]\n"
     ]
    },
    {
     "data": {
      "text/html": [
       "\n",
       "<style>\n",
       "    /* Turns off some styling */\n",
       "    progress {\n",
       "        /* gets rid of default border in Firefox and Opera. */\n",
       "        border: none;\n",
       "        /* Needs to be in here for Safari polyfill so background images work as expected. */\n",
       "        background-size: auto;\n",
       "    }\n",
       "    progress:not([value]), progress:not([value])::-webkit-progress-bar {\n",
       "        background: repeating-linear-gradient(45deg, #7e7e7e, #7e7e7e 10px, #5c5c5c 10px, #5c5c5c 20px);\n",
       "    }\n",
       "    .progress-bar-interrupted, .progress-bar-interrupted::-webkit-progress-bar {\n",
       "        background: #F44336;\n",
       "    }\n",
       "</style>\n"
      ],
      "text/plain": [
       "<IPython.core.display.HTML object>"
      ]
     },
     "metadata": {},
     "output_type": "display_data"
    },
    {
     "data": {
      "text/html": [
       "\n",
       "    <div>\n",
       "      <progress value='8000' class='' max='8000' style='width:300px; height:20px; vertical-align: middle;'></progress>\n",
       "      100.00% [8000/8000 00:00&lt;00:00 Sampling 4 chains, 0 divergences]\n",
       "    </div>\n",
       "    "
      ],
      "text/plain": [
       "<IPython.core.display.HTML object>"
      ]
     },
     "metadata": {},
     "output_type": "display_data"
    },
    {
     "name": "stderr",
     "output_type": "stream",
     "text": [
      "Sampling 4 chains for 1_000 tune and 1_000 draw iterations (4_000 + 4_000 draws total) took 1 seconds.\n"
     ]
    }
   ],
   "source": [
    "coords = {\n",
    "    \"obs_id\": education.index,\n",
    "}\n",
    "with pm.Model(coords_mutable=coords) as m6_11:\n",
    "    # data\n",
    "    G = pm.MutableData(\"G\", education.G, dims=\"obs_id\")\n",
    "    P = pm.MutableData(\"P\", education.P, dims=\"obs_id\")\n",
    "\n",
    "    # priors\n",
    "    alpha = pm.Normal(\"alpha\", mu=0, sigma=1)\n",
    "    beta_PC = pm.Normal(\"beta_PC\", mu=0, sigma=1)\n",
    "    beta_GC = pm.Normal(\"beta_GC\", mu=0, sigma=1)\n",
    "    sigma = pm.Exponential(\"sigma\", lam=1)\n",
    "\n",
    "    # model\n",
    "    mu = pm.Deterministic(\"mu\", alpha + beta_PC * P + beta_GC * G, dims=\"obs_id\")\n",
    "\n",
    "    # likelihood\n",
    "    C = pm.Normal(\"C\", mu=mu, sigma=sigma, observed=education.C, dims=\"obs_id\")\n",
    "\n",
    "    # sample\n",
    "    trace_6_11 = pm.sample(random_seed=RANDOM_SEED)"
   ]
  },
  {
   "cell_type": "code",
   "execution_count": 47,
   "id": "4fe4e86a-85ce-4aef-a5a6-485ac32e4eef",
   "metadata": {
    "tags": []
   },
   "outputs": [
    {
     "data": {
      "image/svg+xml": [
       "<?xml version=\"1.0\" encoding=\"UTF-8\" standalone=\"no\"?>\n",
       "<!DOCTYPE svg PUBLIC \"-//W3C//DTD SVG 1.1//EN\"\n",
       " \"http://www.w3.org/Graphics/SVG/1.1/DTD/svg11.dtd\">\n",
       "<!-- Generated by graphviz version 9.0.0 (20230911.1827)\n",
       " -->\n",
       "<!-- Pages: 1 -->\n",
       "<svg width=\"530pt\" height=\"369pt\"\n",
       " viewBox=\"0.00 0.00 530.01 368.54\" xmlns=\"http://www.w3.org/2000/svg\" xmlns:xlink=\"http://www.w3.org/1999/xlink\">\n",
       "<g id=\"graph0\" class=\"graph\" transform=\"scale(1 1) rotate(0) translate(4 364.54)\">\n",
       "<polygon fill=\"white\" stroke=\"none\" points=\"-4,4 -4,-364.54 526.01,-364.54 526.01,4 -4,4\"/>\n",
       "<g id=\"clust1\" class=\"cluster\">\n",
       "<title>clusterobs_id (200)</title>\n",
       "<path fill=\"none\" stroke=\"black\" d=\"M20,-8C20,-8 205,-8 205,-8 211,-8 217,-14 217,-20 217,-20 217,-340.54 217,-340.54 217,-346.54 211,-352.54 205,-352.54 205,-352.54 20,-352.54 20,-352.54 14,-352.54 8,-346.54 8,-340.54 8,-340.54 8,-20 8,-20 8,-14 14,-8 20,-8\"/>\n",
       "<text text-anchor=\"middle\" x=\"174.5\" y=\"-15.2\" font-family=\"Times,serif\" font-size=\"14.00\">obs_id (200)</text>\n",
       "</g>\n",
       "<!-- P -->\n",
       "<g id=\"node1\" class=\"node\">\n",
       "<title>P</title>\n",
       "<path fill=\"lightgrey\" stroke=\"black\" d=\"M196.62,-344.54C196.62,-344.54 133.38,-344.54 133.38,-344.54 127.38,-344.54 121.38,-338.54 121.38,-332.54 121.38,-332.54 121.38,-299.04 121.38,-299.04 121.38,-293.04 127.38,-287.04 133.38,-287.04 133.38,-287.04 196.62,-287.04 196.62,-287.04 202.62,-287.04 208.62,-293.04 208.62,-299.04 208.62,-299.04 208.62,-332.54 208.62,-332.54 208.62,-338.54 202.62,-344.54 196.62,-344.54\"/>\n",
       "<text text-anchor=\"middle\" x=\"165\" y=\"-327.24\" font-family=\"Times,serif\" font-size=\"14.00\">P</text>\n",
       "<text text-anchor=\"middle\" x=\"165\" y=\"-310.74\" font-family=\"Times,serif\" font-size=\"14.00\">~</text>\n",
       "<text text-anchor=\"middle\" x=\"165\" y=\"-294.24\" font-family=\"Times,serif\" font-size=\"14.00\">MutableData</text>\n",
       "</g>\n",
       "<!-- mu -->\n",
       "<g id=\"node4\" class=\"node\">\n",
       "<title>mu</title>\n",
       "<polygon fill=\"none\" stroke=\"black\" points=\"209.12,-227.23 118.88,-227.23 118.88,-169.73 209.12,-169.73 209.12,-227.23\"/>\n",
       "<text text-anchor=\"middle\" x=\"164\" y=\"-209.93\" font-family=\"Times,serif\" font-size=\"14.00\">mu</text>\n",
       "<text text-anchor=\"middle\" x=\"164\" y=\"-193.43\" font-family=\"Times,serif\" font-size=\"14.00\">~</text>\n",
       "<text text-anchor=\"middle\" x=\"164\" y=\"-176.93\" font-family=\"Times,serif\" font-size=\"14.00\">Deterministic</text>\n",
       "</g>\n",
       "<!-- P&#45;&gt;mu -->\n",
       "<g id=\"edge1\" class=\"edge\">\n",
       "<title>P&#45;&gt;mu</title>\n",
       "<path fill=\"none\" stroke=\"black\" d=\"M164.76,-286.58C164.63,-272.24 164.48,-254.57 164.34,-238.9\"/>\n",
       "<polygon fill=\"black\" stroke=\"black\" points=\"167.84,-238.88 164.26,-228.91 160.84,-238.94 167.84,-238.88\"/>\n",
       "</g>\n",
       "<!-- C -->\n",
       "<g id=\"node2\" class=\"node\">\n",
       "<title>C</title>\n",
       "<ellipse fill=\"lightgrey\" stroke=\"black\" cx=\"166\" cy=\"-81.16\" rx=\"41.01\" ry=\"40.66\"/>\n",
       "<text text-anchor=\"middle\" x=\"166\" y=\"-92.61\" font-family=\"Times,serif\" font-size=\"14.00\">C</text>\n",
       "<text text-anchor=\"middle\" x=\"166\" y=\"-76.11\" font-family=\"Times,serif\" font-size=\"14.00\">~</text>\n",
       "<text text-anchor=\"middle\" x=\"166\" y=\"-59.61\" font-family=\"Times,serif\" font-size=\"14.00\">Normal</text>\n",
       "</g>\n",
       "<!-- G -->\n",
       "<g id=\"node3\" class=\"node\">\n",
       "<title>G</title>\n",
       "<path fill=\"lightgrey\" stroke=\"black\" d=\"M91.62,-344.54C91.62,-344.54 28.37,-344.54 28.37,-344.54 22.37,-344.54 16.38,-338.54 16.38,-332.54 16.38,-332.54 16.38,-299.04 16.38,-299.04 16.38,-293.04 22.38,-287.04 28.38,-287.04 28.38,-287.04 91.62,-287.04 91.62,-287.04 97.62,-287.04 103.62,-293.04 103.62,-299.04 103.62,-299.04 103.62,-332.54 103.62,-332.54 103.62,-338.54 97.62,-344.54 91.62,-344.54\"/>\n",
       "<text text-anchor=\"middle\" x=\"60\" y=\"-327.24\" font-family=\"Times,serif\" font-size=\"14.00\">G</text>\n",
       "<text text-anchor=\"middle\" x=\"60\" y=\"-310.74\" font-family=\"Times,serif\" font-size=\"14.00\">~</text>\n",
       "<text text-anchor=\"middle\" x=\"60\" y=\"-294.24\" font-family=\"Times,serif\" font-size=\"14.00\">MutableData</text>\n",
       "</g>\n",
       "<!-- G&#45;&gt;mu -->\n",
       "<g id=\"edge2\" class=\"edge\">\n",
       "<title>G&#45;&gt;mu</title>\n",
       "<path fill=\"none\" stroke=\"black\" d=\"M85.44,-286.58C99.27,-271.25 116.52,-252.12 131.33,-235.7\"/>\n",
       "<polygon fill=\"black\" stroke=\"black\" points=\"133.71,-238.29 137.81,-228.52 128.51,-233.6 133.71,-238.29\"/>\n",
       "</g>\n",
       "<!-- mu&#45;&gt;C -->\n",
       "<g id=\"edge7\" class=\"edge\">\n",
       "<title>mu&#45;&gt;C</title>\n",
       "<path fill=\"none\" stroke=\"black\" d=\"M164.49,-169.27C164.68,-158.44 164.9,-145.73 165.11,-133.41\"/>\n",
       "<polygon fill=\"black\" stroke=\"black\" points=\"168.6,-133.84 165.28,-123.78 161.61,-133.72 168.6,-133.84\"/>\n",
       "</g>\n",
       "<!-- sigma -->\n",
       "<g id=\"node5\" class=\"node\">\n",
       "<title>sigma</title>\n",
       "<ellipse fill=\"none\" stroke=\"black\" cx=\"285\" cy=\"-198.48\" rx=\"57.45\" ry=\"40.66\"/>\n",
       "<text text-anchor=\"middle\" x=\"285\" y=\"-209.93\" font-family=\"Times,serif\" font-size=\"14.00\">sigma</text>\n",
       "<text text-anchor=\"middle\" x=\"285\" y=\"-193.43\" font-family=\"Times,serif\" font-size=\"14.00\">~</text>\n",
       "<text text-anchor=\"middle\" x=\"285\" y=\"-176.93\" font-family=\"Times,serif\" font-size=\"14.00\">Exponential</text>\n",
       "</g>\n",
       "<!-- sigma&#45;&gt;C -->\n",
       "<g id=\"edge6\" class=\"edge\">\n",
       "<title>sigma&#45;&gt;C</title>\n",
       "<path fill=\"none\" stroke=\"black\" d=\"M251.54,-165.05C236.43,-150.41 218.54,-133.07 203.03,-118.05\"/>\n",
       "<polygon fill=\"black\" stroke=\"black\" points=\"205.88,-115.93 196.26,-111.48 201,-120.95 205.88,-115.93\"/>\n",
       "</g>\n",
       "<!-- beta_PC -->\n",
       "<g id=\"node6\" class=\"node\">\n",
       "<title>beta_PC</title>\n",
       "<ellipse fill=\"none\" stroke=\"black\" cx=\"270\" cy=\"-315.79\" rx=\"43.66\" ry=\"40.66\"/>\n",
       "<text text-anchor=\"middle\" x=\"270\" y=\"-327.24\" font-family=\"Times,serif\" font-size=\"14.00\">beta_PC</text>\n",
       "<text text-anchor=\"middle\" x=\"270\" y=\"-310.74\" font-family=\"Times,serif\" font-size=\"14.00\">~</text>\n",
       "<text text-anchor=\"middle\" x=\"270\" y=\"-294.24\" font-family=\"Times,serif\" font-size=\"14.00\">Normal</text>\n",
       "</g>\n",
       "<!-- beta_PC&#45;&gt;mu -->\n",
       "<g id=\"edge5\" class=\"edge\">\n",
       "<title>beta_PC&#45;&gt;mu</title>\n",
       "<path fill=\"none\" stroke=\"black\" d=\"M241.87,-284.19C228.21,-269.33 211.7,-251.36 197.4,-235.81\"/>\n",
       "<polygon fill=\"black\" stroke=\"black\" points=\"200.08,-233.56 190.74,-228.57 194.93,-238.3 200.08,-233.56\"/>\n",
       "</g>\n",
       "<!-- beta_GC -->\n",
       "<g id=\"node7\" class=\"node\">\n",
       "<title>beta_GC</title>\n",
       "<ellipse fill=\"none\" stroke=\"black\" cx=\"377\" cy=\"-315.79\" rx=\"45.25\" ry=\"40.66\"/>\n",
       "<text text-anchor=\"middle\" x=\"377\" y=\"-327.24\" font-family=\"Times,serif\" font-size=\"14.00\">beta_GC</text>\n",
       "<text text-anchor=\"middle\" x=\"377\" y=\"-310.74\" font-family=\"Times,serif\" font-size=\"14.00\">~</text>\n",
       "<text text-anchor=\"middle\" x=\"377\" y=\"-294.24\" font-family=\"Times,serif\" font-size=\"14.00\">Normal</text>\n",
       "</g>\n",
       "<!-- beta_GC&#45;&gt;mu -->\n",
       "<g id=\"edge3\" class=\"edge\">\n",
       "<title>beta_GC&#45;&gt;mu</title>\n",
       "<path fill=\"none\" stroke=\"black\" d=\"M343.74,-287.99C337.1,-283.33 330,-278.81 323,-275.13 279.69,-252.4 262.41,-261.68 219,-239.13 215.81,-237.48 212.61,-235.66 209.43,-233.73\"/>\n",
       "<polygon fill=\"black\" stroke=\"black\" points=\"211.61,-230.97 201.3,-228.51 207.82,-236.86 211.61,-230.97\"/>\n",
       "</g>\n",
       "<!-- alpha -->\n",
       "<g id=\"node8\" class=\"node\">\n",
       "<title>alpha</title>\n",
       "<ellipse fill=\"none\" stroke=\"black\" cx=\"481\" cy=\"-315.79\" rx=\"41.01\" ry=\"40.66\"/>\n",
       "<text text-anchor=\"middle\" x=\"481\" y=\"-327.24\" font-family=\"Times,serif\" font-size=\"14.00\">alpha</text>\n",
       "<text text-anchor=\"middle\" x=\"481\" y=\"-310.74\" font-family=\"Times,serif\" font-size=\"14.00\">~</text>\n",
       "<text text-anchor=\"middle\" x=\"481\" y=\"-294.24\" font-family=\"Times,serif\" font-size=\"14.00\">Normal</text>\n",
       "</g>\n",
       "<!-- alpha&#45;&gt;mu -->\n",
       "<g id=\"edge4\" class=\"edge\">\n",
       "<title>alpha&#45;&gt;mu</title>\n",
       "<path fill=\"none\" stroke=\"black\" d=\"M451.39,-287.41C445.03,-282.69 438.08,-278.29 431,-275.13 343.71,-236.22 307.16,-276.04 219,-239.13 215.19,-237.54 211.4,-235.64 207.68,-233.54\"/>\n",
       "<polygon fill=\"black\" stroke=\"black\" points=\"209.71,-230.69 199.36,-228.42 206.04,-236.65 209.71,-230.69\"/>\n",
       "</g>\n",
       "</g>\n",
       "</svg>\n"
      ],
      "text/plain": [
       "<graphviz.graphs.Digraph at 0x14743dea0>"
      ]
     },
     "execution_count": 47,
     "metadata": {},
     "output_type": "execute_result"
    }
   ],
   "source": [
    "m6_11.to_graphviz()"
   ]
  },
  {
   "cell_type": "code",
   "execution_count": 48,
   "id": "70a5b2ad-251a-426c-a588-068fa0a92ac1",
   "metadata": {
    "tags": []
   },
   "outputs": [
    {
     "data": {
      "text/html": [
       "<div>\n",
       "<style scoped>\n",
       "    .dataframe tbody tr th:only-of-type {\n",
       "        vertical-align: middle;\n",
       "    }\n",
       "\n",
       "    .dataframe tbody tr th {\n",
       "        vertical-align: top;\n",
       "    }\n",
       "\n",
       "    .dataframe thead th {\n",
       "        text-align: right;\n",
       "    }\n",
       "</style>\n",
       "<table border=\"1\" class=\"dataframe\">\n",
       "  <thead>\n",
       "    <tr style=\"text-align: right;\">\n",
       "      <th></th>\n",
       "      <th>mean</th>\n",
       "      <th>sd</th>\n",
       "      <th>hdi_5.5%</th>\n",
       "      <th>hdi_94.5%</th>\n",
       "    </tr>\n",
       "  </thead>\n",
       "  <tbody>\n",
       "    <tr>\n",
       "      <th>alpha</th>\n",
       "      <td>-0.03</td>\n",
       "      <td>0.09</td>\n",
       "      <td>-0.17</td>\n",
       "      <td>0.12</td>\n",
       "    </tr>\n",
       "    <tr>\n",
       "      <th>beta_PC</th>\n",
       "      <td>1.81</td>\n",
       "      <td>0.04</td>\n",
       "      <td>1.75</td>\n",
       "      <td>1.88</td>\n",
       "    </tr>\n",
       "    <tr>\n",
       "      <th>beta_GC</th>\n",
       "      <td>-0.80</td>\n",
       "      <td>0.11</td>\n",
       "      <td>-0.97</td>\n",
       "      <td>-0.62</td>\n",
       "    </tr>\n",
       "    <tr>\n",
       "      <th>sigma</th>\n",
       "      <td>1.31</td>\n",
       "      <td>0.07</td>\n",
       "      <td>1.21</td>\n",
       "      <td>1.42</td>\n",
       "    </tr>\n",
       "  </tbody>\n",
       "</table>\n",
       "</div>"
      ],
      "text/plain": [
       "         mean    sd  hdi_5.5%  hdi_94.5%\n",
       "alpha   -0.03  0.09     -0.17       0.12\n",
       "beta_PC  1.81  0.04      1.75       1.88\n",
       "beta_GC -0.80  0.11     -0.97      -0.62\n",
       "sigma    1.31  0.07      1.21       1.42"
      ]
     },
     "execution_count": 48,
     "metadata": {},
     "output_type": "execute_result"
    }
   ],
   "source": [
    "az.summary(\n",
    "    trace_6_11,\n",
    "    var_names=[\"~mu\"],\n",
    "    kind=\"stats\",\n",
    "    hdi_prob=0.89,\n",
    "    round_to=2,\n",
    ")"
   ]
  },
  {
   "cell_type": "markdown",
   "id": "d5870812-6e47-427f-b359-672a69f419fd",
   "metadata": {},
   "source": [
    "This is giving a very strong association between grandparents' education and children's education."
   ]
  },
  {
   "cell_type": "code",
   "execution_count": 49,
   "id": "8ec27a0a-e5d1-4d5f-a22e-c56dfde9a330",
   "metadata": {
    "tags": []
   },
   "outputs": [
    {
     "data": {
      "image/png": "[encoded data removed]",
      "text/plain": [
       "<Figure size 1200x800 with 1 Axes>"
      ]
     },
     "metadata": {},
     "output_type": "display_data"
    }
   ],
   "source": [
    "# map U-values to meaningful categories\n",
    "education[\"neighbourhood\"] = education[\"U\"].map({-1.0: \"bad\", 1.0: \"good\"})\n",
    "\n",
    "# bin parents education into quintiles labelled -2,.., 2\n",
    "education[\"parents_education\"] = pd.qcut(\n",
    "    education[\"P\"], 5, labels=np.arange(-2, 3), retbins=False\n",
    ")\n",
    "\n",
    "fig, ax = plt.subplots(figsize=(12, 8))\n",
    "\n",
    "# plot data\n",
    "sns.scatterplot(\n",
    "    education,\n",
    "    x=\"G\",\n",
    "    y=\"C\",\n",
    "    hue=\"parents_education\",\n",
    "    style=\"neighbourhood\",\n",
    "    ax=ax,\n",
    ")\n",
    "\n",
    "# fit linear regression for middle parents education\n",
    "mid_parents_education_mask = education[\"parents_education\"] == 0\n",
    "lin_reg = poly.Polynomial.fit(\n",
    "    education.loc[\n",
    "        mid_parents_education_mask,\n",
    "        \"G\",\n",
    "    ],\n",
    "    education.loc[\n",
    "        mid_parents_education_mask,\n",
    "        \"C\",\n",
    "    ],\n",
    "    deg=1,\n",
    ")\n",
    "\n",
    "# plot line\n",
    "G_min = education[\"G\"].min()\n",
    "G_max = education[\"G\"].max()\n",
    "ax.plot(\n",
    "    *lin_reg.linspace(n=100, domain=[G_min, G_max]),\n",
    "    color=colors[2],\n",
    "    ls=\"--\",\n",
    ")\n",
    "\n",
    "ax.set(\n",
    "    xlabel=\"Grandparents education\",\n",
    "    ylabel=\"Childs education\",\n",
    "    title=\"Generational education and neighbourhood\",\n",
    ");"
   ]
  },
  {
   "cell_type": "markdown",
   "id": "b070a9a7-affe-4fa6-8512-c0fba090d3d8",
   "metadata": {},
   "source": [
    "This demonstrates what's actually going on; conditioning on parents education induces a negative correlation between grandparents' education and a children's education even though the association is otherwise positive, particularly if you correlate on neighbourhood."
   ]
  },
  {
   "cell_type": "markdown",
   "id": "2fcd8738-d42e-4f19-b2b7-347778ffbc44",
   "metadata": {},
   "source": [
    "Now let's refit the model including the unobserved collider U."
   ]
  },
  {
   "cell_type": "code",
   "execution_count": 50,
   "id": "33fa18b5-812a-4e26-84e6-56ddd41a6845",
   "metadata": {
    "tags": []
   },
   "outputs": [
    {
     "name": "stderr",
     "output_type": "stream",
     "text": [
      "Auto-assigning NUTS sampler...\n",
      "Initializing NUTS using jitter+adapt_diag...\n",
      "Multiprocess sampling (4 chains in 4 jobs)\n",
      "NUTS: [alpha, beta_PC, beta_GC, beta_U, sigma]\n"
     ]
    },
    {
     "data": {
      "text/html": [
       "\n",
       "<style>\n",
       "    /* Turns off some styling */\n",
       "    progress {\n",
       "        /* gets rid of default border in Firefox and Opera. */\n",
       "        border: none;\n",
       "        /* Needs to be in here for Safari polyfill so background images work as expected. */\n",
       "        background-size: auto;\n",
       "    }\n",
       "    progress:not([value]), progress:not([value])::-webkit-progress-bar {\n",
       "        background: repeating-linear-gradient(45deg, #7e7e7e, #7e7e7e 10px, #5c5c5c 10px, #5c5c5c 20px);\n",
       "    }\n",
       "    .progress-bar-interrupted, .progress-bar-interrupted::-webkit-progress-bar {\n",
       "        background: #F44336;\n",
       "    }\n",
       "</style>\n"
      ],
      "text/plain": [
       "<IPython.core.display.HTML object>"
      ]
     },
     "metadata": {},
     "output_type": "display_data"
    },
    {
     "data": {
      "text/html": [
       "\n",
       "    <div>\n",
       "      <progress value='8000' class='' max='8000' style='width:300px; height:20px; vertical-align: middle;'></progress>\n",
       "      100.00% [8000/8000 00:01&lt;00:00 Sampling 4 chains, 0 divergences]\n",
       "    </div>\n",
       "    "
      ],
      "text/plain": [
       "<IPython.core.display.HTML object>"
      ]
     },
     "metadata": {},
     "output_type": "display_data"
    },
    {
     "name": "stderr",
     "output_type": "stream",
     "text": [
      "Sampling 4 chains for 1_000 tune and 1_000 draw iterations (4_000 + 4_000 draws total) took 2 seconds.\n"
     ]
    }
   ],
   "source": [
    "coords = {\n",
    "    \"obs_id\": education.index,\n",
    "}\n",
    "with pm.Model(coords_mutable=coords) as m6_12:\n",
    "    # data\n",
    "    G = pm.MutableData(\"G\", education.G, dims=\"obs_id\")\n",
    "    P = pm.MutableData(\"P\", education.P, dims=\"obs_id\")\n",
    "    U = pm.MutableData(\"U\", education.U, dims=\"obs_id\")\n",
    "\n",
    "    # priors\n",
    "    alpha = pm.Normal(\"alpha\", mu=0, sigma=1)\n",
    "    beta_PC = pm.Normal(\"beta_PC\", mu=0, sigma=1)\n",
    "    beta_GC = pm.Normal(\"beta_GC\", mu=0, sigma=1)\n",
    "    beta_U = pm.Normal(\"beta_U\", mu=0, sigma=1)\n",
    "    sigma = pm.Exponential(\"sigma\", lam=1)\n",
    "\n",
    "    # model\n",
    "    mu = pm.Deterministic(\n",
    "        \"mu\", alpha + beta_PC * P + beta_GC * G + beta_U * U, dims=\"obs_id\"\n",
    "    )\n",
    "\n",
    "    # likelihood\n",
    "    C = pm.Normal(\"C\", mu=mu, sigma=sigma, observed=education.C, dims=\"obs_id\")\n",
    "\n",
    "    # sample\n",
    "    trace_6_12 = pm.sample(random_seed=RANDOM_SEED)"
   ]
  },
  {
   "cell_type": "code",
   "execution_count": 51,
   "id": "93ad8da6-fa83-4f83-b3a5-3bccc2319310",
   "metadata": {
    "tags": []
   },
   "outputs": [
    {
     "data": {
      "text/html": [
       "<div>\n",
       "<style scoped>\n",
       "    .dataframe tbody tr th:only-of-type {\n",
       "        vertical-align: middle;\n",
       "    }\n",
       "\n",
       "    .dataframe tbody tr th {\n",
       "        vertical-align: top;\n",
       "    }\n",
       "\n",
       "    .dataframe thead th {\n",
       "        text-align: right;\n",
       "    }\n",
       "</style>\n",
       "<table border=\"1\" class=\"dataframe\">\n",
       "  <thead>\n",
       "    <tr style=\"text-align: right;\">\n",
       "      <th></th>\n",
       "      <th>mean</th>\n",
       "      <th>sd</th>\n",
       "      <th>hdi_5.5%</th>\n",
       "      <th>hdi_94.5%</th>\n",
       "    </tr>\n",
       "  </thead>\n",
       "  <tbody>\n",
       "    <tr>\n",
       "      <th>alpha</th>\n",
       "      <td>-0.05</td>\n",
       "      <td>0.07</td>\n",
       "      <td>-0.17</td>\n",
       "      <td>0.06</td>\n",
       "    </tr>\n",
       "    <tr>\n",
       "      <th>beta_PC</th>\n",
       "      <td>1.11</td>\n",
       "      <td>0.07</td>\n",
       "      <td>0.99</td>\n",
       "      <td>1.22</td>\n",
       "    </tr>\n",
       "    <tr>\n",
       "      <th>beta_GC</th>\n",
       "      <td>-0.16</td>\n",
       "      <td>0.11</td>\n",
       "      <td>-0.31</td>\n",
       "      <td>0.03</td>\n",
       "    </tr>\n",
       "    <tr>\n",
       "      <th>beta_U</th>\n",
       "      <td>1.80</td>\n",
       "      <td>0.16</td>\n",
       "      <td>1.53</td>\n",
       "      <td>2.05</td>\n",
       "    </tr>\n",
       "    <tr>\n",
       "      <th>sigma</th>\n",
       "      <td>1.03</td>\n",
       "      <td>0.05</td>\n",
       "      <td>0.94</td>\n",
       "      <td>1.11</td>\n",
       "    </tr>\n",
       "  </tbody>\n",
       "</table>\n",
       "</div>"
      ],
      "text/plain": [
       "         mean    sd  hdi_5.5%  hdi_94.5%\n",
       "alpha   -0.05  0.07     -0.17       0.06\n",
       "beta_PC  1.11  0.07      0.99       1.22\n",
       "beta_GC -0.16  0.11     -0.31       0.03\n",
       "beta_U   1.80  0.16      1.53       2.05\n",
       "sigma    1.03  0.05      0.94       1.11"
      ]
     },
     "execution_count": 51,
     "metadata": {},
     "output_type": "execute_result"
    }
   ],
   "source": [
    "az.summary(\n",
    "    trace_6_12,\n",
    "    var_names=[\"~mu\"],\n",
    "    kind=\"stats\",\n",
    "    hdi_prob=0.89,\n",
    "    round_to=2,\n",
    ")"
   ]
  },
  {
   "cell_type": "markdown",
   "id": "cd9cab69-1931-4489-b155-dc259f742c48",
   "metadata": {},
   "source": [
    "These are (approximately) the slopes we started with."
   ]
  }
 ],
 "metadata": {
  "kernelspec": {
   "display_name": "Python 3 (ipykernel)",
   "language": "python",
   "name": "python3"
  },
  "language_info": {
   "codemirror_mode": {
    "name": "ipython",
    "version": 3
   },
   "file_extension": ".py",
   "mimetype": "text/x-python",
   "name": "python",
   "nbconvert_exporter": "python",
   "pygments_lexer": "ipython3",
   "version": "3.10.13"
  }
 },
 "nbformat": 4,
 "nbformat_minor": 5
}
