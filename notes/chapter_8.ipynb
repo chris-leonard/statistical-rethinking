{
 "cells": [
  {
   "cell_type": "markdown",
   "id": "2f6e577f-6a79-494d-86ff-252a06539feb",
   "metadata": {},
   "source": [
    "# Chapter 8 - Notes"
   ]
  },
  {
   "cell_type": "markdown",
   "id": "bc461464-2184-4376-b25b-e90b6e6b6f38",
   "metadata": {},
   "source": [
    "## Set Up"
   ]
  },
  {
   "cell_type": "markdown",
   "id": "e566d621-65f5-4042-8903-40ac2cea114f",
   "metadata": {},
   "source": [
    "### Packages"
   ]
  },
  {
   "cell_type": "code",
   "execution_count": 1,
   "id": "5d3a97d0-c6c7-4b45-acde-c143199f3c04",
   "metadata": {
    "tags": []
   },
   "outputs": [
    {
     "name": "stderr",
     "output_type": "stream",
     "text": [
      "WARNING (pytensor.tensor.blas): Using NumPy C-API based implementation for BLAS functions.\n"
     ]
    }
   ],
   "source": [
    "import os\n",
    "\n",
    "import arviz as az\n",
    "import matplotlib.pyplot as plt\n",
    "import numpy as np\n",
    "import pandas as pd\n",
    "import pymc as pm\n",
    "import seaborn as sns\n",
    "import xarray as xr\n",
    "from scipy import stats\n",
    "from scipy.interpolate import griddata\n",
    "from scipy.signal import savgol_filter\n",
    "from scipy.special import expit, logit, logsumexp, softmax\n",
    "from sklearn.preprocessing import StandardScaler"
   ]
  },
  {
   "cell_type": "markdown",
   "id": "9ec8cf20-fe18-4310-8dcd-f633d971177d",
   "metadata": {},
   "source": [
    "### Constants"
   ]
  },
  {
   "cell_type": "code",
   "execution_count": null,
   "id": "08e5c7f4-9b58-4cb5-84f9-9d438bd1bf2e",
   "metadata": {
    "tags": []
   },
   "outputs": [],
   "source": [
    "DATA_DIR = \"../data\"\n",
    "HOWELL_FILE = \"howell.csv\"\n",
    "CHERRY_BLOSSOMS_FILE = \"cherry_blossoms.csv\"\n",
    "WAFFLE_DIVORCE_FILE = \"waffle_divorce.csv\"\n",
    "MILK_FILE = \"milk.csv\"\n",
    "CHIMPANZEES_FILE = \"chimpanzees.csv\"\n",
    "ADMISSIONS_FILE = \"ucbadmit.csv\"\n",
    "KLINE_FILE = \"kline.csv\"\n",
    "REEDFROGS_FILE = \"reedfrogs.csv\"\n",
    "CARS_FILE = \"cars.csv\"\n",
    "RUGGED_FILE = \"rugged.csv\"\n",
    "\n",
    "RANDOM_SEED = 42"
   ]
  },
  {
   "cell_type": "markdown",
   "id": "a59fea50-f86f-45a5-9e54-553e1c861f71",
   "metadata": {},
   "source": [
    "### Defaults"
   ]
  },
  {
   "cell_type": "code",
   "execution_count": 2,
   "id": "60b05a78-c23a-4516-98eb-66c772821cd7",
   "metadata": {
    "tags": []
   },
   "outputs": [
    {
     "ename": "NameError",
     "evalue": "name 'RANDOM_SEED' is not defined",
     "output_type": "error",
     "traceback": [
      "\u001b[0;31m---------------------------------------------------------------------------\u001b[0m",
      "\u001b[0;31mNameError\u001b[0m                                 Traceback (most recent call last)",
      "Cell \u001b[0;32mIn[2], line 19\u001b[0m\n\u001b[1;32m     16\u001b[0m colors \u001b[38;5;241m=\u001b[39m sns\u001b[38;5;241m.\u001b[39mcolor_palette()\n\u001b[1;32m     18\u001b[0m \u001b[38;5;66;03m# set seed\u001b[39;00m\n\u001b[0;32m---> 19\u001b[0m rng \u001b[38;5;241m=\u001b[39m np\u001b[38;5;241m.\u001b[39mrandom\u001b[38;5;241m.\u001b[39mdefault_rng(\u001b[43mRANDOM_SEED\u001b[49m)\n",
      "\u001b[0;31mNameError\u001b[0m: name 'RANDOM_SEED' is not defined"
     ]
    }
   ],
   "source": [
    "# seaborn defaults\n",
    "sns.set(\n",
    "    style=\"whitegrid\",\n",
    "    font_scale=1.2,\n",
    "    rc={\n",
    "        \"axes.edgecolor\": \"0\",\n",
    "        \"axes.grid.which\": \"both\",\n",
    "        \"axes.labelcolor\": \"0\",\n",
    "        \"axes.spines.right\": False,\n",
    "        \"axes.spines.top\": False,\n",
    "        \"xtick.bottom\": True,\n",
    "        \"ytick.left\": True,\n",
    "    },\n",
    ")\n",
    "\n",
    "colors = sns.color_palette()\n",
    "\n",
    "# set seed\n",
    "rng = np.random.default_rng(RANDOM_SEED)"
   ]
  },
  {
   "cell_type": "markdown",
   "id": "c0569d1f-34cb-4fff-b672-0a0d8dd85b67",
   "metadata": {},
   "source": [
    "### Functions"
   ]
  },
  {
   "cell_type": "code",
   "execution_count": null,
   "id": "26205308-5762-47fa-ac48-8d4a1c1ebc92",
   "metadata": {
    "tags": []
   },
   "outputs": [],
   "source": [
    "def load_data(file_name, data_dir=DATA_DIR, **kwargs):\n",
    "    path = os.path.join(data_dir, file_name)\n",
    "    return pd.read_csv(path, **kwargs)"
   ]
  },
  {
   "cell_type": "code",
   "execution_count": null,
   "id": "5e5271bd-1cd3-4136-bd90-3c98e8c0ea55",
   "metadata": {},
   "outputs": [],
   "source": [
    "def smooth_plot_data(x, y, smooth_kwargs=None):\n",
    "    if smooth_kwargs is None:\n",
    "        smooth_kwargs = {}\n",
    "\n",
    "    smooth_kwargs.setdefault(\"window_length\", 55)\n",
    "    smooth_kwargs.setdefault(\"polyorder\", 2)\n",
    "    x_data = np.linspace(x.min(), x.max(), 200)\n",
    "    x_data[0] = (x_data[0] + x_data[1]) / 2\n",
    "    y_interp = griddata(x, y, x_data)\n",
    "    y_data = savgol_filter(y_interp, axis=0, **smooth_kwargs)\n",
    "\n",
    "    return x_data, y_data"
   ]
  },
  {
   "cell_type": "markdown",
   "id": "2ee58be2-fe64-4305-840c-50d8df1d18f8",
   "metadata": {},
   "source": [
    "## 8.1 Building an interaction"
   ]
  },
  {
   "cell_type": "markdown",
   "id": "af7d28c7-12cb-48eb-9691-0de662e331f2",
   "metadata": {},
   "source": [
    "### 8.1.1 Making a rugged model"
   ]
  },
  {
   "cell_type": "code",
   "execution_count": null,
   "id": "74138b8b-f1c3-4d46-ada5-cd7399a32caa",
   "metadata": {
    "tags": []
   },
   "outputs": [],
   "source": [
    "# generate the data\n",
    "rugged = load_data(RUGGED_FILE, delimiter=\";\")\n",
    "\n",
    "# define log gdp\n",
    "rugged[\"log_gdp\"] = np.log(rugged[\"rgdppc_2000\"])\n",
    "\n",
    "# restrict to countries with gdp data\n",
    "rugged = rugged.dropna(subset=[\"rgdppc_2000\"])\n",
    "\n",
    "# standardise variables\n",
    "rugged[\"log_gdp_std\"] = rugged[\"log_gdp\"] / rugged[\"log_gdp\"].mean()\n",
    "rugged[\"rugged_std\"] = rugged[\"rugged\"] / rugged[\"rugged\"].max()"
   ]
  },
  {
   "cell_type": "markdown",
   "id": "4fbcd62b-2a63-4435-a5db-b40eec7b486b",
   "metadata": {},
   "source": [
    "Define a first model with rough priors"
   ]
  },
  {
   "cell_type": "code",
   "execution_count": null,
   "id": "39537e04-9949-42b5-a9f5-1c2558fd2104",
   "metadata": {
    "tags": []
   },
   "outputs": [],
   "source": [
    "coords = {\n",
    "    \"country\": rugged.country,\n",
    "}\n",
    "with pm.Model(coords_mutable=coords) as m8_1a:\n",
    "    # data\n",
    "    rugged_std = pm.MutableData(\"rugged_std\", rugged.rugged_std, dims=\"country\")\n",
    "    rugged_std_mean = pm.MutableData(\"rugged_std_mean\", rugged.rugged_std.mean())\n",
    "\n",
    "    # priors\n",
    "    alpha = pm.Normal(\"alpha\", mu=1, sigma=1)\n",
    "    beta = pm.Normal(\"beta\", mu=0, sigma=1)\n",
    "    sigma = pm.Exponential(\"sigma\", lam=1)\n",
    "\n",
    "    # model\n",
    "    mu = pm.Deterministic(\n",
    "        \"mu\", alpha + beta * (rugged_std - rugged_std_mean), dims=\"country\"\n",
    "    )\n",
    "\n",
    "    # likelihood\n",
    "    log_gdp_std = pm.Normal(\n",
    "        \"log_gdp_std\", mu=mu, sigma=sigma, observed=rugged.log_gdp_std, dims=\"country\"\n",
    "    )\n",
    "\n",
    "    # sample prior predictive\n",
    "    prior_trace_8_1a = pm.sample_prior_predictive(random_seed=RANDOM_SEED)"
   ]
  },
  {
   "cell_type": "code",
   "execution_count": null,
   "id": "8847eefd-d619-45fa-80d3-9952bc1891e3",
   "metadata": {
    "tags": []
   },
   "outputs": [],
   "source": [
    "m8_1a"
   ]
  },
  {
   "cell_type": "code",
   "execution_count": null,
   "id": "fcd006f1-9f02-430f-a7a3-5433f5d69297",
   "metadata": {
    "tags": []
   },
   "outputs": [],
   "source": [
    "m8_1a.to_graphviz()"
   ]
  },
  {
   "cell_type": "markdown",
   "id": "bd0a308b-5c46-4b22-90c1-14dc6e4b673c",
   "metadata": {},
   "source": [
    "And now with some better priors"
   ]
  },
  {
   "cell_type": "code",
   "execution_count": null,
   "id": "2631679e-b9b2-49da-a32f-388276f8c89b",
   "metadata": {
    "tags": []
   },
   "outputs": [],
   "source": [
    "coords = {\n",
    "    \"country\": rugged.country,\n",
    "}\n",
    "with pm.Model(coords_mutable=coords) as m8_1b:\n",
    "    # data\n",
    "    rugged_std = pm.MutableData(\"rugged_std\", rugged.rugged_std, dims=\"country\")\n",
    "    rugged_std_mean = pm.MutableData(\"rugged_std_mean\", rugged.rugged_std.mean())\n",
    "\n",
    "    # priors\n",
    "    alpha = pm.Normal(\"alpha\", mu=1, sigma=0.1)\n",
    "    beta = pm.Normal(\"beta\", mu=0, sigma=0.3)\n",
    "    sigma = pm.Exponential(\"sigma\", lam=1)\n",
    "\n",
    "    # model\n",
    "    mu = pm.Deterministic(\n",
    "        \"mu\", alpha + beta * (rugged_std - rugged_std_mean), dims=\"country\"\n",
    "    )\n",
    "\n",
    "    # likelihood\n",
    "    log_gdp_std = pm.Normal(\n",
    "        \"log_gdp_std\", mu=mu, sigma=sigma, observed=rugged.log_gdp_std, dims=\"country\"\n",
    "    )\n",
    "\n",
    "    # sample prior predictive\n",
    "    prior_trace_8_1b = pm.sample_prior_predictive(random_seed=RANDOM_SEED)"
   ]
  },
  {
   "cell_type": "code",
   "execution_count": null,
   "id": "5a05a64c-31f5-4709-82f6-58d0344622af",
   "metadata": {
    "tags": []
   },
   "outputs": [],
   "source": [
    "m8_1b"
   ]
  },
  {
   "cell_type": "code",
   "execution_count": null,
   "id": "3953ae5e-49dd-4020-87a8-4f4f2a8a11ca",
   "metadata": {
    "tags": []
   },
   "outputs": [],
   "source": [
    "m8_1b.to_graphviz()"
   ]
  },
  {
   "cell_type": "markdown",
   "id": "8d6e32a0-9146-4447-be3c-3c79a0465b08",
   "metadata": {
    "tags": []
   },
   "source": [
    "Let's plot some sample prior means"
   ]
  },
  {
   "cell_type": "code",
   "execution_count": null,
   "id": "df935da1-e8d1-4d77-8c53-5e44ef6211e3",
   "metadata": {
    "tags": []
   },
   "outputs": [],
   "source": [
    "def plot_sample_prior_lines(trace, n_lines=50, ylim=None, title=None, ax=None):\n",
    "    if ax is None:\n",
    "        fig, ax = plt.subplots(figsize=(6, 5))\n",
    "    if ylim is None:\n",
    "        ylim = [0.5, 1.5]\n",
    "    if title is None:\n",
    "        title = \"Sample prior means\"\n",
    "\n",
    "    x_val = trace.constant_data.rugged_std.data\n",
    "    ax.plot(\n",
    "        np.repeat(x_val[:, np.newaxis], n_lines, axis=1),\n",
    "        trace.prior.mu.isel(chain=0, draw=slice(n_lines)).T,\n",
    "        color=\"k\",\n",
    "        alpha=0.2,\n",
    "    )\n",
    "\n",
    "    min_log_gdp_std = trace.observed_data.log_gdp_std.min()\n",
    "    ax.axhline(min_log_gdp_std, color=\"k\", ls=\"--\")\n",
    "\n",
    "    max_log_gdp_std = trace.observed_data.log_gdp_std.max()\n",
    "    ax.axhline(max_log_gdp_std, color=\"k\", ls=\"--\")\n",
    "\n",
    "    ax.set(\n",
    "        ylim=ylim,\n",
    "        xlabel=\"Ruggedness\",\n",
    "        ylabel=\"Log GDP (proportion of mean)\",\n",
    "        title=title,\n",
    "    )\n",
    "\n",
    "    return ax"
   ]
  },
  {
   "cell_type": "code",
   "execution_count": null,
   "id": "528bae61-484a-46c6-b10f-28a77782689b",
   "metadata": {
    "tags": []
   },
   "outputs": [],
   "source": [
    "fig, axs = plt.subplots(ncols=2, sharey=True, figsize=(12, 6))\n",
    "\n",
    "plot_sample_prior_lines(\n",
    "    prior_trace_8_1a, title=\"a ~ Norm(1, 1)\\nb ~ Norm(0, 1)\", ax=axs[0]\n",
    ")\n",
    "plot_sample_prior_lines(\n",
    "    prior_trace_8_1b, title=\"a ~ Norm(1, 0.1)\\nb ~ Norm(0, 0.3)\", ax=axs[1]\n",
    ")\n",
    "\n",
    "fig.suptitle(\"Sample prior lines\")\n",
    "fig.tight_layout();"
   ]
  },
  {
   "cell_type": "markdown",
   "id": "ae1786cf-8b98-4ccd-8fc2-43d1a7d6e4e3",
   "metadata": {},
   "source": [
    "Now let's look at the posterior"
   ]
  },
  {
   "cell_type": "code",
   "execution_count": null,
   "id": "af2a3d38-d875-42cc-baa7-8aa576626725",
   "metadata": {
    "tags": []
   },
   "outputs": [],
   "source": [
    "with m8_1b:\n",
    "    trace_8_1b = pm.sample(random_seed=RANDOM_SEED)"
   ]
  },
  {
   "cell_type": "code",
   "execution_count": null,
   "id": "d99f6ca4-0b71-4bee-84c5-6635ae91e3b8",
   "metadata": {
    "tags": []
   },
   "outputs": [],
   "source": [
    "az.summary(\n",
    "    trace_8_1b,\n",
    "    var_names=[\"~mu\"],\n",
    "    kind=\"stats\",\n",
    "    hdi_prob=0.89,\n",
    "    round_to=2,\n",
    ")"
   ]
  },
  {
   "cell_type": "markdown",
   "id": "4d02a207-fed5-4f74-bb3e-ea0f08bada07",
   "metadata": {},
   "source": [
    "The slope - beta - is zero, showing no relationship."
   ]
  },
  {
   "cell_type": "markdown",
   "id": "c657d87a-02da-477a-8e63-ba2decf82bfb",
   "metadata": {},
   "source": [
    "### 8.1.2 Adding an indicator variable isn't enough"
   ]
  },
  {
   "cell_type": "markdown",
   "id": "444c5fca-4eaf-479d-b09d-5c394be1e567",
   "metadata": {},
   "source": [
    "Let's add a separate slope for Africa"
   ]
  },
  {
   "cell_type": "code",
   "execution_count": null,
   "id": "3d12e86d-3969-49ca-8c72-84187b2c1e76",
   "metadata": {
    "tags": []
   },
   "outputs": [],
   "source": [
    "continents = [\n",
    "    \"Not Africa\",\n",
    "    \"Africa\",\n",
    "]\n",
    "\n",
    "rugged[\"continent\"] = np.where(\n",
    "    rugged[\"cont_africa\"] == 1,\n",
    "    \"Africa\",\n",
    "    \"Not Africa\",\n",
    ")\n",
    "continents_idx_mapper = {\n",
    "    \"Not Africa\": 0,\n",
    "    \"Africa\": 1,\n",
    "}\n",
    "\n",
    "coords = {\n",
    "    \"country\": rugged.country,\n",
    "    \"continent\": continents,\n",
    "}\n",
    "with pm.Model(coords_mutable=coords) as m8_2:\n",
    "    # data\n",
    "    rugged_std = pm.MutableData(\"rugged_std\", rugged.rugged_std, dims=\"country\")\n",
    "    rugged_std_mean = pm.MutableData(\"rugged_std_mean\", rugged.rugged_std.mean())\n",
    "    continent_idx = pm.MutableData(\"continent_idx\", rugged.cont_africa, dims=\"country\")\n",
    "\n",
    "    # priors\n",
    "    alpha = pm.Normal(\"alpha\", mu=1, sigma=0.1, dims=\"continent\")\n",
    "    beta = pm.Normal(\"beta\", mu=0, sigma=0.3)\n",
    "    sigma = pm.Exponential(\"sigma\", lam=1)\n",
    "\n",
    "    # model\n",
    "    mu = pm.Deterministic(\n",
    "        \"mu\",\n",
    "        alpha[continent_idx] + beta * (rugged_std - rugged_std_mean),\n",
    "        dims=\"country\",\n",
    "    )\n",
    "\n",
    "    # likelihood\n",
    "    log_gdp_std = pm.Normal(\n",
    "        \"log_gdp_std\", mu=mu, sigma=sigma, observed=rugged.log_gdp_std, dims=\"country\"\n",
    "    )\n",
    "\n",
    "    # sample prior predictive\n",
    "    trace_8_2 = pm.sample(\n",
    "        random_seed=RANDOM_SEED,\n",
    "        idata_kwargs={\"log_likelihood\": True},\n",
    "    )"
   ]
  },
  {
   "cell_type": "code",
   "execution_count": null,
   "id": "7428a195-eddb-4ed7-ae3d-938a025c963e",
   "metadata": {
    "tags": []
   },
   "outputs": [],
   "source": [
    "m8_2.to_graphviz()"
   ]
  },
  {
   "cell_type": "code",
   "execution_count": null,
   "id": "5d1ce2c3-a7d3-4fe6-94da-6718f9af18a5",
   "metadata": {
    "tags": []
   },
   "outputs": [],
   "source": [
    "with m8_1b:\n",
    "    pm.compute_log_likelihood(trace_8_1b)"
   ]
  },
  {
   "cell_type": "code",
   "execution_count": null,
   "id": "5ddd92b4-4d01-4b84-b5a8-3ccb159ba945",
   "metadata": {
    "tags": []
   },
   "outputs": [],
   "source": [
    "az.compare(\n",
    "    {\n",
    "        \"m8.1\": trace_8_1b,\n",
    "        \"m8.2\": trace_8_2,\n",
    "    },\n",
    "    ic=\"waic\",\n",
    "    scale=\"deviance\",\n",
    ")"
   ]
  },
  {
   "cell_type": "code",
   "execution_count": null,
   "id": "b90d7d6d-2867-460a-8efa-21d2eca7576c",
   "metadata": {
    "tags": []
   },
   "outputs": [],
   "source": [
    "az.compare(\n",
    "    {\n",
    "        \"m8.1\": trace_8_1b,\n",
    "        \"m8.2\": trace_8_2,\n",
    "    },\n",
    "    ic=\"loo\",\n",
    "    scale=\"deviance\",\n",
    ")"
   ]
  },
  {
   "cell_type": "markdown",
   "id": "5e17e524-c2f1-4db4-8798-dc6f5f6a1757",
   "metadata": {},
   "source": [
    "Why am I getting warnings for model 8.1?\n",
    "\n",
    "Let's look at the individual PSIS and WAIC values."
   ]
  },
  {
   "cell_type": "code",
   "execution_count": null,
   "id": "a12807b7-cf31-41bd-8151-5056d692e1ea",
   "metadata": {
    "tags": []
   },
   "outputs": [],
   "source": [
    "psis_8_2 = az.loo(trace_8_2, scale=\"deviance\", pointwise=True)\n",
    "waic_8_2 = az.waic(trace_8_2, scale=\"deviance\", pointwise=True)"
   ]
  },
  {
   "cell_type": "code",
   "execution_count": null,
   "id": "8765bc28-6935-459a-b433-52b7351883ed",
   "metadata": {
    "tags": []
   },
   "outputs": [],
   "source": [
    "psis_8_2"
   ]
  },
  {
   "cell_type": "markdown",
   "id": "0ca15122-de1e-42f7-a356-2605e09bce81",
   "metadata": {
    "tags": []
   },
   "source": [
    "I don't get any warnings from PSIS.\n",
    "\n",
    "But plotting the values I can see a pretty extreme WAIC value"
   ]
  },
  {
   "cell_type": "code",
   "execution_count": null,
   "id": "70937adf-cc89-45db-8e66-ab25efaf296c",
   "metadata": {
    "tags": []
   },
   "outputs": [],
   "source": [
    "fig, ax = plt.subplots(figsize=(5, 5))\n",
    "\n",
    "sns.scatterplot(\n",
    "    x=psis_8_2.pareto_k,\n",
    "    y=waic_8_2.waic_i,\n",
    "    ax=ax,\n",
    ")\n",
    "\n",
    "ax.set(\n",
    "    xlabel=\"Pareto $k$\",\n",
    "    ylabel=\"WAIC\",\n",
    "    title=\"WAIC and Pareto $k$ values\",\n",
    ");"
   ]
  },
  {
   "cell_type": "markdown",
   "id": "89a26863-6ba7-4f54-9e39-7d68eb41e53e",
   "metadata": {},
   "source": [
    "What's this outlier?"
   ]
  },
  {
   "cell_type": "code",
   "execution_count": null,
   "id": "30efdb4e-fddf-4053-b3bf-b91633f85a96",
   "metadata": {
    "tags": []
   },
   "outputs": [],
   "source": [
    "trace_8_2.constant_data.isel(country=waic_8_2.waic_i.argmax())"
   ]
  },
  {
   "cell_type": "markdown",
   "id": "c9a31ef3-c440-4c7a-9c20-bfeaab77491d",
   "metadata": {},
   "source": [
    "It looks like the Seychelles.\n",
    "Inspecting the scatterplot this is the African point at the top right - it's easy to see why this would have a large effect on the model fit."
   ]
  },
  {
   "cell_type": "code",
   "execution_count": null,
   "id": "0bf66d81-0e98-4884-b758-bc9608987d80",
   "metadata": {
    "tags": []
   },
   "outputs": [],
   "source": [
    "fig, ax = plt.subplots(figsize=(5, 4))\n",
    "sns.scatterplot(\n",
    "    rugged,\n",
    "    x=\"rugged_std\",\n",
    "    y=\"log_gdp_std\",\n",
    "    hue=\"continent\",\n",
    "    hue_order=continents,\n",
    "    ax=ax,\n",
    ");"
   ]
  },
  {
   "cell_type": "markdown",
   "id": "0e3e116a-ffda-487c-a426-160564fd08f8",
   "metadata": {},
   "source": [
    "Now let's look at the new model's posterior"
   ]
  },
  {
   "cell_type": "code",
   "execution_count": null,
   "id": "25d1f37c-92e6-430d-b0a4-ea63ab2f80e5",
   "metadata": {
    "tags": []
   },
   "outputs": [],
   "source": [
    "az.summary(\n",
    "    trace_8_2,\n",
    "    var_names=[\"~mu\"],\n",
    "    kind=\"stats\",\n",
    "    hdi_prob=0.89,\n",
    "    round_to=2,\n",
    ")"
   ]
  },
  {
   "cell_type": "markdown",
   "id": "7e7ca0d3-053f-443b-8809-fe74a536eb0f",
   "metadata": {},
   "source": [
    "The intercepts are noticeably different.\n",
    "\n",
    "Let's plot the posterior predictive intervals."
   ]
  },
  {
   "cell_type": "code",
   "execution_count": null,
   "id": "bcbf4667-6b51-4e1f-8973-38b2c1c50d22",
   "metadata": {
    "tags": []
   },
   "outputs": [],
   "source": [
    "# generate counterfactual ruggedness values\n",
    "n_vals = 100\n",
    "rugged_std_vals = np.linspace(0, 1, n_vals)\n",
    "\n",
    "counterfactual_trace_8_2 = dict.fromkeys(continents)\n",
    "with m8_2:\n",
    "    for continent, continent_idx in continents_idx_mapper.items():\n",
    "        pm.set_data(\n",
    "            {\n",
    "                \"rugged_std\": rugged_std_vals,\n",
    "                \"continent_idx\": np.full(n_vals, continent_idx, dtype=int),\n",
    "            },\n",
    "            coords={\n",
    "                \"country\": range(n_vals),\n",
    "            },\n",
    "        )\n",
    "        counterfactual_trace_8_2[continent] = pm.sample_posterior_predictive(\n",
    "            trace_8_2,\n",
    "            var_names=[\"mu\", \"log_gdp_std\"],\n",
    "            predictions=True,\n",
    "            random_seed=RANDOM_SEED,\n",
    "        )"
   ]
  },
  {
   "cell_type": "code",
   "execution_count": null,
   "id": "da0f24c0-82d1-4209-b8ce-9119b685b039",
   "metadata": {
    "tags": []
   },
   "outputs": [],
   "source": [
    "def plot_posterior_linear_model(\n",
    "    x, mu, hdi_prob=0.89, smooth=True, smooth_kwargs=None, color=None, ax=None\n",
    "):\n",
    "    if ax is None:\n",
    "        fig, ax = plt.subplots(figsize=(6, 5))\n",
    "\n",
    "    # plot mu\n",
    "    mu_mean = mu.mean(dim=[\"chain\", \"draw\"])\n",
    "    if smooth:\n",
    "        x_plot, mu_mean = smooth_plot_data(x, mu_mean, smooth_kwargs)\n",
    "    ax.plot(\n",
    "        x_plot,\n",
    "        mu_mean,\n",
    "        color=color,\n",
    "    )\n",
    "\n",
    "    # plot hdi around mu\n",
    "    mu_hdi = az.hdi(mu, hdi_prob=hdi_prob).mu\n",
    "    if smooth:\n",
    "        x_plot, mu_hdi = smooth_plot_data(x, mu_hdi, smooth_kwargs)\n",
    "\n",
    "    ax.fill_between(\n",
    "        x_plot,\n",
    "        mu_hdi[:, 0],\n",
    "        mu_hdi[:, 1],\n",
    "        color=color,\n",
    "        alpha=0.3,\n",
    "    )\n",
    "\n",
    "    return ax"
   ]
  },
  {
   "cell_type": "code",
   "execution_count": null,
   "id": "28c17dcf-f09c-49ba-b8d9-4df9dbdba0c7",
   "metadata": {
    "tags": []
   },
   "outputs": [],
   "source": [
    "fig, ax = plt.subplots(figsize=(7, 6))\n",
    "\n",
    "sns.scatterplot(\n",
    "    rugged,\n",
    "    x=\"rugged_std\",\n",
    "    y=\"log_gdp_std\",\n",
    "    hue=\"continent\",\n",
    "    hue_order=continents,\n",
    "    ax=ax,\n",
    ")\n",
    "\n",
    "for idx, (continent, trace) in enumerate(counterfactual_trace_8_2.items()):\n",
    "    plot_posterior_linear_model(\n",
    "        x=trace.predictions_constant_data.rugged_std,\n",
    "        mu=trace.predictions.mu,\n",
    "        smooth=True,\n",
    "        color=colors[idx],\n",
    "        ax=ax,\n",
    "    )\n",
    "\n",
    "ax.set(\n",
    "    xlabel=\"Ruggedness\",\n",
    "    ylabel=\"Log GDP (prop of mean)\",\n",
    "    title=\"Linear model with 'Africa' indicator\",\n",
    ")\n",
    "ax.legend(title=\"Continent\");"
   ]
  },
  {
   "cell_type": "markdown",
   "id": "deef4f4a-1152-4960-90b7-4bca194f2e2a",
   "metadata": {},
   "source": [
    "### 8.1.3 Adding an interaction does work"
   ]
  },
  {
   "cell_type": "markdown",
   "id": "3c353f88-0ceb-4ff9-b153-1e777f37cbe6",
   "metadata": {},
   "source": [
    "Now add an interaction term to the model"
   ]
  },
  {
   "cell_type": "code",
   "execution_count": null,
   "id": "25a821cd-0d95-4d23-8d50-5eaa14f277d4",
   "metadata": {
    "tags": []
   },
   "outputs": [],
   "source": [
    "coords = {\n",
    "    \"country\": rugged.country,\n",
    "    \"continent\": continents,\n",
    "}\n",
    "with pm.Model(coords_mutable=coords) as m8_3:\n",
    "    # data\n",
    "    rugged_std = pm.MutableData(\"rugged_std\", rugged.rugged_std, dims=\"country\")\n",
    "    rugged_std_mean = pm.MutableData(\"rugged_std_mean\", rugged.rugged_std.mean())\n",
    "    continent_idx = pm.MutableData(\"continent_idx\", rugged.cont_africa, dims=\"country\")\n",
    "\n",
    "    # priors\n",
    "    alpha = pm.Normal(\"alpha\", mu=1, sigma=0.1, dims=\"continent\")\n",
    "    beta = pm.Normal(\"beta\", mu=0, sigma=0.3, dims=\"continent\")\n",
    "    sigma = pm.Exponential(\"sigma\", lam=1)\n",
    "\n",
    "    # model\n",
    "    mu = pm.Deterministic(\n",
    "        \"mu\",\n",
    "        alpha[continent_idx] + beta[continent_idx] * (rugged_std - rugged_std_mean),\n",
    "        dims=\"country\",\n",
    "    )\n",
    "\n",
    "    # likelihood\n",
    "    log_gdp_std = pm.Normal(\n",
    "        \"log_gdp_std\", mu=mu, sigma=sigma, observed=rugged.log_gdp_std, dims=\"country\"\n",
    "    )\n",
    "\n",
    "    # sample prior predictive\n",
    "    trace_8_3 = pm.sample(\n",
    "        random_seed=RANDOM_SEED,\n",
    "        idata_kwargs={\"log_likelihood\": True},\n",
    "    )"
   ]
  },
  {
   "cell_type": "code",
   "execution_count": null,
   "id": "da00c3aa-f514-46b1-a99c-3cdd4f52dff3",
   "metadata": {
    "tags": []
   },
   "outputs": [],
   "source": [
    "m8_3.to_graphviz()"
   ]
  },
  {
   "cell_type": "markdown",
   "id": "220bb401-f4ab-4ac0-8457-99f75c955010",
   "metadata": {},
   "source": [
    "And look at the posterior distributions"
   ]
  },
  {
   "cell_type": "code",
   "execution_count": null,
   "id": "da2d9f58-591b-48d8-81c7-d10dc38b5f9d",
   "metadata": {
    "tags": []
   },
   "outputs": [],
   "source": [
    "az.summary(\n",
    "    trace_8_3,\n",
    "    var_names=[\"~mu\"],\n",
    "    kind=\"stats\",\n",
    "    hdi_prob=0.89,\n",
    "    round_to=2,\n",
    ")"
   ]
  },
  {
   "cell_type": "markdown",
   "id": "90719cc5-ad7a-4e85-bbf9-15f5cf515d68",
   "metadata": {},
   "source": [
    "Now we see that Africa has a positive slope, while outside of Africa has a negative slope."
   ]
  },
  {
   "cell_type": "markdown",
   "id": "e4ad9662-34e0-4d0e-a848-6b87bd54eede",
   "metadata": {},
   "source": [
    "Let's inspect the WAIC"
   ]
  },
  {
   "cell_type": "code",
   "execution_count": null,
   "id": "f14f1511-d91e-48c8-a98d-5f23f76866e1",
   "metadata": {
    "tags": []
   },
   "outputs": [],
   "source": [
    "az.compare(\n",
    "    {\n",
    "        \"m8.1\": trace_8_1b,\n",
    "        \"m8.2\": trace_8_2,\n",
    "        \"m8.3\": trace_8_3,\n",
    "    },\n",
    "    ic=\"waic\",\n",
    "    scale=\"deviance\",\n",
    ")"
   ]
  },
  {
   "cell_type": "markdown",
   "id": "5010534d-e4b5-4193-ab83-023ecd63467e",
   "metadata": {},
   "source": [
    "We again get warnings."
   ]
  },
  {
   "cell_type": "code",
   "execution_count": null,
   "id": "fcfb8817-eae0-4be7-80b9-331ce3b7fcc4",
   "metadata": {
    "tags": []
   },
   "outputs": [],
   "source": [
    "psis_8_3 = az.loo(trace_8_3, scale=\"deviance\", pointwise=True)\n",
    "waic_8_3 = az.waic(trace_8_3, scale=\"deviance\", pointwise=True)"
   ]
  },
  {
   "cell_type": "code",
   "execution_count": null,
   "id": "e7f45052-3f9b-413f-8365-69800e7acfb9",
   "metadata": {
    "tags": []
   },
   "outputs": [],
   "source": [
    "psis_8_3"
   ]
  },
  {
   "cell_type": "markdown",
   "id": "99bade32-dde1-4a6a-8927-c04d4e1477ae",
   "metadata": {
    "tags": []
   },
   "source": [
    "Again no warnings from PSIS"
   ]
  },
  {
   "cell_type": "code",
   "execution_count": null,
   "id": "d1d36194-8995-4146-b7b6-ae216a431206",
   "metadata": {
    "tags": []
   },
   "outputs": [],
   "source": [
    "fig, ax = plt.subplots(figsize=(5, 5))\n",
    "\n",
    "sns.scatterplot(\n",
    "    x=psis_8_3.pareto_k,\n",
    "    y=waic_8_3.waic_i,\n",
    "    hue=rugged[\"continent\"],\n",
    "    ax=ax,\n",
    ")\n",
    "\n",
    "ax.set(\n",
    "    xlabel=\"Pareto $k$\",\n",
    "    ylabel=\"WAIC\",\n",
    "    title=\"WAIC and Pareto $k$ values\",\n",
    ");"
   ]
  },
  {
   "cell_type": "markdown",
   "id": "1d02d226-6775-42f8-a91a-09076c0ddea0",
   "metadata": {},
   "source": [
    "### 8.1.4 Plotting the interaction"
   ]
  },
  {
   "cell_type": "markdown",
   "id": "8e4f07ea-f837-4131-b10e-70dacd4dab6c",
   "metadata": {},
   "source": [
    "Let's plot the posteriors for the interaction model"
   ]
  },
  {
   "cell_type": "code",
   "execution_count": null,
   "id": "3cc9d8a8-d3ab-4aed-9e7c-75191c4626b2",
   "metadata": {
    "tags": []
   },
   "outputs": [],
   "source": [
    "# generate counterfactual ruggedness values\n",
    "n_vals = 100\n",
    "rugged_std_vals = np.linspace(0, 1, n_vals)\n",
    "\n",
    "counterfactual_trace_8_3 = dict.fromkeys(continents)\n",
    "with m8_3:\n",
    "    for continent, continent_idx in continents_idx_mapper.items():\n",
    "        pm.set_data(\n",
    "            {\n",
    "                \"rugged_std\": rugged_std_vals,\n",
    "                \"continent_idx\": np.full(n_vals, continent_idx, dtype=int),\n",
    "            },\n",
    "            coords={\n",
    "                \"country\": range(n_vals),\n",
    "            },\n",
    "        )\n",
    "        counterfactual_trace_8_3[continent] = pm.sample_posterior_predictive(\n",
    "            trace_8_3,\n",
    "            var_names=[\"mu\", \"log_gdp_std\"],\n",
    "            predictions=True,\n",
    "            random_seed=RANDOM_SEED,\n",
    "        )"
   ]
  },
  {
   "cell_type": "code",
   "execution_count": null,
   "id": "04529fc2-cde4-4fab-853d-984c6ecec7fe",
   "metadata": {
    "tags": []
   },
   "outputs": [],
   "source": [
    "fig, ax = plt.subplots(figsize=(7, 6))\n",
    "\n",
    "sns.scatterplot(\n",
    "    rugged,\n",
    "    x=\"rugged_std\",\n",
    "    y=\"log_gdp_std\",\n",
    "    hue=\"continent\",\n",
    "    hue_order=continents,\n",
    "    ax=ax,\n",
    ")\n",
    "\n",
    "for idx, (continent, trace) in enumerate(counterfactual_trace_8_3.items()):\n",
    "    plot_posterior_linear_model(\n",
    "        x=trace.predictions_constant_data.rugged_std,\n",
    "        mu=trace.predictions.mu,\n",
    "        smooth=True,\n",
    "        color=colors[idx],\n",
    "        ax=ax,\n",
    "    )\n",
    "\n",
    "ax.set(\n",
    "    xlabel=\"Ruggedness\",\n",
    "    ylabel=\"Log GDP (prop of mean)\",\n",
    "    title=\"Linear model with 'Africa' indicator\",\n",
    ")\n",
    "ax.legend(title=\"Continent\");"
   ]
  }
 ],
 "metadata": {
  "kernelspec": {
   "display_name": "Python 3 (ipykernel)",
   "language": "python",
   "name": "python3"
  },
  "language_info": {
   "codemirror_mode": {
    "name": "ipython",
    "version": 3
   },
   "file_extension": ".py",
   "mimetype": "text/x-python",
   "name": "python",
   "nbconvert_exporter": "python",
   "pygments_lexer": "ipython3",
   "version": "3.10.13"
  }
 },
 "nbformat": 4,
 "nbformat_minor": 5
}
